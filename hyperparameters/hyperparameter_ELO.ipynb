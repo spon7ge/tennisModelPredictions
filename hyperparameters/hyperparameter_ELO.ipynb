{
 "cells": [
  {
   "cell_type": "code",
   "execution_count": 1,
   "id": "e40338ea",
   "metadata": {},
   "outputs": [],
   "source": [
    "%matplotlib inline\n",
    "import numpy as np\n",
    "import pandas as pd\n",
    "from tqdm import tqdm\n",
    "from sklearn.preprocessing import StandardScaler\n",
    "from sklearn.tree import DecisionTreeClassifier\n",
    "from sklearn.ensemble import RandomForestClassifier\n",
    "from sklearn.model_selection import train_test_split\n",
    "from sklearn.tree import plot_tree\n",
    "from sklearn import tree\n",
    "from xgboost import XGBClassifier\n",
    "from sklearn.model_selection import GridSearchCV\n",
    "from sklearn.metrics import accuracy_score, mean_absolute_error\n",
    "\n",
    "import sys, os\n",
    "sys.path.append(os.path.abspath(\"..\"))\n",
    "from utils.updateStats import getStats, updateStats, createStats\n",
    "pd.set_option('display.max_columns', None)"
   ]
  },
  {
   "cell_type": "code",
   "execution_count": 2,
   "id": "8af25d3e",
   "metadata": {},
   "outputs": [
    {
     "name": "stderr",
     "output_type": "stream",
     "text": [
      "/var/folders/72/931mm5912h7_y6ts82j2wjhh0000gn/T/ipykernel_52750/2420848872.py:1: DtypeWarning: Columns (6,9,17) have mixed types. Specify dtype option on import or set low_memory=False.\n",
      "  allData = pd.read_csv(\"../data/0cleanDatasetWithQualifiersWith2025.csv\")\n"
     ]
    },
    {
     "data": {
      "text/html": [
       "<div>\n",
       "<style scoped>\n",
       "    .dataframe tbody tr th:only-of-type {\n",
       "        vertical-align: middle;\n",
       "    }\n",
       "\n",
       "    .dataframe tbody tr th {\n",
       "        vertical-align: top;\n",
       "    }\n",
       "\n",
       "    .dataframe thead th {\n",
       "        text-align: right;\n",
       "    }\n",
       "</style>\n",
       "<table border=\"1\" class=\"dataframe\">\n",
       "  <thead>\n",
       "    <tr style=\"text-align: right;\">\n",
       "      <th></th>\n",
       "      <th>tourney_id</th>\n",
       "      <th>tourney_name</th>\n",
       "      <th>surface</th>\n",
       "      <th>draw_size</th>\n",
       "      <th>tourney_level</th>\n",
       "      <th>tourney_date</th>\n",
       "      <th>match_num</th>\n",
       "      <th>p1_id</th>\n",
       "      <th>p1_seed</th>\n",
       "      <th>p1_entry</th>\n",
       "      <th>p1_name</th>\n",
       "      <th>p1_hand</th>\n",
       "      <th>p1_ht</th>\n",
       "      <th>p1_ioc</th>\n",
       "      <th>p1_age</th>\n",
       "      <th>p2_id</th>\n",
       "      <th>p2_seed</th>\n",
       "      <th>p2_entry</th>\n",
       "      <th>p2_name</th>\n",
       "      <th>p2_hand</th>\n",
       "      <th>p2_ht</th>\n",
       "      <th>p2_ioc</th>\n",
       "      <th>p2_age</th>\n",
       "      <th>score</th>\n",
       "      <th>best_of</th>\n",
       "      <th>round</th>\n",
       "      <th>minutes</th>\n",
       "      <th>p1_ace</th>\n",
       "      <th>p1_df</th>\n",
       "      <th>p1_svpt</th>\n",
       "      <th>p1_1stIn</th>\n",
       "      <th>p1_1stWon</th>\n",
       "      <th>p1_2ndWon</th>\n",
       "      <th>p1_SvGms</th>\n",
       "      <th>p1_bpSaved</th>\n",
       "      <th>p1_bpFaced</th>\n",
       "      <th>p2_ace</th>\n",
       "      <th>p2_df</th>\n",
       "      <th>p2_svpt</th>\n",
       "      <th>p2_1stIn</th>\n",
       "      <th>p2_1stWon</th>\n",
       "      <th>p2_2ndWon</th>\n",
       "      <th>p2_SvGms</th>\n",
       "      <th>p2_bpSaved</th>\n",
       "      <th>p2_bpFaced</th>\n",
       "      <th>p1_rank</th>\n",
       "      <th>p2_rank</th>\n",
       "      <th>RESULT</th>\n",
       "    </tr>\n",
       "  </thead>\n",
       "  <tbody>\n",
       "    <tr>\n",
       "      <th>0</th>\n",
       "      <td>1991-339</td>\n",
       "      <td>Adelaide</td>\n",
       "      <td>Hard</td>\n",
       "      <td>32.0</td>\n",
       "      <td>A</td>\n",
       "      <td>19901231</td>\n",
       "      <td>1</td>\n",
       "      <td>101723</td>\n",
       "      <td>NaN</td>\n",
       "      <td>NaN</td>\n",
       "      <td>Magnus Larsson</td>\n",
       "      <td>R</td>\n",
       "      <td>193.0</td>\n",
       "      <td>SWE</td>\n",
       "      <td>20.7</td>\n",
       "      <td>101414</td>\n",
       "      <td>1.0</td>\n",
       "      <td>NaN</td>\n",
       "      <td>Boris Becker</td>\n",
       "      <td>R</td>\n",
       "      <td>190.0</td>\n",
       "      <td>GER</td>\n",
       "      <td>23.1</td>\n",
       "      <td>6-4 3-6 7-6(2)</td>\n",
       "      <td>3</td>\n",
       "      <td>R32</td>\n",
       "      <td>130.0</td>\n",
       "      <td>6.0</td>\n",
       "      <td>2.0</td>\n",
       "      <td>96.0</td>\n",
       "      <td>55.0</td>\n",
       "      <td>39.0</td>\n",
       "      <td>25.0</td>\n",
       "      <td>15.0</td>\n",
       "      <td>2.0</td>\n",
       "      <td>4.0</td>\n",
       "      <td>8.0</td>\n",
       "      <td>3.0</td>\n",
       "      <td>95.0</td>\n",
       "      <td>62.0</td>\n",
       "      <td>44.0</td>\n",
       "      <td>23.0</td>\n",
       "      <td>16.0</td>\n",
       "      <td>6.0</td>\n",
       "      <td>8.0</td>\n",
       "      <td>56.0</td>\n",
       "      <td>2.0</td>\n",
       "      <td>1</td>\n",
       "    </tr>\n",
       "    <tr>\n",
       "      <th>1</th>\n",
       "      <td>1991-339</td>\n",
       "      <td>Adelaide</td>\n",
       "      <td>Hard</td>\n",
       "      <td>32.0</td>\n",
       "      <td>A</td>\n",
       "      <td>19901231</td>\n",
       "      <td>2</td>\n",
       "      <td>100946</td>\n",
       "      <td>NaN</td>\n",
       "      <td>Q</td>\n",
       "      <td>Slobodan Zivojinovic</td>\n",
       "      <td>R</td>\n",
       "      <td>198.0</td>\n",
       "      <td>YUG</td>\n",
       "      <td>27.4</td>\n",
       "      <td>101256</td>\n",
       "      <td>NaN</td>\n",
       "      <td>NaN</td>\n",
       "      <td>Mark Kratzmann</td>\n",
       "      <td>L</td>\n",
       "      <td>178.0</td>\n",
       "      <td>AUS</td>\n",
       "      <td>24.6</td>\n",
       "      <td>6-3 3-6 7-6(6)</td>\n",
       "      <td>3</td>\n",
       "      <td>R32</td>\n",
       "      <td>119.0</td>\n",
       "      <td>19.0</td>\n",
       "      <td>4.0</td>\n",
       "      <td>101.0</td>\n",
       "      <td>56.0</td>\n",
       "      <td>45.0</td>\n",
       "      <td>25.0</td>\n",
       "      <td>15.0</td>\n",
       "      <td>9.0</td>\n",
       "      <td>10.0</td>\n",
       "      <td>8.0</td>\n",
       "      <td>2.0</td>\n",
       "      <td>84.0</td>\n",
       "      <td>41.0</td>\n",
       "      <td>35.0</td>\n",
       "      <td>27.0</td>\n",
       "      <td>15.0</td>\n",
       "      <td>1.0</td>\n",
       "      <td>2.0</td>\n",
       "      <td>304.0</td>\n",
       "      <td>75.0</td>\n",
       "      <td>1</td>\n",
       "    </tr>\n",
       "    <tr>\n",
       "      <th>2</th>\n",
       "      <td>1991-339</td>\n",
       "      <td>Adelaide</td>\n",
       "      <td>Hard</td>\n",
       "      <td>32.0</td>\n",
       "      <td>A</td>\n",
       "      <td>19901231</td>\n",
       "      <td>3</td>\n",
       "      <td>101421</td>\n",
       "      <td>NaN</td>\n",
       "      <td>NaN</td>\n",
       "      <td>Veli Paloheimo</td>\n",
       "      <td>R</td>\n",
       "      <td>183.0</td>\n",
       "      <td>FIN</td>\n",
       "      <td>23.0</td>\n",
       "      <td>101234</td>\n",
       "      <td>NaN</td>\n",
       "      <td>NaN</td>\n",
       "      <td>Patrik Kuhnen</td>\n",
       "      <td>R</td>\n",
       "      <td>190.0</td>\n",
       "      <td>GER</td>\n",
       "      <td>24.8</td>\n",
       "      <td>6-0 6-4</td>\n",
       "      <td>3</td>\n",
       "      <td>R32</td>\n",
       "      <td>71.0</td>\n",
       "      <td>2.0</td>\n",
       "      <td>2.0</td>\n",
       "      <td>60.0</td>\n",
       "      <td>37.0</td>\n",
       "      <td>22.0</td>\n",
       "      <td>6.0</td>\n",
       "      <td>8.0</td>\n",
       "      <td>4.0</td>\n",
       "      <td>8.0</td>\n",
       "      <td>6.0</td>\n",
       "      <td>1.0</td>\n",
       "      <td>54.0</td>\n",
       "      <td>31.0</td>\n",
       "      <td>24.0</td>\n",
       "      <td>13.0</td>\n",
       "      <td>8.0</td>\n",
       "      <td>1.0</td>\n",
       "      <td>1.0</td>\n",
       "      <td>69.0</td>\n",
       "      <td>82.0</td>\n",
       "      <td>0</td>\n",
       "    </tr>\n",
       "    <tr>\n",
       "      <th>3</th>\n",
       "      <td>1991-339</td>\n",
       "      <td>Adelaide</td>\n",
       "      <td>Hard</td>\n",
       "      <td>32.0</td>\n",
       "      <td>A</td>\n",
       "      <td>19901231</td>\n",
       "      <td>4</td>\n",
       "      <td>101703</td>\n",
       "      <td>NaN</td>\n",
       "      <td>NaN</td>\n",
       "      <td>Guillaume Raoux</td>\n",
       "      <td>R</td>\n",
       "      <td>180.0</td>\n",
       "      <td>FRA</td>\n",
       "      <td>20.8</td>\n",
       "      <td>101889</td>\n",
       "      <td>8.0</td>\n",
       "      <td>NaN</td>\n",
       "      <td>Todd Woodbridge</td>\n",
       "      <td>R</td>\n",
       "      <td>178.0</td>\n",
       "      <td>AUS</td>\n",
       "      <td>19.7</td>\n",
       "      <td>7-6(2) 6-1</td>\n",
       "      <td>3</td>\n",
       "      <td>R32</td>\n",
       "      <td>85.0</td>\n",
       "      <td>3.0</td>\n",
       "      <td>3.0</td>\n",
       "      <td>74.0</td>\n",
       "      <td>45.0</td>\n",
       "      <td>30.0</td>\n",
       "      <td>11.0</td>\n",
       "      <td>10.0</td>\n",
       "      <td>5.0</td>\n",
       "      <td>8.0</td>\n",
       "      <td>2.0</td>\n",
       "      <td>0.0</td>\n",
       "      <td>60.0</td>\n",
       "      <td>40.0</td>\n",
       "      <td>30.0</td>\n",
       "      <td>14.0</td>\n",
       "      <td>9.0</td>\n",
       "      <td>3.0</td>\n",
       "      <td>3.0</td>\n",
       "      <td>84.0</td>\n",
       "      <td>50.0</td>\n",
       "      <td>0</td>\n",
       "    </tr>\n",
       "    <tr>\n",
       "      <th>4</th>\n",
       "      <td>1991-339</td>\n",
       "      <td>Adelaide</td>\n",
       "      <td>Hard</td>\n",
       "      <td>32.0</td>\n",
       "      <td>A</td>\n",
       "      <td>19901231</td>\n",
       "      <td>5</td>\n",
       "      <td>101843</td>\n",
       "      <td>4.0</td>\n",
       "      <td>NaN</td>\n",
       "      <td>Sergi Bruguera</td>\n",
       "      <td>R</td>\n",
       "      <td>188.0</td>\n",
       "      <td>ESP</td>\n",
       "      <td>19.9</td>\n",
       "      <td>101274</td>\n",
       "      <td>NaN</td>\n",
       "      <td>NaN</td>\n",
       "      <td>Udo Riglewski</td>\n",
       "      <td>R</td>\n",
       "      <td>185.0</td>\n",
       "      <td>GER</td>\n",
       "      <td>24.4</td>\n",
       "      <td>7-5 6-3</td>\n",
       "      <td>3</td>\n",
       "      <td>R32</td>\n",
       "      <td>90.0</td>\n",
       "      <td>2.0</td>\n",
       "      <td>2.0</td>\n",
       "      <td>77.0</td>\n",
       "      <td>41.0</td>\n",
       "      <td>28.0</td>\n",
       "      <td>15.0</td>\n",
       "      <td>11.0</td>\n",
       "      <td>4.0</td>\n",
       "      <td>8.0</td>\n",
       "      <td>4.0</td>\n",
       "      <td>2.0</td>\n",
       "      <td>72.0</td>\n",
       "      <td>40.0</td>\n",
       "      <td>33.0</td>\n",
       "      <td>14.0</td>\n",
       "      <td>10.0</td>\n",
       "      <td>7.0</td>\n",
       "      <td>8.0</td>\n",
       "      <td>28.0</td>\n",
       "      <td>88.0</td>\n",
       "      <td>0</td>\n",
       "    </tr>\n",
       "    <tr>\n",
       "      <th>...</th>\n",
       "      <td>...</td>\n",
       "      <td>...</td>\n",
       "      <td>...</td>\n",
       "      <td>...</td>\n",
       "      <td>...</td>\n",
       "      <td>...</td>\n",
       "      <td>...</td>\n",
       "      <td>...</td>\n",
       "      <td>...</td>\n",
       "      <td>...</td>\n",
       "      <td>...</td>\n",
       "      <td>...</td>\n",
       "      <td>...</td>\n",
       "      <td>...</td>\n",
       "      <td>...</td>\n",
       "      <td>...</td>\n",
       "      <td>...</td>\n",
       "      <td>...</td>\n",
       "      <td>...</td>\n",
       "      <td>...</td>\n",
       "      <td>...</td>\n",
       "      <td>...</td>\n",
       "      <td>...</td>\n",
       "      <td>...</td>\n",
       "      <td>...</td>\n",
       "      <td>...</td>\n",
       "      <td>...</td>\n",
       "      <td>...</td>\n",
       "      <td>...</td>\n",
       "      <td>...</td>\n",
       "      <td>...</td>\n",
       "      <td>...</td>\n",
       "      <td>...</td>\n",
       "      <td>...</td>\n",
       "      <td>...</td>\n",
       "      <td>...</td>\n",
       "      <td>...</td>\n",
       "      <td>...</td>\n",
       "      <td>...</td>\n",
       "      <td>...</td>\n",
       "      <td>...</td>\n",
       "      <td>...</td>\n",
       "      <td>...</td>\n",
       "      <td>...</td>\n",
       "      <td>...</td>\n",
       "      <td>...</td>\n",
       "      <td>...</td>\n",
       "      <td>...</td>\n",
       "    </tr>\n",
       "    <tr>\n",
       "      <th>197258</th>\n",
       "      <td>2025-06-23_Milan CH_2025-3463-377</td>\n",
       "      <td>Milan CH</td>\n",
       "      <td>Clay</td>\n",
       "      <td>32.0</td>\n",
       "      <td>C</td>\n",
       "      <td>20250623</td>\n",
       "      <td>2025-3463-377</td>\n",
       "      <td>123809</td>\n",
       "      <td>NaN</td>\n",
       "      <td>NaN</td>\n",
       "      <td>Ivan Gakhov</td>\n",
       "      <td>L</td>\n",
       "      <td>191.0</td>\n",
       "      <td>RUS</td>\n",
       "      <td>28.6</td>\n",
       "      <td>122352</td>\n",
       "      <td>NaN</td>\n",
       "      <td>NaN</td>\n",
       "      <td>Christoph Negritu</td>\n",
       "      <td>R</td>\n",
       "      <td>193.0</td>\n",
       "      <td>GER</td>\n",
       "      <td>31.3</td>\n",
       "      <td>6-3 6-4</td>\n",
       "      <td>3</td>\n",
       "      <td>R16</td>\n",
       "      <td>98.0</td>\n",
       "      <td>4.0</td>\n",
       "      <td>6.0</td>\n",
       "      <td>54.0</td>\n",
       "      <td>32.0</td>\n",
       "      <td>24.0</td>\n",
       "      <td>6.0</td>\n",
       "      <td>9.0</td>\n",
       "      <td>2.0</td>\n",
       "      <td>5.0</td>\n",
       "      <td>6.0</td>\n",
       "      <td>2.0</td>\n",
       "      <td>85.0</td>\n",
       "      <td>54.0</td>\n",
       "      <td>40.0</td>\n",
       "      <td>12.0</td>\n",
       "      <td>10.0</td>\n",
       "      <td>9.0</td>\n",
       "      <td>10.0</td>\n",
       "      <td>270.0</td>\n",
       "      <td>290.0</td>\n",
       "      <td>0</td>\n",
       "    </tr>\n",
       "    <tr>\n",
       "      <th>197259</th>\n",
       "      <td>2025-06-23_Milan CH_2025-3463-378</td>\n",
       "      <td>Milan CH</td>\n",
       "      <td>Clay</td>\n",
       "      <td>32.0</td>\n",
       "      <td>C</td>\n",
       "      <td>20250623</td>\n",
       "      <td>2025-3463-378</td>\n",
       "      <td>209976</td>\n",
       "      <td>NaN</td>\n",
       "      <td>NaN</td>\n",
       "      <td>Dino Prizmic</td>\n",
       "      <td>R</td>\n",
       "      <td>188.0</td>\n",
       "      <td>CRO</td>\n",
       "      <td>19.9</td>\n",
       "      <td>202235</td>\n",
       "      <td>NaN</td>\n",
       "      <td>NaN</td>\n",
       "      <td>Jacopo Berrettini</td>\n",
       "      <td>R</td>\n",
       "      <td>193.0</td>\n",
       "      <td>ITA</td>\n",
       "      <td>26.6</td>\n",
       "      <td>6-1 6-2</td>\n",
       "      <td>3</td>\n",
       "      <td>R16</td>\n",
       "      <td>84.0</td>\n",
       "      <td>2.0</td>\n",
       "      <td>5.0</td>\n",
       "      <td>46.0</td>\n",
       "      <td>22.0</td>\n",
       "      <td>16.0</td>\n",
       "      <td>13.0</td>\n",
       "      <td>8.0</td>\n",
       "      <td>3.0</td>\n",
       "      <td>5.0</td>\n",
       "      <td>0.0</td>\n",
       "      <td>3.0</td>\n",
       "      <td>41.0</td>\n",
       "      <td>20.0</td>\n",
       "      <td>7.0</td>\n",
       "      <td>8.0</td>\n",
       "      <td>7.0</td>\n",
       "      <td>1.0</td>\n",
       "      <td>7.0</td>\n",
       "      <td>173.0</td>\n",
       "      <td>330.0</td>\n",
       "      <td>1</td>\n",
       "    </tr>\n",
       "    <tr>\n",
       "      <th>197260</th>\n",
       "      <td>2025-06-23_Milan CH_2025-3463-380</td>\n",
       "      <td>Milan CH</td>\n",
       "      <td>Clay</td>\n",
       "      <td>32.0</td>\n",
       "      <td>C</td>\n",
       "      <td>20250623</td>\n",
       "      <td>2025-3463-380</td>\n",
       "      <td>106065</td>\n",
       "      <td>NaN</td>\n",
       "      <td>NaN</td>\n",
       "      <td>Marco Cecchinato</td>\n",
       "      <td>R</td>\n",
       "      <td>185.0</td>\n",
       "      <td>ITA</td>\n",
       "      <td>32.7</td>\n",
       "      <td>208069</td>\n",
       "      <td>NaN</td>\n",
       "      <td>NaN</td>\n",
       "      <td>Max Houkes</td>\n",
       "      <td>L</td>\n",
       "      <td>188.0</td>\n",
       "      <td>NED</td>\n",
       "      <td>25.0</td>\n",
       "      <td>6-4 6-2</td>\n",
       "      <td>3</td>\n",
       "      <td>QF</td>\n",
       "      <td>92.0</td>\n",
       "      <td>1.0</td>\n",
       "      <td>3.0</td>\n",
       "      <td>45.0</td>\n",
       "      <td>30.0</td>\n",
       "      <td>26.0</td>\n",
       "      <td>11.0</td>\n",
       "      <td>9.0</td>\n",
       "      <td>2.0</td>\n",
       "      <td>2.0</td>\n",
       "      <td>3.0</td>\n",
       "      <td>6.0</td>\n",
       "      <td>63.0</td>\n",
       "      <td>35.0</td>\n",
       "      <td>22.0</td>\n",
       "      <td>13.0</td>\n",
       "      <td>9.0</td>\n",
       "      <td>2.0</td>\n",
       "      <td>5.0</td>\n",
       "      <td>437.0</td>\n",
       "      <td>256.0</td>\n",
       "      <td>1</td>\n",
       "    </tr>\n",
       "    <tr>\n",
       "      <th>197261</th>\n",
       "      <td>2025-06-23_Milan CH_2025-3463-382</td>\n",
       "      <td>Milan CH</td>\n",
       "      <td>Clay</td>\n",
       "      <td>32.0</td>\n",
       "      <td>C</td>\n",
       "      <td>20250623</td>\n",
       "      <td>2025-3463-382</td>\n",
       "      <td>209976</td>\n",
       "      <td>NaN</td>\n",
       "      <td>NaN</td>\n",
       "      <td>Dino Prizmic</td>\n",
       "      <td>R</td>\n",
       "      <td>188.0</td>\n",
       "      <td>CRO</td>\n",
       "      <td>19.9</td>\n",
       "      <td>122352</td>\n",
       "      <td>NaN</td>\n",
       "      <td>NaN</td>\n",
       "      <td>Christoph Negritu</td>\n",
       "      <td>R</td>\n",
       "      <td>193.0</td>\n",
       "      <td>GER</td>\n",
       "      <td>31.3</td>\n",
       "      <td>6-4 6-3</td>\n",
       "      <td>3</td>\n",
       "      <td>QF</td>\n",
       "      <td>94.0</td>\n",
       "      <td>1.0</td>\n",
       "      <td>6.0</td>\n",
       "      <td>64.0</td>\n",
       "      <td>28.0</td>\n",
       "      <td>20.0</td>\n",
       "      <td>17.0</td>\n",
       "      <td>10.0</td>\n",
       "      <td>3.0</td>\n",
       "      <td>6.0</td>\n",
       "      <td>0.0</td>\n",
       "      <td>0.0</td>\n",
       "      <td>45.0</td>\n",
       "      <td>29.0</td>\n",
       "      <td>15.0</td>\n",
       "      <td>6.0</td>\n",
       "      <td>9.0</td>\n",
       "      <td>1.0</td>\n",
       "      <td>6.0</td>\n",
       "      <td>173.0</td>\n",
       "      <td>290.0</td>\n",
       "      <td>1</td>\n",
       "    </tr>\n",
       "    <tr>\n",
       "      <th>197262</th>\n",
       "      <td>2025-06-23_Milan CH_2025-3463-385</td>\n",
       "      <td>Milan CH</td>\n",
       "      <td>Clay</td>\n",
       "      <td>32.0</td>\n",
       "      <td>C</td>\n",
       "      <td>20250623</td>\n",
       "      <td>2025-3463-385</td>\n",
       "      <td>106065</td>\n",
       "      <td>NaN</td>\n",
       "      <td>NaN</td>\n",
       "      <td>Marco Cecchinato</td>\n",
       "      <td>R</td>\n",
       "      <td>185.0</td>\n",
       "      <td>ITA</td>\n",
       "      <td>32.7</td>\n",
       "      <td>209976</td>\n",
       "      <td>NaN</td>\n",
       "      <td>NaN</td>\n",
       "      <td>Dino Prizmic</td>\n",
       "      <td>R</td>\n",
       "      <td>188.0</td>\n",
       "      <td>CRO</td>\n",
       "      <td>19.9</td>\n",
       "      <td>6-2 6-3</td>\n",
       "      <td>3</td>\n",
       "      <td>F</td>\n",
       "      <td>104.0</td>\n",
       "      <td>1.0</td>\n",
       "      <td>3.0</td>\n",
       "      <td>54.0</td>\n",
       "      <td>29.0</td>\n",
       "      <td>20.0</td>\n",
       "      <td>16.0</td>\n",
       "      <td>8.0</td>\n",
       "      <td>6.0</td>\n",
       "      <td>7.0</td>\n",
       "      <td>0.0</td>\n",
       "      <td>4.0</td>\n",
       "      <td>69.0</td>\n",
       "      <td>45.0</td>\n",
       "      <td>26.0</td>\n",
       "      <td>8.0</td>\n",
       "      <td>9.0</td>\n",
       "      <td>9.0</td>\n",
       "      <td>14.0</td>\n",
       "      <td>437.0</td>\n",
       "      <td>173.0</td>\n",
       "      <td>1</td>\n",
       "    </tr>\n",
       "  </tbody>\n",
       "</table>\n",
       "<p>197263 rows × 48 columns</p>\n",
       "</div>"
      ],
      "text/plain": [
       "                               tourney_id tourney_name surface  draw_size  \\\n",
       "0                                1991-339     Adelaide    Hard       32.0   \n",
       "1                                1991-339     Adelaide    Hard       32.0   \n",
       "2                                1991-339     Adelaide    Hard       32.0   \n",
       "3                                1991-339     Adelaide    Hard       32.0   \n",
       "4                                1991-339     Adelaide    Hard       32.0   \n",
       "...                                   ...          ...     ...        ...   \n",
       "197258  2025-06-23_Milan CH_2025-3463-377     Milan CH    Clay       32.0   \n",
       "197259  2025-06-23_Milan CH_2025-3463-378     Milan CH    Clay       32.0   \n",
       "197260  2025-06-23_Milan CH_2025-3463-380     Milan CH    Clay       32.0   \n",
       "197261  2025-06-23_Milan CH_2025-3463-382     Milan CH    Clay       32.0   \n",
       "197262  2025-06-23_Milan CH_2025-3463-385     Milan CH    Clay       32.0   \n",
       "\n",
       "       tourney_level  tourney_date      match_num   p1_id  p1_seed p1_entry  \\\n",
       "0                  A      19901231              1  101723      NaN      NaN   \n",
       "1                  A      19901231              2  100946      NaN        Q   \n",
       "2                  A      19901231              3  101421      NaN      NaN   \n",
       "3                  A      19901231              4  101703      NaN      NaN   \n",
       "4                  A      19901231              5  101843      4.0      NaN   \n",
       "...              ...           ...            ...     ...      ...      ...   \n",
       "197258             C      20250623  2025-3463-377  123809      NaN      NaN   \n",
       "197259             C      20250623  2025-3463-378  209976      NaN      NaN   \n",
       "197260             C      20250623  2025-3463-380  106065      NaN      NaN   \n",
       "197261             C      20250623  2025-3463-382  209976      NaN      NaN   \n",
       "197262             C      20250623  2025-3463-385  106065      NaN      NaN   \n",
       "\n",
       "                     p1_name p1_hand  p1_ht p1_ioc  p1_age   p2_id  p2_seed  \\\n",
       "0             Magnus Larsson       R  193.0    SWE    20.7  101414      1.0   \n",
       "1       Slobodan Zivojinovic       R  198.0    YUG    27.4  101256      NaN   \n",
       "2             Veli Paloheimo       R  183.0    FIN    23.0  101234      NaN   \n",
       "3            Guillaume Raoux       R  180.0    FRA    20.8  101889      8.0   \n",
       "4             Sergi Bruguera       R  188.0    ESP    19.9  101274      NaN   \n",
       "...                      ...     ...    ...    ...     ...     ...      ...   \n",
       "197258           Ivan Gakhov       L  191.0    RUS    28.6  122352      NaN   \n",
       "197259          Dino Prizmic       R  188.0    CRO    19.9  202235      NaN   \n",
       "197260      Marco Cecchinato       R  185.0    ITA    32.7  208069      NaN   \n",
       "197261          Dino Prizmic       R  188.0    CRO    19.9  122352      NaN   \n",
       "197262      Marco Cecchinato       R  185.0    ITA    32.7  209976      NaN   \n",
       "\n",
       "       p2_entry            p2_name p2_hand  p2_ht p2_ioc  p2_age  \\\n",
       "0           NaN       Boris Becker       R  190.0    GER    23.1   \n",
       "1           NaN     Mark Kratzmann       L  178.0    AUS    24.6   \n",
       "2           NaN      Patrik Kuhnen       R  190.0    GER    24.8   \n",
       "3           NaN    Todd Woodbridge       R  178.0    AUS    19.7   \n",
       "4           NaN      Udo Riglewski       R  185.0    GER    24.4   \n",
       "...         ...                ...     ...    ...    ...     ...   \n",
       "197258      NaN  Christoph Negritu       R  193.0    GER    31.3   \n",
       "197259      NaN  Jacopo Berrettini       R  193.0    ITA    26.6   \n",
       "197260      NaN         Max Houkes       L  188.0    NED    25.0   \n",
       "197261      NaN  Christoph Negritu       R  193.0    GER    31.3   \n",
       "197262      NaN       Dino Prizmic       R  188.0    CRO    19.9   \n",
       "\n",
       "                 score  best_of round  minutes  p1_ace  p1_df  p1_svpt  \\\n",
       "0       6-4 3-6 7-6(2)        3   R32    130.0     6.0    2.0     96.0   \n",
       "1       6-3 3-6 7-6(6)        3   R32    119.0    19.0    4.0    101.0   \n",
       "2              6-0 6-4        3   R32     71.0     2.0    2.0     60.0   \n",
       "3           7-6(2) 6-1        3   R32     85.0     3.0    3.0     74.0   \n",
       "4              7-5 6-3        3   R32     90.0     2.0    2.0     77.0   \n",
       "...                ...      ...   ...      ...     ...    ...      ...   \n",
       "197258         6-3 6-4        3   R16     98.0     4.0    6.0     54.0   \n",
       "197259         6-1 6-2        3   R16     84.0     2.0    5.0     46.0   \n",
       "197260         6-4 6-2        3    QF     92.0     1.0    3.0     45.0   \n",
       "197261         6-4 6-3        3    QF     94.0     1.0    6.0     64.0   \n",
       "197262         6-2 6-3        3     F    104.0     1.0    3.0     54.0   \n",
       "\n",
       "        p1_1stIn  p1_1stWon  p1_2ndWon  p1_SvGms  p1_bpSaved  p1_bpFaced  \\\n",
       "0           55.0       39.0       25.0      15.0         2.0         4.0   \n",
       "1           56.0       45.0       25.0      15.0         9.0        10.0   \n",
       "2           37.0       22.0        6.0       8.0         4.0         8.0   \n",
       "3           45.0       30.0       11.0      10.0         5.0         8.0   \n",
       "4           41.0       28.0       15.0      11.0         4.0         8.0   \n",
       "...          ...        ...        ...       ...         ...         ...   \n",
       "197258      32.0       24.0        6.0       9.0         2.0         5.0   \n",
       "197259      22.0       16.0       13.0       8.0         3.0         5.0   \n",
       "197260      30.0       26.0       11.0       9.0         2.0         2.0   \n",
       "197261      28.0       20.0       17.0      10.0         3.0         6.0   \n",
       "197262      29.0       20.0       16.0       8.0         6.0         7.0   \n",
       "\n",
       "        p2_ace  p2_df  p2_svpt  p2_1stIn  p2_1stWon  p2_2ndWon  p2_SvGms  \\\n",
       "0          8.0    3.0     95.0      62.0       44.0       23.0      16.0   \n",
       "1          8.0    2.0     84.0      41.0       35.0       27.0      15.0   \n",
       "2          6.0    1.0     54.0      31.0       24.0       13.0       8.0   \n",
       "3          2.0    0.0     60.0      40.0       30.0       14.0       9.0   \n",
       "4          4.0    2.0     72.0      40.0       33.0       14.0      10.0   \n",
       "...        ...    ...      ...       ...        ...        ...       ...   \n",
       "197258     6.0    2.0     85.0      54.0       40.0       12.0      10.0   \n",
       "197259     0.0    3.0     41.0      20.0        7.0        8.0       7.0   \n",
       "197260     3.0    6.0     63.0      35.0       22.0       13.0       9.0   \n",
       "197261     0.0    0.0     45.0      29.0       15.0        6.0       9.0   \n",
       "197262     0.0    4.0     69.0      45.0       26.0        8.0       9.0   \n",
       "\n",
       "        p2_bpSaved  p2_bpFaced  p1_rank  p2_rank  RESULT  \n",
       "0              6.0         8.0     56.0      2.0       1  \n",
       "1              1.0         2.0    304.0     75.0       1  \n",
       "2              1.0         1.0     69.0     82.0       0  \n",
       "3              3.0         3.0     84.0     50.0       0  \n",
       "4              7.0         8.0     28.0     88.0       0  \n",
       "...            ...         ...      ...      ...     ...  \n",
       "197258         9.0        10.0    270.0    290.0       0  \n",
       "197259         1.0         7.0    173.0    330.0       1  \n",
       "197260         2.0         5.0    437.0    256.0       1  \n",
       "197261         1.0         6.0    173.0    290.0       1  \n",
       "197262         9.0        14.0    437.0    173.0       1  \n",
       "\n",
       "[197263 rows x 48 columns]"
      ]
     },
     "execution_count": 2,
     "metadata": {},
     "output_type": "execute_result"
    }
   ],
   "source": [
    "allData = pd.read_csv(\"../data/0cleanDatasetWithQualifiersWith2025.csv\")\n",
    "allData"
   ]
  },
  {
   "cell_type": "code",
   "execution_count": 3,
   "id": "4f879555",
   "metadata": {},
   "outputs": [],
   "source": [
    "def run_ELO_evaluation(evaluation_data, prev_stats, k_factor, base_k_factor, max_k_factor, div_number, bonus_after_layoff, warmup_n: int = 10000):\n",
    "    def calculate_accuracy_score(preds, labels):\n",
    "        return accuracy_score(labels, preds) if len(labels) > 0 else float('nan')\n",
    "\n",
    "    majors = {\"A\", \"G\", \"M\", \"F\", \"D\", \"O\"}\n",
    "\n",
    "    elo_preds, elo_preds_surface, labels = [], [], []\n",
    "    elo_preds_2025, elo_preds_surface_2025, labels_2025 = [], [], []\n",
    "\n",
    "    for i, (_, row) in enumerate(tqdm(evaluation_data.iterrows(), total=len(evaluation_data))):\n",
    "        # Initial ELO by level\n",
    "        init_elo = 1500\n",
    "\n",
    "        # Current ratings\n",
    "        elo1  = prev_stats[\"elo_players\"].get(row.p1_id, init_elo)\n",
    "        elo2  = prev_stats[\"elo_players\"].get(row.p2_id, init_elo)\n",
    "        elo1s = prev_stats[\"elo_surface_players\"][row.surface].get(row.p1_id, init_elo)\n",
    "        elo2s = prev_stats[\"elo_surface_players\"][row.surface].get(row.p2_id, init_elo)\n",
    "\n",
    "        # Predict on majors after warm-up\n",
    "        if row.tourney_level in majors and i > warmup_n:\n",
    "            is_2025 = str(row.tourney_date).startswith(\"2025\")\n",
    "            p  = 1 if elo1  >= elo2  else 0\n",
    "            ps = 1 if elo1s >= elo2s else 0\n",
    "\n",
    "            if is_2025:\n",
    "                elo_preds_2025.append(p)\n",
    "                elo_preds_surface_2025.append(ps)\n",
    "                labels_2025.append(row.RESULT)\n",
    "            else:\n",
    "                elo_preds.append(p)\n",
    "                elo_preds_surface.append(ps)\n",
    "                labels.append(row.RESULT)\n",
    "\n",
    "        # Update after predicting\n",
    "        prev_stats = updateStats(row, prev_stats, k_factor, base_k_factor, max_k_factor, div_number, bonus_after_layoff)\n",
    "\n",
    "    global_elo_acc           = calculate_accuracy_score(elo_preds, labels)\n",
    "    global_elo_surface_acc   = calculate_accuracy_score(elo_preds_surface, labels)\n",
    "    elo_acc_2025             = calculate_accuracy_score(elo_preds_2025, labels_2025)\n",
    "    elo_surface_acc_2025     = calculate_accuracy_score(elo_preds_surface_2025, labels_2025)\n",
    "\n",
    "    print(\n",
    "        f\"\\nEVALUATION RESULTS:\\n\"\n",
    "        f\"Global ELO Accuracy: {global_elo_acc} ({len(labels)} matches)\\n\"\n",
    "        f\"2025 ELO Accuracy: {elo_acc_2025} ({len(labels_2025)} matches)\\n\"\n",
    "        f\"Global ELO Surface Accuracy: {global_elo_surface_acc} ({len(labels)} matches)\\n\"\n",
    "        f\"2025 ELO Surface Accuracy: {elo_surface_acc_2025} ({len(labels_2025)} matches)\\n\"\n",
    "    )\n",
    "    return global_elo_acc, elo_acc_2025, global_elo_surface_acc, elo_surface_acc_2025\n"
   ]
  },
  {
   "cell_type": "code",
   "execution_count": 4,
   "id": "6c5939d2",
   "metadata": {},
   "outputs": [
    {
     "name": "stderr",
     "output_type": "stream",
     "text": [
      "100%|██████████| 197263/197263 [00:13<00:00, 14922.43it/s]\n"
     ]
    },
    {
     "name": "stdout",
     "output_type": "stream",
     "text": [
      "\n",
      "EVALUATION RESULTS:\n",
      "Global ELO Accuracy: 0.6564919696512228 (102673 matches)\n",
      "2025 ELO Accuracy: 0.6419813634134379 (2039 matches)\n",
      "Global ELO Surface Accuracy: 0.647560702424201 (102673 matches)\n",
      "2025 ELO Surface Accuracy: 0.6390387444825895 (2039 matches)\n",
      "\n"
     ]
    }
   ],
   "source": [
    "########## TEST 1 ##########\n",
    "# Vanilla ELO K factor = 24\n",
    "############################\n",
    "\n",
    "prev_stats_eval = createStats()\n",
    "run_ELO_evaluation(evaluation_data=allData, \n",
    "                   prev_stats=prev_stats_eval, \n",
    "                   k_factor=24, \n",
    "                   base_k_factor=0, \n",
    "                   max_k_factor=0, \n",
    "                   div_number=0, \n",
    "                   bonus_after_layoff=False)\n",
    "del prev_stats_eval"
   ]
  },
  {
   "cell_type": "code",
   "execution_count": 5,
   "id": "87791204",
   "metadata": {},
   "outputs": [
    {
     "name": "stderr",
     "output_type": "stream",
     "text": [
      "100%|██████████| 197263/197263 [00:13<00:00, 14677.87it/s]\n"
     ]
    },
    {
     "name": "stdout",
     "output_type": "stream",
     "text": [
      "\n",
      "EVALUATION RESULTS:\n",
      "Global ELO Accuracy: 0.6567549404419857 (102673 matches)\n",
      "2025 ELO Accuracy: 0.6459048553212359 (2039 matches)\n",
      "Global ELO Surface Accuracy: 0.6494209772773758 (102673 matches)\n",
      "2025 ELO Surface Accuracy: 0.6463952918097107 (2039 matches)\n",
      "\n"
     ]
    }
   ],
   "source": [
    "########## TEST 2 ##########\n",
    "# Vanilla ELO K factor = 32\n",
    "############################\n",
    "\n",
    "prev_stats_eval = createStats()\n",
    "run_ELO_evaluation(evaluation_data=allData, \n",
    "                   prev_stats=prev_stats_eval, \n",
    "                   k_factor=32,\n",
    "                   base_k_factor=0,\n",
    "                   max_k_factor=0,\n",
    "                   div_number=0,\n",
    "                   bonus_after_layoff=False)\n",
    "del prev_stats_eval"
   ]
  },
  {
   "cell_type": "code",
   "execution_count": 6,
   "id": "859cb0b2",
   "metadata": {},
   "outputs": [
    {
     "name": "stderr",
     "output_type": "stream",
     "text": [
      "100%|██████████| 197263/197263 [00:13<00:00, 14603.39it/s]\n"
     ]
    },
    {
     "name": "stdout",
     "output_type": "stream",
     "text": [
      "\n",
      "EVALUATION RESULTS:\n",
      "Global ELO Accuracy: 0.655157636379574 (102673 matches)\n",
      "2025 ELO Accuracy: 0.6508092202059833 (2039 matches)\n",
      "Global ELO Surface Accuracy: 0.6513396900840532 (102673 matches)\n",
      "2025 ELO Surface Accuracy: 0.6522805296714076 (2039 matches)\n",
      "\n"
     ]
    }
   ],
   "source": [
    "########## TEST 3 ##########\n",
    "# Vanilla ELO K factor = 50\n",
    "############################\n",
    "\n",
    "prev_stats_eval = createStats()\n",
    "run_ELO_evaluation(evaluation_data=allData, \n",
    "                   prev_stats=prev_stats_eval, \n",
    "                   k_factor=50,\n",
    "                   base_k_factor=0,\n",
    "                   max_k_factor=0,\n",
    "                   div_number=0,\n",
    "                   bonus_after_layoff=False)\n",
    "del prev_stats_eval"
   ]
  },
  {
   "cell_type": "code",
   "execution_count": 7,
   "id": "3d9fa25a",
   "metadata": {},
   "outputs": [
    {
     "name": "stderr",
     "output_type": "stream",
     "text": [
      "100%|██████████| 197263/197263 [00:13<00:00, 14491.85it/s]\n"
     ]
    },
    {
     "name": "stdout",
     "output_type": "stream",
     "text": [
      "\n",
      "EVALUATION RESULTS:\n",
      "Global ELO Accuracy: 0.6468010090286638 (102673 matches)\n",
      "2025 ELO Accuracy: 0.6414909269249632 (2039 matches)\n",
      "Global ELO Surface Accuracy: 0.6474925248117811 (102673 matches)\n",
      "2025 ELO Surface Accuracy: 0.6434526728788622 (2039 matches)\n",
      "\n"
     ]
    }
   ],
   "source": [
    "########## TEST 4 ##########\n",
    "# Vanilla ELO K factor = 100\n",
    "############################\n",
    "\n",
    "prev_stats_eval = createStats()\n",
    "run_ELO_evaluation(evaluation_data=allData,\n",
    "                   prev_stats=prev_stats_eval,\n",
    "                   k_factor=100,\n",
    "                   base_k_factor=0,\n",
    "                   max_k_factor=0,\n",
    "                   div_number=0,\n",
    "                   bonus_after_layoff=False)\n",
    "del prev_stats_eval"
   ]
  },
  {
   "cell_type": "code",
   "execution_count": 8,
   "id": "c42e9ab1",
   "metadata": {},
   "outputs": [
    {
     "name": "stderr",
     "output_type": "stream",
     "text": [
      "100%|██████████| 197263/197263 [00:13<00:00, 14168.28it/s]\n"
     ]
    },
    {
     "name": "stdout",
     "output_type": "stream",
     "text": [
      "\n",
      "EVALUATION RESULTS:\n",
      "Global ELO Accuracy: 0.6576899476980316 (102673 matches)\n",
      "2025 ELO Accuracy: 0.6414909269249632 (2039 matches)\n",
      "Global ELO Surface Accuracy: 0.6521188627974248 (102673 matches)\n",
      "2025 ELO Surface Accuracy: 0.6478666012751348 (2039 matches)\n",
      "\n"
     ]
    }
   ],
   "source": [
    "########## TEST 5 ##########\n",
    "# ELO with base_k_factor=20, max_k_factor=60\n",
    "############################\n",
    "\n",
    "prev_stats_eval = createStats()\n",
    "run_ELO_evaluation(evaluation_data=allData, \n",
    "                   prev_stats=prev_stats_eval, \n",
    "                   k_factor=None,\n",
    "                   base_k_factor=20,\n",
    "                   max_k_factor=60,\n",
    "                   div_number=600,\n",
    "                   bonus_after_layoff=False)\n",
    "del prev_stats_eval"
   ]
  },
  {
   "cell_type": "code",
   "execution_count": 9,
   "id": "463eb5bd",
   "metadata": {},
   "outputs": [
    {
     "name": "stderr",
     "output_type": "stream",
     "text": [
      "100%|██████████| 197263/197263 [00:14<00:00, 14000.81it/s]\n"
     ]
    },
    {
     "name": "stdout",
     "output_type": "stream",
     "text": [
      "\n",
      "EVALUATION RESULTS:\n",
      "Global ELO Accuracy: 0.6561900402247913 (102673 matches)\n",
      "2025 ELO Accuracy: 0.6493379107405591 (2039 matches)\n",
      "Global ELO Surface Accuracy: 0.6525863664254478 (102673 matches)\n",
      "2025 ELO Surface Accuracy: 0.6562040215792055 (2039 matches)\n",
      "\n"
     ]
    }
   ],
   "source": [
    "########## TEST 6 ##########\n",
    "# ELO with base_k_factor=40, max_k_factor=80\n",
    "############################\n",
    "\n",
    "prev_stats_eval = createStats()\n",
    "run_ELO_evaluation(evaluation_data=allData, \n",
    "                   prev_stats=prev_stats_eval, \n",
    "                   k_factor=None,\n",
    "                   base_k_factor=40,\n",
    "                   max_k_factor=80,\n",
    "                   div_number=600,\n",
    "                   bonus_after_layoff=False)\n",
    "del prev_stats_eval"
   ]
  },
  {
   "cell_type": "code",
   "execution_count": 10,
   "id": "1d8b33b3",
   "metadata": {},
   "outputs": [
    {
     "name": "stderr",
     "output_type": "stream",
     "text": [
      "100%|██████████| 197263/197263 [00:13<00:00, 14129.80it/s]\n"
     ]
    },
    {
     "name": "stdout",
     "output_type": "stream",
     "text": [
      "\n",
      "EVALUATION RESULTS:\n",
      "Global ELO Accuracy: 0.6563458747674656 (102673 matches)\n",
      "2025 ELO Accuracy: 0.6493379107405591 (2039 matches)\n",
      "Global ELO Surface Accuracy: 0.6520019868904191 (102673 matches)\n",
      "2025 ELO Surface Accuracy: 0.6576753310446297 (2039 matches)\n",
      "\n"
     ]
    }
   ],
   "source": [
    "########## TEST 7 ##########\n",
    "# ELO with base_k_factor=40, max_k_factor=60, div_number=600\n",
    "############################\n",
    "\n",
    "prev_stats_eval = createStats()\n",
    "run_ELO_evaluation(evaluation_data=allData,\n",
    "                         prev_stats=prev_stats_eval,\n",
    "                         k_factor=None,\n",
    "                         base_k_factor=40,\n",
    "                         max_k_factor=60,\n",
    "                         div_number=600,\n",
    "                         bonus_after_layoff=False)\n",
    "del prev_stats_eval"
   ]
  },
  {
   "cell_type": "code",
   "execution_count": 11,
   "id": "d6ee2d22",
   "metadata": {},
   "outputs": [
    {
     "name": "stderr",
     "output_type": "stream",
     "text": [
      "100%|██████████| 197263/197263 [00:14<00:00, 13992.28it/s]\n"
     ]
    },
    {
     "name": "stdout",
     "output_type": "stream",
     "text": [
      "\n",
      "EVALUATION RESULTS:\n",
      "Global ELO Accuracy: 0.6562095195426256 (102673 matches)\n",
      "2025 ELO Accuracy: 0.6493379107405591 (2039 matches)\n",
      "Global ELO Surface Accuracy: 0.6524889698362764 (102673 matches)\n",
      "2025 ELO Surface Accuracy: 0.657184894556155 (2039 matches)\n",
      "\n"
     ]
    }
   ],
   "source": [
    "########## TEST 8 ##########\n",
    "# ELO with base_k_factor=40, max_k_factor=80, div_number=800\n",
    "############################\n",
    "\n",
    "prev_stats_eval = createStats()\n",
    "run_ELO_evaluation(evaluation_data=allData, \n",
    "                         prev_stats=prev_stats_eval, \n",
    "                         k_factor=None, \n",
    "                         base_k_factor=40, \n",
    "                         max_k_factor=80, \n",
    "                         div_number=800,\n",
    "                         bonus_after_layoff=False)\n",
    "del prev_stats_eval"
   ]
  },
  {
   "cell_type": "code",
   "execution_count": 12,
   "id": "1c7f1182",
   "metadata": {},
   "outputs": [
    {
     "name": "stderr",
     "output_type": "stream",
     "text": [
      "100%|██████████| 197263/197263 [00:14<00:00, 13988.34it/s]\n"
     ]
    },
    {
     "name": "stdout",
     "output_type": "stream",
     "text": [
      "\n",
      "EVALUATION RESULTS:\n",
      "Global ELO Accuracy: 0.6562095195426256 (102673 matches)\n",
      "2025 ELO Accuracy: 0.6493379107405591 (2039 matches)\n",
      "Global ELO Surface Accuracy: 0.6524889698362764 (102673 matches)\n",
      "2025 ELO Surface Accuracy: 0.657184894556155 (2039 matches)\n",
      "\n"
     ]
    }
   ],
   "source": [
    "########## TEST 9 ##########\n",
    "# ELO with base_k_factor=40, max_k_factor=80, div_number=800 + K factor varied when tennis player come back\n",
    "############################\n",
    "\n",
    "prev_stats_eval = createStats()\n",
    "run_ELO_evaluation(evaluation_data=allData, \n",
    "                         prev_stats=prev_stats_eval, \n",
    "                         k_factor=None, \n",
    "                         base_k_factor=40, \n",
    "                         max_k_factor=80, \n",
    "                         div_number=800,\n",
    "                         bonus_after_layoff=False)\n",
    "del prev_stats_eval"
   ]
  },
  {
   "cell_type": "markdown",
   "id": "cfc872d2",
   "metadata": {},
   "source": [
    "## Custom GridSearch"
   ]
  },
  {
   "cell_type": "code",
   "execution_count": null,
   "id": "efaa74e2",
   "metadata": {},
   "outputs": [
    {
     "name": "stderr",
     "output_type": "stream",
     "text": [
      "100%|██████████| 197263/197263 [00:14<00:00, 14039.23it/s]\n",
      "  0%|          | 1/300 [00:14<1:10:14, 14.10s/it]"
     ]
    },
    {
     "name": "stdout",
     "output_type": "stream",
     "text": [
      "\n",
      "EVALUATION RESULTS:\n",
      "Global ELO Accuracy: 0.6559443460501332 (62673 matches)\n",
      "2025 ELO Accuracy: 0.6365865620402158 (2039 matches)\n",
      "Global ELO Surface Accuracy: 0.6470250347039395 (62673 matches)\n",
      "2025 ELO surface Accuracy: 0.6405100539480137 (2039 matches)\n",
      "\n"
     ]
    },
    {
     "name": "stderr",
     "output_type": "stream",
     "text": [
      "100%|██████████| 197263/197263 [00:14<00:00, 13751.28it/s]\n",
      "  1%|          | 2/300 [00:28<1:11:01, 14.30s/it]"
     ]
    },
    {
     "name": "stdout",
     "output_type": "stream",
     "text": [
      "\n",
      "EVALUATION RESULTS:\n",
      "Global ELO Accuracy: 0.661225727187146 (62673 matches)\n",
      "2025 ELO Accuracy: 0.6493379107405591 (2039 matches)\n",
      "Global ELO Surface Accuracy: 0.6561517718953935 (62673 matches)\n",
      "2025 ELO surface Accuracy: 0.6522805296714076 (2039 matches)\n",
      "\n"
     ]
    },
    {
     "name": "stderr",
     "output_type": "stream",
     "text": [
      "100%|██████████| 197263/197263 [00:14<00:00, 13974.32it/s]\n",
      "  1%|          | 3/300 [00:42<1:10:35, 14.26s/it]"
     ]
    },
    {
     "name": "stdout",
     "output_type": "stream",
     "text": [
      "\n",
      "EVALUATION RESULTS:\n",
      "Global ELO Accuracy: 0.6614171971981555 (62673 matches)\n",
      "2025 ELO Accuracy: 0.640019617459539 (2039 matches)\n",
      "Global ELO Surface Accuracy: 0.6523542833437046 (62673 matches)\n",
      "2025 ELO surface Accuracy: 0.6414909269249632 (2039 matches)\n",
      "\n"
     ]
    },
    {
     "name": "stderr",
     "output_type": "stream",
     "text": [
      "100%|██████████| 197263/197263 [00:14<00:00, 13823.75it/s]\n",
      "  1%|▏         | 4/300 [00:57<1:10:34, 14.30s/it]"
     ]
    },
    {
     "name": "stdout",
     "output_type": "stream",
     "text": [
      "\n",
      "EVALUATION RESULTS:\n",
      "Global ELO Accuracy: 0.6616405788776666 (62673 matches)\n",
      "2025 ELO Accuracy: 0.6463952918097107 (2039 matches)\n",
      "Global ELO Surface Accuracy: 0.6572527244586983 (62673 matches)\n",
      "2025 ELO surface Accuracy: 0.6547327121137813 (2039 matches)\n",
      "\n"
     ]
    },
    {
     "name": "stderr",
     "output_type": "stream",
     "text": [
      "100%|██████████| 197263/197263 [00:14<00:00, 13667.71it/s]\n",
      "  2%|▏         | 5/300 [01:11<1:10:44, 14.39s/it]"
     ]
    },
    {
     "name": "stdout",
     "output_type": "stream",
     "text": [
      "\n",
      "EVALUATION RESULTS:\n",
      "Global ELO Accuracy: 0.6612576388556476 (62673 matches)\n",
      "2025 ELO Accuracy: 0.6488474742520843 (2039 matches)\n",
      "Global ELO Surface Accuracy: 0.6561836835638951 (62673 matches)\n",
      "2025 ELO surface Accuracy: 0.6517900931829328 (2039 matches)\n",
      "\n"
     ]
    },
    {
     "name": "stderr",
     "output_type": "stream",
     "text": [
      "100%|██████████| 197263/197263 [00:14<00:00, 13956.02it/s]\n",
      "  2%|▏         | 6/300 [01:25<1:10:14, 14.34s/it]"
     ]
    },
    {
     "name": "stdout",
     "output_type": "stream",
     "text": [
      "\n",
      "EVALUATION RESULTS:\n",
      "Global ELO Accuracy: 0.6568697844366793 (62673 matches)\n",
      "2025 ELO Accuracy: 0.6449239823442864 (2039 matches)\n",
      "Global ELO Surface Accuracy: 0.6458762146378824 (62673 matches)\n",
      "2025 ELO surface Accuracy: 0.6405100539480137 (2039 matches)\n",
      "\n"
     ]
    },
    {
     "name": "stderr",
     "output_type": "stream",
     "text": [
      "100%|██████████| 197263/197263 [00:14<00:00, 13844.46it/s]\n",
      "  2%|▏         | 7/300 [01:40<1:10:02, 14.34s/it]"
     ]
    },
    {
     "name": "stdout",
     "output_type": "stream",
     "text": [
      "\n",
      "EVALUATION RESULTS:\n",
      "Global ELO Accuracy: 0.6621671214079428 (62673 matches)\n",
      "2025 ELO Accuracy: 0.6473761647866602 (2039 matches)\n",
      "Global ELO Surface Accuracy: 0.6562953744036507 (62673 matches)\n",
      "2025 ELO surface Accuracy: 0.6566944580676802 (2039 matches)\n",
      "\n"
     ]
    },
    {
     "name": "stderr",
     "output_type": "stream",
     "text": [
      "100%|██████████| 197263/197263 [00:14<00:00, 13964.75it/s]\n",
      "  3%|▎         | 8/300 [01:54<1:09:37, 14.31s/it]"
     ]
    },
    {
     "name": "stdout",
     "output_type": "stream",
     "text": [
      "\n",
      "EVALUATION RESULTS:\n",
      "Global ELO Accuracy: 0.6611619038501428 (62673 matches)\n",
      "2025 ELO Accuracy: 0.6439431093673369 (2039 matches)\n",
      "Global ELO Surface Accuracy: 0.6523064158409523 (62673 matches)\n",
      "2025 ELO surface Accuracy: 0.6454144188327612 (2039 matches)\n",
      "\n"
     ]
    },
    {
     "name": "stderr",
     "output_type": "stream",
     "text": [
      "100%|██████████| 197263/197263 [00:14<00:00, 13828.58it/s]\n",
      "  3%|▎         | 9/300 [02:08<1:09:28, 14.33s/it]"
     ]
    },
    {
     "name": "stdout",
     "output_type": "stream",
     "text": [
      "\n",
      "EVALUATION RESULTS:\n",
      "Global ELO Accuracy: 0.6611140363473904 (62673 matches)\n",
      "2025 ELO Accuracy: 0.6488474742520843 (2039 matches)\n",
      "Global ELO Surface Accuracy: 0.6558166993761269 (62673 matches)\n",
      "2025 ELO surface Accuracy: 0.6517900931829328 (2039 matches)\n",
      "\n"
     ]
    },
    {
     "name": "stderr",
     "output_type": "stream",
     "text": [
      "100%|██████████| 197263/197263 [00:14<00:00, 13868.36it/s]\n",
      "  3%|▎         | 10/300 [02:23<1:09:14, 14.33s/it]"
     ]
    },
    {
     "name": "stdout",
     "output_type": "stream",
     "text": [
      "\n",
      "EVALUATION RESULTS:\n",
      "Global ELO Accuracy: 0.6551944218403459 (62673 matches)\n",
      "2025 ELO Accuracy: 0.640019617459539 (2039 matches)\n",
      "Global ELO Surface Accuracy: 0.6440891612017934 (62673 matches)\n",
      "2025 ELO surface Accuracy: 0.63805787150564 (2039 matches)\n",
      "\n"
     ]
    },
    {
     "name": "stderr",
     "output_type": "stream",
     "text": [
      "100%|██████████| 197263/197263 [00:14<00:00, 13461.49it/s]\n",
      "  4%|▎         | 11/300 [02:37<1:09:38, 14.46s/it]"
     ]
    },
    {
     "name": "stdout",
     "output_type": "stream",
     "text": [
      "\n",
      "EVALUATION RESULTS:\n",
      "Global ELO Accuracy: 0.6339731622867901 (62673 matches)\n",
      "2025 ELO Accuracy: 0.6204021579205493 (2039 matches)\n",
      "Global ELO Surface Accuracy: 0.6325530930384695 (62673 matches)\n",
      "2025 ELO surface Accuracy: 0.6199117214320745 (2039 matches)\n",
      "\n"
     ]
    },
    {
     "name": "stderr",
     "output_type": "stream",
     "text": [
      "100%|██████████| 197263/197263 [00:14<00:00, 13791.34it/s]\n",
      "  4%|▍         | 12/300 [02:52<1:09:19, 14.44s/it]"
     ]
    },
    {
     "name": "stdout",
     "output_type": "stream",
     "text": [
      "\n",
      "EVALUATION RESULTS:\n",
      "Global ELO Accuracy: 0.6614650647009079 (62673 matches)\n",
      "2025 ELO Accuracy: 0.6410004904364884 (2039 matches)\n",
      "Global ELO Surface Accuracy: 0.6529127375424824 (62673 matches)\n",
      "2025 ELO surface Accuracy: 0.6463952918097107 (2039 matches)\n",
      "\n"
     ]
    },
    {
     "name": "stderr",
     "output_type": "stream",
     "text": [
      "100%|██████████| 197263/197263 [00:14<00:00, 13842.33it/s]\n",
      "  4%|▍         | 13/300 [03:06<1:08:57, 14.42s/it]"
     ]
    },
    {
     "name": "stdout",
     "output_type": "stream",
     "text": [
      "\n",
      "EVALUATION RESULTS:\n",
      "Global ELO Accuracy: 0.6611140363473904 (62673 matches)\n",
      "2025 ELO Accuracy: 0.6508092202059833 (2039 matches)\n",
      "Global ELO Surface Accuracy: 0.656199639398146 (62673 matches)\n",
      "2025 ELO surface Accuracy: 0.6508092202059833 (2039 matches)\n",
      "\n"
     ]
    },
    {
     "name": "stderr",
     "output_type": "stream",
     "text": [
      "100%|██████████| 197263/197263 [00:14<00:00, 13802.75it/s]\n",
      "  5%|▍         | 14/300 [03:21<1:08:41, 14.41s/it]"
     ]
    },
    {
     "name": "stdout",
     "output_type": "stream",
     "text": [
      "\n",
      "EVALUATION RESULTS:\n",
      "Global ELO Accuracy: 0.6613852855296539 (62673 matches)\n",
      "2025 ELO Accuracy: 0.6449239823442864 (2039 matches)\n",
      "Global ELO Surface Accuracy: 0.6524500183492093 (62673 matches)\n",
      "2025 ELO surface Accuracy: 0.6429622363903874 (2039 matches)\n",
      "\n"
     ]
    },
    {
     "name": "stderr",
     "output_type": "stream",
     "text": [
      "100%|██████████| 197263/197263 [00:14<00:00, 13772.64it/s]\n",
      "  5%|▌         | 15/300 [03:35<1:08:28, 14.42s/it]"
     ]
    },
    {
     "name": "stdout",
     "output_type": "stream",
     "text": [
      "\n",
      "EVALUATION RESULTS:\n",
      "Global ELO Accuracy: 0.6596460995963174 (62673 matches)\n",
      "2025 ELO Accuracy: 0.6493379107405591 (2039 matches)\n",
      "Global ELO Surface Accuracy: 0.6530722958849904 (62673 matches)\n",
      "2025 ELO surface Accuracy: 0.6473761647866602 (2039 matches)\n",
      "\n"
     ]
    },
    {
     "name": "stderr",
     "output_type": "stream",
     "text": [
      "100%|██████████| 197263/197263 [00:14<00:00, 13778.76it/s]\n",
      "  5%|▌         | 16/300 [03:49<1:08:14, 14.42s/it]"
     ]
    },
    {
     "name": "stdout",
     "output_type": "stream",
     "text": [
      "\n",
      "EVALUATION RESULTS:\n",
      "Global ELO Accuracy: 0.6621830772421936 (62673 matches)\n",
      "2025 ELO Accuracy: 0.6473761647866602 (2039 matches)\n",
      "Global ELO Surface Accuracy: 0.6574601503039587 (62673 matches)\n",
      "2025 ELO surface Accuracy: 0.6547327121137813 (2039 matches)\n",
      "\n"
     ]
    },
    {
     "name": "stderr",
     "output_type": "stream",
     "text": [
      "100%|██████████| 197263/197263 [00:14<00:00, 13805.06it/s]\n",
      "  6%|▌         | 17/300 [04:04<1:07:58, 14.41s/it]"
     ]
    },
    {
     "name": "stdout",
     "output_type": "stream",
     "text": [
      "\n",
      "EVALUATION RESULTS:\n",
      "Global ELO Accuracy: 0.6625819730984635 (62673 matches)\n",
      "2025 ELO Accuracy: 0.6483570377636096 (2039 matches)\n",
      "Global ELO Surface Accuracy: 0.6569655194421841 (62673 matches)\n",
      "2025 ELO surface Accuracy: 0.6552231486022561 (2039 matches)\n",
      "\n"
     ]
    },
    {
     "name": "stderr",
     "output_type": "stream",
     "text": [
      "100%|██████████| 197263/197263 [00:14<00:00, 13709.93it/s]\n",
      "  6%|▌         | 18/300 [04:18<1:07:51, 14.44s/it]"
     ]
    },
    {
     "name": "stdout",
     "output_type": "stream",
     "text": [
      "\n",
      "EVALUATION RESULTS:\n",
      "Global ELO Accuracy: 0.6603800679718539 (62673 matches)\n",
      "2025 ELO Accuracy: 0.6517900931829328 (2039 matches)\n",
      "Global ELO Surface Accuracy: 0.6536307500837681 (62673 matches)\n",
      "2025 ELO surface Accuracy: 0.6522805296714076 (2039 matches)\n",
      "\n"
     ]
    },
    {
     "name": "stderr",
     "output_type": "stream",
     "text": [
      "100%|██████████| 197263/197263 [00:14<00:00, 13767.63it/s]\n",
      "  6%|▋         | 19/300 [04:33<1:07:36, 14.44s/it]"
     ]
    },
    {
     "name": "stdout",
     "output_type": "stream",
     "text": [
      "\n",
      "EVALUATION RESULTS:\n",
      "Global ELO Accuracy: 0.6612576388556476 (62673 matches)\n",
      "2025 ELO Accuracy: 0.6419813634134379 (2039 matches)\n",
      "Global ELO Surface Accuracy: 0.6524978858519618 (62673 matches)\n",
      "2025 ELO surface Accuracy: 0.6454144188327612 (2039 matches)\n",
      "\n"
     ]
    },
    {
     "name": "stderr",
     "output_type": "stream",
     "text": [
      "100%|██████████| 197263/197263 [00:14<00:00, 13789.52it/s]\n",
      "  7%|▋         | 20/300 [04:47<1:07:19, 14.43s/it]"
     ]
    },
    {
     "name": "stdout",
     "output_type": "stream",
     "text": [
      "\n",
      "EVALUATION RESULTS:\n",
      "Global ELO Accuracy: 0.6618480047229269 (62673 matches)\n",
      "2025 ELO Accuracy: 0.6468857282981854 (2039 matches)\n",
      "Global ELO Surface Accuracy: 0.6551465543375935 (62673 matches)\n",
      "2025 ELO surface Accuracy: 0.6503187837175086 (2039 matches)\n",
      "\n"
     ]
    },
    {
     "name": "stderr",
     "output_type": "stream",
     "text": [
      "100%|██████████| 197263/197263 [00:14<00:00, 13837.09it/s]\n",
      "  7%|▋         | 21/300 [05:02<1:06:59, 14.41s/it]"
     ]
    },
    {
     "name": "stdout",
     "output_type": "stream",
     "text": [
      "\n",
      "EVALUATION RESULTS:\n",
      "Global ELO Accuracy: 0.6614650647009079 (62673 matches)\n",
      "2025 ELO Accuracy: 0.6488474742520843 (2039 matches)\n",
      "Global ELO Surface Accuracy: 0.6552422893430982 (62673 matches)\n",
      "2025 ELO surface Accuracy: 0.6517900931829328 (2039 matches)\n",
      "\n"
     ]
    },
    {
     "name": "stderr",
     "output_type": "stream",
     "text": [
      "100%|██████████| 197263/197263 [00:14<00:00, 13949.92it/s]\n",
      "  7%|▋         | 22/300 [05:16<1:06:31, 14.36s/it]"
     ]
    },
    {
     "name": "stdout",
     "output_type": "stream",
     "text": [
      "\n",
      "EVALUATION RESULTS:\n",
      "Global ELO Accuracy: 0.6616724905461682 (62673 matches)\n",
      "2025 ELO Accuracy: 0.6473761647866602 (2039 matches)\n",
      "Global ELO Surface Accuracy: 0.6553699360171047 (62673 matches)\n",
      "2025 ELO surface Accuracy: 0.6488474742520843 (2039 matches)\n",
      "\n"
     ]
    },
    {
     "name": "stderr",
     "output_type": "stream",
     "text": [
      "100%|██████████| 197263/197263 [00:14<00:00, 13997.52it/s]\n",
      "  8%|▊         | 23/300 [05:30<1:06:03, 14.31s/it]"
     ]
    },
    {
     "name": "stdout",
     "output_type": "stream",
     "text": [
      "\n",
      "EVALUATION RESULTS:\n",
      "Global ELO Accuracy: 0.6619756513969333 (62673 matches)\n",
      "2025 ELO Accuracy: 0.6488474742520843 (2039 matches)\n",
      "Global ELO Surface Accuracy: 0.656119860226892 (62673 matches)\n",
      "2025 ELO surface Accuracy: 0.6562040215792055 (2039 matches)\n",
      "\n"
     ]
    },
    {
     "name": "stderr",
     "output_type": "stream",
     "text": [
      "100%|██████████| 197263/197263 [00:14<00:00, 13982.35it/s]\n",
      "  8%|▊         | 24/300 [05:44<1:05:41, 14.28s/it]"
     ]
    },
    {
     "name": "stdout",
     "output_type": "stream",
     "text": [
      "\n",
      "EVALUATION RESULTS:\n",
      "Global ELO Accuracy: 0.6613214621926508 (62673 matches)\n",
      "2025 ELO Accuracy: 0.6503187837175086 (2039 matches)\n",
      "Global ELO Surface Accuracy: 0.6556571410336189 (62673 matches)\n",
      "2025 ELO surface Accuracy: 0.6532614026483571 (2039 matches)\n",
      "\n"
     ]
    },
    {
     "name": "stderr",
     "output_type": "stream",
     "text": [
      "100%|██████████| 197263/197263 [00:14<00:00, 14051.58it/s]\n",
      "  8%|▊         | 25/300 [05:58<1:05:15, 14.24s/it]"
     ]
    },
    {
     "name": "stdout",
     "output_type": "stream",
     "text": [
      "\n",
      "EVALUATION RESULTS:\n",
      "Global ELO Accuracy: 0.6614969763694095 (62673 matches)\n",
      "2025 ELO Accuracy: 0.6405100539480137 (2039 matches)\n",
      "Global ELO Surface Accuracy: 0.6546678793100698 (62673 matches)\n",
      "2025 ELO surface Accuracy: 0.6468857282981854 (2039 matches)\n",
      "\n"
     ]
    },
    {
     "name": "stderr",
     "output_type": "stream",
     "text": [
      "100%|██████████| 197263/197263 [00:14<00:00, 13997.00it/s]\n",
      "  9%|▊         | 26/300 [06:13<1:04:57, 14.23s/it]"
     ]
    },
    {
     "name": "stdout",
     "output_type": "stream",
     "text": [
      "\n",
      "EVALUATION RESULTS:\n",
      "Global ELO Accuracy: 0.658050516171238 (62673 matches)\n",
      "2025 ELO Accuracy: 0.6444335458558117 (2039 matches)\n",
      "Global ELO Surface Accuracy: 0.6470250347039395 (62673 matches)\n",
      "2025 ELO surface Accuracy: 0.6351152525747915 (2039 matches)\n",
      "\n"
     ]
    },
    {
     "name": "stderr",
     "output_type": "stream",
     "text": [
      "100%|██████████| 197263/197263 [00:14<00:00, 14010.80it/s]\n",
      "  9%|▉         | 27/300 [06:27<1:04:40, 14.21s/it]"
     ]
    },
    {
     "name": "stdout",
     "output_type": "stream",
     "text": [
      "\n",
      "EVALUATION RESULTS:\n",
      "Global ELO Accuracy: 0.6613214621926508 (62673 matches)\n",
      "2025 ELO Accuracy: 0.6419813634134379 (2039 matches)\n",
      "Global ELO Surface Accuracy: 0.6527691350342253 (62673 matches)\n",
      "2025 ELO surface Accuracy: 0.6463952918097107 (2039 matches)\n",
      "\n"
     ]
    },
    {
     "name": "stderr",
     "output_type": "stream",
     "text": [
      "100%|██████████| 197263/197263 [00:14<00:00, 13917.03it/s]\n",
      "  9%|▉         | 28/300 [06:41<1:04:30, 14.23s/it]"
     ]
    },
    {
     "name": "stdout",
     "output_type": "stream",
     "text": [
      "\n",
      "EVALUATION RESULTS:\n",
      "Global ELO Accuracy: 0.6619277838941809 (62673 matches)\n",
      "2025 ELO Accuracy: 0.6473761647866602 (2039 matches)\n",
      "Global ELO Surface Accuracy: 0.6548912609895808 (62673 matches)\n",
      "2025 ELO surface Accuracy: 0.6493379107405591 (2039 matches)\n",
      "\n"
     ]
    },
    {
     "name": "stderr",
     "output_type": "stream",
     "text": [
      "100%|██████████| 197263/197263 [00:14<00:00, 13948.78it/s]\n",
      " 10%|▉         | 29/300 [06:55<1:04:18, 14.24s/it]"
     ]
    },
    {
     "name": "stdout",
     "output_type": "stream",
     "text": [
      "\n",
      "EVALUATION RESULTS:\n",
      "Global ELO Accuracy: 0.6619437397284317 (62673 matches)\n",
      "2025 ELO Accuracy: 0.6429622363903874 (2039 matches)\n",
      "Global ELO Surface Accuracy: 0.6549072168238317 (62673 matches)\n",
      "2025 ELO surface Accuracy: 0.6468857282981854 (2039 matches)\n",
      "\n"
     ]
    },
    {
     "name": "stderr",
     "output_type": "stream",
     "text": [
      "100%|██████████| 197263/197263 [00:14<00:00, 14080.32it/s]\n",
      " 10%|█         | 30/300 [07:09<1:03:54, 14.20s/it]"
     ]
    },
    {
     "name": "stdout",
     "output_type": "stream",
     "text": [
      "\n",
      "EVALUATION RESULTS:\n",
      "Global ELO Accuracy: 0.6615927113749143 (62673 matches)\n",
      "2025 ELO Accuracy: 0.6468857282981854 (2039 matches)\n",
      "Global ELO Surface Accuracy: 0.6551784660060951 (62673 matches)\n",
      "2025 ELO surface Accuracy: 0.6468857282981854 (2039 matches)\n",
      "\n"
     ]
    },
    {
     "name": "stderr",
     "output_type": "stream",
     "text": [
      "100%|██████████| 197263/197263 [00:14<00:00, 14004.65it/s]\n",
      " 10%|█         | 31/300 [07:24<1:03:39, 14.20s/it]"
     ]
    },
    {
     "name": "stdout",
     "output_type": "stream",
     "text": [
      "\n",
      "EVALUATION RESULTS:\n",
      "Global ELO Accuracy: 0.6605236704801111 (62673 matches)\n",
      "2025 ELO Accuracy: 0.6483570377636096 (2039 matches)\n",
      "Global ELO Surface Accuracy: 0.6556890527021205 (62673 matches)\n",
      "2025 ELO surface Accuracy: 0.6532614026483571 (2039 matches)\n",
      "\n"
     ]
    },
    {
     "name": "stderr",
     "output_type": "stream",
     "text": [
      "100%|██████████| 197263/197263 [00:14<00:00, 13853.26it/s]\n",
      " 11%|█         | 32/300 [07:38<1:03:36, 14.24s/it]"
     ]
    },
    {
     "name": "stdout",
     "output_type": "stream",
     "text": [
      "\n",
      "EVALUATION RESULTS:\n",
      "Global ELO Accuracy: 0.6618320488886762 (62673 matches)\n",
      "2025 ELO Accuracy: 0.6488474742520843 (2039 matches)\n",
      "Global ELO Surface Accuracy: 0.6553220685143523 (62673 matches)\n",
      "2025 ELO surface Accuracy: 0.6522805296714076 (2039 matches)\n",
      "\n"
     ]
    },
    {
     "name": "stderr",
     "output_type": "stream",
     "text": [
      "100%|██████████| 197263/197263 [00:14<00:00, 13963.63it/s]\n",
      " 11%|█         | 33/300 [07:52<1:03:21, 14.24s/it]"
     ]
    },
    {
     "name": "stdout",
     "output_type": "stream",
     "text": [
      "\n",
      "EVALUATION RESULTS:\n",
      "Global ELO Accuracy: 0.6610980805131397 (62673 matches)\n",
      "2025 ELO Accuracy: 0.6468857282981854 (2039 matches)\n",
      "Global ELO Surface Accuracy: 0.6548433934868284 (62673 matches)\n",
      "2025 ELO surface Accuracy: 0.6463952918097107 (2039 matches)\n",
      "\n"
     ]
    },
    {
     "name": "stderr",
     "output_type": "stream",
     "text": [
      "100%|██████████| 197263/197263 [00:14<00:00, 13656.64it/s]\n",
      " 11%|█▏        | 34/300 [08:07<1:03:31, 14.33s/it]"
     ]
    },
    {
     "name": "stdout",
     "output_type": "stream",
     "text": [
      "\n",
      "EVALUATION RESULTS:\n",
      "Global ELO Accuracy: 0.6613533738611523 (62673 matches)\n",
      "2025 ELO Accuracy: 0.6459048553212359 (2039 matches)\n",
      "Global ELO Surface Accuracy: 0.6545561884703142 (62673 matches)\n",
      "2025 ELO surface Accuracy: 0.6439431093673369 (2039 matches)\n",
      "\n"
     ]
    },
    {
     "name": "stderr",
     "output_type": "stream",
     "text": [
      "100%|██████████| 197263/197263 [00:14<00:00, 13998.95it/s]\n",
      " 12%|█▏        | 35/300 [08:21<1:03:06, 14.29s/it]"
     ]
    },
    {
     "name": "stdout",
     "output_type": "stream",
     "text": [
      "\n",
      "EVALUATION RESULTS:\n",
      "Global ELO Accuracy: 0.6612895505241492 (62673 matches)\n",
      "2025 ELO Accuracy: 0.6517900931829328 (2039 matches)\n",
      "Global ELO Surface Accuracy: 0.6550986868348412 (62673 matches)\n",
      "2025 ELO surface Accuracy: 0.6537518391368318 (2039 matches)\n",
      "\n"
     ]
    },
    {
     "name": "stderr",
     "output_type": "stream",
     "text": [
      "100%|██████████| 197263/197263 [00:14<00:00, 13890.45it/s]\n",
      " 12%|█▏        | 36/300 [08:35<1:02:53, 14.29s/it]"
     ]
    },
    {
     "name": "stdout",
     "output_type": "stream",
     "text": [
      "\n",
      "EVALUATION RESULTS:\n",
      "Global ELO Accuracy: 0.6620554305681873 (62673 matches)\n",
      "2025 ELO Accuracy: 0.6488474742520843 (2039 matches)\n",
      "Global ELO Surface Accuracy: 0.6562634627351491 (62673 matches)\n",
      "2025 ELO surface Accuracy: 0.6557135850907307 (2039 matches)\n",
      "\n"
     ]
    },
    {
     "name": "stderr",
     "output_type": "stream",
     "text": [
      "100%|██████████| 197263/197263 [00:14<00:00, 13988.34it/s]\n",
      " 12%|█▏        | 37/300 [08:49<1:02:32, 14.27s/it]"
     ]
    },
    {
     "name": "stdout",
     "output_type": "stream",
     "text": [
      "\n",
      "EVALUATION RESULTS:\n",
      "Global ELO Accuracy: 0.656423021077657 (62673 matches)\n",
      "2025 ELO Accuracy: 0.6385483079941148 (2039 matches)\n",
      "Global ELO Surface Accuracy: 0.6474079747259586 (62673 matches)\n",
      "2025 ELO surface Accuracy: 0.6410004904364884 (2039 matches)\n",
      "\n"
     ]
    },
    {
     "name": "stderr",
     "output_type": "stream",
     "text": [
      "100%|██████████| 197263/197263 [00:14<00:00, 13965.43it/s]\n",
      " 13%|█▎        | 38/300 [09:04<1:02:15, 14.26s/it]"
     ]
    },
    {
     "name": "stdout",
     "output_type": "stream",
     "text": [
      "\n",
      "EVALUATION RESULTS:\n",
      "Global ELO Accuracy: 0.6620235188996857 (62673 matches)\n",
      "2025 ELO Accuracy: 0.6459048553212359 (2039 matches)\n",
      "Global ELO Surface Accuracy: 0.6567261819284221 (62673 matches)\n",
      "2025 ELO surface Accuracy: 0.6527709661598823 (2039 matches)\n",
      "\n"
     ]
    },
    {
     "name": "stderr",
     "output_type": "stream",
     "text": [
      "100%|██████████| 197263/197263 [00:14<00:00, 13945.80it/s]\n",
      " 13%|█▎        | 39/300 [09:18<1:02:00, 14.25s/it]"
     ]
    },
    {
     "name": "stdout",
     "output_type": "stream",
     "text": [
      "\n",
      "EVALUATION RESULTS:\n",
      "Global ELO Accuracy: 0.6615607997064127 (62673 matches)\n",
      "2025 ELO Accuracy: 0.6463952918097107 (2039 matches)\n",
      "Global ELO Surface Accuracy: 0.656423021077657 (62673 matches)\n",
      "2025 ELO surface Accuracy: 0.6503187837175086 (2039 matches)\n",
      "\n"
     ]
    },
    {
     "name": "stderr",
     "output_type": "stream",
     "text": [
      "100%|██████████| 197263/197263 [00:14<00:00, 13974.47it/s]\n",
      " 13%|█▎        | 40/300 [09:32<1:01:43, 14.24s/it]"
     ]
    },
    {
     "name": "stdout",
     "output_type": "stream",
     "text": [
      "\n",
      "EVALUATION RESULTS:\n",
      "Global ELO Accuracy: 0.6621032980709396 (62673 matches)\n",
      "2025 ELO Accuracy: 0.6439431093673369 (2039 matches)\n",
      "Global ELO Surface Accuracy: 0.6544764092990601 (62673 matches)\n",
      "2025 ELO surface Accuracy: 0.6473761647866602 (2039 matches)\n",
      "\n"
     ]
    },
    {
     "name": "stderr",
     "output_type": "stream",
     "text": [
      "100%|██████████| 197263/197263 [00:14<00:00, 13966.33it/s]\n",
      " 14%|█▎        | 41/300 [09:46<1:01:27, 14.24s/it]"
     ]
    },
    {
     "name": "stdout",
     "output_type": "stream",
     "text": [
      "\n",
      "EVALUATION RESULTS:\n",
      "Global ELO Accuracy: 0.6615767555406634 (62673 matches)\n",
      "2025 ELO Accuracy: 0.6410004904364884 (2039 matches)\n",
      "Global ELO Surface Accuracy: 0.6553858918513554 (62673 matches)\n",
      "2025 ELO surface Accuracy: 0.6478666012751348 (2039 matches)\n",
      "\n"
     ]
    },
    {
     "name": "stderr",
     "output_type": "stream",
     "text": [
      "100%|██████████| 197263/197263 [00:14<00:00, 13984.56it/s]\n",
      " 14%|█▍        | 42/300 [10:01<1:01:11, 14.23s/it]"
     ]
    },
    {
     "name": "stdout",
     "output_type": "stream",
     "text": [
      "\n",
      "EVALUATION RESULTS:\n",
      "Global ELO Accuracy: 0.6592312479057968 (62673 matches)\n",
      "2025 ELO Accuracy: 0.6439431093673369 (2039 matches)\n",
      "Global ELO Surface Accuracy: 0.65185965248193 (62673 matches)\n",
      "2025 ELO surface Accuracy: 0.6454144188327612 (2039 matches)\n",
      "\n"
     ]
    },
    {
     "name": "stderr",
     "output_type": "stream",
     "text": [
      "100%|██████████| 197263/197263 [00:14<00:00, 13950.20it/s]\n",
      " 14%|█▍        | 43/300 [10:15<1:00:58, 14.23s/it]"
     ]
    },
    {
     "name": "stdout",
     "output_type": "stream",
     "text": [
      "\n",
      "EVALUATION RESULTS:\n",
      "Global ELO Accuracy: 0.6529765608794856 (62673 matches)\n",
      "2025 ELO Accuracy: 0.6375674350171653 (2039 matches)\n",
      "Global ELO Surface Accuracy: 0.6457007004611236 (62673 matches)\n",
      "2025 ELO surface Accuracy: 0.6434526728788622 (2039 matches)\n",
      "\n"
     ]
    },
    {
     "name": "stderr",
     "output_type": "stream",
     "text": [
      "100%|██████████| 197263/197263 [00:14<00:00, 13954.60it/s]\n",
      " 15%|█▍        | 44/300 [10:29<1:00:44, 14.24s/it]"
     ]
    },
    {
     "name": "stdout",
     "output_type": "stream",
     "text": [
      "\n",
      "EVALUATION RESULTS:\n",
      "Global ELO Accuracy: 0.661225727187146 (62673 matches)\n",
      "2025 ELO Accuracy: 0.6468857282981854 (2039 matches)\n",
      "Global ELO Surface Accuracy: 0.6537743525920253 (62673 matches)\n",
      "2025 ELO surface Accuracy: 0.6434526728788622 (2039 matches)\n",
      "\n"
     ]
    },
    {
     "name": "stderr",
     "output_type": "stream",
     "text": [
      "100%|██████████| 197263/197263 [00:14<00:00, 13961.93it/s]\n",
      " 15%|█▌        | 45/300 [10:43<1:00:29, 14.24s/it]"
     ]
    },
    {
     "name": "stdout",
     "output_type": "stream",
     "text": [
      "\n",
      "EVALUATION RESULTS:\n",
      "Global ELO Accuracy: 0.6618001372201746 (62673 matches)\n",
      "2025 ELO Accuracy: 0.6439431093673369 (2039 matches)\n",
      "Global ELO Surface Accuracy: 0.6550029518293364 (62673 matches)\n",
      "2025 ELO surface Accuracy: 0.6459048553212359 (2039 matches)\n",
      "\n"
     ]
    },
    {
     "name": "stderr",
     "output_type": "stream",
     "text": [
      "100%|██████████| 197263/197263 [00:14<00:00, 13986.83it/s]\n",
      " 15%|█▌        | 46/300 [10:57<1:00:13, 14.23s/it]"
     ]
    },
    {
     "name": "stdout",
     "output_type": "stream",
     "text": [
      "\n",
      "EVALUATION RESULTS:\n",
      "Global ELO Accuracy: 0.6609225663363809 (62673 matches)\n",
      "2025 ELO Accuracy: 0.6468857282981854 (2039 matches)\n",
      "Global ELO Surface Accuracy: 0.6534552359070094 (62673 matches)\n",
      "2025 ELO surface Accuracy: 0.6449239823442864 (2039 matches)\n",
      "\n"
     ]
    },
    {
     "name": "stderr",
     "output_type": "stream",
     "text": [
      "100%|██████████| 197263/197263 [00:14<00:00, 13989.40it/s]\n",
      " 16%|█▌        | 47/300 [11:12<59:57, 14.22s/it]  "
     ]
    },
    {
     "name": "stdout",
     "output_type": "stream",
     "text": [
      "\n",
      "EVALUATION RESULTS:\n",
      "Global ELO Accuracy: 0.6617522697174222 (62673 matches)\n",
      "2025 ELO Accuracy: 0.6478666012751348 (2039 matches)\n",
      "Global ELO Surface Accuracy: 0.6556571410336189 (62673 matches)\n",
      "2025 ELO surface Accuracy: 0.6517900931829328 (2039 matches)\n",
      "\n"
     ]
    },
    {
     "name": "stderr",
     "output_type": "stream",
     "text": [
      "100%|██████████| 197263/197263 [00:14<00:00, 13995.82it/s]\n",
      " 16%|█▌        | 48/300 [11:26<59:41, 14.21s/it]"
     ]
    },
    {
     "name": "stdout",
     "output_type": "stream",
     "text": [
      "\n",
      "EVALUATION RESULTS:\n",
      "Global ELO Accuracy: 0.6617841813859238 (62673 matches)\n",
      "2025 ELO Accuracy: 0.6405100539480137 (2039 matches)\n",
      "Global ELO Surface Accuracy: 0.6557209643706221 (62673 matches)\n",
      "2025 ELO surface Accuracy: 0.6478666012751348 (2039 matches)\n",
      "\n"
     ]
    },
    {
     "name": "stderr",
     "output_type": "stream",
     "text": [
      "100%|██████████| 197263/197263 [00:14<00:00, 13917.46it/s]\n",
      " 16%|█▋        | 49/300 [11:40<59:32, 14.23s/it]"
     ]
    },
    {
     "name": "stdout",
     "output_type": "stream",
     "text": [
      "\n",
      "EVALUATION RESULTS:\n",
      "Global ELO Accuracy: 0.6613055063583999 (62673 matches)\n",
      "2025 ELO Accuracy: 0.6449239823442864 (2039 matches)\n",
      "Global ELO Surface Accuracy: 0.6525457533547141 (62673 matches)\n",
      "2025 ELO surface Accuracy: 0.6439431093673369 (2039 matches)\n",
      "\n"
     ]
    },
    {
     "name": "stderr",
     "output_type": "stream",
     "text": [
      "100%|██████████| 197263/197263 [00:14<00:00, 13951.80it/s]\n",
      " 17%|█▋        | 50/300 [11:54<59:18, 14.24s/it]"
     ]
    },
    {
     "name": "stdout",
     "output_type": "stream",
     "text": [
      "\n",
      "EVALUATION RESULTS:\n",
      "Global ELO Accuracy: 0.6616565347119174 (62673 matches)\n",
      "2025 ELO Accuracy: 0.6454144188327612 (2039 matches)\n",
      "Global ELO Surface Accuracy: 0.655417803519857 (62673 matches)\n",
      "2025 ELO surface Accuracy: 0.6503187837175086 (2039 matches)\n",
      "\n"
     ]
    },
    {
     "name": "stderr",
     "output_type": "stream",
     "text": [
      "100%|██████████| 197263/197263 [00:14<00:00, 13956.42it/s]\n",
      " 17%|█▋        | 51/300 [12:09<59:04, 14.24s/it]"
     ]
    },
    {
     "name": "stdout",
     "output_type": "stream",
     "text": [
      "\n",
      "EVALUATION RESULTS:\n",
      "Global ELO Accuracy: 0.6531361192219935 (62673 matches)\n",
      "2025 ELO Accuracy: 0.6321726336439432 (2039 matches)\n",
      "Global ELO Surface Accuracy: 0.6419670352464378 (62673 matches)\n",
      "2025 ELO surface Accuracy: 0.6336439431093673 (2039 matches)\n",
      "\n"
     ]
    },
    {
     "name": "stderr",
     "output_type": "stream",
     "text": [
      "100%|██████████| 197263/197263 [00:14<00:00, 13946.15it/s]\n",
      " 17%|█▋        | 52/300 [12:23<58:51, 14.24s/it]"
     ]
    },
    {
     "name": "stdout",
     "output_type": "stream",
     "text": [
      "\n",
      "EVALUATION RESULTS:\n",
      "Global ELO Accuracy: 0.6617203580489206 (62673 matches)\n",
      "2025 ELO Accuracy: 0.6395291809710643 (2039 matches)\n",
      "Global ELO Surface Accuracy: 0.6536307500837681 (62673 matches)\n",
      "2025 ELO surface Accuracy: 0.6512996566944581 (2039 matches)\n",
      "\n"
     ]
    },
    {
     "name": "stderr",
     "output_type": "stream",
     "text": [
      "100%|██████████| 197263/197263 [00:14<00:00, 13852.97it/s]\n",
      " 18%|█▊        | 53/300 [12:37<58:44, 14.27s/it]"
     ]
    },
    {
     "name": "stdout",
     "output_type": "stream",
     "text": [
      "\n",
      "EVALUATION RESULTS:\n",
      "Global ELO Accuracy: 0.656119860226892 (62673 matches)\n",
      "2025 ELO Accuracy: 0.6414909269249632 (2039 matches)\n",
      "Global ELO Surface Accuracy: 0.6454613629473617 (62673 matches)\n",
      "2025 ELO surface Accuracy: 0.6326630701324178 (2039 matches)\n",
      "\n"
     ]
    },
    {
     "name": "stderr",
     "output_type": "stream",
     "text": [
      "100%|██████████| 197263/197263 [00:14<00:00, 13875.64it/s]\n",
      " 18%|█▊        | 54/300 [12:52<58:34, 14.29s/it]"
     ]
    },
    {
     "name": "stdout",
     "output_type": "stream",
     "text": [
      "\n",
      "EVALUATION RESULTS:\n",
      "Global ELO Accuracy: 0.6620394747339364 (62673 matches)\n",
      "2025 ELO Accuracy: 0.6424717999019127 (2039 matches)\n",
      "Global ELO Surface Accuracy: 0.6543168509565522 (62673 matches)\n",
      "2025 ELO surface Accuracy: 0.6459048553212359 (2039 matches)\n",
      "\n"
     ]
    },
    {
     "name": "stderr",
     "output_type": "stream",
     "text": [
      "100%|██████████| 197263/197263 [00:14<00:00, 13950.78it/s]\n",
      " 18%|█▊        | 55/300 [13:06<58:16, 14.27s/it]"
     ]
    },
    {
     "name": "stdout",
     "output_type": "stream",
     "text": [
      "\n",
      "EVALUATION RESULTS:\n",
      "Global ELO Accuracy: 0.6616246230434158 (62673 matches)\n",
      "2025 ELO Accuracy: 0.6410004904364884 (2039 matches)\n",
      "Global ELO Surface Accuracy: 0.6534552359070094 (62673 matches)\n",
      "2025 ELO surface Accuracy: 0.6478666012751348 (2039 matches)\n",
      "\n"
     ]
    },
    {
     "name": "stderr",
     "output_type": "stream",
     "text": [
      "100%|██████████| 197263/197263 [00:14<00:00, 13963.78it/s]\n",
      " 19%|█▊        | 56/300 [13:20<57:59, 14.26s/it]"
     ]
    },
    {
     "name": "stdout",
     "output_type": "stream",
     "text": [
      "\n",
      "EVALUATION RESULTS:\n",
      "Global ELO Accuracy: 0.6614650647009079 (62673 matches)\n",
      "2025 ELO Accuracy: 0.6419813634134379 (2039 matches)\n",
      "Global ELO Surface Accuracy: 0.6537583967577745 (62673 matches)\n",
      "2025 ELO surface Accuracy: 0.6434526728788622 (2039 matches)\n",
      "\n"
     ]
    },
    {
     "name": "stderr",
     "output_type": "stream",
     "text": [
      "100%|██████████| 197263/197263 [00:14<00:00, 13840.75it/s]\n",
      " 19%|█▉        | 57/300 [13:34<57:52, 14.29s/it]"
     ]
    },
    {
     "name": "stdout",
     "output_type": "stream",
     "text": [
      "\n",
      "EVALUATION RESULTS:\n",
      "Global ELO Accuracy: 0.6615129322036603 (62673 matches)\n",
      "2025 ELO Accuracy: 0.6419813634134379 (2039 matches)\n",
      "Global ELO Surface Accuracy: 0.651939431653184 (62673 matches)\n",
      "2025 ELO surface Accuracy: 0.6473761647866602 (2039 matches)\n",
      "\n"
     ]
    },
    {
     "name": "stderr",
     "output_type": "stream",
     "text": [
      "100%|██████████| 197263/197263 [00:14<00:00, 13902.24it/s]\n",
      " 19%|█▉        | 58/300 [13:49<57:38, 14.29s/it]"
     ]
    },
    {
     "name": "stdout",
     "output_type": "stream",
     "text": [
      "\n",
      "EVALUATION RESULTS:\n",
      "Global ELO Accuracy: 0.6619437397284317 (62673 matches)\n",
      "2025 ELO Accuracy: 0.6483570377636096 (2039 matches)\n",
      "Global ELO Surface Accuracy: 0.6554018476856063 (62673 matches)\n",
      "2025 ELO surface Accuracy: 0.6517900931829328 (2039 matches)\n",
      "\n"
     ]
    },
    {
     "name": "stderr",
     "output_type": "stream",
     "text": [
      "100%|██████████| 197263/197263 [00:14<00:00, 13775.76it/s]\n",
      " 20%|█▉        | 59/300 [14:03<57:33, 14.33s/it]"
     ]
    },
    {
     "name": "stdout",
     "output_type": "stream",
     "text": [
      "\n",
      "EVALUATION RESULTS:\n",
      "Global ELO Accuracy: 0.6624543264244571 (62673 matches)\n",
      "2025 ELO Accuracy: 0.6473761647866602 (2039 matches)\n",
      "Global ELO Surface Accuracy: 0.6572686802929492 (62673 matches)\n",
      "2025 ELO surface Accuracy: 0.6542422756253066 (2039 matches)\n",
      "\n"
     ]
    },
    {
     "name": "stderr",
     "output_type": "stream",
     "text": [
      "100%|██████████| 197263/197263 [00:14<00:00, 13942.83it/s]\n",
      " 20%|██        | 60/300 [14:17<57:13, 14.31s/it]"
     ]
    },
    {
     "name": "stdout",
     "output_type": "stream",
     "text": [
      "\n",
      "EVALUATION RESULTS:\n",
      "Global ELO Accuracy: 0.6615129322036603 (62673 matches)\n",
      "2025 ELO Accuracy: 0.6424717999019127 (2039 matches)\n",
      "Global ELO Surface Accuracy: 0.6524500183492093 (62673 matches)\n",
      "2025 ELO surface Accuracy: 0.6434526728788622 (2039 matches)\n",
      "\n"
     ]
    },
    {
     "name": "stderr",
     "output_type": "stream",
     "text": [
      "100%|██████████| 197263/197263 [00:14<00:00, 13851.76it/s]\n",
      " 20%|██        | 61/300 [14:32<57:02, 14.32s/it]"
     ]
    },
    {
     "name": "stdout",
     "output_type": "stream",
     "text": [
      "\n",
      "EVALUATION RESULTS:\n",
      "Global ELO Accuracy: 0.6558645668788793 (62673 matches)\n",
      "2025 ELO Accuracy: 0.6385483079941148 (2039 matches)\n",
      "Global ELO Surface Accuracy: 0.646753785521676 (62673 matches)\n",
      "2025 ELO surface Accuracy: 0.640019617459539 (2039 matches)\n",
      "\n"
     ]
    },
    {
     "name": "stderr",
     "output_type": "stream",
     "text": [
      "100%|██████████| 197263/197263 [00:14<00:00, 13852.74it/s]\n",
      " 21%|██        | 62/300 [14:46<56:49, 14.33s/it]"
     ]
    },
    {
     "name": "stdout",
     "output_type": "stream",
     "text": [
      "\n",
      "EVALUATION RESULTS:\n",
      "Global ELO Accuracy: 0.6611778596843936 (62673 matches)\n",
      "2025 ELO Accuracy: 0.6424717999019127 (2039 matches)\n",
      "Global ELO Surface Accuracy: 0.6521309016641935 (62673 matches)\n",
      "2025 ELO surface Accuracy: 0.6454144188327612 (2039 matches)\n",
      "\n"
     ]
    },
    {
     "name": "stderr",
     "output_type": "stream",
     "text": [
      "100%|██████████| 197263/197263 [00:14<00:00, 13946.52it/s]\n",
      " 21%|██        | 63/300 [15:00<56:29, 14.30s/it]"
     ]
    },
    {
     "name": "stdout",
     "output_type": "stream",
     "text": [
      "\n",
      "EVALUATION RESULTS:\n",
      "Global ELO Accuracy: 0.639015205910041 (62673 matches)\n",
      "2025 ELO Accuracy: 0.6243256498283473 (2039 matches)\n",
      "Global ELO Surface Accuracy: 0.633446619756514 (62673 matches)\n",
      "2025 ELO surface Accuracy: 0.6287395782246199 (2039 matches)\n",
      "\n"
     ]
    },
    {
     "name": "stderr",
     "output_type": "stream",
     "text": [
      "100%|██████████| 197263/197263 [00:14<00:00, 13920.54it/s]\n",
      " 21%|██▏       | 64/300 [15:15<56:13, 14.30s/it]"
     ]
    },
    {
     "name": "stdout",
     "output_type": "stream",
     "text": [
      "\n",
      "EVALUATION RESULTS:\n",
      "Global ELO Accuracy: 0.6520670783271904 (62673 matches)\n",
      "2025 ELO Accuracy: 0.636096125551741 (2039 matches)\n",
      "Global ELO Surface Accuracy: 0.6438338678537807 (62673 matches)\n",
      "2025 ELO surface Accuracy: 0.636096125551741 (2039 matches)\n",
      "\n"
     ]
    },
    {
     "name": "stderr",
     "output_type": "stream",
     "text": [
      "100%|██████████| 197263/197263 [00:14<00:00, 13868.11it/s]\n",
      " 22%|██▏       | 65/300 [15:29<56:01, 14.31s/it]"
     ]
    },
    {
     "name": "stdout",
     "output_type": "stream",
     "text": [
      "\n",
      "EVALUATION RESULTS:\n",
      "Global ELO Accuracy: 0.6494024540073078 (62673 matches)\n",
      "2025 ELO Accuracy: 0.6307013241785189 (2039 matches)\n",
      "Global ELO Surface Accuracy: 0.6416957860641743 (62673 matches)\n",
      "2025 ELO surface Accuracy: 0.6326630701324178 (2039 matches)\n",
      "\n"
     ]
    },
    {
     "name": "stderr",
     "output_type": "stream",
     "text": [
      "100%|██████████| 197263/197263 [00:14<00:00, 14025.46it/s]\n",
      " 22%|██▏       | 66/300 [15:43<55:37, 14.26s/it]"
     ]
    },
    {
     "name": "stdout",
     "output_type": "stream",
     "text": [
      "\n",
      "EVALUATION RESULTS:\n",
      "Global ELO Accuracy: 0.6572527244586983 (62673 matches)\n",
      "2025 ELO Accuracy: 0.6439431093673369 (2039 matches)\n",
      "Global ELO Surface Accuracy: 0.6475356213999649 (62673 matches)\n",
      "2025 ELO surface Accuracy: 0.6385483079941148 (2039 matches)\n",
      "\n"
     ]
    },
    {
     "name": "stderr",
     "output_type": "stream",
     "text": [
      "100%|██████████| 197263/197263 [00:14<00:00, 13884.13it/s]\n",
      " 22%|██▏       | 67/300 [15:57<55:26, 14.28s/it]"
     ]
    },
    {
     "name": "stdout",
     "output_type": "stream",
     "text": [
      "\n",
      "EVALUATION RESULTS:\n",
      "Global ELO Accuracy: 0.6607949196623746 (62673 matches)\n",
      "2025 ELO Accuracy: 0.6483570377636096 (2039 matches)\n",
      "Global ELO Surface Accuracy: 0.655960301884384 (62673 matches)\n",
      "2025 ELO surface Accuracy: 0.6517900931829328 (2039 matches)\n",
      "\n"
     ]
    },
    {
     "name": "stderr",
     "output_type": "stream",
     "text": [
      "100%|██████████| 197263/197263 [00:14<00:00, 14026.00it/s]\n",
      " 23%|██▎       | 68/300 [16:12<55:05, 14.25s/it]"
     ]
    },
    {
     "name": "stdout",
     "output_type": "stream",
     "text": [
      "\n",
      "EVALUATION RESULTS:\n",
      "Global ELO Accuracy: 0.6582738978507491 (62673 matches)\n",
      "2025 ELO Accuracy: 0.6434526728788622 (2039 matches)\n",
      "Global ELO Surface Accuracy: 0.6479345172562347 (62673 matches)\n",
      "2025 ELO surface Accuracy: 0.6395291809710643 (2039 matches)\n",
      "\n"
     ]
    },
    {
     "name": "stderr",
     "output_type": "stream",
     "text": [
      "100%|██████████| 197263/197263 [00:14<00:00, 13969.56it/s]\n",
      " 23%|██▎       | 69/300 [16:26<54:49, 14.24s/it]"
     ]
    },
    {
     "name": "stdout",
     "output_type": "stream",
     "text": [
      "\n",
      "EVALUATION RESULTS:\n",
      "Global ELO Accuracy: 0.6614810205351587 (62673 matches)\n",
      "2025 ELO Accuracy: 0.6463952918097107 (2039 matches)\n",
      "Global ELO Surface Accuracy: 0.6539977342715364 (62673 matches)\n",
      "2025 ELO surface Accuracy: 0.6459048553212359 (2039 matches)\n",
      "\n"
     ]
    },
    {
     "name": "stderr",
     "output_type": "stream",
     "text": [
      "100%|██████████| 197263/197263 [00:14<00:00, 13877.55it/s]\n",
      " 23%|██▎       | 70/300 [16:40<54:40, 14.26s/it]"
     ]
    },
    {
     "name": "stdout",
     "output_type": "stream",
     "text": [
      "\n",
      "EVALUATION RESULTS:\n",
      "Global ELO Accuracy: 0.6610502130103872 (62673 matches)\n",
      "2025 ELO Accuracy: 0.6503187837175086 (2039 matches)\n",
      "Global ELO Surface Accuracy: 0.6551305985033428 (62673 matches)\n",
      "2025 ELO surface Accuracy: 0.6498283472290338 (2039 matches)\n",
      "\n"
     ]
    },
    {
     "name": "stderr",
     "output_type": "stream",
     "text": [
      "100%|██████████| 197263/197263 [00:14<00:00, 13945.01it/s]\n",
      " 24%|██▎       | 71/300 [16:54<54:25, 14.26s/it]"
     ]
    },
    {
     "name": "stdout",
     "output_type": "stream",
     "text": [
      "\n",
      "EVALUATION RESULTS:\n",
      "Global ELO Accuracy: 0.6613533738611523 (62673 matches)\n",
      "2025 ELO Accuracy: 0.6419813634134379 (2039 matches)\n",
      "Global ELO Surface Accuracy: 0.6523702391779554 (62673 matches)\n",
      "2025 ELO surface Accuracy: 0.6434526728788622 (2039 matches)\n",
      "\n"
     ]
    },
    {
     "name": "stderr",
     "output_type": "stream",
     "text": [
      "100%|██████████| 197263/197263 [00:14<00:00, 14027.56it/s]\n",
      " 24%|██▍       | 72/300 [17:08<54:04, 14.23s/it]"
     ]
    },
    {
     "name": "stdout",
     "output_type": "stream",
     "text": [
      "\n",
      "EVALUATION RESULTS:\n",
      "Global ELO Accuracy: 0.6625979289327143 (62673 matches)\n",
      "2025 ELO Accuracy: 0.6459048553212359 (2039 matches)\n",
      "Global ELO Surface Accuracy: 0.6566942702599206 (62673 matches)\n",
      "2025 ELO surface Accuracy: 0.6542422756253066 (2039 matches)\n",
      "\n"
     ]
    },
    {
     "name": "stderr",
     "output_type": "stream",
     "text": [
      "100%|██████████| 197263/197263 [00:14<00:00, 14050.24it/s]\n",
      " 24%|██▍       | 73/300 [17:23<53:44, 14.20s/it]"
     ]
    },
    {
     "name": "stdout",
     "output_type": "stream",
     "text": [
      "\n",
      "EVALUATION RESULTS:\n",
      "Global ELO Accuracy: 0.6617044022146698 (62673 matches)\n",
      "2025 ELO Accuracy: 0.6414909269249632 (2039 matches)\n",
      "Global ELO Surface Accuracy: 0.6553858918513554 (62673 matches)\n",
      "2025 ELO surface Accuracy: 0.6473761647866602 (2039 matches)\n",
      "\n"
     ]
    },
    {
     "name": "stderr",
     "output_type": "stream",
     "text": [
      "100%|██████████| 197263/197263 [00:14<00:00, 14039.18it/s]\n",
      " 25%|██▍       | 74/300 [17:37<53:26, 14.19s/it]"
     ]
    },
    {
     "name": "stdout",
     "output_type": "stream",
     "text": [
      "\n",
      "EVALUATION RESULTS:\n",
      "Global ELO Accuracy: 0.6619437397284317 (62673 matches)\n",
      "2025 ELO Accuracy: 0.6483570377636096 (2039 matches)\n",
      "Global ELO Surface Accuracy: 0.6553699360171047 (62673 matches)\n",
      "2025 ELO surface Accuracy: 0.6527709661598823 (2039 matches)\n",
      "\n"
     ]
    },
    {
     "name": "stderr",
     "output_type": "stream",
     "text": [
      "100%|██████████| 197263/197263 [00:14<00:00, 13946.94it/s]\n",
      " 25%|██▌       | 75/300 [17:51<53:16, 14.21s/it]"
     ]
    },
    {
     "name": "stdout",
     "output_type": "stream",
     "text": [
      "\n",
      "EVALUATION RESULTS:\n",
      "Global ELO Accuracy: 0.6609863896733841 (62673 matches)\n",
      "2025 ELO Accuracy: 0.6493379107405591 (2039 matches)\n",
      "Global ELO Surface Accuracy: 0.6538700875975301 (62673 matches)\n",
      "2025 ELO surface Accuracy: 0.6468857282981854 (2039 matches)\n",
      "\n"
     ]
    },
    {
     "name": "stderr",
     "output_type": "stream",
     "text": [
      "100%|██████████| 197263/197263 [00:14<00:00, 14031.82it/s]\n",
      " 25%|██▌       | 76/300 [18:05<52:59, 14.19s/it]"
     ]
    },
    {
     "name": "stdout",
     "output_type": "stream",
     "text": [
      "\n",
      "EVALUATION RESULTS:\n",
      "Global ELO Accuracy: 0.6623585914189524 (62673 matches)\n",
      "2025 ELO Accuracy: 0.6473761647866602 (2039 matches)\n",
      "Global ELO Surface Accuracy: 0.6568219169339269 (62673 matches)\n",
      "2025 ELO surface Accuracy: 0.6532614026483571 (2039 matches)\n",
      "\n"
     ]
    },
    {
     "name": "stderr",
     "output_type": "stream",
     "text": [
      "100%|██████████| 197263/197263 [00:14<00:00, 14055.36it/s]\n",
      " 26%|██▌       | 77/300 [18:19<52:41, 14.18s/it]"
     ]
    },
    {
     "name": "stdout",
     "output_type": "stream",
     "text": [
      "\n",
      "EVALUATION RESULTS:\n",
      "Global ELO Accuracy: 0.6608427871651269 (62673 matches)\n",
      "2025 ELO Accuracy: 0.6493379107405591 (2039 matches)\n",
      "Global ELO Surface Accuracy: 0.6545242768018126 (62673 matches)\n",
      "2025 ELO surface Accuracy: 0.6527709661598823 (2039 matches)\n",
      "\n"
     ]
    },
    {
     "name": "stderr",
     "output_type": "stream",
     "text": [
      "100%|██████████| 197263/197263 [00:14<00:00, 14042.76it/s]\n",
      " 26%|██▌       | 78/300 [18:33<52:25, 14.17s/it]"
     ]
    },
    {
     "name": "stdout",
     "output_type": "stream",
     "text": [
      "\n",
      "EVALUATION RESULTS:\n",
      "Global ELO Accuracy: 0.6612097713528952 (62673 matches)\n",
      "2025 ELO Accuracy: 0.6488474742520843 (2039 matches)\n",
      "Global ELO Surface Accuracy: 0.6541413367797936 (62673 matches)\n",
      "2025 ELO surface Accuracy: 0.6473761647866602 (2039 matches)\n",
      "\n"
     ]
    },
    {
     "name": "stderr",
     "output_type": "stream",
     "text": [
      "100%|██████████| 197263/197263 [00:14<00:00, 14066.40it/s]\n",
      " 26%|██▋       | 79/300 [18:48<52:08, 14.16s/it]"
     ]
    },
    {
     "name": "stdout",
     "output_type": "stream",
     "text": [
      "\n",
      "EVALUATION RESULTS:\n",
      "Global ELO Accuracy: 0.6622628564134476 (62673 matches)\n",
      "2025 ELO Accuracy: 0.6478666012751348 (2039 matches)\n",
      "Global ELO Surface Accuracy: 0.6565666235859142 (62673 matches)\n",
      "2025 ELO surface Accuracy: 0.6527709661598823 (2039 matches)\n",
      "\n"
     ]
    },
    {
     "name": "stderr",
     "output_type": "stream",
     "text": [
      "100%|██████████| 197263/197263 [00:14<00:00, 13903.18it/s]\n",
      " 27%|██▋       | 80/300 [19:02<52:03, 14.20s/it]"
     ]
    },
    {
     "name": "stdout",
     "output_type": "stream",
     "text": [
      "\n",
      "EVALUATION RESULTS:\n",
      "Global ELO Accuracy: 0.6621352097394412 (62673 matches)\n",
      "2025 ELO Accuracy: 0.6414909269249632 (2039 matches)\n",
      "Global ELO Surface Accuracy: 0.654109425111292 (62673 matches)\n",
      "2025 ELO surface Accuracy: 0.6468857282981854 (2039 matches)\n",
      "\n"
     ]
    },
    {
     "name": "stderr",
     "output_type": "stream",
     "text": [
      "100%|██████████| 197263/197263 [00:14<00:00, 14040.14it/s]\n",
      " 27%|██▋       | 81/300 [19:16<51:46, 14.18s/it]"
     ]
    },
    {
     "name": "stdout",
     "output_type": "stream",
     "text": [
      "\n",
      "EVALUATION RESULTS:\n",
      "Global ELO Accuracy: 0.6386482217222728 (62673 matches)\n",
      "2025 ELO Accuracy: 0.6213830308974988 (2039 matches)\n",
      "Global ELO Surface Accuracy: 0.6314680963094156 (62673 matches)\n",
      "2025 ELO surface Accuracy: 0.6140264835703776 (2039 matches)\n",
      "\n"
     ]
    },
    {
     "name": "stderr",
     "output_type": "stream",
     "text": [
      "100%|██████████| 197263/197263 [00:13<00:00, 14091.44it/s]\n",
      " 27%|██▋       | 82/300 [19:30<51:26, 14.16s/it]"
     ]
    },
    {
     "name": "stdout",
     "output_type": "stream",
     "text": [
      "\n",
      "EVALUATION RESULTS:\n",
      "Global ELO Accuracy: 0.6616565347119174 (62673 matches)\n",
      "2025 ELO Accuracy: 0.6473761647866602 (2039 matches)\n",
      "Global ELO Surface Accuracy: 0.6566304469229174 (62673 matches)\n",
      "2025 ELO surface Accuracy: 0.6532614026483571 (2039 matches)\n",
      "\n"
     ]
    },
    {
     "name": "stderr",
     "output_type": "stream",
     "text": [
      "100%|██████████| 197263/197263 [00:14<00:00, 14077.94it/s]\n",
      " 28%|██▊       | 83/300 [19:44<51:09, 14.15s/it]"
     ]
    },
    {
     "name": "stdout",
     "output_type": "stream",
     "text": [
      "\n",
      "EVALUATION RESULTS:\n",
      "Global ELO Accuracy: 0.6615129322036603 (62673 matches)\n",
      "2025 ELO Accuracy: 0.6459048553212359 (2039 matches)\n",
      "Global ELO Surface Accuracy: 0.6542689834537999 (62673 matches)\n",
      "2025 ELO surface Accuracy: 0.6454144188327612 (2039 matches)\n",
      "\n"
     ]
    },
    {
     "name": "stderr",
     "output_type": "stream",
     "text": [
      "100%|██████████| 197263/197263 [00:14<00:00, 13990.17it/s]\n",
      " 28%|██▊       | 84/300 [19:58<50:59, 14.16s/it]"
     ]
    },
    {
     "name": "stdout",
     "output_type": "stream",
     "text": [
      "\n",
      "EVALUATION RESULTS:\n",
      "Global ELO Accuracy: 0.6617841813859238 (62673 matches)\n",
      "2025 ELO Accuracy: 0.6444335458558117 (2039 matches)\n",
      "Global ELO Surface Accuracy: 0.6547317026470729 (62673 matches)\n",
      "2025 ELO surface Accuracy: 0.6454144188327612 (2039 matches)\n",
      "\n"
     ]
    },
    {
     "name": "stderr",
     "output_type": "stream",
     "text": [
      "100%|██████████| 197263/197263 [00:14<00:00, 14052.68it/s]\n",
      " 28%|██▊       | 85/300 [20:13<50:43, 14.16s/it]"
     ]
    },
    {
     "name": "stdout",
     "output_type": "stream",
     "text": [
      "\n",
      "EVALUATION RESULTS:\n",
      "Global ELO Accuracy: 0.662071386402438 (62673 matches)\n",
      "2025 ELO Accuracy: 0.6468857282981854 (2039 matches)\n",
      "Global ELO Surface Accuracy: 0.657204856955946 (62673 matches)\n",
      "2025 ELO surface Accuracy: 0.6542422756253066 (2039 matches)\n",
      "\n"
     ]
    },
    {
     "name": "stderr",
     "output_type": "stream",
     "text": [
      "100%|██████████| 197263/197263 [00:13<00:00, 14121.17it/s]\n",
      " 29%|██▊       | 86/300 [20:27<50:24, 14.13s/it]"
     ]
    },
    {
     "name": "stdout",
     "output_type": "stream",
     "text": [
      "\n",
      "EVALUATION RESULTS:\n",
      "Global ELO Accuracy: 0.6613533738611523 (62673 matches)\n",
      "2025 ELO Accuracy: 0.6503187837175086 (2039 matches)\n",
      "Global ELO Surface Accuracy: 0.6573325036299523 (62673 matches)\n",
      "2025 ELO surface Accuracy: 0.6527709661598823 (2039 matches)\n",
      "\n"
     ]
    },
    {
     "name": "stderr",
     "output_type": "stream",
     "text": [
      "100%|██████████| 197263/197263 [00:14<00:00, 13977.65it/s]\n",
      " 29%|██▉       | 87/300 [20:41<50:15, 14.16s/it]"
     ]
    },
    {
     "name": "stdout",
     "output_type": "stream",
     "text": [
      "\n",
      "EVALUATION RESULTS:\n",
      "Global ELO Accuracy: 0.6606353613198666 (62673 matches)\n",
      "2025 ELO Accuracy: 0.6444335458558117 (2039 matches)\n",
      "Global ELO Surface Accuracy: 0.6520670783271904 (62673 matches)\n",
      "2025 ELO surface Accuracy: 0.6439431093673369 (2039 matches)\n",
      "\n"
     ]
    },
    {
     "name": "stderr",
     "output_type": "stream",
     "text": [
      "100%|██████████| 197263/197263 [00:14<00:00, 13928.59it/s]\n",
      " 29%|██▉       | 88/300 [20:55<50:08, 14.19s/it]"
     ]
    },
    {
     "name": "stdout",
     "output_type": "stream",
     "text": [
      "\n",
      "EVALUATION RESULTS:\n",
      "Global ELO Accuracy: 0.6617522697174222 (62673 matches)\n",
      "2025 ELO Accuracy: 0.6439431093673369 (2039 matches)\n",
      "Global ELO Surface Accuracy: 0.6543966301278062 (62673 matches)\n",
      "2025 ELO surface Accuracy: 0.6463952918097107 (2039 matches)\n",
      "\n"
     ]
    },
    {
     "name": "stderr",
     "output_type": "stream",
     "text": [
      "100%|██████████| 197263/197263 [00:14<00:00, 13977.53it/s]\n",
      " 30%|██▉       | 89/300 [21:09<49:55, 14.20s/it]"
     ]
    },
    {
     "name": "stdout",
     "output_type": "stream",
     "text": [
      "\n",
      "EVALUATION RESULTS:\n",
      "Global ELO Accuracy: 0.6621032980709396 (62673 matches)\n",
      "2025 ELO Accuracy: 0.6488474742520843 (2039 matches)\n",
      "Global ELO Surface Accuracy: 0.6569655194421841 (62673 matches)\n",
      "2025 ELO surface Accuracy: 0.6557135850907307 (2039 matches)\n",
      "\n"
     ]
    },
    {
     "name": "stderr",
     "output_type": "stream",
     "text": [
      "100%|██████████| 197263/197263 [00:14<00:00, 14020.65it/s]\n",
      " 30%|███       | 90/300 [21:24<49:39, 14.19s/it]"
     ]
    },
    {
     "name": "stdout",
     "output_type": "stream",
     "text": [
      "\n",
      "EVALUATION RESULTS:\n",
      "Global ELO Accuracy: 0.6614650647009079 (62673 matches)\n",
      "2025 ELO Accuracy: 0.6478666012751348 (2039 matches)\n",
      "Global ELO Surface Accuracy: 0.6550827310005903 (62673 matches)\n",
      "2025 ELO surface Accuracy: 0.6498283472290338 (2039 matches)\n",
      "\n"
     ]
    },
    {
     "name": "stderr",
     "output_type": "stream",
     "text": [
      "100%|██████████| 197263/197263 [00:14<00:00, 14068.43it/s]\n",
      " 30%|███       | 91/300 [21:38<49:21, 14.17s/it]"
     ]
    },
    {
     "name": "stdout",
     "output_type": "stream",
     "text": [
      "\n",
      "EVALUATION RESULTS:\n",
      "Global ELO Accuracy: 0.629888468718587 (62673 matches)\n",
      "2025 ELO Accuracy: 0.6184404119666503 (2039 matches)\n",
      "Global ELO Surface Accuracy: 0.6276386960892251 (62673 matches)\n",
      "2025 ELO surface Accuracy: 0.6140264835703776 (2039 matches)\n",
      "\n"
     ]
    },
    {
     "name": "stderr",
     "output_type": "stream",
     "text": [
      "100%|██████████| 197263/197263 [00:14<00:00, 14001.39it/s]\n",
      " 31%|███       | 92/300 [21:52<49:08, 14.18s/it]"
     ]
    },
    {
     "name": "stdout",
     "output_type": "stream",
     "text": [
      "\n",
      "EVALUATION RESULTS:\n",
      "Global ELO Accuracy: 0.6615927113749143 (62673 matches)\n",
      "2025 ELO Accuracy: 0.6410004904364884 (2039 matches)\n",
      "Global ELO Surface Accuracy: 0.6525138416862125 (62673 matches)\n",
      "2025 ELO surface Accuracy: 0.6463952918097107 (2039 matches)\n",
      "\n"
     ]
    },
    {
     "name": "stderr",
     "output_type": "stream",
     "text": [
      "100%|██████████| 197263/197263 [00:14<00:00, 14086.35it/s]\n",
      " 31%|███       | 93/300 [22:06<48:50, 14.16s/it]"
     ]
    },
    {
     "name": "stdout",
     "output_type": "stream",
     "text": [
      "\n",
      "EVALUATION RESULTS:\n",
      "Global ELO Accuracy: 0.6609863896733841 (62673 matches)\n",
      "2025 ELO Accuracy: 0.6512996566944581 (2039 matches)\n",
      "Global ELO Surface Accuracy: 0.6544604534648094 (62673 matches)\n",
      "2025 ELO surface Accuracy: 0.6512996566944581 (2039 matches)\n",
      "\n"
     ]
    },
    {
     "name": "stderr",
     "output_type": "stream",
     "text": [
      "100%|██████████| 197263/197263 [00:14<00:00, 14063.08it/s]\n",
      " 31%|███▏      | 94/300 [22:20<48:34, 14.15s/it]"
     ]
    },
    {
     "name": "stdout",
     "output_type": "stream",
     "text": [
      "\n",
      "EVALUATION RESULTS:\n",
      "Global ELO Accuracy: 0.6615448438721618 (62673 matches)\n",
      "2025 ELO Accuracy: 0.6468857282981854 (2039 matches)\n",
      "Global ELO Surface Accuracy: 0.6560560368898888 (62673 matches)\n",
      "2025 ELO surface Accuracy: 0.6493379107405591 (2039 matches)\n",
      "\n"
     ]
    },
    {
     "name": "stderr",
     "output_type": "stream",
     "text": [
      "100%|██████████| 197263/197263 [00:14<00:00, 14015.52it/s]\n",
      " 32%|███▏      | 95/300 [22:34<48:22, 14.16s/it]"
     ]
    },
    {
     "name": "stdout",
     "output_type": "stream",
     "text": [
      "\n",
      "EVALUATION RESULTS:\n",
      "Global ELO Accuracy: 0.6615129322036603 (62673 matches)\n",
      "2025 ELO Accuracy: 0.6483570377636096 (2039 matches)\n",
      "Global ELO Surface Accuracy: 0.6546838351443205 (62673 matches)\n",
      "2025 ELO surface Accuracy: 0.6503187837175086 (2039 matches)\n",
      "\n"
     ]
    },
    {
     "name": "stderr",
     "output_type": "stream",
     "text": [
      "100%|██████████| 197263/197263 [00:14<00:00, 14078.99it/s]\n",
      " 32%|███▏      | 96/300 [22:48<48:05, 14.15s/it]"
     ]
    },
    {
     "name": "stdout",
     "output_type": "stream",
     "text": [
      "\n",
      "EVALUATION RESULTS:\n",
      "Global ELO Accuracy: 0.6617363138831713 (62673 matches)\n",
      "2025 ELO Accuracy: 0.6444335458558117 (2039 matches)\n",
      "Global ELO Surface Accuracy: 0.6538381759290285 (62673 matches)\n",
      "2025 ELO surface Accuracy: 0.6463952918097107 (2039 matches)\n",
      "\n"
     ]
    },
    {
     "name": "stderr",
     "output_type": "stream",
     "text": [
      "100%|██████████| 197263/197263 [00:14<00:00, 14018.74it/s]\n",
      " 32%|███▏      | 97/300 [23:03<47:53, 14.15s/it]"
     ]
    },
    {
     "name": "stdout",
     "output_type": "stream",
     "text": [
      "\n",
      "EVALUATION RESULTS:\n",
      "Global ELO Accuracy: 0.6565666235859142 (62673 matches)\n",
      "2025 ELO Accuracy: 0.6390387444825895 (2039 matches)\n",
      "Global ELO Surface Accuracy: 0.6464346688366601 (62673 matches)\n",
      "2025 ELO surface Accuracy: 0.6375674350171653 (2039 matches)\n",
      "\n"
     ]
    },
    {
     "name": "stderr",
     "output_type": "stream",
     "text": [
      "100%|██████████| 197263/197263 [00:14<00:00, 14031.98it/s]\n",
      " 33%|███▎      | 98/300 [23:17<47:39, 14.16s/it]"
     ]
    },
    {
     "name": "stdout",
     "output_type": "stream",
     "text": [
      "\n",
      "EVALUATION RESULTS:\n",
      "Global ELO Accuracy: 0.6617203580489206 (62673 matches)\n",
      "2025 ELO Accuracy: 0.6483570377636096 (2039 matches)\n",
      "Global ELO Surface Accuracy: 0.6548114818183268 (62673 matches)\n",
      "2025 ELO surface Accuracy: 0.6449239823442864 (2039 matches)\n",
      "\n"
     ]
    },
    {
     "name": "stderr",
     "output_type": "stream",
     "text": [
      "100%|██████████| 197263/197263 [00:14<00:00, 14071.79it/s]\n",
      " 33%|███▎      | 99/300 [23:31<47:23, 14.15s/it]"
     ]
    },
    {
     "name": "stdout",
     "output_type": "stream",
     "text": [
      "\n",
      "EVALUATION RESULTS:\n",
      "Global ELO Accuracy: 0.661225727187146 (62673 matches)\n",
      "2025 ELO Accuracy: 0.6517900931829328 (2039 matches)\n",
      "Global ELO Surface Accuracy: 0.6552901568458507 (62673 matches)\n",
      "2025 ELO surface Accuracy: 0.6542422756253066 (2039 matches)\n",
      "\n"
     ]
    },
    {
     "name": "stderr",
     "output_type": "stream",
     "text": [
      "100%|██████████| 197263/197263 [00:13<00:00, 14095.68it/s]\n",
      " 33%|███▎      | 100/300 [23:45<47:06, 14.13s/it]"
     ]
    },
    {
     "name": "stdout",
     "output_type": "stream",
     "text": [
      "\n",
      "EVALUATION RESULTS:\n",
      "Global ELO Accuracy: 0.6613693296954031 (62673 matches)\n",
      "2025 ELO Accuracy: 0.6419813634134379 (2039 matches)\n",
      "Global ELO Surface Accuracy: 0.6528010467027269 (62673 matches)\n",
      "2025 ELO surface Accuracy: 0.6414909269249632 (2039 matches)\n",
      "\n"
     ]
    },
    {
     "name": "stderr",
     "output_type": "stream",
     "text": [
      "100%|██████████| 197263/197263 [00:14<00:00, 13844.98it/s]\n",
      " 34%|███▎      | 101/300 [23:59<47:05, 14.20s/it]"
     ]
    },
    {
     "name": "stdout",
     "output_type": "stream",
     "text": [
      "\n",
      "EVALUATION RESULTS:\n",
      "Global ELO Accuracy: 0.6613852855296539 (62673 matches)\n",
      "2025 ELO Accuracy: 0.6419813634134379 (2039 matches)\n",
      "Global ELO Surface Accuracy: 0.6533116333987522 (62673 matches)\n",
      "2025 ELO surface Accuracy: 0.6434526728788622 (2039 matches)\n",
      "\n"
     ]
    },
    {
     "name": "stderr",
     "output_type": "stream",
     "text": [
      "100%|██████████| 197263/197263 [00:14<00:00, 13918.29it/s]\n",
      " 34%|███▍      | 102/300 [24:14<46:55, 14.22s/it]"
     ]
    },
    {
     "name": "stdout",
     "output_type": "stream",
     "text": [
      "\n",
      "EVALUATION RESULTS:\n",
      "Global ELO Accuracy: 0.661688446380419 (62673 matches)\n",
      "2025 ELO Accuracy: 0.6478666012751348 (2039 matches)\n",
      "Global ELO Surface Accuracy: 0.654572144304565 (62673 matches)\n",
      "2025 ELO surface Accuracy: 0.6454144188327612 (2039 matches)\n",
      "\n"
     ]
    },
    {
     "name": "stderr",
     "output_type": "stream",
     "text": [
      "100%|██████████| 197263/197263 [00:13<00:00, 14112.25it/s]\n",
      " 34%|███▍      | 103/300 [24:28<46:33, 14.18s/it]"
     ]
    },
    {
     "name": "stdout",
     "output_type": "stream",
     "text": [
      "\n",
      "EVALUATION RESULTS:\n",
      "Global ELO Accuracy: 0.6621352097394412 (62673 matches)\n",
      "2025 ELO Accuracy: 0.6488474742520843 (2039 matches)\n",
      "Global ELO Surface Accuracy: 0.6562634627351491 (62673 matches)\n",
      "2025 ELO surface Accuracy: 0.6547327121137813 (2039 matches)\n",
      "\n"
     ]
    },
    {
     "name": "stderr",
     "output_type": "stream",
     "text": [
      "100%|██████████| 197263/197263 [00:14<00:00, 14068.63it/s]\n",
      " 35%|███▍      | 104/300 [24:42<46:15, 14.16s/it]"
     ]
    },
    {
     "name": "stdout",
     "output_type": "stream",
     "text": [
      "\n",
      "EVALUATION RESULTS:\n",
      "Global ELO Accuracy: 0.6596939670990698 (62673 matches)\n",
      "2025 ELO Accuracy: 0.6424717999019127 (2039 matches)\n",
      "Global ELO Surface Accuracy: 0.6520351666586888 (62673 matches)\n",
      "2025 ELO surface Accuracy: 0.6419813634134379 (2039 matches)\n",
      "\n"
     ]
    },
    {
     "name": "stderr",
     "output_type": "stream",
     "text": [
      "100%|██████████| 197263/197263 [00:14<00:00, 14039.01it/s]\n",
      " 35%|███▌      | 105/300 [24:56<46:01, 14.16s/it]"
     ]
    },
    {
     "name": "stdout",
     "output_type": "stream",
     "text": [
      "\n",
      "EVALUATION RESULTS:\n",
      "Global ELO Accuracy: 0.660603449651365 (62673 matches)\n",
      "2025 ELO Accuracy: 0.6483570377636096 (2039 matches)\n",
      "Global ELO Surface Accuracy: 0.6563113302379014 (62673 matches)\n",
      "2025 ELO surface Accuracy: 0.6517900931829328 (2039 matches)\n",
      "\n"
     ]
    },
    {
     "name": "stderr",
     "output_type": "stream",
     "text": [
      "100%|██████████| 197263/197263 [00:14<00:00, 14019.96it/s]\n",
      " 35%|███▌      | 106/300 [25:10<45:47, 14.16s/it]"
     ]
    },
    {
     "name": "stdout",
     "output_type": "stream",
     "text": [
      "\n",
      "EVALUATION RESULTS:\n",
      "Global ELO Accuracy: 0.6609385221706316 (62673 matches)\n",
      "2025 ELO Accuracy: 0.6410004904364884 (2039 matches)\n",
      "Global ELO Surface Accuracy: 0.651317154117403 (62673 matches)\n",
      "2025 ELO surface Accuracy: 0.6429622363903874 (2039 matches)\n",
      "\n"
     ]
    },
    {
     "name": "stderr",
     "output_type": "stream",
     "text": [
      "100%|██████████| 197263/197263 [00:14<00:00, 13309.58it/s]\n",
      " 36%|███▌      | 107/300 [25:25<46:17, 14.39s/it]"
     ]
    },
    {
     "name": "stdout",
     "output_type": "stream",
     "text": [
      "\n",
      "EVALUATION RESULTS:\n",
      "Global ELO Accuracy: 0.6620394747339364 (62673 matches)\n",
      "2025 ELO Accuracy: 0.6483570377636096 (2039 matches)\n",
      "Global ELO Surface Accuracy: 0.6563751535749046 (62673 matches)\n",
      "2025 ELO surface Accuracy: 0.6537518391368318 (2039 matches)\n",
      "\n"
     ]
    },
    {
     "name": "stderr",
     "output_type": "stream",
     "text": [
      "100%|██████████| 197263/197263 [00:13<00:00, 14097.07it/s]\n",
      " 36%|███▌      | 108/300 [25:39<45:46, 14.30s/it]"
     ]
    },
    {
     "name": "stdout",
     "output_type": "stream",
     "text": [
      "\n",
      "EVALUATION RESULTS:\n",
      "Global ELO Accuracy: 0.6612416830213967 (62673 matches)\n",
      "2025 ELO Accuracy: 0.6508092202059833 (2039 matches)\n",
      "Global ELO Surface Accuracy: 0.6547636143155745 (62673 matches)\n",
      "2025 ELO surface Accuracy: 0.6503187837175086 (2039 matches)\n",
      "\n"
     ]
    },
    {
     "name": "stderr",
     "output_type": "stream",
     "text": [
      "100%|██████████| 197263/197263 [00:14<00:00, 14065.62it/s]\n",
      " 36%|███▋      | 109/300 [25:53<45:21, 14.25s/it]"
     ]
    },
    {
     "name": "stdout",
     "output_type": "stream",
     "text": [
      "\n",
      "EVALUATION RESULTS:\n",
      "Global ELO Accuracy: 0.6619916072311841 (62673 matches)\n",
      "2025 ELO Accuracy: 0.6463952918097107 (2039 matches)\n",
      "Global ELO Surface Accuracy: 0.6569655194421841 (62673 matches)\n",
      "2025 ELO surface Accuracy: 0.6547327121137813 (2039 matches)\n",
      "\n"
     ]
    },
    {
     "name": "stderr",
     "output_type": "stream",
     "text": [
      "100%|██████████| 197263/197263 [00:14<00:00, 14081.89it/s]\n",
      " 37%|███▋      | 110/300 [26:07<44:59, 14.21s/it]"
     ]
    },
    {
     "name": "stdout",
     "output_type": "stream",
     "text": [
      "\n",
      "EVALUATION RESULTS:\n",
      "Global ELO Accuracy: 0.6567421377626729 (62673 matches)\n",
      "2025 ELO Accuracy: 0.6395291809710643 (2039 matches)\n",
      "Global ELO Surface Accuracy: 0.6475515772342156 (62673 matches)\n",
      "2025 ELO surface Accuracy: 0.6410004904364884 (2039 matches)\n",
      "\n"
     ]
    },
    {
     "name": "stderr",
     "output_type": "stream",
     "text": [
      "100%|██████████| 197263/197263 [00:13<00:00, 14097.84it/s]\n",
      " 37%|███▋      | 111/300 [26:21<44:38, 14.17s/it]"
     ]
    },
    {
     "name": "stdout",
     "output_type": "stream",
     "text": [
      "\n",
      "EVALUATION RESULTS:\n",
      "Global ELO Accuracy: 0.6609704338391332 (62673 matches)\n",
      "2025 ELO Accuracy: 0.6503187837175086 (2039 matches)\n",
      "Global ELO Surface Accuracy: 0.6546838351443205 (62673 matches)\n",
      "2025 ELO surface Accuracy: 0.6527709661598823 (2039 matches)\n",
      "\n"
     ]
    },
    {
     "name": "stderr",
     "output_type": "stream",
     "text": [
      "100%|██████████| 197263/197263 [00:13<00:00, 14155.14it/s]\n",
      " 37%|███▋      | 112/300 [26:35<44:17, 14.13s/it]"
     ]
    },
    {
     "name": "stdout",
     "output_type": "stream",
     "text": [
      "\n",
      "EVALUATION RESULTS:\n",
      "Global ELO Accuracy: 0.6601247746238412 (62673 matches)\n",
      "2025 ELO Accuracy: 0.6493379107405591 (2039 matches)\n",
      "Global ELO Surface Accuracy: 0.6537424409235237 (62673 matches)\n",
      "2025 ELO surface Accuracy: 0.6512996566944581 (2039 matches)\n",
      "\n"
     ]
    },
    {
     "name": "stderr",
     "output_type": "stream",
     "text": [
      "100%|██████████| 197263/197263 [00:14<00:00, 14079.25it/s]\n",
      " 38%|███▊      | 113/300 [26:50<44:02, 14.13s/it]"
     ]
    },
    {
     "name": "stdout",
     "output_type": "stream",
     "text": [
      "\n",
      "EVALUATION RESULTS:\n",
      "Global ELO Accuracy: 0.6618160930544253 (62673 matches)\n",
      "2025 ELO Accuracy: 0.6473761647866602 (2039 matches)\n",
      "Global ELO Surface Accuracy: 0.6542849392880506 (62673 matches)\n",
      "2025 ELO surface Accuracy: 0.6473761647866602 (2039 matches)\n",
      "\n"
     ]
    },
    {
     "name": "stderr",
     "output_type": "stream",
     "text": [
      "100%|██████████| 197263/197263 [00:13<00:00, 14113.71it/s]\n",
      " 38%|███▊      | 114/300 [27:04<43:45, 14.11s/it]"
     ]
    },
    {
     "name": "stdout",
     "output_type": "stream",
     "text": [
      "\n",
      "EVALUATION RESULTS:\n",
      "Global ELO Accuracy: 0.6613374180269015 (62673 matches)\n",
      "2025 ELO Accuracy: 0.6488474742520843 (2039 matches)\n",
      "Global ELO Surface Accuracy: 0.6545242768018126 (62673 matches)\n",
      "2025 ELO surface Accuracy: 0.6498283472290338 (2039 matches)\n",
      "\n"
     ]
    },
    {
     "name": "stderr",
     "output_type": "stream",
     "text": [
      "100%|██████████| 197263/197263 [00:14<00:00, 13963.68it/s]\n",
      " 38%|███▊      | 115/300 [27:18<43:37, 14.15s/it]"
     ]
    },
    {
     "name": "stdout",
     "output_type": "stream",
     "text": [
      "\n",
      "EVALUATION RESULTS:\n",
      "Global ELO Accuracy: 0.661688446380419 (62673 matches)\n",
      "2025 ELO Accuracy: 0.6463952918097107 (2039 matches)\n",
      "Global ELO Surface Accuracy: 0.6563591977406539 (62673 matches)\n",
      "2025 ELO surface Accuracy: 0.6488474742520843 (2039 matches)\n",
      "\n"
     ]
    },
    {
     "name": "stderr",
     "output_type": "stream",
     "text": [
      "100%|██████████| 197263/197263 [00:14<00:00, 13879.85it/s]\n",
      " 39%|███▊      | 116/300 [27:32<43:32, 14.20s/it]"
     ]
    },
    {
     "name": "stdout",
     "output_type": "stream",
     "text": [
      "\n",
      "EVALUATION RESULTS:\n",
      "Global ELO Accuracy: 0.6614331530324064 (62673 matches)\n",
      "2025 ELO Accuracy: 0.6468857282981854 (2039 matches)\n",
      "Global ELO Surface Accuracy: 0.6539977342715364 (62673 matches)\n",
      "2025 ELO surface Accuracy: 0.6473761647866602 (2039 matches)\n",
      "\n"
     ]
    },
    {
     "name": "stderr",
     "output_type": "stream",
     "text": [
      "100%|██████████| 197263/197263 [00:14<00:00, 14042.78it/s]\n",
      " 39%|███▉      | 117/300 [27:46<43:15, 14.18s/it]"
     ]
    },
    {
     "name": "stdout",
     "output_type": "stream",
     "text": [
      "\n",
      "EVALUATION RESULTS:\n",
      "Global ELO Accuracy: 0.6621352097394412 (62673 matches)\n",
      "2025 ELO Accuracy: 0.6488474742520843 (2039 matches)\n",
      "Global ELO Surface Accuracy: 0.6573165477957015 (62673 matches)\n",
      "2025 ELO surface Accuracy: 0.6537518391368318 (2039 matches)\n",
      "\n"
     ]
    },
    {
     "name": "stderr",
     "output_type": "stream",
     "text": [
      "100%|██████████| 197263/197263 [00:14<00:00, 14008.63it/s]\n",
      " 39%|███▉      | 118/300 [28:01<43:01, 14.18s/it]"
     ]
    },
    {
     "name": "stdout",
     "output_type": "stream",
     "text": [
      "\n",
      "EVALUATION RESULTS:\n",
      "Global ELO Accuracy: 0.6529925167137364 (62673 matches)\n",
      "2025 ELO Accuracy: 0.6336439431093673 (2039 matches)\n",
      "Global ELO Surface Accuracy: 0.6435945303400188 (62673 matches)\n",
      "2025 ELO surface Accuracy: 0.636096125551741 (2039 matches)\n",
      "\n"
     ]
    },
    {
     "name": "stderr",
     "output_type": "stream",
     "text": [
      "100%|██████████| 197263/197263 [00:14<00:00, 13981.00it/s]\n",
      " 40%|███▉      | 119/300 [28:15<42:48, 14.19s/it]"
     ]
    },
    {
     "name": "stdout",
     "output_type": "stream",
     "text": [
      "\n",
      "EVALUATION RESULTS:\n",
      "Global ELO Accuracy: 0.6614650647009079 (62673 matches)\n",
      "2025 ELO Accuracy: 0.6454144188327612 (2039 matches)\n",
      "Global ELO Surface Accuracy: 0.655497582691111 (62673 matches)\n",
      "2025 ELO surface Accuracy: 0.6478666012751348 (2039 matches)\n",
      "\n"
     ]
    },
    {
     "name": "stderr",
     "output_type": "stream",
     "text": [
      "100%|██████████| 197263/197263 [00:14<00:00, 14059.53it/s]\n",
      " 40%|████      | 120/300 [28:29<42:31, 14.18s/it]"
     ]
    },
    {
     "name": "stdout",
     "output_type": "stream",
     "text": [
      "\n",
      "EVALUATION RESULTS:\n",
      "Global ELO Accuracy: 0.6623107239161999 (62673 matches)\n",
      "2025 ELO Accuracy: 0.6390387444825895 (2039 matches)\n",
      "Global ELO Surface Accuracy: 0.655497582691111 (62673 matches)\n",
      "2025 ELO surface Accuracy: 0.6478666012751348 (2039 matches)\n",
      "\n"
     ]
    },
    {
     "name": "stderr",
     "output_type": "stream",
     "text": [
      "100%|██████████| 197263/197263 [00:13<00:00, 14099.71it/s]\n",
      " 40%|████      | 121/300 [28:43<42:12, 14.15s/it]"
     ]
    },
    {
     "name": "stdout",
     "output_type": "stream",
     "text": [
      "\n",
      "EVALUATION RESULTS:\n",
      "Global ELO Accuracy: 0.6543487626250538 (62673 matches)\n",
      "2025 ELO Accuracy: 0.6336439431093673 (2039 matches)\n",
      "Global ELO Surface Accuracy: 0.6463389338311554 (62673 matches)\n",
      "2025 ELO surface Accuracy: 0.6419813634134379 (2039 matches)\n",
      "\n"
     ]
    },
    {
     "name": "stderr",
     "output_type": "stream",
     "text": [
      "100%|██████████| 197263/197263 [00:14<00:00, 14073.02it/s]\n",
      " 41%|████      | 122/300 [28:57<41:57, 14.14s/it]"
     ]
    },
    {
     "name": "stdout",
     "output_type": "stream",
     "text": [
      "\n",
      "EVALUATION RESULTS:\n",
      "Global ELO Accuracy: 0.6620554305681873 (62673 matches)\n",
      "2025 ELO Accuracy: 0.6444335458558117 (2039 matches)\n",
      "Global ELO Surface Accuracy: 0.656662358591419 (62673 matches)\n",
      "2025 ELO surface Accuracy: 0.6522805296714076 (2039 matches)\n",
      "\n"
     ]
    },
    {
     "name": "stderr",
     "output_type": "stream",
     "text": [
      "100%|██████████| 197263/197263 [00:14<00:00, 14047.95it/s]\n",
      " 41%|████      | 123/300 [29:11<41:43, 14.14s/it]"
     ]
    },
    {
     "name": "stdout",
     "output_type": "stream",
     "text": [
      "\n",
      "EVALUATION RESULTS:\n",
      "Global ELO Accuracy: 0.662071386402438 (62673 matches)\n",
      "2025 ELO Accuracy: 0.6449239823442864 (2039 matches)\n",
      "Global ELO Surface Accuracy: 0.6560560368898888 (62673 matches)\n",
      "2025 ELO surface Accuracy: 0.6503187837175086 (2039 matches)\n",
      "\n"
     ]
    },
    {
     "name": "stderr",
     "output_type": "stream",
     "text": [
      "100%|██████████| 197263/197263 [00:14<00:00, 13982.83it/s]\n",
      " 41%|████▏     | 124/300 [29:25<41:32, 14.16s/it]"
     ]
    },
    {
     "name": "stdout",
     "output_type": "stream",
     "text": [
      "\n",
      "EVALUATION RESULTS:\n",
      "Global ELO Accuracy: 0.6608268313308762 (62673 matches)\n",
      "2025 ELO Accuracy: 0.6439431093673369 (2039 matches)\n",
      "Global ELO Surface Accuracy: 0.6506789207473713 (62673 matches)\n",
      "2025 ELO surface Accuracy: 0.6419813634134379 (2039 matches)\n",
      "\n"
     ]
    },
    {
     "name": "stderr",
     "output_type": "stream",
     "text": [
      "100%|██████████| 197263/197263 [00:14<00:00, 14045.12it/s]\n",
      " 42%|████▏     | 125/300 [29:40<41:17, 14.16s/it]"
     ]
    },
    {
     "name": "stdout",
     "output_type": "stream",
     "text": [
      "\n",
      "EVALUATION RESULTS:\n",
      "Global ELO Accuracy: 0.6613533738611523 (62673 matches)\n",
      "2025 ELO Accuracy: 0.6478666012751348 (2039 matches)\n",
      "Global ELO Surface Accuracy: 0.6552103776745967 (62673 matches)\n",
      "2025 ELO surface Accuracy: 0.6527709661598823 (2039 matches)\n",
      "\n"
     ]
    },
    {
     "name": "stderr",
     "output_type": "stream",
     "text": [
      "100%|██████████| 197263/197263 [00:14<00:00, 14021.25it/s]\n",
      " 42%|████▏     | 126/300 [29:54<41:04, 14.16s/it]"
     ]
    },
    {
     "name": "stdout",
     "output_type": "stream",
     "text": [
      "\n",
      "EVALUATION RESULTS:\n",
      "Global ELO Accuracy: 0.6604598471431079 (62673 matches)\n",
      "2025 ELO Accuracy: 0.6478666012751348 (2039 matches)\n",
      "Global ELO Surface Accuracy: 0.6565028002489111 (62673 matches)\n",
      "2025 ELO surface Accuracy: 0.6512996566944581 (2039 matches)\n",
      "\n"
     ]
    },
    {
     "name": "stderr",
     "output_type": "stream",
     "text": [
      "100%|██████████| 197263/197263 [00:14<00:00, 14026.88it/s]\n",
      " 42%|████▏     | 127/300 [30:08<40:50, 14.16s/it]"
     ]
    },
    {
     "name": "stdout",
     "output_type": "stream",
     "text": [
      "\n",
      "EVALUATION RESULTS:\n",
      "Global ELO Accuracy: 0.6577792669889745 (62673 matches)\n",
      "2025 ELO Accuracy: 0.6444335458558117 (2039 matches)\n",
      "Global ELO Surface Accuracy: 0.646913343864184 (62673 matches)\n",
      "2025 ELO surface Accuracy: 0.636096125551741 (2039 matches)\n",
      "\n"
     ]
    },
    {
     "name": "stderr",
     "output_type": "stream",
     "text": [
      "100%|██████████| 197263/197263 [00:14<00:00, 14008.29it/s]\n",
      " 43%|████▎     | 128/300 [30:22<40:37, 14.17s/it]"
     ]
    },
    {
     "name": "stdout",
     "output_type": "stream",
     "text": [
      "\n",
      "EVALUATION RESULTS:\n",
      "Global ELO Accuracy: 0.6607470521596222 (62673 matches)\n",
      "2025 ELO Accuracy: 0.6449239823442864 (2039 matches)\n",
      "Global ELO Surface Accuracy: 0.6505831857418665 (62673 matches)\n",
      "2025 ELO surface Accuracy: 0.6424717999019127 (2039 matches)\n",
      "\n"
     ]
    },
    {
     "name": "stderr",
     "output_type": "stream",
     "text": [
      "100%|██████████| 197263/197263 [00:13<00:00, 14137.39it/s]\n",
      " 43%|████▎     | 129/300 [30:36<40:17, 14.14s/it]"
     ]
    },
    {
     "name": "stdout",
     "output_type": "stream",
     "text": [
      "\n",
      "EVALUATION RESULTS:\n",
      "Global ELO Accuracy: 0.6604279354746063 (62673 matches)\n",
      "2025 ELO Accuracy: 0.6508092202059833 (2039 matches)\n",
      "Global ELO Surface Accuracy: 0.6543328067908031 (62673 matches)\n",
      "2025 ELO surface Accuracy: 0.6542422756253066 (2039 matches)\n",
      "\n"
     ]
    },
    {
     "name": "stderr",
     "output_type": "stream",
     "text": [
      "100%|██████████| 197263/197263 [00:14<00:00, 14004.14it/s]\n",
      " 43%|████▎     | 130/300 [30:50<40:05, 14.15s/it]"
     ]
    },
    {
     "name": "stdout",
     "output_type": "stream",
     "text": [
      "\n",
      "EVALUATION RESULTS:\n",
      "Global ELO Accuracy: 0.6618160930544253 (62673 matches)\n",
      "2025 ELO Accuracy: 0.6405100539480137 (2039 matches)\n",
      "Global ELO Surface Accuracy: 0.6556092735308665 (62673 matches)\n",
      "2025 ELO surface Accuracy: 0.6478666012751348 (2039 matches)\n",
      "\n"
     ]
    },
    {
     "name": "stderr",
     "output_type": "stream",
     "text": [
      "100%|██████████| 197263/197263 [00:14<00:00, 13990.14it/s]\n",
      " 44%|████▎     | 131/300 [31:05<39:54, 14.17s/it]"
     ]
    },
    {
     "name": "stdout",
     "output_type": "stream",
     "text": [
      "\n",
      "EVALUATION RESULTS:\n",
      "Global ELO Accuracy: 0.6622788122476984 (62673 matches)\n",
      "2025 ELO Accuracy: 0.6449239823442864 (2039 matches)\n",
      "Global ELO Surface Accuracy: 0.6564070652434063 (62673 matches)\n",
      "2025 ELO surface Accuracy: 0.6522805296714076 (2039 matches)\n",
      "\n"
     ]
    },
    {
     "name": "stderr",
     "output_type": "stream",
     "text": [
      "100%|██████████| 197263/197263 [00:14<00:00, 14048.00it/s]\n",
      " 44%|████▍     | 132/300 [31:19<39:38, 14.16s/it]"
     ]
    },
    {
     "name": "stdout",
     "output_type": "stream",
     "text": [
      "\n",
      "EVALUATION RESULTS:\n",
      "Global ELO Accuracy: 0.662230944744946 (62673 matches)\n",
      "2025 ELO Accuracy: 0.6478666012751348 (2039 matches)\n",
      "Global ELO Surface Accuracy: 0.6563911094091555 (62673 matches)\n",
      "2025 ELO surface Accuracy: 0.6527709661598823 (2039 matches)\n",
      "\n"
     ]
    },
    {
     "name": "stderr",
     "output_type": "stream",
     "text": [
      "100%|██████████| 197263/197263 [00:14<00:00, 13871.51it/s]\n",
      " 44%|████▍     | 133/300 [31:33<39:32, 14.21s/it]"
     ]
    },
    {
     "name": "stdout",
     "output_type": "stream",
     "text": [
      "\n",
      "EVALUATION RESULTS:\n",
      "Global ELO Accuracy: 0.6624383705902063 (62673 matches)\n",
      "2025 ELO Accuracy: 0.6449239823442864 (2039 matches)\n",
      "Global ELO Surface Accuracy: 0.6568059610996761 (62673 matches)\n",
      "2025 ELO surface Accuracy: 0.6512996566944581 (2039 matches)\n",
      "\n"
     ]
    },
    {
     "name": "stderr",
     "output_type": "stream",
     "text": [
      "100%|██████████| 197263/197263 [00:14<00:00, 14055.08it/s]\n",
      " 45%|████▍     | 134/300 [31:47<39:15, 14.19s/it]"
     ]
    },
    {
     "name": "stdout",
     "output_type": "stream",
     "text": [
      "\n",
      "EVALUATION RESULTS:\n",
      "Global ELO Accuracy: 0.6307181720996282 (62673 matches)\n",
      "2025 ELO Accuracy: 0.6159882295242766 (2039 matches)\n",
      "Global ELO Surface Accuracy: 0.6289151628292885 (62673 matches)\n",
      "2025 ELO surface Accuracy: 0.6179499754781755 (2039 matches)\n",
      "\n"
     ]
    },
    {
     "name": "stderr",
     "output_type": "stream",
     "text": [
      "100%|██████████| 197263/197263 [00:14<00:00, 13970.88it/s]\n",
      " 45%|████▌     | 135/300 [32:01<39:02, 14.20s/it]"
     ]
    },
    {
     "name": "stdout",
     "output_type": "stream",
     "text": [
      "\n",
      "EVALUATION RESULTS:\n",
      "Global ELO Accuracy: 0.6617841813859238 (62673 matches)\n",
      "2025 ELO Accuracy: 0.6488474742520843 (2039 matches)\n",
      "Global ELO Surface Accuracy: 0.655960301884384 (62673 matches)\n",
      "2025 ELO surface Accuracy: 0.6522805296714076 (2039 matches)\n",
      "\n"
     ]
    },
    {
     "name": "stderr",
     "output_type": "stream",
     "text": [
      "100%|██████████| 197263/197263 [00:14<00:00, 14077.59it/s]\n",
      " 45%|████▌     | 136/300 [32:16<38:44, 14.17s/it]"
     ]
    },
    {
     "name": "stdout",
     "output_type": "stream",
     "text": [
      "\n",
      "EVALUATION RESULTS:\n",
      "Global ELO Accuracy: 0.6616724905461682 (62673 matches)\n",
      "2025 ELO Accuracy: 0.6468857282981854 (2039 matches)\n",
      "Global ELO Surface Accuracy: 0.657125077784692 (62673 matches)\n",
      "2025 ELO surface Accuracy: 0.6537518391368318 (2039 matches)\n",
      "\n"
     ]
    },
    {
     "name": "stderr",
     "output_type": "stream",
     "text": [
      "100%|██████████| 197263/197263 [00:14<00:00, 14076.47it/s]\n",
      " 46%|████▌     | 137/300 [32:30<38:27, 14.16s/it]"
     ]
    },
    {
     "name": "stdout",
     "output_type": "stream",
     "text": [
      "\n",
      "EVALUATION RESULTS:\n",
      "Global ELO Accuracy: 0.6611140363473904 (62673 matches)\n",
      "2025 ELO Accuracy: 0.6468857282981854 (2039 matches)\n",
      "Global ELO Surface Accuracy: 0.6534233242385078 (62673 matches)\n",
      "2025 ELO surface Accuracy: 0.6395291809710643 (2039 matches)\n",
      "\n"
     ]
    },
    {
     "name": "stderr",
     "output_type": "stream",
     "text": [
      "100%|██████████| 197263/197263 [00:14<00:00, 14012.05it/s]\n",
      " 46%|████▌     | 138/300 [32:44<38:14, 14.17s/it]"
     ]
    },
    {
     "name": "stdout",
     "output_type": "stream",
     "text": [
      "\n",
      "EVALUATION RESULTS:\n",
      "Global ELO Accuracy: 0.6298725128843362 (62673 matches)\n",
      "2025 ELO Accuracy: 0.6125551741049534 (2039 matches)\n",
      "Global ELO Surface Accuracy: 0.6284205319675139 (62673 matches)\n",
      "2025 ELO surface Accuracy: 0.6199117214320745 (2039 matches)\n",
      "\n"
     ]
    },
    {
     "name": "stderr",
     "output_type": "stream",
     "text": [
      "100%|██████████| 197263/197263 [00:13<00:00, 14173.76it/s]\n",
      " 46%|████▋     | 139/300 [32:58<37:53, 14.12s/it]"
     ]
    },
    {
     "name": "stdout",
     "output_type": "stream",
     "text": [
      "\n",
      "EVALUATION RESULTS:\n",
      "Global ELO Accuracy: 0.6544444976305586 (62673 matches)\n",
      "2025 ELO Accuracy: 0.6370769985286905 (2039 matches)\n",
      "Global ELO Surface Accuracy: 0.6456847446268729 (62673 matches)\n",
      "2025 ELO surface Accuracy: 0.6390387444825895 (2039 matches)\n",
      "\n"
     ]
    },
    {
     "name": "stderr",
     "output_type": "stream",
     "text": [
      "100%|██████████| 197263/197263 [00:14<00:00, 14020.41it/s]\n",
      " 47%|████▋     | 140/300 [33:12<37:41, 14.14s/it]"
     ]
    },
    {
     "name": "stdout",
     "output_type": "stream",
     "text": [
      "\n",
      "EVALUATION RESULTS:\n",
      "Global ELO Accuracy: 0.6614650647009079 (62673 matches)\n",
      "2025 ELO Accuracy: 0.6454144188327612 (2039 matches)\n",
      "Global ELO Surface Accuracy: 0.6547476584813237 (62673 matches)\n",
      "2025 ELO surface Accuracy: 0.6468857282981854 (2039 matches)\n",
      "\n"
     ]
    },
    {
     "name": "stderr",
     "output_type": "stream",
     "text": [
      "100%|██████████| 197263/197263 [00:13<00:00, 14109.81it/s]\n",
      " 47%|████▋     | 141/300 [33:26<37:25, 14.12s/it]"
     ]
    },
    {
     "name": "stdout",
     "output_type": "stream",
     "text": [
      "\n",
      "EVALUATION RESULTS:\n",
      "Global ELO Accuracy: 0.6627255756067206 (62673 matches)\n",
      "2025 ELO Accuracy: 0.6473761647866602 (2039 matches)\n",
      "Global ELO Surface Accuracy: 0.6573803711327046 (62673 matches)\n",
      "2025 ELO surface Accuracy: 0.6527709661598823 (2039 matches)\n",
      "\n"
     ]
    },
    {
     "name": "stderr",
     "output_type": "stream",
     "text": [
      "100%|██████████| 197263/197263 [00:14<00:00, 14072.42it/s]\n",
      " 47%|████▋     | 142/300 [33:40<37:11, 14.12s/it]"
     ]
    },
    {
     "name": "stdout",
     "output_type": "stream",
     "text": [
      "\n",
      "EVALUATION RESULTS:\n",
      "Global ELO Accuracy: 0.6620075630654348 (62673 matches)\n",
      "2025 ELO Accuracy: 0.6419813634134379 (2039 matches)\n",
      "Global ELO Surface Accuracy: 0.6553061126801015 (62673 matches)\n",
      "2025 ELO surface Accuracy: 0.6478666012751348 (2039 matches)\n",
      "\n"
     ]
    },
    {
     "name": "stderr",
     "output_type": "stream",
     "text": [
      "100%|██████████| 197263/197263 [00:13<00:00, 14148.77it/s]\n",
      " 48%|████▊     | 143/300 [33:54<36:53, 14.10s/it]"
     ]
    },
    {
     "name": "stdout",
     "output_type": "stream",
     "text": [
      "\n",
      "EVALUATION RESULTS:\n",
      "Global ELO Accuracy: 0.662071386402438 (62673 matches)\n",
      "2025 ELO Accuracy: 0.6478666012751348 (2039 matches)\n",
      "Global ELO Surface Accuracy: 0.6563911094091555 (62673 matches)\n",
      "2025 ELO surface Accuracy: 0.6537518391368318 (2039 matches)\n",
      "\n"
     ]
    },
    {
     "name": "stderr",
     "output_type": "stream",
     "text": [
      "100%|██████████| 197263/197263 [00:14<00:00, 14074.32it/s]\n",
      " 48%|████▊     | 144/300 [34:08<36:40, 14.10s/it]"
     ]
    },
    {
     "name": "stdout",
     "output_type": "stream",
     "text": [
      "\n",
      "EVALUATION RESULTS:\n",
      "Global ELO Accuracy: 0.6613693296954031 (62673 matches)\n",
      "2025 ELO Accuracy: 0.6419813634134379 (2039 matches)\n",
      "Global ELO Surface Accuracy: 0.6535828825810157 (62673 matches)\n",
      "2025 ELO surface Accuracy: 0.6429622363903874 (2039 matches)\n",
      "\n"
     ]
    },
    {
     "name": "stderr",
     "output_type": "stream",
     "text": [
      "100%|██████████| 197263/197263 [00:13<00:00, 14138.99it/s]\n",
      " 48%|████▊     | 145/300 [34:22<36:23, 14.09s/it]"
     ]
    },
    {
     "name": "stdout",
     "output_type": "stream",
     "text": [
      "\n",
      "EVALUATION RESULTS:\n",
      "Global ELO Accuracy: 0.6561517718953935 (62673 matches)\n",
      "2025 ELO Accuracy: 0.6365865620402158 (2039 matches)\n",
      "Global ELO Surface Accuracy: 0.6473601072232061 (62673 matches)\n",
      "2025 ELO surface Accuracy: 0.6419813634134379 (2039 matches)\n",
      "\n"
     ]
    },
    {
     "name": "stderr",
     "output_type": "stream",
     "text": [
      "100%|██████████| 197263/197263 [00:13<00:00, 14102.49it/s]\n",
      " 49%|████▊     | 146/300 [34:37<36:09, 14.09s/it]"
     ]
    },
    {
     "name": "stdout",
     "output_type": "stream",
     "text": [
      "\n",
      "EVALUATION RESULTS:\n",
      "Global ELO Accuracy: 0.662773443109473 (62673 matches)\n",
      "2025 ELO Accuracy: 0.6468857282981854 (2039 matches)\n",
      "Global ELO Surface Accuracy: 0.6570931661161904 (62673 matches)\n",
      "2025 ELO surface Accuracy: 0.6527709661598823 (2039 matches)\n",
      "\n"
     ]
    },
    {
     "name": "stderr",
     "output_type": "stream",
     "text": [
      "100%|██████████| 197263/197263 [00:13<00:00, 14100.13it/s]\n",
      " 49%|████▉     | 147/300 [34:51<35:55, 14.09s/it]"
     ]
    },
    {
     "name": "stdout",
     "output_type": "stream",
     "text": [
      "\n",
      "EVALUATION RESULTS:\n",
      "Global ELO Accuracy: 0.6604758029773586 (62673 matches)\n",
      "2025 ELO Accuracy: 0.6478666012751348 (2039 matches)\n",
      "Global ELO Surface Accuracy: 0.6550827310005903 (62673 matches)\n",
      "2025 ELO surface Accuracy: 0.6532614026483571 (2039 matches)\n",
      "\n"
     ]
    },
    {
     "name": "stderr",
     "output_type": "stream",
     "text": [
      "100%|██████████| 197263/197263 [00:14<00:00, 13945.41it/s]\n",
      " 49%|████▉     | 148/300 [35:05<35:48, 14.14s/it]"
     ]
    },
    {
     "name": "stdout",
     "output_type": "stream",
     "text": [
      "\n",
      "EVALUATION RESULTS:\n",
      "Global ELO Accuracy: 0.6617841813859238 (62673 matches)\n",
      "2025 ELO Accuracy: 0.6478666012751348 (2039 matches)\n",
      "Global ELO Surface Accuracy: 0.6548753051553301 (62673 matches)\n",
      "2025 ELO surface Accuracy: 0.6493379107405591 (2039 matches)\n",
      "\n"
     ]
    },
    {
     "name": "stderr",
     "output_type": "stream",
     "text": [
      "100%|██████████| 197263/197263 [00:14<00:00, 14021.74it/s]\n",
      " 50%|████▉     | 149/300 [35:19<35:36, 14.15s/it]"
     ]
    },
    {
     "name": "stdout",
     "output_type": "stream",
     "text": [
      "\n",
      "EVALUATION RESULTS:\n",
      "Global ELO Accuracy: 0.6576994878177206 (62673 matches)\n",
      "2025 ELO Accuracy: 0.6429622363903874 (2039 matches)\n",
      "Global ELO Surface Accuracy: 0.6479664289247363 (62673 matches)\n",
      "2025 ELO surface Accuracy: 0.6419813634134379 (2039 matches)\n",
      "\n"
     ]
    },
    {
     "name": "stderr",
     "output_type": "stream",
     "text": [
      "100%|██████████| 197263/197263 [00:14<00:00, 13926.83it/s]\n",
      " 50%|█████     | 150/300 [35:33<35:27, 14.18s/it]"
     ]
    },
    {
     "name": "stdout",
     "output_type": "stream",
     "text": [
      "\n",
      "EVALUATION RESULTS:\n",
      "Global ELO Accuracy: 0.6600928629553396 (62673 matches)\n",
      "2025 ELO Accuracy: 0.6498283472290338 (2039 matches)\n",
      "Global ELO Surface Accuracy: 0.6543168509565522 (62673 matches)\n",
      "2025 ELO surface Accuracy: 0.6517900931829328 (2039 matches)\n",
      "\n"
     ]
    },
    {
     "name": "stderr",
     "output_type": "stream",
     "text": [
      "100%|██████████| 197263/197263 [00:14<00:00, 13887.36it/s]\n",
      " 50%|█████     | 151/300 [35:48<35:18, 14.22s/it]"
     ]
    },
    {
     "name": "stdout",
     "output_type": "stream",
     "text": [
      "\n",
      "EVALUATION RESULTS:\n",
      "Global ELO Accuracy: 0.6618799163914285 (62673 matches)\n",
      "2025 ELO Accuracy: 0.6419813634134379 (2039 matches)\n",
      "Global ELO Surface Accuracy: 0.655034863497838 (62673 matches)\n",
      "2025 ELO surface Accuracy: 0.6478666012751348 (2039 matches)\n",
      "\n"
     ]
    },
    {
     "name": "stderr",
     "output_type": "stream",
     "text": [
      "100%|██████████| 197263/197263 [00:14<00:00, 13957.61it/s]\n",
      " 51%|█████     | 152/300 [36:02<35:05, 14.23s/it]"
     ]
    },
    {
     "name": "stdout",
     "output_type": "stream",
     "text": [
      "\n",
      "EVALUATION RESULTS:\n",
      "Global ELO Accuracy: 0.6583058095192507 (62673 matches)\n",
      "2025 ELO Accuracy: 0.6429622363903874 (2039 matches)\n",
      "Global ELO Surface Accuracy: 0.6479026055877332 (62673 matches)\n",
      "2025 ELO surface Accuracy: 0.6395291809710643 (2039 matches)\n",
      "\n"
     ]
    },
    {
     "name": "stderr",
     "output_type": "stream",
     "text": [
      "100%|██████████| 197263/197263 [00:14<00:00, 13890.76it/s]\n",
      " 51%|█████     | 153/300 [36:16<34:54, 14.25s/it]"
     ]
    },
    {
     "name": "stdout",
     "output_type": "stream",
     "text": [
      "\n",
      "EVALUATION RESULTS:\n",
      "Global ELO Accuracy: 0.6565028002489111 (62673 matches)\n",
      "2025 ELO Accuracy: 0.6385483079941148 (2039 matches)\n",
      "Global ELO Surface Accuracy: 0.646753785521676 (62673 matches)\n",
      "2025 ELO surface Accuracy: 0.63805787150564 (2039 matches)\n",
      "\n"
     ]
    },
    {
     "name": "stderr",
     "output_type": "stream",
     "text": [
      "100%|██████████| 197263/197263 [00:14<00:00, 14039.61it/s]\n",
      " 51%|█████▏    | 154/300 [36:30<34:36, 14.22s/it]"
     ]
    },
    {
     "name": "stdout",
     "output_type": "stream",
     "text": [
      "\n",
      "EVALUATION RESULTS:\n",
      "Global ELO Accuracy: 0.627096197724698 (62673 matches)\n",
      "2025 ELO Accuracy: 0.6086316821971555 (2039 matches)\n",
      "Global ELO Surface Accuracy: 0.6240326775485456 (62673 matches)\n",
      "2025 ELO surface Accuracy: 0.6086316821971555 (2039 matches)\n",
      "\n"
     ]
    },
    {
     "name": "stderr",
     "output_type": "stream",
     "text": [
      "100%|██████████| 197263/197263 [00:14<00:00, 13995.25it/s]\n",
      " 52%|█████▏    | 155/300 [36:45<34:21, 14.21s/it]"
     ]
    },
    {
     "name": "stdout",
     "output_type": "stream",
     "text": [
      "\n",
      "EVALUATION RESULTS:\n",
      "Global ELO Accuracy: 0.6615129322036603 (62673 matches)\n",
      "2025 ELO Accuracy: 0.6463952918097107 (2039 matches)\n",
      "Global ELO Surface Accuracy: 0.6559124343816316 (62673 matches)\n",
      "2025 ELO surface Accuracy: 0.6537518391368318 (2039 matches)\n",
      "\n"
     ]
    },
    {
     "name": "stderr",
     "output_type": "stream",
     "text": [
      "100%|██████████| 197263/197263 [00:14<00:00, 13989.78it/s]\n",
      " 52%|█████▏    | 156/300 [36:59<34:06, 14.21s/it]"
     ]
    },
    {
     "name": "stdout",
     "output_type": "stream",
     "text": [
      "\n",
      "EVALUATION RESULTS:\n",
      "Global ELO Accuracy: 0.6616724905461682 (62673 matches)\n",
      "2025 ELO Accuracy: 0.6395291809710643 (2039 matches)\n",
      "Global ELO Surface Accuracy: 0.6539658226030348 (62673 matches)\n",
      "2025 ELO surface Accuracy: 0.6503187837175086 (2039 matches)\n",
      "\n"
     ]
    },
    {
     "name": "stderr",
     "output_type": "stream",
     "text": [
      "100%|██████████| 197263/197263 [00:14<00:00, 13900.09it/s]\n",
      " 52%|█████▏    | 157/300 [37:13<33:55, 14.24s/it]"
     ]
    },
    {
     "name": "stdout",
     "output_type": "stream",
     "text": [
      "\n",
      "EVALUATION RESULTS:\n",
      "Global ELO Accuracy: 0.6516522266366697 (62673 matches)\n",
      "2025 ELO Accuracy: 0.6346248160863168 (2039 matches)\n",
      "Global ELO Surface Accuracy: 0.6449826879198379 (62673 matches)\n",
      "2025 ELO surface Accuracy: 0.63805787150564 (2039 matches)\n",
      "\n"
     ]
    },
    {
     "name": "stderr",
     "output_type": "stream",
     "text": [
      "100%|██████████| 197263/197263 [00:14<00:00, 13893.13it/s]\n",
      " 53%|█████▎    | 158/300 [37:27<33:44, 14.26s/it]"
     ]
    },
    {
     "name": "stdout",
     "output_type": "stream",
     "text": [
      "\n",
      "EVALUATION RESULTS:\n",
      "Global ELO Accuracy: 0.6579069136629808 (62673 matches)\n",
      "2025 ELO Accuracy: 0.6449239823442864 (2039 matches)\n",
      "Global ELO Surface Accuracy: 0.6470729022066919 (62673 matches)\n",
      "2025 ELO surface Accuracy: 0.6405100539480137 (2039 matches)\n",
      "\n"
     ]
    },
    {
     "name": "stderr",
     "output_type": "stream",
     "text": [
      "100%|██████████| 197263/197263 [00:14<00:00, 13934.11it/s]\n",
      " 53%|█████▎    | 159/300 [37:42<33:30, 14.26s/it]"
     ]
    },
    {
     "name": "stdout",
     "output_type": "stream",
     "text": [
      "\n",
      "EVALUATION RESULTS:\n",
      "Global ELO Accuracy: 0.6610502130103872 (62673 matches)\n",
      "2025 ELO Accuracy: 0.6488474742520843 (2039 matches)\n",
      "Global ELO Surface Accuracy: 0.6548114818183268 (62673 matches)\n",
      "2025 ELO surface Accuracy: 0.6532614026483571 (2039 matches)\n",
      "\n"
     ]
    },
    {
     "name": "stderr",
     "output_type": "stream",
     "text": [
      "100%|██████████| 197263/197263 [00:14<00:00, 13950.50it/s]\n",
      " 53%|█████▎    | 160/300 [37:56<33:15, 14.25s/it]"
     ]
    },
    {
     "name": "stdout",
     "output_type": "stream",
     "text": [
      "\n",
      "EVALUATION RESULTS:\n",
      "Global ELO Accuracy: 0.6615129322036603 (62673 matches)\n",
      "2025 ELO Accuracy: 0.6459048553212359 (2039 matches)\n",
      "Global ELO Surface Accuracy: 0.6544285417963078 (62673 matches)\n",
      "2025 ELO surface Accuracy: 0.6459048553212359 (2039 matches)\n",
      "\n"
     ]
    },
    {
     "name": "stderr",
     "output_type": "stream",
     "text": [
      "100%|██████████| 197263/197263 [00:14<00:00, 13995.17it/s]\n",
      " 54%|█████▎    | 161/300 [38:10<32:59, 14.24s/it]"
     ]
    },
    {
     "name": "stdout",
     "output_type": "stream",
     "text": [
      "\n",
      "EVALUATION RESULTS:\n",
      "Global ELO Accuracy: 0.6571569894531936 (62673 matches)\n",
      "2025 ELO Accuracy: 0.6370769985286905 (2039 matches)\n",
      "Global ELO Surface Accuracy: 0.6504076715651078 (62673 matches)\n",
      "2025 ELO surface Accuracy: 0.6429622363903874 (2039 matches)\n",
      "\n"
     ]
    },
    {
     "name": "stderr",
     "output_type": "stream",
     "text": [
      "100%|██████████| 197263/197263 [00:14<00:00, 13957.89it/s]\n",
      " 54%|█████▍    | 162/300 [38:24<32:44, 14.24s/it]"
     ]
    },
    {
     "name": "stdout",
     "output_type": "stream",
     "text": [
      "\n",
      "EVALUATION RESULTS:\n",
      "Global ELO Accuracy: 0.6340050739552917 (62673 matches)\n",
      "2025 ELO Accuracy: 0.6174595389897009 (2039 matches)\n",
      "Global ELO Surface Accuracy: 0.6285481786415202 (62673 matches)\n",
      "2025 ELO surface Accuracy: 0.6150073565473271 (2039 matches)\n",
      "\n"
     ]
    },
    {
     "name": "stderr",
     "output_type": "stream",
     "text": [
      "100%|██████████| 197263/197263 [00:14<00:00, 13993.11it/s]\n",
      " 54%|█████▍    | 163/300 [38:38<32:29, 14.23s/it]"
     ]
    },
    {
     "name": "stdout",
     "output_type": "stream",
     "text": [
      "\n",
      "EVALUATION RESULTS:\n",
      "Global ELO Accuracy: 0.6322020646849521 (62673 matches)\n",
      "2025 ELO Accuracy: 0.6150073565473271 (2039 matches)\n",
      "Global ELO Surface Accuracy: 0.6315957429834219 (62673 matches)\n",
      "2025 ELO surface Accuracy: 0.6204021579205493 (2039 matches)\n",
      "\n"
     ]
    },
    {
     "name": "stderr",
     "output_type": "stream",
     "text": [
      "100%|██████████| 197263/197263 [00:14<00:00, 13940.26it/s]\n",
      " 55%|█████▍    | 164/300 [38:53<32:15, 14.24s/it]"
     ]
    },
    {
     "name": "stdout",
     "output_type": "stream",
     "text": [
      "\n",
      "EVALUATION RESULTS:\n",
      "Global ELO Accuracy: 0.6464665805051617 (62673 matches)\n",
      "2025 ELO Accuracy: 0.6302108876900442 (2039 matches)\n",
      "Global ELO Surface Accuracy: 0.6384886633797648 (62673 matches)\n",
      "2025 ELO surface Accuracy: 0.6257969592937714 (2039 matches)\n",
      "\n"
     ]
    },
    {
     "name": "stderr",
     "output_type": "stream",
     "text": [
      "100%|██████████| 197263/197263 [00:14<00:00, 13889.19it/s]\n",
      " 55%|█████▌    | 165/300 [39:07<32:04, 14.26s/it]"
     ]
    },
    {
     "name": "stdout",
     "output_type": "stream",
     "text": [
      "\n",
      "EVALUATION RESULTS:\n",
      "Global ELO Accuracy: 0.6610821246788888 (62673 matches)\n",
      "2025 ELO Accuracy: 0.6483570377636096 (2039 matches)\n",
      "Global ELO Surface Accuracy: 0.6538700875975301 (62673 matches)\n",
      "2025 ELO surface Accuracy: 0.6478666012751348 (2039 matches)\n",
      "\n"
     ]
    },
    {
     "name": "stderr",
     "output_type": "stream",
     "text": [
      "100%|██████████| 197263/197263 [00:14<00:00, 13989.20it/s]\n",
      " 55%|█████▌    | 166/300 [39:21<31:48, 14.24s/it]"
     ]
    },
    {
     "name": "stdout",
     "output_type": "stream",
     "text": [
      "\n",
      "EVALUATION RESULTS:\n",
      "Global ELO Accuracy: 0.6605715379828634 (62673 matches)\n",
      "2025 ELO Accuracy: 0.6498283472290338 (2039 matches)\n",
      "Global ELO Surface Accuracy: 0.6544444976305586 (62673 matches)\n",
      "2025 ELO surface Accuracy: 0.6547327121137813 (2039 matches)\n",
      "\n"
     ]
    },
    {
     "name": "stderr",
     "output_type": "stream",
     "text": [
      "100%|██████████| 197263/197263 [00:14<00:00, 13879.37it/s]\n",
      " 56%|█████▌    | 167/300 [39:36<31:37, 14.26s/it]"
     ]
    },
    {
     "name": "stdout",
     "output_type": "stream",
     "text": [
      "\n",
      "EVALUATION RESULTS:\n",
      "Global ELO Accuracy: 0.6595503645908126 (62673 matches)\n",
      "2025 ELO Accuracy: 0.6439431093673369 (2039 matches)\n",
      "Global ELO Surface Accuracy: 0.6497215706923236 (62673 matches)\n",
      "2025 ELO surface Accuracy: 0.6459048553212359 (2039 matches)\n",
      "\n"
     ]
    },
    {
     "name": "stderr",
     "output_type": "stream",
     "text": [
      "100%|██████████| 197263/197263 [00:14<00:00, 13931.24it/s]\n",
      " 56%|█████▌    | 168/300 [39:50<31:23, 14.27s/it]"
     ]
    },
    {
     "name": "stdout",
     "output_type": "stream",
     "text": [
      "\n",
      "EVALUATION RESULTS:\n",
      "Global ELO Accuracy: 0.656423021077657 (62673 matches)\n",
      "2025 ELO Accuracy: 0.6449239823442864 (2039 matches)\n",
      "Global ELO Surface Accuracy: 0.6451422462623458 (62673 matches)\n",
      "2025 ELO surface Accuracy: 0.6346248160863168 (2039 matches)\n",
      "\n"
     ]
    },
    {
     "name": "stderr",
     "output_type": "stream",
     "text": [
      "100%|██████████| 197263/197263 [00:14<00:00, 13946.76it/s]\n",
      " 56%|█████▋    | 169/300 [40:04<31:08, 14.26s/it]"
     ]
    },
    {
     "name": "stdout",
     "output_type": "stream",
     "text": [
      "\n",
      "EVALUATION RESULTS:\n",
      "Global ELO Accuracy: 0.6618001372201746 (62673 matches)\n",
      "2025 ELO Accuracy: 0.6468857282981854 (2039 matches)\n",
      "Global ELO Surface Accuracy: 0.6561039043926412 (62673 matches)\n",
      "2025 ELO surface Accuracy: 0.6562040215792055 (2039 matches)\n",
      "\n"
     ]
    },
    {
     "name": "stderr",
     "output_type": "stream",
     "text": [
      "100%|██████████| 197263/197263 [00:14<00:00, 13975.65it/s]\n",
      " 57%|█████▋    | 170/300 [40:18<30:52, 14.25s/it]"
     ]
    },
    {
     "name": "stdout",
     "output_type": "stream",
     "text": [
      "\n",
      "EVALUATION RESULTS:\n",
      "Global ELO Accuracy: 0.6611778596843936 (62673 matches)\n",
      "2025 ELO Accuracy: 0.6434526728788622 (2039 matches)\n",
      "Global ELO Surface Accuracy: 0.6512852424489014 (62673 matches)\n",
      "2025 ELO surface Accuracy: 0.6410004904364884 (2039 matches)\n",
      "\n"
     ]
    },
    {
     "name": "stderr",
     "output_type": "stream",
     "text": [
      "100%|██████████| 197263/197263 [00:14<00:00, 13944.88it/s]\n",
      " 57%|█████▋    | 171/300 [40:33<30:38, 14.25s/it]"
     ]
    },
    {
     "name": "stdout",
     "output_type": "stream",
     "text": [
      "\n",
      "EVALUATION RESULTS:\n",
      "Global ELO Accuracy: 0.6614491088666571 (62673 matches)\n",
      "2025 ELO Accuracy: 0.6419813634134379 (2039 matches)\n",
      "Global ELO Surface Accuracy: 0.6525138416862125 (62673 matches)\n",
      "2025 ELO surface Accuracy: 0.6439431093673369 (2039 matches)\n",
      "\n"
     ]
    },
    {
     "name": "stderr",
     "output_type": "stream",
     "text": [
      "100%|██████████| 197263/197263 [00:14<00:00, 13847.77it/s]\n",
      " 57%|█████▋    | 172/300 [40:47<30:27, 14.28s/it]"
     ]
    },
    {
     "name": "stdout",
     "output_type": "stream",
     "text": [
      "\n",
      "EVALUATION RESULTS:\n",
      "Global ELO Accuracy: 0.6618639605571778 (62673 matches)\n",
      "2025 ELO Accuracy: 0.6449239823442864 (2039 matches)\n",
      "Global ELO Surface Accuracy: 0.6564868444146602 (62673 matches)\n",
      "2025 ELO surface Accuracy: 0.6512996566944581 (2039 matches)\n",
      "\n"
     ]
    },
    {
     "name": "stderr",
     "output_type": "stream",
     "text": [
      "100%|██████████| 197263/197263 [00:14<00:00, 13886.77it/s]\n",
      " 58%|█████▊    | 173/300 [41:01<30:14, 14.29s/it]"
     ]
    },
    {
     "name": "stdout",
     "output_type": "stream",
     "text": [
      "\n",
      "EVALUATION RESULTS:\n",
      "Global ELO Accuracy: 0.6354251432036124 (62673 matches)\n",
      "2025 ELO Accuracy: 0.6204021579205493 (2039 matches)\n",
      "Global ELO Surface Accuracy: 0.6316276546519235 (62673 matches)\n",
      "2025 ELO surface Accuracy: 0.618930848455125 (2039 matches)\n",
      "\n"
     ]
    },
    {
     "name": "stderr",
     "output_type": "stream",
     "text": [
      "100%|██████████| 197263/197263 [00:14<00:00, 13724.07it/s]\n",
      " 58%|█████▊    | 174/300 [41:16<30:07, 14.35s/it]"
     ]
    },
    {
     "name": "stdout",
     "output_type": "stream",
     "text": [
      "\n",
      "EVALUATION RESULTS:\n",
      "Global ELO Accuracy: 0.6621352097394412 (62673 matches)\n",
      "2025 ELO Accuracy: 0.6488474742520843 (2039 matches)\n",
      "Global ELO Surface Accuracy: 0.6558166993761269 (62673 matches)\n",
      "2025 ELO surface Accuracy: 0.6512996566944581 (2039 matches)\n",
      "\n"
     ]
    },
    {
     "name": "stderr",
     "output_type": "stream",
     "text": [
      "100%|██████████| 197263/197263 [00:14<00:00, 13847.30it/s]\n",
      " 58%|█████▊    | 175/300 [41:30<29:53, 14.35s/it]"
     ]
    },
    {
     "name": "stdout",
     "output_type": "stream",
     "text": [
      "\n",
      "EVALUATION RESULTS:\n",
      "Global ELO Accuracy: 0.6605396263143618 (62673 matches)\n",
      "2025 ELO Accuracy: 0.6478666012751348 (2039 matches)\n",
      "Global ELO Surface Accuracy: 0.6550029518293364 (62673 matches)\n",
      "2025 ELO surface Accuracy: 0.6527709661598823 (2039 matches)\n",
      "\n"
     ]
    },
    {
     "name": "stderr",
     "output_type": "stream",
     "text": [
      "100%|██████████| 197263/197263 [00:14<00:00, 14010.17it/s]\n",
      " 59%|█████▊    | 176/300 [41:44<29:32, 14.30s/it]"
     ]
    },
    {
     "name": "stdout",
     "output_type": "stream",
     "text": [
      "\n",
      "EVALUATION RESULTS:\n",
      "Global ELO Accuracy: 0.661608667209165 (62673 matches)\n",
      "2025 ELO Accuracy: 0.6468857282981854 (2039 matches)\n",
      "Global ELO Surface Accuracy: 0.6552582451773491 (62673 matches)\n",
      "2025 ELO surface Accuracy: 0.6463952918097107 (2039 matches)\n",
      "\n"
     ]
    },
    {
     "name": "stderr",
     "output_type": "stream",
     "text": [
      "100%|██████████| 197263/197263 [00:14<00:00, 13995.55it/s]\n",
      " 59%|█████▉    | 177/300 [41:58<29:15, 14.27s/it]"
     ]
    },
    {
     "name": "stdout",
     "output_type": "stream",
     "text": [
      "\n",
      "EVALUATION RESULTS:\n",
      "Global ELO Accuracy: 0.6383131492030061 (62673 matches)\n",
      "2025 ELO Accuracy: 0.6243256498283473 (2039 matches)\n",
      "Global ELO Surface Accuracy: 0.6352017615241012 (62673 matches)\n",
      "2025 ELO surface Accuracy: 0.6292300147130947 (2039 matches)\n",
      "\n"
     ]
    },
    {
     "name": "stderr",
     "output_type": "stream",
     "text": [
      "100%|██████████| 197263/197263 [00:14<00:00, 14016.31it/s]\n",
      " 59%|█████▉    | 178/300 [42:13<28:57, 14.24s/it]"
     ]
    },
    {
     "name": "stdout",
     "output_type": "stream",
     "text": [
      "\n",
      "EVALUATION RESULTS:\n",
      "Global ELO Accuracy: 0.6621032980709396 (62673 matches)\n",
      "2025 ELO Accuracy: 0.6483570377636096 (2039 matches)\n",
      "Global ELO Surface Accuracy: 0.6564708885804095 (62673 matches)\n",
      "2025 ELO surface Accuracy: 0.6547327121137813 (2039 matches)\n",
      "\n"
     ]
    },
    {
     "name": "stderr",
     "output_type": "stream",
     "text": [
      "100%|██████████| 197263/197263 [00:14<00:00, 13974.36it/s]\n",
      " 60%|█████▉    | 179/300 [42:27<28:42, 14.23s/it]"
     ]
    },
    {
     "name": "stdout",
     "output_type": "stream",
     "text": [
      "\n",
      "EVALUATION RESULTS:\n",
      "Global ELO Accuracy: 0.6610342571761365 (62673 matches)\n",
      "2025 ELO Accuracy: 0.6439431093673369 (2039 matches)\n",
      "Global ELO Surface Accuracy: 0.6511416399406443 (62673 matches)\n",
      "2025 ELO surface Accuracy: 0.6444335458558117 (2039 matches)\n",
      "\n"
     ]
    },
    {
     "name": "stderr",
     "output_type": "stream",
     "text": [
      "100%|██████████| 197263/197263 [00:14<00:00, 13924.61it/s]\n",
      " 60%|██████    | 180/300 [42:41<28:29, 14.24s/it]"
     ]
    },
    {
     "name": "stdout",
     "output_type": "stream",
     "text": [
      "\n",
      "EVALUATION RESULTS:\n",
      "Global ELO Accuracy: 0.6622628564134476 (62673 matches)\n",
      "2025 ELO Accuracy: 0.6419813634134379 (2039 matches)\n",
      "Global ELO Surface Accuracy: 0.6550986868348412 (62673 matches)\n",
      "2025 ELO surface Accuracy: 0.6478666012751348 (2039 matches)\n",
      "\n"
     ]
    },
    {
     "name": "stderr",
     "output_type": "stream",
     "text": [
      "100%|██████████| 197263/197263 [00:14<00:00, 14023.37it/s]\n",
      " 60%|██████    | 181/300 [42:55<28:12, 14.22s/it]"
     ]
    },
    {
     "name": "stdout",
     "output_type": "stream",
     "text": [
      "\n",
      "EVALUATION RESULTS:\n",
      "Global ELO Accuracy: 0.662071386402438 (62673 matches)\n",
      "2025 ELO Accuracy: 0.6488474742520843 (2039 matches)\n",
      "Global ELO Surface Accuracy: 0.6564549327461586 (62673 matches)\n",
      "2025 ELO surface Accuracy: 0.6557135850907307 (2039 matches)\n",
      "\n"
     ]
    },
    {
     "name": "stderr",
     "output_type": "stream",
     "text": [
      "100%|██████████| 197263/197263 [00:13<00:00, 14110.18it/s]\n",
      " 61%|██████    | 182/300 [43:09<27:53, 14.18s/it]"
     ]
    },
    {
     "name": "stdout",
     "output_type": "stream",
     "text": [
      "\n",
      "EVALUATION RESULTS:\n",
      "Global ELO Accuracy: 0.6610342571761365 (62673 matches)\n",
      "2025 ELO Accuracy: 0.6503187837175086 (2039 matches)\n",
      "Global ELO Surface Accuracy: 0.6542530276195491 (62673 matches)\n",
      "2025 ELO surface Accuracy: 0.6517900931829328 (2039 matches)\n",
      "\n"
     ]
    },
    {
     "name": "stderr",
     "output_type": "stream",
     "text": [
      "100%|██████████| 197263/197263 [00:14<00:00, 13950.81it/s]\n",
      " 61%|██████    | 183/300 [43:24<27:41, 14.20s/it]"
     ]
    },
    {
     "name": "stdout",
     "output_type": "stream",
     "text": [
      "\n",
      "EVALUATION RESULTS:\n",
      "Global ELO Accuracy: 0.6617682255516729 (62673 matches)\n",
      "2025 ELO Accuracy: 0.6463952918097107 (2039 matches)\n",
      "Global ELO Surface Accuracy: 0.656343241906403 (62673 matches)\n",
      "2025 ELO surface Accuracy: 0.6503187837175086 (2039 matches)\n",
      "\n"
     ]
    },
    {
     "name": "stderr",
     "output_type": "stream",
     "text": [
      "100%|██████████| 197263/197263 [00:14<00:00, 14042.73it/s]\n",
      " 61%|██████▏   | 184/300 [43:38<27:25, 14.19s/it]"
     ]
    },
    {
     "name": "stdout",
     "output_type": "stream",
     "text": [
      "\n",
      "EVALUATION RESULTS:\n",
      "Global ELO Accuracy: 0.662071386402438 (62673 matches)\n",
      "2025 ELO Accuracy: 0.6493379107405591 (2039 matches)\n",
      "Global ELO Surface Accuracy: 0.6572686802929492 (62673 matches)\n",
      "2025 ELO surface Accuracy: 0.6552231486022561 (2039 matches)\n",
      "\n"
     ]
    },
    {
     "name": "stderr",
     "output_type": "stream",
     "text": [
      "100%|██████████| 197263/197263 [00:14<00:00, 14078.81it/s]\n",
      " 62%|██████▏   | 185/300 [43:52<27:08, 14.16s/it]"
     ]
    },
    {
     "name": "stdout",
     "output_type": "stream",
     "text": [
      "\n",
      "EVALUATION RESULTS:\n",
      "Global ELO Accuracy: 0.6618799163914285 (62673 matches)\n",
      "2025 ELO Accuracy: 0.6483570377636096 (2039 matches)\n",
      "Global ELO Surface Accuracy: 0.6555294943596126 (62673 matches)\n",
      "2025 ELO surface Accuracy: 0.6512996566944581 (2039 matches)\n",
      "\n"
     ]
    },
    {
     "name": "stderr",
     "output_type": "stream",
     "text": [
      "100%|██████████| 197263/197263 [00:14<00:00, 14075.50it/s]\n",
      " 62%|██████▏   | 186/300 [44:06<26:53, 14.15s/it]"
     ]
    },
    {
     "name": "stdout",
     "output_type": "stream",
     "text": [
      "\n",
      "EVALUATION RESULTS:\n",
      "Global ELO Accuracy: 0.6613214621926508 (62673 matches)\n",
      "2025 ELO Accuracy: 0.6478666012751348 (2039 matches)\n",
      "Global ELO Surface Accuracy: 0.6554337593541079 (62673 matches)\n",
      "2025 ELO surface Accuracy: 0.6532614026483571 (2039 matches)\n",
      "\n"
     ]
    },
    {
     "name": "stderr",
     "output_type": "stream",
     "text": [
      "100%|██████████| 197263/197263 [00:14<00:00, 14000.57it/s]\n",
      " 62%|██████▏   | 187/300 [44:20<26:40, 14.16s/it]"
     ]
    },
    {
     "name": "stdout",
     "output_type": "stream",
     "text": [
      "\n",
      "EVALUATION RESULTS:\n",
      "Global ELO Accuracy: 0.6604279354746063 (62673 matches)\n",
      "2025 ELO Accuracy: 0.6508092202059833 (2039 matches)\n",
      "Global ELO Surface Accuracy: 0.6538381759290285 (62673 matches)\n",
      "2025 ELO surface Accuracy: 0.6532614026483571 (2039 matches)\n",
      "\n"
     ]
    },
    {
     "name": "stderr",
     "output_type": "stream",
     "text": [
      "100%|██████████| 197263/197263 [00:14<00:00, 14061.96it/s]\n",
      " 63%|██████▎   | 188/300 [44:34<26:25, 14.15s/it]"
     ]
    },
    {
     "name": "stdout",
     "output_type": "stream",
     "text": [
      "\n",
      "EVALUATION RESULTS:\n",
      "Global ELO Accuracy: 0.6618480047229269 (62673 matches)\n",
      "2025 ELO Accuracy: 0.6414909269249632 (2039 matches)\n",
      "Global ELO Surface Accuracy: 0.6550986868348412 (62673 matches)\n",
      "2025 ELO surface Accuracy: 0.6493379107405591 (2039 matches)\n",
      "\n"
     ]
    },
    {
     "name": "stderr",
     "output_type": "stream",
     "text": [
      "100%|██████████| 197263/197263 [00:14<00:00, 14080.32it/s]\n",
      " 63%|██████▎   | 189/300 [44:48<26:09, 14.14s/it]"
     ]
    },
    {
     "name": "stdout",
     "output_type": "stream",
     "text": [
      "\n",
      "EVALUATION RESULTS:\n",
      "Global ELO Accuracy: 0.6617841813859238 (62673 matches)\n",
      "2025 ELO Accuracy: 0.640019617459539 (2039 matches)\n",
      "Global ELO Surface Accuracy: 0.6536626617522697 (62673 matches)\n",
      "2025 ELO surface Accuracy: 0.6459048553212359 (2039 matches)\n",
      "\n"
     ]
    },
    {
     "name": "stderr",
     "output_type": "stream",
     "text": [
      "100%|██████████| 197263/197263 [00:14<00:00, 14024.56it/s]\n",
      " 63%|██████▎   | 190/300 [45:03<25:56, 14.15s/it]"
     ]
    },
    {
     "name": "stdout",
     "output_type": "stream",
     "text": [
      "\n",
      "EVALUATION RESULTS:\n",
      "Global ELO Accuracy: 0.6360155090708918 (62673 matches)\n",
      "2025 ELO Accuracy: 0.6213830308974988 (2039 matches)\n",
      "Global ELO Surface Accuracy: 0.6325052255357171 (62673 matches)\n",
      "2025 ELO surface Accuracy: 0.620892594409024 (2039 matches)\n",
      "\n"
     ]
    },
    {
     "name": "stderr",
     "output_type": "stream",
     "text": [
      "100%|██████████| 197263/197263 [00:14<00:00, 14074.15it/s]\n",
      " 64%|██████▎   | 191/300 [45:17<25:41, 14.14s/it]"
     ]
    },
    {
     "name": "stdout",
     "output_type": "stream",
     "text": [
      "\n",
      "EVALUATION RESULTS:\n",
      "Global ELO Accuracy: 0.661608667209165 (62673 matches)\n",
      "2025 ELO Accuracy: 0.6483570377636096 (2039 matches)\n",
      "Global ELO Surface Accuracy: 0.6552422893430982 (62673 matches)\n",
      "2025 ELO surface Accuracy: 0.6483570377636096 (2039 matches)\n",
      "\n"
     ]
    },
    {
     "name": "stderr",
     "output_type": "stream",
     "text": [
      "100%|██████████| 197263/197263 [00:13<00:00, 14111.10it/s]\n",
      " 64%|██████▍   | 192/300 [45:31<25:25, 14.12s/it]"
     ]
    },
    {
     "name": "stdout",
     "output_type": "stream",
     "text": [
      "\n",
      "EVALUATION RESULTS:\n",
      "Global ELO Accuracy: 0.6614650647009079 (62673 matches)\n",
      "2025 ELO Accuracy: 0.6478666012751348 (2039 matches)\n",
      "Global ELO Surface Accuracy: 0.6545083209675618 (62673 matches)\n",
      "2025 ELO surface Accuracy: 0.6449239823442864 (2039 matches)\n",
      "\n"
     ]
    },
    {
     "name": "stderr",
     "output_type": "stream",
     "text": [
      "100%|██████████| 197263/197263 [00:13<00:00, 14110.92it/s]\n",
      " 64%|██████▍   | 193/300 [45:45<25:09, 14.11s/it]"
     ]
    },
    {
     "name": "stdout",
     "output_type": "stream",
     "text": [
      "\n",
      "EVALUATION RESULTS:\n",
      "Global ELO Accuracy: 0.6618001372201746 (62673 matches)\n",
      "2025 ELO Accuracy: 0.6405100539480137 (2039 matches)\n",
      "Global ELO Surface Accuracy: 0.6546359676415682 (62673 matches)\n",
      "2025 ELO surface Accuracy: 0.6463952918097107 (2039 matches)\n",
      "\n"
     ]
    },
    {
     "name": "stderr",
     "output_type": "stream",
     "text": [
      "100%|██████████| 197263/197263 [00:14<00:00, 14057.81it/s]\n",
      " 65%|██████▍   | 194/300 [45:59<24:56, 14.12s/it]"
     ]
    },
    {
     "name": "stdout",
     "output_type": "stream",
     "text": [
      "\n",
      "EVALUATION RESULTS:\n",
      "Global ELO Accuracy: 0.6611778596843936 (62673 matches)\n",
      "2025 ELO Accuracy: 0.6473761647866602 (2039 matches)\n",
      "Global ELO Surface Accuracy: 0.6545402326360634 (62673 matches)\n",
      "2025 ELO surface Accuracy: 0.6449239823442864 (2039 matches)\n",
      "\n"
     ]
    },
    {
     "name": "stderr",
     "output_type": "stream",
     "text": [
      "100%|██████████| 197263/197263 [00:14<00:00, 14049.49it/s]\n",
      " 65%|██████▌   | 195/300 [46:13<24:43, 14.13s/it]"
     ]
    },
    {
     "name": "stdout",
     "output_type": "stream",
     "text": [
      "\n",
      "EVALUATION RESULTS:\n",
      "Global ELO Accuracy: 0.6615288880379111 (62673 matches)\n",
      "2025 ELO Accuracy: 0.6488474742520843 (2039 matches)\n",
      "Global ELO Surface Accuracy: 0.6552422893430982 (62673 matches)\n",
      "2025 ELO surface Accuracy: 0.6527709661598823 (2039 matches)\n",
      "\n"
     ]
    },
    {
     "name": "stderr",
     "output_type": "stream",
     "text": [
      "100%|██████████| 197263/197263 [00:14<00:00, 14010.74it/s]\n",
      " 65%|██████▌   | 196/300 [46:27<24:30, 14.14s/it]"
     ]
    },
    {
     "name": "stdout",
     "output_type": "stream",
     "text": [
      "\n",
      "EVALUATION RESULTS:\n",
      "Global ELO Accuracy: 0.6614969763694095 (62673 matches)\n",
      "2025 ELO Accuracy: 0.6454144188327612 (2039 matches)\n",
      "Global ELO Surface Accuracy: 0.6558007435418761 (62673 matches)\n",
      "2025 ELO surface Accuracy: 0.6498283472290338 (2039 matches)\n",
      "\n"
     ]
    },
    {
     "name": "stderr",
     "output_type": "stream",
     "text": [
      "100%|██████████| 197263/197263 [00:14<00:00, 14058.04it/s]\n",
      " 66%|██████▌   | 197/300 [46:41<24:16, 14.14s/it]"
     ]
    },
    {
     "name": "stdout",
     "output_type": "stream",
     "text": [
      "\n",
      "EVALUATION RESULTS:\n",
      "Global ELO Accuracy: 0.6485408389577649 (62673 matches)\n",
      "2025 ELO Accuracy: 0.6331535066208926 (2039 matches)\n",
      "Global ELO Surface Accuracy: 0.6383769725400092 (62673 matches)\n",
      "2025 ELO surface Accuracy: 0.6316821971554684 (2039 matches)\n",
      "\n"
     ]
    },
    {
     "name": "stderr",
     "output_type": "stream",
     "text": [
      "100%|██████████| 197263/197263 [00:13<00:00, 14123.59it/s]\n",
      " 66%|██████▌   | 198/300 [46:56<24:00, 14.12s/it]"
     ]
    },
    {
     "name": "stdout",
     "output_type": "stream",
     "text": [
      "\n",
      "EVALUATION RESULTS:\n",
      "Global ELO Accuracy: 0.659678011264819 (62673 matches)\n",
      "2025 ELO Accuracy: 0.6429622363903874 (2039 matches)\n",
      "Global ELO Surface Accuracy: 0.6501045107143427 (62673 matches)\n",
      "2025 ELO surface Accuracy: 0.6385483079941148 (2039 matches)\n",
      "\n"
     ]
    },
    {
     "name": "stderr",
     "output_type": "stream",
     "text": [
      "100%|██████████| 197263/197263 [00:14<00:00, 13949.17it/s]\n",
      " 66%|██████▋   | 199/300 [47:10<23:49, 14.16s/it]"
     ]
    },
    {
     "name": "stdout",
     "output_type": "stream",
     "text": [
      "\n",
      "EVALUATION RESULTS:\n",
      "Global ELO Accuracy: 0.6619277838941809 (62673 matches)\n",
      "2025 ELO Accuracy: 0.6434526728788622 (2039 matches)\n",
      "Global ELO Surface Accuracy: 0.6553858918513554 (62673 matches)\n",
      "2025 ELO surface Accuracy: 0.6473761647866602 (2039 matches)\n",
      "\n"
     ]
    },
    {
     "name": "stderr",
     "output_type": "stream",
     "text": [
      "100%|██████████| 197263/197263 [00:14<00:00, 14051.93it/s]\n",
      " 67%|██████▋   | 200/300 [47:24<23:35, 14.15s/it]"
     ]
    },
    {
     "name": "stdout",
     "output_type": "stream",
     "text": [
      "\n",
      "EVALUATION RESULTS:\n",
      "Global ELO Accuracy: 0.6617203580489206 (62673 matches)\n",
      "2025 ELO Accuracy: 0.6463952918097107 (2039 matches)\n",
      "Global ELO Surface Accuracy: 0.6547636143155745 (62673 matches)\n",
      "2025 ELO surface Accuracy: 0.6478666012751348 (2039 matches)\n",
      "\n"
     ]
    },
    {
     "name": "stderr",
     "output_type": "stream",
     "text": [
      "100%|██████████| 197263/197263 [00:14<00:00, 14001.78it/s]\n",
      " 67%|██████▋   | 201/300 [47:38<23:22, 14.16s/it]"
     ]
    },
    {
     "name": "stdout",
     "output_type": "stream",
     "text": [
      "\n",
      "EVALUATION RESULTS:\n",
      "Global ELO Accuracy: 0.6542849392880506 (62673 matches)\n",
      "2025 ELO Accuracy: 0.6370769985286905 (2039 matches)\n",
      "Global ELO Surface Accuracy: 0.6454613629473617 (62673 matches)\n",
      "2025 ELO surface Accuracy: 0.6429622363903874 (2039 matches)\n",
      "\n"
     ]
    },
    {
     "name": "stderr",
     "output_type": "stream",
     "text": [
      "100%|██████████| 197263/197263 [00:13<00:00, 14163.31it/s]\n",
      " 67%|██████▋   | 202/300 [47:52<23:04, 14.12s/it]"
     ]
    },
    {
     "name": "stdout",
     "output_type": "stream",
     "text": [
      "\n",
      "EVALUATION RESULTS:\n",
      "Global ELO Accuracy: 0.6613533738611523 (62673 matches)\n",
      "2025 ELO Accuracy: 0.6488474742520843 (2039 matches)\n",
      "Global ELO Surface Accuracy: 0.6561836835638951 (62673 matches)\n",
      "2025 ELO surface Accuracy: 0.6522805296714076 (2039 matches)\n",
      "\n"
     ]
    },
    {
     "name": "stderr",
     "output_type": "stream",
     "text": [
      "100%|██████████| 197263/197263 [00:13<00:00, 14106.18it/s]\n",
      " 68%|██████▊   | 203/300 [48:06<22:48, 14.11s/it]"
     ]
    },
    {
     "name": "stdout",
     "output_type": "stream",
     "text": [
      "\n",
      "EVALUATION RESULTS:\n",
      "Global ELO Accuracy: 0.6608268313308762 (62673 matches)\n",
      "2025 ELO Accuracy: 0.6508092202059833 (2039 matches)\n",
      "Global ELO Surface Accuracy: 0.6548274376525777 (62673 matches)\n",
      "2025 ELO surface Accuracy: 0.6532614026483571 (2039 matches)\n",
      "\n"
     ]
    },
    {
     "name": "stderr",
     "output_type": "stream",
     "text": [
      "100%|██████████| 197263/197263 [00:13<00:00, 14126.60it/s]\n",
      " 68%|██████▊   | 204/300 [48:20<22:33, 14.10s/it]"
     ]
    },
    {
     "name": "stdout",
     "output_type": "stream",
     "text": [
      "\n",
      "EVALUATION RESULTS:\n",
      "Global ELO Accuracy: 0.6609385221706316 (62673 matches)\n",
      "2025 ELO Accuracy: 0.6434526728788622 (2039 matches)\n",
      "Global ELO Surface Accuracy: 0.6510459049351396 (62673 matches)\n",
      "2025 ELO surface Accuracy: 0.6419813634134379 (2039 matches)\n",
      "\n"
     ]
    },
    {
     "name": "stderr",
     "output_type": "stream",
     "text": [
      "100%|██████████| 197263/197263 [00:13<00:00, 14103.59it/s]\n",
      " 68%|██████▊   | 205/300 [48:34<22:19, 14.10s/it]"
     ]
    },
    {
     "name": "stdout",
     "output_type": "stream",
     "text": [
      "\n",
      "EVALUATION RESULTS:\n",
      "Global ELO Accuracy: 0.6595663204250635 (62673 matches)\n",
      "2025 ELO Accuracy: 0.6414909269249632 (2039 matches)\n",
      "Global ELO Surface Accuracy: 0.6512373749461491 (62673 matches)\n",
      "2025 ELO surface Accuracy: 0.6424717999019127 (2039 matches)\n",
      "\n"
     ]
    },
    {
     "name": "stderr",
     "output_type": "stream",
     "text": [
      "100%|██████████| 197263/197263 [00:14<00:00, 13970.70it/s]\n",
      " 69%|██████▊   | 206/300 [48:49<22:08, 14.13s/it]"
     ]
    },
    {
     "name": "stdout",
     "output_type": "stream",
     "text": [
      "\n",
      "EVALUATION RESULTS:\n",
      "Global ELO Accuracy: 0.6614171971981555 (62673 matches)\n",
      "2025 ELO Accuracy: 0.6503187837175086 (2039 matches)\n",
      "Global ELO Surface Accuracy: 0.6561358160611428 (62673 matches)\n",
      "2025 ELO surface Accuracy: 0.6527709661598823 (2039 matches)\n",
      "\n"
     ]
    },
    {
     "name": "stderr",
     "output_type": "stream",
     "text": [
      "100%|██████████| 197263/197263 [00:14<00:00, 13903.00it/s]\n",
      " 69%|██████▉   | 207/300 [49:03<21:58, 14.18s/it]"
     ]
    },
    {
     "name": "stdout",
     "output_type": "stream",
     "text": [
      "\n",
      "EVALUATION RESULTS:\n",
      "Global ELO Accuracy: 0.6615927113749143 (62673 matches)\n",
      "2025 ELO Accuracy: 0.6405100539480137 (2039 matches)\n",
      "Global ELO Surface Accuracy: 0.6548912609895808 (62673 matches)\n",
      "2025 ELO surface Accuracy: 0.6488474742520843 (2039 matches)\n",
      "\n"
     ]
    },
    {
     "name": "stderr",
     "output_type": "stream",
     "text": [
      "100%|██████████| 197263/197263 [00:14<00:00, 14011.19it/s]\n",
      " 69%|██████▉   | 208/300 [49:17<21:44, 14.18s/it]"
     ]
    },
    {
     "name": "stdout",
     "output_type": "stream",
     "text": [
      "\n",
      "EVALUATION RESULTS:\n",
      "Global ELO Accuracy: 0.6603800679718539 (62673 matches)\n",
      "2025 ELO Accuracy: 0.6419813634134379 (2039 matches)\n",
      "Global ELO Surface Accuracy: 0.6528170025369776 (62673 matches)\n",
      "2025 ELO surface Accuracy: 0.6434526728788622 (2039 matches)\n",
      "\n"
     ]
    },
    {
     "name": "stderr",
     "output_type": "stream",
     "text": [
      "100%|██████████| 197263/197263 [00:14<00:00, 13945.35it/s]\n",
      " 70%|██████▉   | 209/300 [49:31<21:32, 14.20s/it]"
     ]
    },
    {
     "name": "stdout",
     "output_type": "stream",
     "text": [
      "\n",
      "EVALUATION RESULTS:\n",
      "Global ELO Accuracy: 0.6604598471431079 (62673 matches)\n",
      "2025 ELO Accuracy: 0.6483570377636096 (2039 matches)\n",
      "Global ELO Surface Accuracy: 0.655417803519857 (62673 matches)\n",
      "2025 ELO surface Accuracy: 0.6542422756253066 (2039 matches)\n",
      "\n"
     ]
    },
    {
     "name": "stderr",
     "output_type": "stream",
     "text": [
      "100%|██████████| 197263/197263 [00:14<00:00, 13943.77it/s]\n",
      " 70%|███████   | 210/300 [49:46<21:19, 14.22s/it]"
     ]
    },
    {
     "name": "stdout",
     "output_type": "stream",
     "text": [
      "\n",
      "EVALUATION RESULTS:\n",
      "Global ELO Accuracy: 0.6628851339492285 (62673 matches)\n",
      "2025 ELO Accuracy: 0.6473761647866602 (2039 matches)\n",
      "Global ELO Surface Accuracy: 0.6573963269669555 (62673 matches)\n",
      "2025 ELO surface Accuracy: 0.6532614026483571 (2039 matches)\n",
      "\n"
     ]
    },
    {
     "name": "stderr",
     "output_type": "stream",
     "text": [
      "100%|██████████| 197263/197263 [00:14<00:00, 13941.45it/s]\n",
      " 70%|███████   | 211/300 [50:00<21:06, 14.23s/it]"
     ]
    },
    {
     "name": "stdout",
     "output_type": "stream",
     "text": [
      "\n",
      "EVALUATION RESULTS:\n",
      "Global ELO Accuracy: 0.6620235188996857 (62673 matches)\n",
      "2025 ELO Accuracy: 0.6444335458558117 (2039 matches)\n",
      "Global ELO Surface Accuracy: 0.6562155952323967 (62673 matches)\n",
      "2025 ELO surface Accuracy: 0.6493379107405591 (2039 matches)\n",
      "\n"
     ]
    },
    {
     "name": "stderr",
     "output_type": "stream",
     "text": [
      "100%|██████████| 197263/197263 [00:14<00:00, 13955.48it/s]\n",
      " 71%|███████   | 212/300 [50:14<20:52, 14.23s/it]"
     ]
    },
    {
     "name": "stdout",
     "output_type": "stream",
     "text": [
      "\n",
      "EVALUATION RESULTS:\n",
      "Global ELO Accuracy: 0.6620075630654348 (62673 matches)\n",
      "2025 ELO Accuracy: 0.6478666012751348 (2039 matches)\n",
      "Global ELO Surface Accuracy: 0.6559762577186348 (62673 matches)\n",
      "2025 ELO surface Accuracy: 0.6537518391368318 (2039 matches)\n",
      "\n"
     ]
    },
    {
     "name": "stderr",
     "output_type": "stream",
     "text": [
      "100%|██████████| 197263/197263 [16:59<00:00, 193.48it/s]  \n",
      " 71%|███████   | 213/300 [1:07:14<7:37:59, 315.86s/it]"
     ]
    },
    {
     "name": "stdout",
     "output_type": "stream",
     "text": [
      "\n",
      "EVALUATION RESULTS:\n",
      "Global ELO Accuracy: 0.6614650647009079 (62673 matches)\n",
      "2025 ELO Accuracy: 0.6419813634134379 (2039 matches)\n",
      "Global ELO Surface Accuracy: 0.6530563400507395 (62673 matches)\n",
      "2025 ELO surface Accuracy: 0.6444335458558117 (2039 matches)\n",
      "\n"
     ]
    },
    {
     "name": "stderr",
     "output_type": "stream",
     "text": [
      "100%|██████████| 197263/197263 [50:17<00:00, 65.36it/s]\n",
      " 71%|███████▏  | 214/300 [1:57:32<26:54:39, 1126.51s/it]"
     ]
    },
    {
     "name": "stdout",
     "output_type": "stream",
     "text": [
      "\n",
      "EVALUATION RESULTS:\n",
      "Global ELO Accuracy: 0.6611140363473904 (62673 matches)\n",
      "2025 ELO Accuracy: 0.6508092202059833 (2039 matches)\n",
      "Global ELO Surface Accuracy: 0.6549869959950856 (62673 matches)\n",
      "2025 ELO surface Accuracy: 0.6517900931829328 (2039 matches)\n",
      "\n"
     ]
    },
    {
     "name": "stderr",
     "output_type": "stream",
     "text": [
      "100%|██████████| 197263/197263 [31:24<00:00, 104.66it/s]  \n",
      " 72%|███████▏  | 215/300 [2:28:57<31:58:14, 1354.05s/it]"
     ]
    },
    {
     "name": "stdout",
     "output_type": "stream",
     "text": [
      "\n",
      "EVALUATION RESULTS:\n",
      "Global ELO Accuracy: 0.6617203580489206 (62673 matches)\n",
      "2025 ELO Accuracy: 0.6473761647866602 (2039 matches)\n",
      "Global ELO Surface Accuracy: 0.6553858918513554 (62673 matches)\n",
      "2025 ELO surface Accuracy: 0.6488474742520843 (2039 matches)\n",
      "\n"
     ]
    },
    {
     "name": "stderr",
     "output_type": "stream",
     "text": [
      "100%|██████████| 197263/197263 [38:03<00:00, 86.38it/s]\n",
      " 72%|███████▏  | 216/300 [3:07:00<38:06:06, 1632.93s/it]"
     ]
    },
    {
     "name": "stdout",
     "output_type": "stream",
     "text": [
      "\n",
      "EVALUATION RESULTS:\n",
      "Global ELO Accuracy: 0.6616565347119174 (62673 matches)\n",
      "2025 ELO Accuracy: 0.6405100539480137 (2039 matches)\n",
      "Global ELO Surface Accuracy: 0.6556252293651174 (62673 matches)\n",
      "2025 ELO surface Accuracy: 0.6463952918097107 (2039 matches)\n",
      "\n"
     ]
    },
    {
     "name": "stderr",
     "output_type": "stream",
     "text": [
      "100%|██████████| 197263/197263 [32:18<00:00, 101.75it/s]  \n",
      " 72%|███████▏  | 217/300 [3:39:19<39:45:51, 1724.71s/it]"
     ]
    },
    {
     "name": "stdout",
     "output_type": "stream",
     "text": [
      "\n",
      "EVALUATION RESULTS:\n",
      "Global ELO Accuracy: 0.6619916072311841 (62673 matches)\n",
      "2025 ELO Accuracy: 0.6444335458558117 (2039 matches)\n",
      "Global ELO Surface Accuracy: 0.654572144304565 (62673 matches)\n",
      "2025 ELO surface Accuracy: 0.6512996566944581 (2039 matches)\n",
      "\n"
     ]
    },
    {
     "name": "stderr",
     "output_type": "stream",
     "text": [
      "100%|██████████| 197263/197263 [29:24<00:00, 111.79it/s]  \n",
      " 73%|███████▎  | 218/300 [4:08:44<39:33:28, 1736.68s/it]"
     ]
    },
    {
     "name": "stdout",
     "output_type": "stream",
     "text": [
      "\n",
      "EVALUATION RESULTS:\n",
      "Global ELO Accuracy: 0.6610821246788888 (62673 matches)\n",
      "2025 ELO Accuracy: 0.6508092202059833 (2039 matches)\n",
      "Global ELO Surface Accuracy: 0.6547157468128221 (62673 matches)\n",
      "2025 ELO surface Accuracy: 0.6532614026483571 (2039 matches)\n",
      "\n"
     ]
    },
    {
     "name": "stderr",
     "output_type": "stream",
     "text": [
      "100%|██████████| 197263/197263 [32:34<00:00, 100.90it/s]\n",
      " 73%|███████▎  | 219/300 [4:41:19<40:32:58, 1802.20s/it]"
     ]
    },
    {
     "name": "stdout",
     "output_type": "stream",
     "text": [
      "\n",
      "EVALUATION RESULTS:\n",
      "Global ELO Accuracy: 0.6489237789797839 (62673 matches)\n",
      "2025 ELO Accuracy: 0.6316821971554684 (2039 matches)\n",
      "Global ELO Surface Accuracy: 0.6397332184513267 (62673 matches)\n",
      "2025 ELO surface Accuracy: 0.6277587052476704 (2039 matches)\n",
      "\n"
     ]
    },
    {
     "name": "stderr",
     "output_type": "stream",
     "text": [
      "100%|██████████| 197263/197263 [12:05<00:00, 271.88it/s]  \n",
      " 73%|███████▎  | 220/300 [4:53:25<32:52:19, 1479.24s/it]"
     ]
    },
    {
     "name": "stdout",
     "output_type": "stream",
     "text": [
      "\n",
      "EVALUATION RESULTS:\n",
      "Global ELO Accuracy: 0.6543168509565522 (62673 matches)\n",
      "2025 ELO Accuracy: 0.6341343795978421 (2039 matches)\n",
      "Global ELO Surface Accuracy: 0.6464027571681585 (62673 matches)\n",
      "2025 ELO surface Accuracy: 0.6419813634134379 (2039 matches)\n",
      "\n"
     ]
    },
    {
     "name": "stderr",
     "output_type": "stream",
     "text": [
      "100%|██████████| 197263/197263 [47:42<00:00, 68.92it/s]  \n",
      " 74%|███████▎  | 221/300 [5:41:07<41:33:59, 1894.16s/it]"
     ]
    },
    {
     "name": "stdout",
     "output_type": "stream",
     "text": [
      "\n",
      "EVALUATION RESULTS:\n",
      "Global ELO Accuracy: 0.660763007993873 (62673 matches)\n",
      "2025 ELO Accuracy: 0.6449239823442864 (2039 matches)\n",
      "Global ELO Surface Accuracy: 0.6507586999186252 (62673 matches)\n",
      "2025 ELO surface Accuracy: 0.6473761647866602 (2039 matches)\n",
      "\n"
     ]
    },
    {
     "name": "stderr",
     "output_type": "stream",
     "text": [
      "100%|██████████| 197263/197263 [29:51<00:00, 110.11it/s]  \n",
      " 74%|███████▍  | 222/300 [6:10:59<40:22:25, 1863.40s/it]"
     ]
    },
    {
     "name": "stdout",
     "output_type": "stream",
     "text": [
      "\n",
      "EVALUATION RESULTS:\n",
      "Global ELO Accuracy: 0.643498795334514 (62673 matches)\n",
      "2025 ELO Accuracy: 0.6287395782246199 (2039 matches)\n",
      "Global ELO Surface Accuracy: 0.6395417484403172 (62673 matches)\n",
      "2025 ELO surface Accuracy: 0.6262873957822462 (2039 matches)\n",
      "\n"
     ]
    },
    {
     "name": "stderr",
     "output_type": "stream",
     "text": [
      "100%|██████████| 197263/197263 [44:21<00:00, 74.11it/s] \n",
      " 74%|███████▍  | 223/300 [6:55:21<44:58:48, 2102.97s/it]"
     ]
    },
    {
     "name": "stdout",
     "output_type": "stream",
     "text": [
      "\n",
      "EVALUATION RESULTS:\n",
      "Global ELO Accuracy: 0.6620873422366889 (62673 matches)\n",
      "2025 ELO Accuracy: 0.6454144188327612 (2039 matches)\n",
      "Global ELO Surface Accuracy: 0.6565187560831618 (62673 matches)\n",
      "2025 ELO surface Accuracy: 0.6508092202059833 (2039 matches)\n",
      "\n"
     ]
    },
    {
     "name": "stderr",
     "output_type": "stream",
     "text": [
      "100%|██████████| 197263/197263 [32:45<00:00, 100.35it/s]  \n",
      " 75%|███████▍  | 224/300 [7:28:06<43:31:37, 2061.81s/it]"
     ]
    },
    {
     "name": "stdout",
     "output_type": "stream",
     "text": [
      "\n",
      "EVALUATION RESULTS:\n",
      "Global ELO Accuracy: 0.6606672729883682 (62673 matches)\n",
      "2025 ELO Accuracy: 0.6488474742520843 (2039 matches)\n",
      "Global ELO Surface Accuracy: 0.6551305985033428 (62673 matches)\n",
      "2025 ELO surface Accuracy: 0.6566944580676802 (2039 matches)\n",
      "\n"
     ]
    },
    {
     "name": "stderr",
     "output_type": "stream",
     "text": [
      "100%|██████████| 197263/197263 [28:19<00:00, 116.08it/s]  \n",
      " 75%|███████▌  | 225/300 [7:56:26<40:41:21, 1953.09s/it]"
     ]
    },
    {
     "name": "stdout",
     "output_type": "stream",
     "text": [
      "\n",
      "EVALUATION RESULTS:\n",
      "Global ELO Accuracy: 0.6616405788776666 (62673 matches)\n",
      "2025 ELO Accuracy: 0.6429622363903874 (2039 matches)\n",
      "Global ELO Surface Accuracy: 0.6543966301278062 (62673 matches)\n",
      "2025 ELO surface Accuracy: 0.6468857282981854 (2039 matches)\n",
      "\n"
     ]
    },
    {
     "name": "stderr",
     "output_type": "stream",
     "text": [
      "100%|██████████| 197263/197263 [50:44<00:00, 64.78it/s]   \n",
      " 75%|███████▌  | 226/300 [8:47:11<46:52:49, 2280.68s/it]"
     ]
    },
    {
     "name": "stdout",
     "output_type": "stream",
     "text": [
      "\n",
      "EVALUATION RESULTS:\n",
      "Global ELO Accuracy: 0.6617203580489206 (62673 matches)\n",
      "2025 ELO Accuracy: 0.6468857282981854 (2039 matches)\n",
      "Global ELO Surface Accuracy: 0.6560241252213872 (62673 matches)\n",
      "2025 ELO surface Accuracy: 0.6542422756253066 (2039 matches)\n",
      "\n"
     ]
    },
    {
     "name": "stderr",
     "output_type": "stream",
     "text": [
      "100%|██████████| 197263/197263 [25:34<00:00, 128.59it/s]  \n",
      " 76%|███████▌  | 227/300 [9:12:45<41:42:21, 2056.73s/it]"
     ]
    },
    {
     "name": "stdout",
     "output_type": "stream",
     "text": [
      "\n",
      "EVALUATION RESULTS:\n",
      "Global ELO Accuracy: 0.6614969763694095 (62673 matches)\n",
      "2025 ELO Accuracy: 0.6488474742520843 (2039 matches)\n",
      "Global ELO Surface Accuracy: 0.6543806742935554 (62673 matches)\n",
      "2025 ELO surface Accuracy: 0.6478666012751348 (2039 matches)\n",
      "\n"
     ]
    },
    {
     "name": "stderr",
     "output_type": "stream",
     "text": [
      "100%|██████████| 197263/197263 [45:35<00:00, 72.11it/s]  \n",
      " 76%|███████▌  | 228/300 [9:58:21<45:12:33, 2260.46s/it]"
     ]
    },
    {
     "name": "stdout",
     "output_type": "stream",
     "text": [
      "\n",
      "EVALUATION RESULTS:\n",
      "Global ELO Accuracy: 0.6619916072311841 (62673 matches)\n",
      "2025 ELO Accuracy: 0.6478666012751348 (2039 matches)\n",
      "Global ELO Surface Accuracy: 0.6557528760391237 (62673 matches)\n",
      "2025 ELO surface Accuracy: 0.6552231486022561 (2039 matches)\n",
      "\n"
     ]
    },
    {
     "name": "stderr",
     "output_type": "stream",
     "text": [
      "100%|██████████| 197263/197263 [34:18<00:00, 95.82it/s]   \n",
      " 76%|███████▋  | 229/300 [10:32:39<43:23:15, 2199.93s/it]"
     ]
    },
    {
     "name": "stdout",
     "output_type": "stream",
     "text": [
      "\n",
      "EVALUATION RESULTS:\n",
      "Global ELO Accuracy: 0.6507108324158729 (62673 matches)\n",
      "2025 ELO Accuracy: 0.6311917606669937 (2039 matches)\n",
      "Global ELO Surface Accuracy: 0.6457804796323776 (62673 matches)\n",
      "2025 ELO surface Accuracy: 0.6385483079941148 (2039 matches)\n",
      "\n"
     ]
    },
    {
     "name": "stderr",
     "output_type": "stream",
     "text": [
      "100%|██████████| 197263/197263 [26:46<00:00, 122.79it/s]  \n",
      " 77%|███████▋  | 230/300 [10:59:26<39:18:55, 2021.93s/it]"
     ]
    },
    {
     "name": "stdout",
     "output_type": "stream",
     "text": [
      "\n",
      "EVALUATION RESULTS:\n",
      "Global ELO Accuracy: 0.6609225663363809 (62673 matches)\n",
      "2025 ELO Accuracy: 0.6498283472290338 (2039 matches)\n",
      "Global ELO Surface Accuracy: 0.6557688318733745 (62673 matches)\n",
      "2025 ELO surface Accuracy: 0.6532614026483571 (2039 matches)\n",
      "\n"
     ]
    },
    {
     "name": "stderr",
     "output_type": "stream",
     "text": [
      "100%|██████████| 197263/197263 [32:48<00:00, 100.19it/s]  \n",
      " 77%|███████▋  | 231/300 [11:48:23<44:00:48, 2296.35s/it]"
     ]
    },
    {
     "name": "stdout",
     "output_type": "stream",
     "text": [
      "\n",
      "EVALUATION RESULTS:\n",
      "Global ELO Accuracy: 0.6612097713528952 (62673 matches)\n",
      "2025 ELO Accuracy: 0.6493379107405591 (2039 matches)\n",
      "Global ELO Surface Accuracy: 0.656040081055638 (62673 matches)\n",
      "2025 ELO surface Accuracy: 0.6512996566944581 (2039 matches)\n",
      "\n"
     ]
    },
    {
     "name": "stderr",
     "output_type": "stream",
     "text": [
      "100%|██████████| 197263/197263 [28:49<00:00, 114.05it/s]  \n",
      " 77%|███████▋  | 232/300 [12:17:12<40:09:51, 2126.34s/it]"
     ]
    },
    {
     "name": "stdout",
     "output_type": "stream",
     "text": [
      "\n",
      "EVALUATION RESULTS:\n",
      "Global ELO Accuracy: 0.6443763662183077 (62673 matches)\n",
      "2025 ELO Accuracy: 0.6272682687591957 (2039 matches)\n",
      "Global ELO Surface Accuracy: 0.6402118934788505 (62673 matches)\n",
      "2025 ELO surface Accuracy: 0.6316821971554684 (2039 matches)\n",
      "\n"
     ]
    },
    {
     "name": "stderr",
     "output_type": "stream",
     "text": [
      "100%|██████████| 197263/197263 [40:08<00:00, 81.91it/s] \n",
      " 78%|███████▊  | 233/300 [12:57:21<41:08:55, 2210.98s/it]"
     ]
    },
    {
     "name": "stdout",
     "output_type": "stream",
     "text": [
      "\n",
      "EVALUATION RESULTS:\n",
      "Global ELO Accuracy: 0.6507586999186252 (62673 matches)\n",
      "2025 ELO Accuracy: 0.6321726336439432 (2039 matches)\n",
      "Global ELO Surface Accuracy: 0.6417915210696792 (62673 matches)\n",
      "2025 ELO surface Accuracy: 0.6307013241785189 (2039 matches)\n",
      "\n"
     ]
    },
    {
     "name": "stderr",
     "output_type": "stream",
     "text": [
      "100%|██████████| 197263/197263 [19:53<00:00, 165.27it/s]  \n",
      " 78%|███████▊  | 234/300 [13:17:15<34:56:21, 1905.78s/it]"
     ]
    },
    {
     "name": "stdout",
     "output_type": "stream",
     "text": [
      "\n",
      "EVALUATION RESULTS:\n",
      "Global ELO Accuracy: 0.6573005919614507 (62673 matches)\n",
      "2025 ELO Accuracy: 0.6395291809710643 (2039 matches)\n",
      "Global ELO Surface Accuracy: 0.6498811290348316 (62673 matches)\n",
      "2025 ELO surface Accuracy: 0.6434526728788622 (2039 matches)\n",
      "\n"
     ]
    },
    {
     "name": "stderr",
     "output_type": "stream",
     "text": [
      "100%|██████████| 197263/197263 [45:04<00:00, 72.93it/s]\n",
      " 78%|███████▊  | 235/300 [14:02:19<38:44:18, 2145.52s/it]"
     ]
    },
    {
     "name": "stdout",
     "output_type": "stream",
     "text": [
      "\n",
      "EVALUATION RESULTS:\n",
      "Global ELO Accuracy: 0.6547476584813237 (62673 matches)\n",
      "2025 ELO Accuracy: 0.6341343795978421 (2039 matches)\n",
      "Global ELO Surface Accuracy: 0.6468814321956824 (62673 matches)\n",
      "2025 ELO surface Accuracy: 0.640019617459539 (2039 matches)\n",
      "\n"
     ]
    },
    {
     "name": "stderr",
     "output_type": "stream",
     "text": [
      "100%|██████████| 197263/197263 [35:11<00:00, 93.42it/s]\n",
      " 79%|███████▊  | 236/300 [14:37:31<37:57:43, 2135.36s/it]"
     ]
    },
    {
     "name": "stdout",
     "output_type": "stream",
     "text": [
      "\n",
      "EVALUATION RESULTS:\n",
      "Global ELO Accuracy: 0.6543647184593047 (62673 matches)\n",
      "2025 ELO Accuracy: 0.6351152525747915 (2039 matches)\n",
      "Global ELO Surface Accuracy: 0.6447273945718252 (62673 matches)\n",
      "2025 ELO surface Accuracy: 0.6414909269249632 (2039 matches)\n",
      "\n"
     ]
    },
    {
     "name": "stderr",
     "output_type": "stream",
     "text": [
      "100%|██████████| 197263/197263 [25:50<00:00, 127.20it/s]  \n",
      " 79%|███████▉  | 237/300 [15:03:22<34:18:01, 1960.02s/it]"
     ]
    },
    {
     "name": "stdout",
     "output_type": "stream",
     "text": [
      "\n",
      "EVALUATION RESULTS:\n",
      "Global ELO Accuracy: 0.6614012413639047 (62673 matches)\n",
      "2025 ELO Accuracy: 0.6488474742520843 (2039 matches)\n",
      "Global ELO Surface Accuracy: 0.6563591977406539 (62673 matches)\n",
      "2025 ELO surface Accuracy: 0.6512996566944581 (2039 matches)\n",
      "\n"
     ]
    },
    {
     "name": "stderr",
     "output_type": "stream",
     "text": [
      "100%|██████████| 197263/197263 [31:37<00:00, 103.96it/s]  \n",
      " 79%|███████▉  | 238/300 [15:35:00<33:26:00, 1941.29s/it]"
     ]
    },
    {
     "name": "stdout",
     "output_type": "stream",
     "text": [
      "\n",
      "EVALUATION RESULTS:\n",
      "Global ELO Accuracy: 0.6606353613198666 (62673 matches)\n",
      "2025 ELO Accuracy: 0.6508092202059833 (2039 matches)\n",
      "Global ELO Surface Accuracy: 0.6547157468128221 (62673 matches)\n",
      "2025 ELO surface Accuracy: 0.6552231486022561 (2039 matches)\n",
      "\n"
     ]
    },
    {
     "name": "stderr",
     "output_type": "stream",
     "text": [
      "100%|██████████| 197263/197263 [29:20<00:00, 112.04it/s] \n",
      " 80%|███████▉  | 239/300 [16:04:20<31:58:33, 1887.11s/it]"
     ]
    },
    {
     "name": "stdout",
     "output_type": "stream",
     "text": [
      "\n",
      "EVALUATION RESULTS:\n",
      "Global ELO Accuracy: 0.6555614060281142 (62673 matches)\n",
      "2025 ELO Accuracy: 0.6365865620402158 (2039 matches)\n",
      "Global ELO Surface Accuracy: 0.6461634196543966 (62673 matches)\n",
      "2025 ELO surface Accuracy: 0.6410004904364884 (2039 matches)\n",
      "\n"
     ]
    },
    {
     "name": "stderr",
     "output_type": "stream",
     "text": [
      "100%|██████████| 197263/197263 [33:48<00:00, 97.24it/s]   \n",
      " 80%|████████  | 240/300 [16:38:09<32:09:34, 1929.57s/it]"
     ]
    },
    {
     "name": "stdout",
     "output_type": "stream",
     "text": [
      "\n",
      "EVALUATION RESULTS:\n",
      "Global ELO Accuracy: 0.6617682255516729 (62673 matches)\n",
      "2025 ELO Accuracy: 0.6439431093673369 (2039 matches)\n",
      "Global ELO Surface Accuracy: 0.6541253809455427 (62673 matches)\n",
      "2025 ELO surface Accuracy: 0.6463952918097107 (2039 matches)\n",
      "\n"
     ]
    },
    {
     "name": "stderr",
     "output_type": "stream",
     "text": [
      "100%|██████████| 197263/197263 [27:16<00:00, 120.55it/s]  \n",
      " 80%|████████  | 241/300 [17:05:25<30:10:56, 1841.64s/it]"
     ]
    },
    {
     "name": "stdout",
     "output_type": "stream",
     "text": [
      "\n",
      "EVALUATION RESULTS:\n",
      "Global ELO Accuracy: 0.662071386402438 (62673 matches)\n",
      "2025 ELO Accuracy: 0.6468857282981854 (2039 matches)\n",
      "Global ELO Surface Accuracy: 0.6563751535749046 (62673 matches)\n",
      "2025 ELO surface Accuracy: 0.6557135850907307 (2039 matches)\n",
      "\n"
     ]
    },
    {
     "name": "stderr",
     "output_type": "stream",
     "text": [
      "100%|██████████| 197263/197263 [48:03<00:00, 68.40it/s]   \n",
      " 81%|████████  | 242/300 [17:53:29<34:42:30, 2154.32s/it]"
     ]
    },
    {
     "name": "stdout",
     "output_type": "stream",
     "text": [
      "\n",
      "EVALUATION RESULTS:\n",
      "Global ELO Accuracy: 0.6614491088666571 (62673 matches)\n",
      "2025 ELO Accuracy: 0.6454144188327612 (2039 matches)\n",
      "Global ELO Surface Accuracy: 0.6536945734207713 (62673 matches)\n",
      "2025 ELO surface Accuracy: 0.6459048553212359 (2039 matches)\n",
      "\n"
     ]
    },
    {
     "name": "stderr",
     "output_type": "stream",
     "text": [
      "100%|██████████| 197263/197263 [30:41<00:00, 107.12it/s]  \n",
      " 81%|████████  | 243/300 [18:24:11<32:37:30, 2060.53s/it]"
     ]
    },
    {
     "name": "stdout",
     "output_type": "stream",
     "text": [
      "\n",
      "EVALUATION RESULTS:\n",
      "Global ELO Accuracy: 0.6610502130103872 (62673 matches)\n",
      "2025 ELO Accuracy: 0.6488474742520843 (2039 matches)\n",
      "Global ELO Surface Accuracy: 0.6548912609895808 (62673 matches)\n",
      "2025 ELO surface Accuracy: 0.6508092202059833 (2039 matches)\n",
      "\n"
     ]
    },
    {
     "name": "stderr",
     "output_type": "stream",
     "text": [
      "100%|██████████| 197263/197263 [43:09<00:00, 76.17it/s]  \n",
      " 81%|████████▏ | 244/300 [19:07:21<34:31:20, 2219.29s/it]"
     ]
    },
    {
     "name": "stdout",
     "output_type": "stream",
     "text": [
      "\n",
      "EVALUATION RESULTS:\n",
      "Global ELO Accuracy: 0.6579228694972317 (62673 matches)\n",
      "2025 ELO Accuracy: 0.6434526728788622 (2039 matches)\n",
      "Global ELO Surface Accuracy: 0.6478547380849807 (62673 matches)\n",
      "2025 ELO surface Accuracy: 0.6375674350171653 (2039 matches)\n",
      "\n"
     ]
    },
    {
     "name": "stderr",
     "output_type": "stream",
     "text": [
      "100%|██████████| 197263/197263 [32:20<00:00, 101.66it/s]  \n",
      " 82%|████████▏ | 245/300 [19:39:41<32:37:42, 2135.68s/it]"
     ]
    },
    {
     "name": "stdout",
     "output_type": "stream",
     "text": [
      "\n",
      "EVALUATION RESULTS:\n",
      "Global ELO Accuracy: 0.6614491088666571 (62673 matches)\n",
      "2025 ELO Accuracy: 0.6468857282981854 (2039 matches)\n",
      "Global ELO Surface Accuracy: 0.6552422893430982 (62673 matches)\n",
      "2025 ELO surface Accuracy: 0.6493379107405591 (2039 matches)\n",
      "\n"
     ]
    },
    {
     "name": "stderr",
     "output_type": "stream",
     "text": [
      "100%|██████████| 197263/197263 [45:41<00:00, 71.96it/s]\n",
      " 82%|████████▏ | 246/300 [20:25:23<34:45:41, 2317.43s/it]"
     ]
    },
    {
     "name": "stdout",
     "output_type": "stream",
     "text": [
      "\n",
      "EVALUATION RESULTS:\n",
      "Global ELO Accuracy: 0.6618480047229269 (62673 matches)\n",
      "2025 ELO Accuracy: 0.6439431093673369 (2039 matches)\n",
      "Global ELO Surface Accuracy: 0.6534073684042571 (62673 matches)\n",
      "2025 ELO surface Accuracy: 0.6478666012751348 (2039 matches)\n",
      "\n"
     ]
    },
    {
     "name": "stderr",
     "output_type": "stream",
     "text": [
      "100%|██████████| 197263/197263 [29:20<00:00, 112.03it/s]  \n",
      " 82%|████████▏ | 247/300 [20:54:44<31:39:33, 2150.45s/it]"
     ]
    },
    {
     "name": "stdout",
     "output_type": "stream",
     "text": [
      "\n",
      "EVALUATION RESULTS:\n",
      "Global ELO Accuracy: 0.6614650647009079 (62673 matches)\n",
      "2025 ELO Accuracy: 0.6459048553212359 (2039 matches)\n",
      "Global ELO Surface Accuracy: 0.6533754567357555 (62673 matches)\n",
      "2025 ELO surface Accuracy: 0.6449239823442864 (2039 matches)\n",
      "\n"
     ]
    },
    {
     "name": "stderr",
     "output_type": "stream",
     "text": [
      "100%|██████████| 197263/197263 [30:12<00:00, 108.85it/s]  \n",
      " 83%|████████▎ | 248/300 [21:24:56<29:35:48, 2049.01s/it]"
     ]
    },
    {
     "name": "stdout",
     "output_type": "stream",
     "text": [
      "\n",
      "EVALUATION RESULTS:\n",
      "Global ELO Accuracy: 0.6616246230434158 (62673 matches)\n",
      "2025 ELO Accuracy: 0.6463952918097107 (2039 matches)\n",
      "Global ELO Surface Accuracy: 0.654572144304565 (62673 matches)\n",
      "2025 ELO surface Accuracy: 0.6463952918097107 (2039 matches)\n",
      "\n"
     ]
    },
    {
     "name": "stderr",
     "output_type": "stream",
     "text": [
      "100%|██████████| 197263/197263 [45:21<00:00, 72.48it/s] \n",
      " 83%|████████▎ | 249/300 [22:10:18<31:53:13, 2250.85s/it]"
     ]
    },
    {
     "name": "stdout",
     "output_type": "stream",
     "text": [
      "\n",
      "EVALUATION RESULTS:\n",
      "Global ELO Accuracy: 0.6617363138831713 (62673 matches)\n",
      "2025 ELO Accuracy: 0.6468857282981854 (2039 matches)\n",
      "Global ELO Surface Accuracy: 0.6554656710226094 (62673 matches)\n",
      "2025 ELO surface Accuracy: 0.6508092202059833 (2039 matches)\n",
      "\n"
     ]
    },
    {
     "name": "stderr",
     "output_type": "stream",
     "text": [
      "100%|██████████| 197263/197263 [33:05<00:00, 99.34it/s]   \n",
      " 83%|████████▎ | 250/300 [22:43:24<30:09:26, 2171.33s/it]"
     ]
    },
    {
     "name": "stdout",
     "output_type": "stream",
     "text": [
      "\n",
      "EVALUATION RESULTS:\n",
      "Global ELO Accuracy: 0.6612735946898983 (62673 matches)\n",
      "2025 ELO Accuracy: 0.6493379107405591 (2039 matches)\n",
      "Global ELO Surface Accuracy: 0.6549231726580824 (62673 matches)\n",
      "2025 ELO surface Accuracy: 0.6503187837175086 (2039 matches)\n",
      "\n"
     ]
    },
    {
     "name": "stderr",
     "output_type": "stream",
     "text": [
      "100%|██████████| 197263/197263 [27:58<00:00, 117.53it/s]  \n",
      " 84%|████████▎ | 251/300 [23:11:22<27:32:30, 2023.48s/it]"
     ]
    },
    {
     "name": "stdout",
     "output_type": "stream",
     "text": [
      "\n",
      "EVALUATION RESULTS:\n",
      "Global ELO Accuracy: 0.6612735946898983 (62673 matches)\n",
      "2025 ELO Accuracy: 0.6429622363903874 (2039 matches)\n",
      "Global ELO Surface Accuracy: 0.6524181066807078 (62673 matches)\n",
      "2025 ELO surface Accuracy: 0.6444335458558117 (2039 matches)\n",
      "\n"
     ]
    },
    {
     "name": "stderr",
     "output_type": "stream",
     "text": [
      "100%|██████████| 197263/197263 [39:41<00:00, 82.83it/s]   \n",
      " 84%|████████▍ | 252/300 [23:51:04<28:24:43, 2130.91s/it]"
     ]
    },
    {
     "name": "stdout",
     "output_type": "stream",
     "text": [
      "\n",
      "EVALUATION RESULTS:\n",
      "Global ELO Accuracy: 0.6344358814800631 (62673 matches)\n",
      "2025 ELO Accuracy: 0.6174595389897009 (2039 matches)\n",
      "Global ELO Surface Accuracy: 0.6292821470170568 (62673 matches)\n",
      "2025 ELO surface Accuracy: 0.616969102501226 (2039 matches)\n",
      "\n"
     ]
    },
    {
     "name": "stderr",
     "output_type": "stream",
     "text": [
      "100%|██████████| 197263/197263 [00:13<00:00, 14250.30it/s]\n",
      " 84%|████████▍ | 253/300 [23:51:18<19:31:43, 1495.82s/it]"
     ]
    },
    {
     "name": "stdout",
     "output_type": "stream",
     "text": [
      "\n",
      "EVALUATION RESULTS:\n",
      "Global ELO Accuracy: 0.6610661688446381 (62673 matches)\n",
      "2025 ELO Accuracy: 0.6468857282981854 (2039 matches)\n",
      "Global ELO Surface Accuracy: 0.6540456017742887 (62673 matches)\n",
      "2025 ELO surface Accuracy: 0.6449239823442864 (2039 matches)\n",
      "\n"
     ]
    },
    {
     "name": "stderr",
     "output_type": "stream",
     "text": [
      "100%|██████████| 197263/197263 [00:14<00:00, 13586.47it/s]\n",
      " 85%|████████▍ | 254/300 [23:51:32<13:26:07, 1051.46s/it]"
     ]
    },
    {
     "name": "stdout",
     "output_type": "stream",
     "text": [
      "\n",
      "EVALUATION RESULTS:\n",
      "Global ELO Accuracy: 0.6621352097394412 (62673 matches)\n",
      "2025 ELO Accuracy: 0.6478666012751348 (2039 matches)\n",
      "Global ELO Surface Accuracy: 0.6560879485583904 (62673 matches)\n",
      "2025 ELO surface Accuracy: 0.6542422756253066 (2039 matches)\n",
      "\n"
     ]
    },
    {
     "name": "stderr",
     "output_type": "stream",
     "text": [
      "100%|██████████| 197263/197263 [00:14<00:00, 13840.21it/s]\n",
      " 85%|████████▌ | 255/300 [23:51:47<9:15:15, 740.33s/it]  "
     ]
    },
    {
     "name": "stdout",
     "output_type": "stream",
     "text": [
      "\n",
      "EVALUATION RESULTS:\n",
      "Global ELO Accuracy: 0.6616246230434158 (62673 matches)\n",
      "2025 ELO Accuracy: 0.6410004904364884 (2039 matches)\n",
      "Global ELO Surface Accuracy: 0.6524819300177109 (62673 matches)\n",
      "2025 ELO surface Accuracy: 0.6439431093673369 (2039 matches)\n",
      "\n"
     ]
    },
    {
     "name": "stderr",
     "output_type": "stream",
     "text": [
      "100%|██████████| 197263/197263 [00:13<00:00, 14105.31it/s]\n",
      " 85%|████████▌ | 256/300 [23:52:01<6:23:08, 522.46s/it]"
     ]
    },
    {
     "name": "stdout",
     "output_type": "stream",
     "text": [
      "\n",
      "EVALUATION RESULTS:\n",
      "Global ELO Accuracy: 0.6614331530324064 (62673 matches)\n",
      "2025 ELO Accuracy: 0.6459048553212359 (2039 matches)\n",
      "Global ELO Surface Accuracy: 0.6545561884703142 (62673 matches)\n",
      "2025 ELO surface Accuracy: 0.6483570377636096 (2039 matches)\n",
      "\n"
     ]
    },
    {
     "name": "stderr",
     "output_type": "stream",
     "text": [
      "100%|██████████| 197263/197263 [00:14<00:00, 14055.06it/s]\n",
      " 86%|████████▌ | 257/300 [23:52:15<4:25:08, 369.97s/it]"
     ]
    },
    {
     "name": "stdout",
     "output_type": "stream",
     "text": [
      "\n",
      "EVALUATION RESULTS:\n",
      "Global ELO Accuracy: 0.6615607997064127 (62673 matches)\n",
      "2025 ELO Accuracy: 0.6463952918097107 (2039 matches)\n",
      "Global ELO Surface Accuracy: 0.6561358160611428 (62673 matches)\n",
      "2025 ELO surface Accuracy: 0.6498283472290338 (2039 matches)\n",
      "\n"
     ]
    },
    {
     "name": "stderr",
     "output_type": "stream",
     "text": [
      "100%|██████████| 197263/197263 [00:13<00:00, 14196.80it/s]\n",
      " 86%|████████▌ | 258/300 [23:52:29<3:04:13, 263.18s/it]"
     ]
    },
    {
     "name": "stdout",
     "output_type": "stream",
     "text": [
      "\n",
      "EVALUATION RESULTS:\n",
      "Global ELO Accuracy: 0.6607151404911206 (62673 matches)\n",
      "2025 ELO Accuracy: 0.6424717999019127 (2039 matches)\n",
      "Global ELO Surface Accuracy: 0.6507427440843745 (62673 matches)\n",
      "2025 ELO surface Accuracy: 0.6439431093673369 (2039 matches)\n",
      "\n"
     ]
    },
    {
     "name": "stderr",
     "output_type": "stream",
     "text": [
      "100%|██████████| 197263/197263 [00:14<00:00, 14027.80it/s]\n",
      " 86%|████████▋ | 259/300 [23:52:43<2:08:47, 188.47s/it]"
     ]
    },
    {
     "name": "stdout",
     "output_type": "stream",
     "text": [
      "\n",
      "EVALUATION RESULTS:\n",
      "Global ELO Accuracy: 0.661688446380419 (62673 matches)\n",
      "2025 ELO Accuracy: 0.6419813634134379 (2039 matches)\n",
      "Global ELO Surface Accuracy: 0.656040081055638 (62673 matches)\n",
      "2025 ELO surface Accuracy: 0.6473761647866602 (2039 matches)\n",
      "\n"
     ]
    },
    {
     "name": "stderr",
     "output_type": "stream",
     "text": [
      "100%|██████████| 197263/197263 [00:14<00:00, 13729.71it/s]\n",
      " 87%|████████▋ | 260/300 [23:52:57<1:30:50, 136.27s/it]"
     ]
    },
    {
     "name": "stdout",
     "output_type": "stream",
     "text": [
      "\n",
      "EVALUATION RESULTS:\n",
      "Global ELO Accuracy: 0.6617841813859238 (62673 matches)\n",
      "2025 ELO Accuracy: 0.6424717999019127 (2039 matches)\n",
      "Global ELO Surface Accuracy: 0.6522745041724507 (62673 matches)\n",
      "2025 ELO surface Accuracy: 0.6424717999019127 (2039 matches)\n",
      "\n"
     ]
    },
    {
     "name": "stderr",
     "output_type": "stream",
     "text": [
      "100%|██████████| 197263/197263 [00:14<00:00, 13776.18it/s]\n",
      " 87%|████████▋ | 261/300 [23:53:12<1:04:48, 99.72s/it] "
     ]
    },
    {
     "name": "stdout",
     "output_type": "stream",
     "text": [
      "\n",
      "EVALUATION RESULTS:\n",
      "Global ELO Accuracy: 0.6613533738611523 (62673 matches)\n",
      "2025 ELO Accuracy: 0.6498283472290338 (2039 matches)\n",
      "Global ELO Surface Accuracy: 0.6560879485583904 (62673 matches)\n",
      "2025 ELO surface Accuracy: 0.6512996566944581 (2039 matches)\n",
      "\n"
     ]
    },
    {
     "name": "stderr",
     "output_type": "stream",
     "text": [
      "100%|██████████| 197263/197263 [00:14<00:00, 13455.16it/s]\n",
      " 87%|████████▋ | 262/300 [23:53:27<47:00, 74.23s/it]  "
     ]
    },
    {
     "name": "stdout",
     "output_type": "stream",
     "text": [
      "\n",
      "EVALUATION RESULTS:\n",
      "Global ELO Accuracy: 0.661688446380419 (62673 matches)\n",
      "2025 ELO Accuracy: 0.6468857282981854 (2039 matches)\n",
      "Global ELO Surface Accuracy: 0.6566464027571681 (62673 matches)\n",
      "2025 ELO surface Accuracy: 0.6547327121137813 (2039 matches)\n",
      "\n"
     ]
    },
    {
     "name": "stderr",
     "output_type": "stream",
     "text": [
      "100%|██████████| 197263/197263 [00:14<00:00, 13615.35it/s]\n",
      " 88%|████████▊ | 263/300 [23:53:41<34:44, 56.34s/it]"
     ]
    },
    {
     "name": "stdout",
     "output_type": "stream",
     "text": [
      "\n",
      "EVALUATION RESULTS:\n",
      "Global ELO Accuracy: 0.6602524212978476 (62673 matches)\n",
      "2025 ELO Accuracy: 0.6478666012751348 (2039 matches)\n",
      "Global ELO Surface Accuracy: 0.654412585962057 (62673 matches)\n",
      "2025 ELO surface Accuracy: 0.6542422756253066 (2039 matches)\n",
      "\n"
     ]
    },
    {
     "name": "stderr",
     "output_type": "stream",
     "text": [
      "100%|██████████| 197263/197263 [00:14<00:00, 13707.99it/s]\n",
      " 88%|████████▊ | 264/300 [23:53:56<26:16, 43.79s/it]"
     ]
    },
    {
     "name": "stdout",
     "output_type": "stream",
     "text": [
      "\n",
      "EVALUATION RESULTS:\n",
      "Global ELO Accuracy: 0.6623745472532031 (62673 matches)\n",
      "2025 ELO Accuracy: 0.6488474742520843 (2039 matches)\n",
      "Global ELO Surface Accuracy: 0.6572686802929492 (62673 matches)\n",
      "2025 ELO surface Accuracy: 0.6537518391368318 (2039 matches)\n",
      "\n"
     ]
    },
    {
     "name": "stderr",
     "output_type": "stream",
     "text": [
      "100%|██████████| 197263/197263 [00:14<00:00, 13643.84it/s]\n",
      " 88%|████████▊ | 265/300 [23:54:10<20:25, 35.02s/it]"
     ]
    },
    {
     "name": "stdout",
     "output_type": "stream",
     "text": [
      "\n",
      "EVALUATION RESULTS:\n",
      "Global ELO Accuracy: 0.6606991846568698 (62673 matches)\n",
      "2025 ELO Accuracy: 0.6478666012751348 (2039 matches)\n",
      "Global ELO Surface Accuracy: 0.6562475069008983 (62673 matches)\n",
      "2025 ELO surface Accuracy: 0.6522805296714076 (2039 matches)\n",
      "\n"
     ]
    },
    {
     "name": "stderr",
     "output_type": "stream",
     "text": [
      "100%|██████████| 197263/197263 [00:14<00:00, 13768.85it/s]\n",
      " 89%|████████▊ | 266/300 [23:54:25<16:20, 28.84s/it]"
     ]
    },
    {
     "name": "stdout",
     "output_type": "stream",
     "text": [
      "\n",
      "EVALUATION RESULTS:\n",
      "Global ELO Accuracy: 0.6607789638281237 (62673 matches)\n",
      "2025 ELO Accuracy: 0.6512996566944581 (2039 matches)\n",
      "Global ELO Surface Accuracy: 0.6545083209675618 (62673 matches)\n",
      "2025 ELO surface Accuracy: 0.6512996566944581 (2039 matches)\n",
      "\n"
     ]
    },
    {
     "name": "stderr",
     "output_type": "stream",
     "text": [
      "100%|██████████| 197263/197263 [00:14<00:00, 13699.27it/s]\n",
      " 89%|████████▉ | 267/300 [23:54:39<13:29, 24.54s/it]"
     ]
    },
    {
     "name": "stdout",
     "output_type": "stream",
     "text": [
      "\n",
      "EVALUATION RESULTS:\n",
      "Global ELO Accuracy: 0.6625021939272094 (62673 matches)\n",
      "2025 ELO Accuracy: 0.6468857282981854 (2039 matches)\n",
      "Global ELO Surface Accuracy: 0.657045298613438 (62673 matches)\n",
      "2025 ELO surface Accuracy: 0.6527709661598823 (2039 matches)\n",
      "\n"
     ]
    },
    {
     "name": "stderr",
     "output_type": "stream",
     "text": [
      "100%|██████████| 197263/197263 [00:14<00:00, 13434.30it/s]\n",
      " 89%|████████▉ | 268/300 [23:54:54<11:31, 21.62s/it]"
     ]
    },
    {
     "name": "stdout",
     "output_type": "stream",
     "text": [
      "\n",
      "EVALUATION RESULTS:\n",
      "Global ELO Accuracy: 0.659055733729038 (62673 matches)\n",
      "2025 ELO Accuracy: 0.6434526728788622 (2039 matches)\n",
      "Global ELO Surface Accuracy: 0.6498970848690824 (62673 matches)\n",
      "2025 ELO surface Accuracy: 0.6434526728788622 (2039 matches)\n",
      "\n"
     ]
    },
    {
     "name": "stderr",
     "output_type": "stream",
     "text": [
      "100%|██████████| 197263/197263 [00:14<00:00, 13349.39it/s]\n",
      " 90%|████████▉ | 269/300 [23:55:09<10:07, 19.60s/it]"
     ]
    },
    {
     "name": "stdout",
     "output_type": "stream",
     "text": [
      "\n",
      "EVALUATION RESULTS:\n",
      "Global ELO Accuracy: 0.6474398863944602 (62673 matches)\n",
      "2025 ELO Accuracy: 0.6321726336439432 (2039 matches)\n",
      "Global ELO Surface Accuracy: 0.6419829910806887 (62673 matches)\n",
      "2025 ELO surface Accuracy: 0.6375674350171653 (2039 matches)\n",
      "\n"
     ]
    },
    {
     "name": "stderr",
     "output_type": "stream",
     "text": [
      "100%|██████████| 197263/197263 [00:14<00:00, 13873.49it/s]\n",
      " 90%|█████████ | 270/300 [23:55:23<09:00, 18.01s/it]"
     ]
    },
    {
     "name": "stdout",
     "output_type": "stream",
     "text": [
      "\n",
      "EVALUATION RESULTS:\n",
      "Global ELO Accuracy: 0.6618480047229269 (62673 matches)\n",
      "2025 ELO Accuracy: 0.6454144188327612 (2039 matches)\n",
      "Global ELO Surface Accuracy: 0.6559124343816316 (62673 matches)\n",
      "2025 ELO surface Accuracy: 0.6547327121137813 (2039 matches)\n",
      "\n"
     ]
    },
    {
     "name": "stderr",
     "output_type": "stream",
     "text": [
      "100%|██████████| 197263/197263 [00:14<00:00, 13884.20it/s]\n",
      " 90%|█████████ | 271/300 [23:55:38<08:10, 16.90s/it]"
     ]
    },
    {
     "name": "stdout",
     "output_type": "stream",
     "text": [
      "\n",
      "EVALUATION RESULTS:\n",
      "Global ELO Accuracy: 0.6616565347119174 (62673 matches)\n",
      "2025 ELO Accuracy: 0.6410004904364884 (2039 matches)\n",
      "Global ELO Surface Accuracy: 0.6530722958849904 (62673 matches)\n",
      "2025 ELO surface Accuracy: 0.6449239823442864 (2039 matches)\n",
      "\n"
     ]
    },
    {
     "name": "stderr",
     "output_type": "stream",
     "text": [
      "100%|██████████| 197263/197263 [00:14<00:00, 13914.84it/s]\n",
      " 91%|█████████ | 272/300 [23:55:52<07:31, 16.12s/it]"
     ]
    },
    {
     "name": "stdout",
     "output_type": "stream",
     "text": [
      "\n",
      "EVALUATION RESULTS:\n",
      "Global ELO Accuracy: 0.6565347119174126 (62673 matches)\n",
      "2025 ELO Accuracy: 0.6459048553212359 (2039 matches)\n",
      "Global ELO Surface Accuracy: 0.6458283471351299 (62673 matches)\n",
      "2025 ELO surface Accuracy: 0.6385483079941148 (2039 matches)\n",
      "\n"
     ]
    },
    {
     "name": "stderr",
     "output_type": "stream",
     "text": [
      "100%|██████████| 197263/197263 [00:14<00:00, 13817.89it/s]\n",
      " 91%|█████████ | 273/300 [23:56:06<07:01, 15.60s/it]"
     ]
    },
    {
     "name": "stdout",
     "output_type": "stream",
     "text": [
      "\n",
      "EVALUATION RESULTS:\n",
      "Global ELO Accuracy: 0.6571889011216951 (62673 matches)\n",
      "2025 ELO Accuracy: 0.6434526728788622 (2039 matches)\n",
      "Global ELO Surface Accuracy: 0.6460357729803903 (62673 matches)\n",
      "2025 ELO surface Accuracy: 0.6375674350171653 (2039 matches)\n",
      "\n"
     ]
    },
    {
     "name": "stderr",
     "output_type": "stream",
     "text": [
      "100%|██████████| 197263/197263 [00:14<00:00, 13571.80it/s]\n",
      " 91%|█████████▏| 274/300 [23:56:21<06:38, 15.31s/it]"
     ]
    },
    {
     "name": "stdout",
     "output_type": "stream",
     "text": [
      "\n",
      "EVALUATION RESULTS:\n",
      "Global ELO Accuracy: 0.6615288880379111 (62673 matches)\n",
      "2025 ELO Accuracy: 0.6405100539480137 (2039 matches)\n",
      "Global ELO Surface Accuracy: 0.6537903084262761 (62673 matches)\n",
      "2025 ELO surface Accuracy: 0.6488474742520843 (2039 matches)\n",
      "\n"
     ]
    },
    {
     "name": "stderr",
     "output_type": "stream",
     "text": [
      "100%|██████████| 197263/197263 [00:14<00:00, 13534.15it/s]\n",
      " 92%|█████████▏| 275/300 [23:56:36<06:18, 15.12s/it]"
     ]
    },
    {
     "name": "stdout",
     "output_type": "stream",
     "text": [
      "\n",
      "EVALUATION RESULTS:\n",
      "Global ELO Accuracy: 0.662230944744946 (62673 matches)\n",
      "2025 ELO Accuracy: 0.6483570377636096 (2039 matches)\n",
      "Global ELO Surface Accuracy: 0.6570293427791872 (62673 matches)\n",
      "2025 ELO surface Accuracy: 0.6547327121137813 (2039 matches)\n",
      "\n"
     ]
    },
    {
     "name": "stderr",
     "output_type": "stream",
     "text": [
      "100%|██████████| 197263/197263 [00:14<00:00, 13536.45it/s]\n",
      " 92%|█████████▏| 276/300 [23:56:50<05:59, 14.99s/it]"
     ]
    },
    {
     "name": "stdout",
     "output_type": "stream",
     "text": [
      "\n",
      "EVALUATION RESULTS:\n",
      "Global ELO Accuracy: 0.6607310963253714 (62673 matches)\n",
      "2025 ELO Accuracy: 0.640019617459539 (2039 matches)\n",
      "Global ELO Surface Accuracy: 0.6508225232556284 (62673 matches)\n",
      "2025 ELO surface Accuracy: 0.6439431093673369 (2039 matches)\n",
      "\n"
     ]
    },
    {
     "name": "stderr",
     "output_type": "stream",
     "text": [
      "100%|██████████| 197263/197263 [00:14<00:00, 13540.02it/s]\n",
      " 92%|█████████▏| 277/300 [23:57:05<05:42, 14.89s/it]"
     ]
    },
    {
     "name": "stdout",
     "output_type": "stream",
     "text": [
      "\n",
      "EVALUATION RESULTS:\n",
      "Global ELO Accuracy: 0.6612576388556476 (62673 matches)\n",
      "2025 ELO Accuracy: 0.6503187837175086 (2039 matches)\n",
      "Global ELO Surface Accuracy: 0.656040081055638 (62673 matches)\n",
      "2025 ELO surface Accuracy: 0.6512996566944581 (2039 matches)\n",
      "\n"
     ]
    },
    {
     "name": "stderr",
     "output_type": "stream",
     "text": [
      "100%|██████████| 197263/197263 [00:14<00:00, 13459.35it/s]\n",
      " 93%|█████████▎| 278/300 [23:57:20<05:26, 14.85s/it]"
     ]
    },
    {
     "name": "stdout",
     "output_type": "stream",
     "text": [
      "\n",
      "EVALUATION RESULTS:\n",
      "Global ELO Accuracy: 0.6623266797504508 (62673 matches)\n",
      "2025 ELO Accuracy: 0.6468857282981854 (2039 matches)\n",
      "Global ELO Surface Accuracy: 0.6568378727681777 (62673 matches)\n",
      "2025 ELO surface Accuracy: 0.6537518391368318 (2039 matches)\n",
      "\n"
     ]
    },
    {
     "name": "stderr",
     "output_type": "stream",
     "text": [
      "100%|██████████| 197263/197263 [00:14<00:00, 13553.74it/s]\n",
      " 93%|█████████▎| 279/300 [23:57:34<05:10, 14.80s/it]"
     ]
    },
    {
     "name": "stdout",
     "output_type": "stream",
     "text": [
      "\n",
      "EVALUATION RESULTS:\n",
      "Global ELO Accuracy: 0.6623426355847015 (62673 matches)\n",
      "2025 ELO Accuracy: 0.6478666012751348 (2039 matches)\n",
      "Global ELO Surface Accuracy: 0.6565347119174126 (62673 matches)\n",
      "2025 ELO surface Accuracy: 0.6527709661598823 (2039 matches)\n",
      "\n"
     ]
    },
    {
     "name": "stderr",
     "output_type": "stream",
     "text": [
      "100%|██████████| 197263/197263 [00:14<00:00, 13457.80it/s]\n",
      " 93%|█████████▎| 280/300 [23:57:49<04:55, 14.79s/it]"
     ]
    },
    {
     "name": "stdout",
     "output_type": "stream",
     "text": [
      "\n",
      "EVALUATION RESULTS:\n",
      "Global ELO Accuracy: 0.6607470521596222 (62673 matches)\n",
      "2025 ELO Accuracy: 0.6503187837175086 (2039 matches)\n",
      "Global ELO Surface Accuracy: 0.6538541317632792 (62673 matches)\n",
      "2025 ELO surface Accuracy: 0.6478666012751348 (2039 matches)\n",
      "\n"
     ]
    },
    {
     "name": "stderr",
     "output_type": "stream",
     "text": [
      "100%|██████████| 197263/197263 [00:14<00:00, 13560.09it/s]\n",
      " 94%|█████████▎| 281/300 [23:58:04<04:40, 14.75s/it]"
     ]
    },
    {
     "name": "stdout",
     "output_type": "stream",
     "text": [
      "\n",
      "EVALUATION RESULTS:\n",
      "Global ELO Accuracy: 0.661225727187146 (62673 matches)\n",
      "2025 ELO Accuracy: 0.6498283472290338 (2039 matches)\n",
      "Global ELO Surface Accuracy: 0.6564070652434063 (62673 matches)\n",
      "2025 ELO surface Accuracy: 0.6522805296714076 (2039 matches)\n",
      "\n"
     ]
    },
    {
     "name": "stderr",
     "output_type": "stream",
     "text": [
      "100%|██████████| 197263/197263 [30:43<00:00, 107.00it/s]\n",
      " 94%|█████████▍| 282/300 [24:28:47<2:49:01, 563.42s/it]"
     ]
    },
    {
     "name": "stdout",
     "output_type": "stream",
     "text": [
      "\n",
      "EVALUATION RESULTS:\n",
      "Global ELO Accuracy: 0.6612416830213967 (62673 matches)\n",
      "2025 ELO Accuracy: 0.6508092202059833 (2039 matches)\n",
      "Global ELO Surface Accuracy: 0.6562794185693999 (62673 matches)\n",
      "2025 ELO surface Accuracy: 0.6542422756253066 (2039 matches)\n",
      "\n"
     ]
    },
    {
     "name": "stderr",
     "output_type": "stream",
     "text": [
      "100%|██████████| 197263/197263 [33:53<00:00, 96.99it/s]   \n",
      " 94%|█████████▍| 283/300 [25:02:41<4:44:37, 1004.56s/it]"
     ]
    },
    {
     "name": "stdout",
     "output_type": "stream",
     "text": [
      "\n",
      "EVALUATION RESULTS:\n",
      "Global ELO Accuracy: 0.6576197086464666 (62673 matches)\n",
      "2025 ELO Accuracy: 0.6454144188327612 (2039 matches)\n",
      "Global ELO Surface Accuracy: 0.6467059180189236 (62673 matches)\n",
      "2025 ELO surface Accuracy: 0.6351152525747915 (2039 matches)\n",
      "\n"
     ]
    },
    {
     "name": "stderr",
     "output_type": "stream",
     "text": [
      "100%|██████████| 197263/197263 [48:16<00:00, 68.10it/s]  \n",
      " 95%|█████████▍| 284/300 [25:50:58<6:59:15, 1572.22s/it]"
     ]
    },
    {
     "name": "stdout",
     "output_type": "stream",
     "text": [
      "\n",
      "EVALUATION RESULTS:\n",
      "Global ELO Accuracy: 0.6621032980709396 (62673 matches)\n",
      "2025 ELO Accuracy: 0.6488474742520843 (2039 matches)\n",
      "Global ELO Surface Accuracy: 0.6551146426690919 (62673 matches)\n",
      "2025 ELO surface Accuracy: 0.6527709661598823 (2039 matches)\n",
      "\n"
     ]
    },
    {
     "name": "stderr",
     "output_type": "stream",
     "text": [
      "100%|██████████| 197263/197263 [26:07<00:00, 125.85it/s]  \n",
      " 95%|█████████▌| 285/300 [26:17:06<6:32:42, 1570.80s/it]"
     ]
    },
    {
     "name": "stdout",
     "output_type": "stream",
     "text": [
      "\n",
      "EVALUATION RESULTS:\n",
      "Global ELO Accuracy: 0.6439934261962886 (62673 matches)\n",
      "2025 ELO Accuracy: 0.6277587052476704 (2039 matches)\n",
      "Global ELO Surface Accuracy: 0.6412490227051522 (62673 matches)\n",
      "2025 ELO surface Accuracy: 0.6326630701324178 (2039 matches)\n",
      "\n"
     ]
    },
    {
     "name": "stderr",
     "output_type": "stream",
     "text": [
      "100%|██████████| 197263/197263 [27:24<00:00, 119.97it/s] \n",
      " 95%|█████████▌| 286/300 [26:44:30<6:11:40, 1592.91s/it]"
     ]
    },
    {
     "name": "stdout",
     "output_type": "stream",
     "text": [
      "\n",
      "EVALUATION RESULTS:\n",
      "Global ELO Accuracy: 0.6614171971981555 (62673 matches)\n",
      "2025 ELO Accuracy: 0.6454144188327612 (2039 matches)\n",
      "Global ELO Surface Accuracy: 0.6544604534648094 (62673 matches)\n",
      "2025 ELO surface Accuracy: 0.6444335458558117 (2039 matches)\n",
      "\n"
     ]
    },
    {
     "name": "stderr",
     "output_type": "stream",
     "text": [
      "100%|██████████| 197263/197263 [03:47<00:00, 867.28it/s]  \n",
      " 96%|█████████▌| 287/300 [26:48:18<4:16:23, 1183.33s/it]"
     ]
    },
    {
     "name": "stdout",
     "output_type": "stream",
     "text": [
      "\n",
      "EVALUATION RESULTS:\n",
      "Global ELO Accuracy: 0.6617363138831713 (62673 matches)\n",
      "2025 ELO Accuracy: 0.6405100539480137 (2039 matches)\n",
      "Global ELO Surface Accuracy: 0.654572144304565 (62673 matches)\n",
      "2025 ELO surface Accuracy: 0.6454144188327612 (2039 matches)\n",
      "\n"
     ]
    },
    {
     "name": "stderr",
     "output_type": "stream",
     "text": [
      "100%|██████████| 197263/197263 [12:02<00:00, 273.20it/s] \n",
      " 96%|█████████▌| 288/300 [27:00:20<3:28:59, 1044.99s/it]"
     ]
    },
    {
     "name": "stdout",
     "output_type": "stream",
     "text": [
      "\n",
      "EVALUATION RESULTS:\n",
      "Global ELO Accuracy: 0.6285960461442727 (62673 matches)\n",
      "2025 ELO Accuracy: 0.6105934281510544 (2039 matches)\n",
      "Global ELO Surface Accuracy: 0.6274312702439647 (62673 matches)\n",
      "2025 ELO surface Accuracy: 0.6164786660127514 (2039 matches)\n",
      "\n"
     ]
    },
    {
     "name": "stderr",
     "output_type": "stream",
     "text": [
      "100%|██████████| 197263/197263 [00:30<00:00, 6486.74it/s]\n",
      " 96%|█████████▋| 289/300 [27:00:50<2:15:47, 740.68s/it] "
     ]
    },
    {
     "name": "stdout",
     "output_type": "stream",
     "text": [
      "\n",
      "EVALUATION RESULTS:\n",
      "Global ELO Accuracy: 0.6618799163914285 (62673 matches)\n",
      "2025 ELO Accuracy: 0.6439431093673369 (2039 matches)\n",
      "Global ELO Surface Accuracy: 0.6548593493210793 (62673 matches)\n",
      "2025 ELO surface Accuracy: 0.6478666012751348 (2039 matches)\n",
      "\n"
     ]
    },
    {
     "name": "stderr",
     "output_type": "stream",
     "text": [
      "100%|██████████| 197263/197263 [16:59<00:00, 193.42it/s]  \n",
      " 97%|█████████▋| 290/300 [27:17:50<2:17:24, 824.48s/it]"
     ]
    },
    {
     "name": "stdout",
     "output_type": "stream",
     "text": [
      "\n",
      "EVALUATION RESULTS:\n",
      "Global ELO Accuracy: 0.6608108754966253 (62673 matches)\n",
      "2025 ELO Accuracy: 0.6444335458558117 (2039 matches)\n",
      "Global ELO Surface Accuracy: 0.6522266366696983 (62673 matches)\n",
      "2025 ELO surface Accuracy: 0.6439431093673369 (2039 matches)\n",
      "\n"
     ]
    },
    {
     "name": "stderr",
     "output_type": "stream",
     "text": [
      "100%|██████████| 197263/197263 [00:31<00:00, 6344.10it/s]\n",
      " 97%|█████████▋| 291/300 [27:18:22<1:27:58, 586.51s/it]"
     ]
    },
    {
     "name": "stdout",
     "output_type": "stream",
     "text": [
      "\n",
      "EVALUATION RESULTS:\n",
      "Global ELO Accuracy: 0.6616565347119174 (62673 matches)\n",
      "2025 ELO Accuracy: 0.6473761647866602 (2039 matches)\n",
      "Global ELO Surface Accuracy: 0.6541892042825459 (62673 matches)\n",
      "2025 ELO surface Accuracy: 0.6488474742520843 (2039 matches)\n",
      "\n"
     ]
    },
    {
     "name": "stderr",
     "output_type": "stream",
     "text": [
      "100%|██████████| 197263/197263 [03:10<00:00, 1035.25it/s] \n",
      " 97%|█████████▋| 292/300 [27:21:32<1:02:22, 467.78s/it]"
     ]
    },
    {
     "name": "stdout",
     "output_type": "stream",
     "text": [
      "\n",
      "EVALUATION RESULTS:\n",
      "Global ELO Accuracy: 0.6625021939272094 (62673 matches)\n",
      "2025 ELO Accuracy: 0.6463952918097107 (2039 matches)\n",
      "Global ELO Surface Accuracy: 0.6571729452874443 (62673 matches)\n",
      "2025 ELO surface Accuracy: 0.6562040215792055 (2039 matches)\n",
      "\n"
     ]
    },
    {
     "name": "stderr",
     "output_type": "stream",
     "text": [
      "100%|██████████| 197263/197263 [16:06<00:00, 204.05it/s]  \n",
      " 98%|█████████▊| 293/300 [27:37:39<1:12:02, 617.51s/it]"
     ]
    },
    {
     "name": "stdout",
     "output_type": "stream",
     "text": [
      "\n",
      "EVALUATION RESULTS:\n",
      "Global ELO Accuracy: 0.6621032980709396 (62673 matches)\n",
      "2025 ELO Accuracy: 0.6478666012751348 (2039 matches)\n",
      "Global ELO Surface Accuracy: 0.6558645668788793 (62673 matches)\n",
      "2025 ELO surface Accuracy: 0.6532614026483571 (2039 matches)\n",
      "\n"
     ]
    },
    {
     "name": "stderr",
     "output_type": "stream",
     "text": [
      "100%|██████████| 197263/197263 [00:31<00:00, 6326.76it/s]\n",
      " 98%|█████████▊| 294/300 [27:38:11<44:09, 441.66s/it]  "
     ]
    },
    {
     "name": "stdout",
     "output_type": "stream",
     "text": [
      "\n",
      "EVALUATION RESULTS:\n",
      "Global ELO Accuracy: 0.661608667209165 (62673 matches)\n",
      "2025 ELO Accuracy: 0.6419813634134379 (2039 matches)\n",
      "Global ELO Surface Accuracy: 0.6537903084262761 (62673 matches)\n",
      "2025 ELO surface Accuracy: 0.6463952918097107 (2039 matches)\n",
      "\n"
     ]
    },
    {
     "name": "stderr",
     "output_type": "stream",
     "text": [
      "100%|██████████| 197263/197263 [15:21<00:00, 214.01it/s]  \n",
      " 98%|█████████▊| 295/300 [27:53:33<48:48, 585.74s/it]"
     ]
    },
    {
     "name": "stdout",
     "output_type": "stream",
     "text": [
      "\n",
      "EVALUATION RESULTS:\n",
      "Global ELO Accuracy: 0.6566304469229174 (62673 matches)\n",
      "2025 ELO Accuracy: 0.6346248160863168 (2039 matches)\n",
      "Global ELO Surface Accuracy: 0.6494981890128125 (62673 matches)\n",
      "2025 ELO surface Accuracy: 0.6424717999019127 (2039 matches)\n",
      "\n"
     ]
    },
    {
     "name": "stderr",
     "output_type": "stream",
     "text": [
      "100%|██████████| 197263/197263 [00:30<00:00, 6401.26it/s]\n",
      " 99%|█████████▊| 296/300 [27:54:04<27:57, 419.32s/it]"
     ]
    },
    {
     "name": "stdout",
     "output_type": "stream",
     "text": [
      "\n",
      "EVALUATION RESULTS:\n",
      "Global ELO Accuracy: 0.6619118280599301 (62673 matches)\n",
      "2025 ELO Accuracy: 0.6454144188327612 (2039 matches)\n",
      "Global ELO Surface Accuracy: 0.6547157468128221 (62673 matches)\n",
      "2025 ELO surface Accuracy: 0.6488474742520843 (2039 matches)\n",
      "\n"
     ]
    },
    {
     "name": "stderr",
     "output_type": "stream",
     "text": [
      "100%|██████████| 197263/197263 [07:16<00:00, 452.18it/s] \n",
      " 99%|█████████▉| 297/300 [28:01:20<21:13, 424.46s/it]"
     ]
    },
    {
     "name": "stdout",
     "output_type": "stream",
     "text": [
      "\n",
      "EVALUATION RESULTS:\n",
      "Global ELO Accuracy: 0.6560719927241396 (62673 matches)\n",
      "2025 ELO Accuracy: 0.6356056890632663 (2039 matches)\n",
      "Global ELO Surface Accuracy: 0.6488120881400284 (62673 matches)\n",
      "2025 ELO surface Accuracy: 0.6439431093673369 (2039 matches)\n",
      "\n"
     ]
    },
    {
     "name": "stderr",
     "output_type": "stream",
     "text": [
      "100%|██████████| 197263/197263 [00:29<00:00, 6738.49it/s] \n",
      " 99%|█████████▉| 298/300 [28:01:50<10:11, 305.95s/it]"
     ]
    },
    {
     "name": "stdout",
     "output_type": "stream",
     "text": [
      "\n",
      "EVALUATION RESULTS:\n",
      "Global ELO Accuracy: 0.6583696328562539 (62673 matches)\n",
      "2025 ELO Accuracy: 0.6410004904364884 (2039 matches)\n",
      "Global ELO Surface Accuracy: 0.6514288449571586 (62673 matches)\n",
      "2025 ELO surface Accuracy: 0.6429622363903874 (2039 matches)\n",
      "\n"
     ]
    },
    {
     "name": "stderr",
     "output_type": "stream",
     "text": [
      "100%|██████████| 197263/197263 [15:54<00:00, 206.57it/s] \n",
      "100%|█████████▉| 299/300 [28:17:45<08:20, 500.71s/it]"
     ]
    },
    {
     "name": "stdout",
     "output_type": "stream",
     "text": [
      "\n",
      "EVALUATION RESULTS:\n",
      "Global ELO Accuracy: 0.6587047053755205 (62673 matches)\n",
      "2025 ELO Accuracy: 0.6434526728788622 (2039 matches)\n",
      "Global ELO Surface Accuracy: 0.649689659023822 (62673 matches)\n",
      "2025 ELO surface Accuracy: 0.6434526728788622 (2039 matches)\n",
      "\n"
     ]
    },
    {
     "name": "stderr",
     "output_type": "stream",
     "text": [
      "100%|██████████| 197263/197263 [00:50<00:00, 3912.97it/s] \n",
      "100%|██████████| 300/300 [28:18:35<00:00, 339.72s/it]"
     ]
    },
    {
     "name": "stdout",
     "output_type": "stream",
     "text": [
      "\n",
      "EVALUATION RESULTS:\n",
      "Global ELO Accuracy: 0.6619596955626825 (62673 matches)\n",
      "2025 ELO Accuracy: 0.6488474742520843 (2039 matches)\n",
      "Global ELO Surface Accuracy: 0.6560241252213872 (62673 matches)\n",
      "2025 ELO surface Accuracy: 0.6542422756253066 (2039 matches)\n",
      "\n"
     ]
    },
    {
     "name": "stderr",
     "output_type": "stream",
     "text": [
      "\n"
     ]
    }
   ],
   "source": [
    "# from scipy.stats import loguniform, randint\n",
    "# import random\n",
    "\n",
    "# param_dist = {\n",
    "#     \"base_k_factor\": randint(0, 50),\n",
    "#     \"max_k_factor\": randint(50, 100),\n",
    "#     \"div_number\": randint(500, 1000)\n",
    "# }\n",
    "\n",
    "# N_ITER = 300\n",
    "# best_score = -np.inf\n",
    "# best_params = None\n",
    "\n",
    "# elo_df = pd.DataFrame(columns=[\"ELO_GLOBAL_SCORE\", \"ELO_2025_SCORE\", \"ELO_SURFACE_GLOBAL_SCORE\", \"ELO_SURFACE_2025_SCORE\", \"base_k_factor\", \"max_k_factor\", \"div_number\"])\n",
    "\n",
    "# for i in tqdm(range(N_ITER)):\n",
    "#     # Randomly sample parameters\n",
    "#     params = {k: v.rvs() for k, v in param_dist.items()}\n",
    "\n",
    "#     prev_stats_eval = createStats()\n",
    "#     elo_global_score, elo_2025_score, elo_surface_global_score, elo_surface_2025_score = run_ELO_evaluation(evaluation_data=allData, prev_stats=prev_stats_eval, k_factor=None, **params)\n",
    "    \n",
    "#     new_row = {\"ELO_GLOBAL_SCORE\": elo_global_score, \"ELO_2025_SCORE\": elo_2025_score, \"ELO_SURFACE_GLOBAL_SCORE\": elo_surface_global_score, \"ELO_SURFACE_2025_SCORE\": elo_surface_2025_score,  **params}\n",
    "    \n",
    "#     elo_df.loc[len(elo_df)] = new_row"
   ]
  },
  {
   "cell_type": "markdown",
   "id": "cd74e78d",
   "metadata": {},
   "source": [
    "Unfortunately, I didn't save these results to a CSV. If you want to, you can uncomment the above cell and run it. Otherwise, just scroll to the end of this notebook to see the optimal ELO hyperparameters :)"
   ]
  },
  {
   "cell_type": "code",
   "execution_count": null,
   "id": "bf6802c6",
   "metadata": {},
   "outputs": [],
   "source": [
    "# elo_df.sort_values(\"ELO_GLOBAL_SCORE\", ascending=False).head(50)"
   ]
  },
  {
   "cell_type": "code",
   "execution_count": null,
   "id": "34f55c59",
   "metadata": {},
   "outputs": [
    {
     "data": {
      "text/html": [
       "<div>\n",
       "<style scoped>\n",
       "    .dataframe tbody tr th:only-of-type {\n",
       "        vertical-align: middle;\n",
       "    }\n",
       "\n",
       "    .dataframe tbody tr th {\n",
       "        vertical-align: top;\n",
       "    }\n",
       "\n",
       "    .dataframe thead th {\n",
       "        text-align: right;\n",
       "    }\n",
       "</style>\n",
       "<table border=\"1\" class=\"dataframe\">\n",
       "  <thead>\n",
       "    <tr style=\"text-align: right;\">\n",
       "      <th></th>\n",
       "      <th>ELO_GLOBAL_SCORE</th>\n",
       "      <th>ELO_2025_SCORE</th>\n",
       "      <th>ELO_SURFACE_GLOBAL_SCORE</th>\n",
       "      <th>ELO_SURFACE_2025_SCORE</th>\n",
       "      <th>base_k_factor</th>\n",
       "      <th>max_k_factor</th>\n",
       "      <th>div_number</th>\n",
       "    </tr>\n",
       "  </thead>\n",
       "  <tbody>\n",
       "    <tr>\n",
       "      <th>0</th>\n",
       "      <td>0.660954</td>\n",
       "      <td>0.643943</td>\n",
       "      <td>0.650966</td>\n",
       "      <td>0.642962</td>\n",
       "      <td>16</td>\n",
       "      <td>79</td>\n",
       "      <td>610</td>\n",
       "    </tr>\n",
       "  </tbody>\n",
       "</table>\n",
       "</div>"
      ],
      "text/plain": [
       "   ELO_GLOBAL_SCORE  ELO_2025_SCORE  ELO_SURFACE_GLOBAL_SCORE  \\\n",
       "0          0.660954        0.643943                  0.650966   \n",
       "\n",
       "   ELO_SURFACE_2025_SCORE  base_k_factor  max_k_factor  div_number  \n",
       "0                0.642962             16            79         610  "
      ]
     },
     "execution_count": 6,
     "metadata": {},
     "output_type": "execute_result"
    }
   ],
   "source": [
    "# elo_df.sort_values(\"ELO_GLOBAL_SCORE\", ascending=False).head(50)"
   ]
  },
  {
   "cell_type": "code",
   "execution_count": null,
   "id": "6ec5c5a2",
   "metadata": {},
   "outputs": [
    {
     "data": {
      "text/html": [
       "<div>\n",
       "<style scoped>\n",
       "    .dataframe tbody tr th:only-of-type {\n",
       "        vertical-align: middle;\n",
       "    }\n",
       "\n",
       "    .dataframe tbody tr th {\n",
       "        vertical-align: top;\n",
       "    }\n",
       "\n",
       "    .dataframe thead th {\n",
       "        text-align: right;\n",
       "    }\n",
       "</style>\n",
       "<table border=\"1\" class=\"dataframe\">\n",
       "  <thead>\n",
       "    <tr style=\"text-align: right;\">\n",
       "      <th></th>\n",
       "      <th>AllDataScore</th>\n",
       "      <th>Score2025</th>\n",
       "      <th>base_k_factor</th>\n",
       "      <th>max_k_factor</th>\n",
       "    </tr>\n",
       "  </thead>\n",
       "  <tbody>\n",
       "    <tr>\n",
       "      <th>29</th>\n",
       "      <td>0.661162</td>\n",
       "      <td>0.651790</td>\n",
       "      <td>43</td>\n",
       "      <td>62</td>\n",
       "    </tr>\n",
       "    <tr>\n",
       "      <th>213</th>\n",
       "      <td>0.661353</td>\n",
       "      <td>0.651300</td>\n",
       "      <td>44</td>\n",
       "      <td>89</td>\n",
       "    </tr>\n",
       "    <tr>\n",
       "      <th>250</th>\n",
       "      <td>0.660492</td>\n",
       "      <td>0.651300</td>\n",
       "      <td>46</td>\n",
       "      <td>56</td>\n",
       "    </tr>\n",
       "    <tr>\n",
       "      <th>241</th>\n",
       "      <td>0.661401</td>\n",
       "      <td>0.650809</td>\n",
       "      <td>43</td>\n",
       "      <td>72</td>\n",
       "    </tr>\n",
       "    <tr>\n",
       "      <th>266</th>\n",
       "      <td>0.661162</td>\n",
       "      <td>0.650809</td>\n",
       "      <td>44</td>\n",
       "      <td>92</td>\n",
       "    </tr>\n",
       "    <tr>\n",
       "      <th>233</th>\n",
       "      <td>0.661417</td>\n",
       "      <td>0.650809</td>\n",
       "      <td>43</td>\n",
       "      <td>73</td>\n",
       "    </tr>\n",
       "    <tr>\n",
       "      <th>199</th>\n",
       "      <td>0.660444</td>\n",
       "      <td>0.650809</td>\n",
       "      <td>46</td>\n",
       "      <td>57</td>\n",
       "    </tr>\n",
       "    <tr>\n",
       "      <th>86</th>\n",
       "      <td>0.660492</td>\n",
       "      <td>0.650809</td>\n",
       "      <td>46</td>\n",
       "      <td>58</td>\n",
       "    </tr>\n",
       "    <tr>\n",
       "      <th>272</th>\n",
       "      <td>0.661098</td>\n",
       "      <td>0.650809</td>\n",
       "      <td>44</td>\n",
       "      <td>77</td>\n",
       "    </tr>\n",
       "    <tr>\n",
       "      <th>48</th>\n",
       "      <td>0.660875</td>\n",
       "      <td>0.650809</td>\n",
       "      <td>47</td>\n",
       "      <td>71</td>\n",
       "    </tr>\n",
       "    <tr>\n",
       "      <th>31</th>\n",
       "      <td>0.661210</td>\n",
       "      <td>0.650809</td>\n",
       "      <td>44</td>\n",
       "      <td>67</td>\n",
       "    </tr>\n",
       "    <tr>\n",
       "      <th>52</th>\n",
       "      <td>0.661162</td>\n",
       "      <td>0.650319</td>\n",
       "      <td>45</td>\n",
       "      <td>82</td>\n",
       "    </tr>\n",
       "    <tr>\n",
       "      <th>89</th>\n",
       "      <td>0.661018</td>\n",
       "      <td>0.650319</td>\n",
       "      <td>47</td>\n",
       "      <td>73</td>\n",
       "    </tr>\n",
       "    <tr>\n",
       "      <th>84</th>\n",
       "      <td>0.661321</td>\n",
       "      <td>0.650319</td>\n",
       "      <td>42</td>\n",
       "      <td>62</td>\n",
       "    </tr>\n",
       "    <tr>\n",
       "      <th>136</th>\n",
       "      <td>0.661178</td>\n",
       "      <td>0.650319</td>\n",
       "      <td>45</td>\n",
       "      <td>69</td>\n",
       "    </tr>\n",
       "    <tr>\n",
       "      <th>281</th>\n",
       "      <td>0.661050</td>\n",
       "      <td>0.650319</td>\n",
       "      <td>45</td>\n",
       "      <td>71</td>\n",
       "    </tr>\n",
       "    <tr>\n",
       "      <th>253</th>\n",
       "      <td>0.661274</td>\n",
       "      <td>0.650319</td>\n",
       "      <td>45</td>\n",
       "      <td>75</td>\n",
       "    </tr>\n",
       "    <tr>\n",
       "      <th>40</th>\n",
       "      <td>0.660125</td>\n",
       "      <td>0.649828</td>\n",
       "      <td>49</td>\n",
       "      <td>63</td>\n",
       "    </tr>\n",
       "    <tr>\n",
       "      <th>226</th>\n",
       "      <td>0.661034</td>\n",
       "      <td>0.649828</td>\n",
       "      <td>45</td>\n",
       "      <td>75</td>\n",
       "    </tr>\n",
       "    <tr>\n",
       "      <th>39</th>\n",
       "      <td>0.660061</td>\n",
       "      <td>0.649828</td>\n",
       "      <td>49</td>\n",
       "      <td>58</td>\n",
       "    </tr>\n",
       "    <tr>\n",
       "      <th>225</th>\n",
       "      <td>0.661481</td>\n",
       "      <td>0.649828</td>\n",
       "      <td>46</td>\n",
       "      <td>86</td>\n",
       "    </tr>\n",
       "    <tr>\n",
       "      <th>289</th>\n",
       "      <td>0.661130</td>\n",
       "      <td>0.649828</td>\n",
       "      <td>45</td>\n",
       "      <td>98</td>\n",
       "    </tr>\n",
       "    <tr>\n",
       "      <th>133</th>\n",
       "      <td>0.659678</td>\n",
       "      <td>0.649338</td>\n",
       "      <td>49</td>\n",
       "      <td>54</td>\n",
       "    </tr>\n",
       "    <tr>\n",
       "      <th>23</th>\n",
       "      <td>0.661162</td>\n",
       "      <td>0.649338</td>\n",
       "      <td>42</td>\n",
       "      <td>58</td>\n",
       "    </tr>\n",
       "    <tr>\n",
       "      <th>264</th>\n",
       "      <td>0.659646</td>\n",
       "      <td>0.649338</td>\n",
       "      <td>48</td>\n",
       "      <td>51</td>\n",
       "    </tr>\n",
       "    <tr>\n",
       "      <th>125</th>\n",
       "      <td>0.661290</td>\n",
       "      <td>0.649338</td>\n",
       "      <td>42</td>\n",
       "      <td>62</td>\n",
       "    </tr>\n",
       "    <tr>\n",
       "      <th>4</th>\n",
       "      <td>0.661497</td>\n",
       "      <td>0.649338</td>\n",
       "      <td>43</td>\n",
       "      <td>87</td>\n",
       "    </tr>\n",
       "    <tr>\n",
       "      <th>139</th>\n",
       "      <td>0.660332</td>\n",
       "      <td>0.649338</td>\n",
       "      <td>47</td>\n",
       "      <td>64</td>\n",
       "    </tr>\n",
       "    <tr>\n",
       "      <th>207</th>\n",
       "      <td>0.661449</td>\n",
       "      <td>0.648847</td>\n",
       "      <td>42</td>\n",
       "      <td>73</td>\n",
       "    </tr>\n",
       "    <tr>\n",
       "      <th>53</th>\n",
       "      <td>0.661832</td>\n",
       "      <td>0.648847</td>\n",
       "      <td>33</td>\n",
       "      <td>72</td>\n",
       "    </tr>\n",
       "  </tbody>\n",
       "</table>\n",
       "</div>"
      ],
      "text/plain": [
       "     AllDataScore  Score2025  base_k_factor  max_k_factor\n",
       "29       0.661162   0.651790             43            62\n",
       "213      0.661353   0.651300             44            89\n",
       "250      0.660492   0.651300             46            56\n",
       "241      0.661401   0.650809             43            72\n",
       "266      0.661162   0.650809             44            92\n",
       "233      0.661417   0.650809             43            73\n",
       "199      0.660444   0.650809             46            57\n",
       "86       0.660492   0.650809             46            58\n",
       "272      0.661098   0.650809             44            77\n",
       "48       0.660875   0.650809             47            71\n",
       "31       0.661210   0.650809             44            67\n",
       "52       0.661162   0.650319             45            82\n",
       "89       0.661018   0.650319             47            73\n",
       "84       0.661321   0.650319             42            62\n",
       "136      0.661178   0.650319             45            69\n",
       "281      0.661050   0.650319             45            71\n",
       "253      0.661274   0.650319             45            75\n",
       "40       0.660125   0.649828             49            63\n",
       "226      0.661034   0.649828             45            75\n",
       "39       0.660061   0.649828             49            58\n",
       "225      0.661481   0.649828             46            86\n",
       "289      0.661130   0.649828             45            98\n",
       "133      0.659678   0.649338             49            54\n",
       "23       0.661162   0.649338             42            58\n",
       "264      0.659646   0.649338             48            51\n",
       "125      0.661290   0.649338             42            62\n",
       "4        0.661497   0.649338             43            87\n",
       "139      0.660332   0.649338             47            64\n",
       "207      0.661449   0.648847             42            73\n",
       "53       0.661832   0.648847             33            72"
      ]
     },
     "execution_count": 6,
     "metadata": {},
     "output_type": "execute_result"
    }
   ],
   "source": [
    "# elo_df.sort_values(\"Score2025\", ascending=False).head(30)"
   ]
  },
  {
   "cell_type": "code",
   "execution_count": null,
   "id": "87a42c3b",
   "metadata": {},
   "outputs": [
    {
     "data": {
      "text/html": [
       "<div>\n",
       "<style scoped>\n",
       "    .dataframe tbody tr th:only-of-type {\n",
       "        vertical-align: middle;\n",
       "    }\n",
       "\n",
       "    .dataframe tbody tr th {\n",
       "        vertical-align: top;\n",
       "    }\n",
       "\n",
       "    .dataframe thead th {\n",
       "        text-align: right;\n",
       "    }\n",
       "</style>\n",
       "<table border=\"1\" class=\"dataframe\">\n",
       "  <thead>\n",
       "    <tr style=\"text-align: right;\">\n",
       "      <th></th>\n",
       "      <th>AllDataScore</th>\n",
       "      <th>Score2025</th>\n",
       "      <th>base_k_factor</th>\n",
       "      <th>max_k_factor</th>\n",
       "    </tr>\n",
       "  </thead>\n",
       "  <tbody>\n",
       "    <tr>\n",
       "      <th>138</th>\n",
       "      <td>0.662359</td>\n",
       "      <td>0.646395</td>\n",
       "      <td>38</td>\n",
       "      <td>80</td>\n",
       "    </tr>\n",
       "    <tr>\n",
       "      <th>161</th>\n",
       "      <td>0.662359</td>\n",
       "      <td>0.646395</td>\n",
       "      <td>33</td>\n",
       "      <td>82</td>\n",
       "    </tr>\n",
       "    <tr>\n",
       "      <th>295</th>\n",
       "      <td>0.662327</td>\n",
       "      <td>0.647867</td>\n",
       "      <td>32</td>\n",
       "      <td>82</td>\n",
       "    </tr>\n",
       "    <tr>\n",
       "      <th>214</th>\n",
       "      <td>0.662311</td>\n",
       "      <td>0.646886</td>\n",
       "      <td>38</td>\n",
       "      <td>88</td>\n",
       "    </tr>\n",
       "    <tr>\n",
       "      <th>60</th>\n",
       "      <td>0.662311</td>\n",
       "      <td>0.648357</td>\n",
       "      <td>32</td>\n",
       "      <td>97</td>\n",
       "    </tr>\n",
       "    <tr>\n",
       "      <th>286</th>\n",
       "      <td>0.662295</td>\n",
       "      <td>0.648847</td>\n",
       "      <td>36</td>\n",
       "      <td>95</td>\n",
       "    </tr>\n",
       "    <tr>\n",
       "      <th>181</th>\n",
       "      <td>0.662279</td>\n",
       "      <td>0.643453</td>\n",
       "      <td>24</td>\n",
       "      <td>97</td>\n",
       "    </tr>\n",
       "    <tr>\n",
       "      <th>95</th>\n",
       "      <td>0.662231</td>\n",
       "      <td>0.647867</td>\n",
       "      <td>38</td>\n",
       "      <td>79</td>\n",
       "    </tr>\n",
       "    <tr>\n",
       "      <th>186</th>\n",
       "      <td>0.662215</td>\n",
       "      <td>0.644924</td>\n",
       "      <td>39</td>\n",
       "      <td>97</td>\n",
       "    </tr>\n",
       "    <tr>\n",
       "      <th>5</th>\n",
       "      <td>0.662215</td>\n",
       "      <td>0.646395</td>\n",
       "      <td>38</td>\n",
       "      <td>77</td>\n",
       "    </tr>\n",
       "    <tr>\n",
       "      <th>190</th>\n",
       "      <td>0.662215</td>\n",
       "      <td>0.647867</td>\n",
       "      <td>34</td>\n",
       "      <td>81</td>\n",
       "    </tr>\n",
       "    <tr>\n",
       "      <th>83</th>\n",
       "      <td>0.662199</td>\n",
       "      <td>0.647376</td>\n",
       "      <td>38</td>\n",
       "      <td>72</td>\n",
       "    </tr>\n",
       "    <tr>\n",
       "      <th>12</th>\n",
       "      <td>0.662183</td>\n",
       "      <td>0.642962</td>\n",
       "      <td>22</td>\n",
       "      <td>91</td>\n",
       "    </tr>\n",
       "    <tr>\n",
       "      <th>284</th>\n",
       "      <td>0.662151</td>\n",
       "      <td>0.648847</td>\n",
       "      <td>32</td>\n",
       "      <td>99</td>\n",
       "    </tr>\n",
       "    <tr>\n",
       "      <th>114</th>\n",
       "      <td>0.662151</td>\n",
       "      <td>0.647867</td>\n",
       "      <td>29</td>\n",
       "      <td>99</td>\n",
       "    </tr>\n",
       "    <tr>\n",
       "      <th>121</th>\n",
       "      <td>0.662151</td>\n",
       "      <td>0.647867</td>\n",
       "      <td>36</td>\n",
       "      <td>84</td>\n",
       "    </tr>\n",
       "    <tr>\n",
       "      <th>64</th>\n",
       "      <td>0.662135</td>\n",
       "      <td>0.646886</td>\n",
       "      <td>39</td>\n",
       "      <td>88</td>\n",
       "    </tr>\n",
       "    <tr>\n",
       "      <th>223</th>\n",
       "      <td>0.662135</td>\n",
       "      <td>0.648357</td>\n",
       "      <td>31</td>\n",
       "      <td>81</td>\n",
       "    </tr>\n",
       "    <tr>\n",
       "      <th>109</th>\n",
       "      <td>0.662119</td>\n",
       "      <td>0.647867</td>\n",
       "      <td>36</td>\n",
       "      <td>84</td>\n",
       "    </tr>\n",
       "    <tr>\n",
       "      <th>184</th>\n",
       "      <td>0.662119</td>\n",
       "      <td>0.642472</td>\n",
       "      <td>24</td>\n",
       "      <td>77</td>\n",
       "    </tr>\n",
       "    <tr>\n",
       "      <th>249</th>\n",
       "      <td>0.662119</td>\n",
       "      <td>0.647867</td>\n",
       "      <td>36</td>\n",
       "      <td>80</td>\n",
       "    </tr>\n",
       "    <tr>\n",
       "      <th>88</th>\n",
       "      <td>0.662087</td>\n",
       "      <td>0.648357</td>\n",
       "      <td>37</td>\n",
       "      <td>67</td>\n",
       "    </tr>\n",
       "    <tr>\n",
       "      <th>267</th>\n",
       "      <td>0.662087</td>\n",
       "      <td>0.642472</td>\n",
       "      <td>23</td>\n",
       "      <td>97</td>\n",
       "    </tr>\n",
       "    <tr>\n",
       "      <th>296</th>\n",
       "      <td>0.662071</td>\n",
       "      <td>0.640020</td>\n",
       "      <td>18</td>\n",
       "      <td>76</td>\n",
       "    </tr>\n",
       "    <tr>\n",
       "      <th>231</th>\n",
       "      <td>0.662055</td>\n",
       "      <td>0.644924</td>\n",
       "      <td>31</td>\n",
       "      <td>89</td>\n",
       "    </tr>\n",
       "    <tr>\n",
       "      <th>246</th>\n",
       "      <td>0.662039</td>\n",
       "      <td>0.645414</td>\n",
       "      <td>40</td>\n",
       "      <td>83</td>\n",
       "    </tr>\n",
       "    <tr>\n",
       "      <th>62</th>\n",
       "      <td>0.662039</td>\n",
       "      <td>0.647867</td>\n",
       "      <td>35</td>\n",
       "      <td>77</td>\n",
       "    </tr>\n",
       "    <tr>\n",
       "      <th>135</th>\n",
       "      <td>0.662039</td>\n",
       "      <td>0.648357</td>\n",
       "      <td>32</td>\n",
       "      <td>91</td>\n",
       "    </tr>\n",
       "    <tr>\n",
       "      <th>19</th>\n",
       "      <td>0.662039</td>\n",
       "      <td>0.648357</td>\n",
       "      <td>35</td>\n",
       "      <td>74</td>\n",
       "    </tr>\n",
       "    <tr>\n",
       "      <th>263</th>\n",
       "      <td>0.661992</td>\n",
       "      <td>0.647376</td>\n",
       "      <td>40</td>\n",
       "      <td>67</td>\n",
       "    </tr>\n",
       "  </tbody>\n",
       "</table>\n",
       "</div>"
      ],
      "text/plain": [
       "     AllDataScore  Score2025  base_k_factor  max_k_factor\n",
       "138      0.662359   0.646395             38            80\n",
       "161      0.662359   0.646395             33            82\n",
       "295      0.662327   0.647867             32            82\n",
       "214      0.662311   0.646886             38            88\n",
       "60       0.662311   0.648357             32            97\n",
       "286      0.662295   0.648847             36            95\n",
       "181      0.662279   0.643453             24            97\n",
       "95       0.662231   0.647867             38            79\n",
       "186      0.662215   0.644924             39            97\n",
       "5        0.662215   0.646395             38            77\n",
       "190      0.662215   0.647867             34            81\n",
       "83       0.662199   0.647376             38            72\n",
       "12       0.662183   0.642962             22            91\n",
       "284      0.662151   0.648847             32            99\n",
       "114      0.662151   0.647867             29            99\n",
       "121      0.662151   0.647867             36            84\n",
       "64       0.662135   0.646886             39            88\n",
       "223      0.662135   0.648357             31            81\n",
       "109      0.662119   0.647867             36            84\n",
       "184      0.662119   0.642472             24            77\n",
       "249      0.662119   0.647867             36            80\n",
       "88       0.662087   0.648357             37            67\n",
       "267      0.662087   0.642472             23            97\n",
       "296      0.662071   0.640020             18            76\n",
       "231      0.662055   0.644924             31            89\n",
       "246      0.662039   0.645414             40            83\n",
       "62       0.662039   0.647867             35            77\n",
       "135      0.662039   0.648357             32            91\n",
       "19       0.662039   0.648357             35            74\n",
       "263      0.661992   0.647376             40            67"
      ]
     },
     "execution_count": 7,
     "metadata": {},
     "output_type": "execute_result"
    }
   ],
   "source": [
    "# elo_df.sort_values(\"AllDataScore\", ascending=False).head(30)"
   ]
  },
  {
   "cell_type": "code",
   "execution_count": 13,
   "id": "4ed237c7",
   "metadata": {},
   "outputs": [
    {
     "name": "stderr",
     "output_type": "stream",
     "text": [
      "100%|██████████| 197263/197263 [00:13<00:00, 14312.56it/s]\n"
     ]
    },
    {
     "name": "stdout",
     "output_type": "stream",
     "text": [
      "\n",
      "EVALUATION RESULTS:\n",
      "Global ELO Accuracy: 0.6556056606897627 (102673 matches)\n",
      "2025 ELO Accuracy: 0.6512996566944581 (2039 matches)\n",
      "Global ELO Surface Accuracy: 0.6522746973400991 (102673 matches)\n",
      "2025 ELO Surface Accuracy: 0.6566944580676802 (2039 matches)\n",
      "\n"
     ]
    }
   ],
   "source": [
    "########## Test with best params ##########\n",
    "# ELO with base_k_factor=38, max_k_factor=80\n",
    "###########################################\n",
    "\n",
    "prev_stats_eval = createStats()\n",
    "run_ELO_evaluation(evaluation_data=allData, \n",
    "                         prev_stats=prev_stats_eval, \n",
    "                         k_factor=None, \n",
    "                         base_k_factor=43, \n",
    "                         max_k_factor=62, \n",
    "                         div_number=800,\n",
    "                         bonus_after_layoff=False)\n",
    "del prev_stats_eval"
   ]
  },
  {
   "cell_type": "code",
   "execution_count": 14,
   "id": "daa789ca",
   "metadata": {},
   "outputs": [
    {
     "name": "stderr",
     "output_type": "stream",
     "text": [
      "100%|██████████| 197263/197263 [01:06<00:00, 2947.97it/s]\n"
     ]
    },
    {
     "name": "stdout",
     "output_type": "stream",
     "text": [
      "\n",
      "EVALUATION RESULTS:\n",
      "Global ELO Accuracy: 0.655498524441674 (102673 matches)\n",
      "2025 ELO Accuracy: 0.6522805296714076 (2039 matches)\n",
      "Global ELO Surface Accuracy: 0.6517682350764076 (102673 matches)\n",
      "2025 ELO Surface Accuracy: 0.6552231486022561 (2039 matches)\n",
      "\n"
     ]
    }
   ],
   "source": [
    "########## Test with best params ##########\n",
    "# ELO with base_k_factor=38, max_k_factor=80 + bonus_after_layoff\n",
    "###########################################\n",
    "\n",
    "prev_stats_eval = createStats()\n",
    "run_ELO_evaluation(evaluation_data=allData, \n",
    "                         prev_stats=prev_stats_eval, \n",
    "                         k_factor=None, \n",
    "                         base_k_factor=43, \n",
    "                         max_k_factor=62, \n",
    "                         div_number=800,\n",
    "                         bonus_after_layoff=True)\n",
    "del prev_stats_eval"
   ]
  },
  {
   "cell_type": "markdown",
   "id": "4b071f0f",
   "metadata": {},
   "source": [
    "Cool from now on we'll use the following hyperparameters when updating the stats:\n",
    "\n",
    "```\n",
    "updateStats(row, prev_stats, k_factor=None, base_k_factor=43, max_k_factor=62, div_number=800, bonus_after_layoff=True)\n",
    "```"
   ]
  }
 ],
 "metadata": {
  "kernelspec": {
   "display_name": "tennisAI",
   "language": "python",
   "name": "python3"
  },
  "language_info": {
   "codemirror_mode": {
    "name": "ipython",
    "version": 3
   },
   "file_extension": ".py",
   "mimetype": "text/x-python",
   "name": "python",
   "nbconvert_exporter": "python",
   "pygments_lexer": "ipython3",
   "version": "3.10.18"
  }
 },
 "nbformat": 4,
 "nbformat_minor": 5
}
