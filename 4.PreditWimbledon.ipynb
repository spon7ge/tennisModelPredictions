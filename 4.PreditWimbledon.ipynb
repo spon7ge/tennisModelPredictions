{
 "cells": [
  {
   "cell_type": "markdown",
   "id": "21b1cce7",
   "metadata": {},
   "source": [
    "# Predict Wimbledon"
   ]
  },
  {
   "cell_type": "code",
   "execution_count": 1,
   "id": "78f81167",
   "metadata": {},
   "outputs": [],
   "source": [
    "%matplotlib inline\n",
    "import numpy as np\n",
    "import pandas as pd\n",
    "from tqdm import tqdm\n",
    "from sklearn.preprocessing import StandardScaler\n",
    "from sklearn.tree import DecisionTreeClassifier\n",
    "from sklearn.ensemble import RandomForestClassifier\n",
    "from sklearn.model_selection import train_test_split\n",
    "from sklearn.tree import plot_tree\n",
    "from sklearn import tree\n",
    "from xgboost import XGBClassifier\n",
    "from sklearn.model_selection import GridSearchCV\n",
    "from sklearn.metrics import accuracy_score\n",
    "from utils.updateStats import getStats, updateStats, createStats\n",
    "pd.set_option('display.max_columns', None)"
   ]
  },
  {
   "cell_type": "code",
   "execution_count": 2,
   "id": "7e00c16a",
   "metadata": {},
   "outputs": [],
   "source": [
    "from datetime import datetime\n",
    "def calculate_age(dob_str: str,\n",
    "                  ref_str: str,\n",
    "                  *,\n",
    "                  as_float: bool = True,\n",
    "                  precision: int = 1) -> float | int:\n",
    "    \"\"\"\n",
    "    Parameters\n",
    "    ----------\n",
    "    dob_str   : str  YYYYMMDD   (e.g. '20030505')\n",
    "    ref_str   : str  YYYYMMDD   (e.g. '20250630')\n",
    "    as_float  : bool return decimal-years instead of whole years\n",
    "    precision : int  number of decimal places when as_float=True\n",
    "\n",
    "    Returns\n",
    "    -------\n",
    "    int   (whole years)            when as_float=False  (default)\n",
    "    float (years, <precision> dp)  when as_float=True\n",
    "    \"\"\"\n",
    "    dob = datetime.strptime(dob_str, \"%Y%m%d\").date()\n",
    "    ref = datetime.strptime(ref_str, \"%Y-%m-%d\").date()\n",
    "\n",
    "    # — whole‑year age —\n",
    "    yrs = ref.year - dob.year - ((ref.month, ref.day) < (dob.month, dob.day))\n",
    "    if not as_float:\n",
    "        return yrs\n",
    "\n",
    "    # — decimal‑year age (uses the mean tropical year: 365.2425 days) —\n",
    "    age = (ref - dob).days / 365.2425\n",
    "    return round(age, precision)"
   ]
  },
  {
   "cell_type": "code",
   "execution_count": 3,
   "id": "72884673",
   "metadata": {},
   "outputs": [
    {
     "name": "stderr",
     "output_type": "stream",
     "text": [
      "/var/folders/72/931mm5912h7_y6ts82j2wjhh0000gn/T/ipykernel_55551/3060240001.py:1: DtypeWarning: Columns (7) have mixed types. Specify dtype option on import or set low_memory=False.\n",
      "  player_info = pd.read_csv(\"./data/atp_players.csv\")\n"
     ]
    }
   ],
   "source": [
    "player_info = pd.read_csv(\"./data/atp_players.csv\")\n",
    "player_info.set_index([\"name_first\", \"name_last\"], inplace=True)"
   ]
  },
  {
   "cell_type": "markdown",
   "id": "c298409b",
   "metadata": {},
   "source": [
    "## Get info about each player"
   ]
  },
  {
   "cell_type": "code",
   "execution_count": 4,
   "id": "57e27cd8",
   "metadata": {},
   "outputs": [
    {
     "name": "stdout",
     "output_type": "stream",
     "text": [
      "{'Benjamin Bonzi': '64', 'Andrea Fiorentini': '949', 'Melvin Kumar': '1634', 'Tristan Berard': '1770', 'James Story': '562', 'Mason Naumovski': '1770', 'Jake Delaney': '508', 'Alessandro Spadola': '1216', 'Zhan Zheng': '2153', 'Ko Suzuki': '1689', 'Michael Gloeckler': '1442', 'Holden Koons': '1868', 'Alexis Gautier': '750', 'Hady Habib': '170', 'Philip Hjorth': '951', 'Leonardo Aboian': '815', 'Benito Massacri': '1463', 'Andy Nguyen': '1868', 'Joao Eduardo Schiessl': '594', 'Juan Sebastian Gomez': '936', 'Colton Smith': '134', 'Marcus Walters': '1164', 'Benjamin Ignacio Torres Fernandez': '2164', 'Daniel Siniakov': '1178', 'Ilija Palavestra': '1868', 'Hunter Reese': '1590', 'Jonas Schaer': '1966', 'Radovan Michalik': '1274', 'Renzo Olivo': '312', 'Matyas Fuele': '1295', 'Thanasi Kokkinakis': '146', 'Shaheed Alam': '1770', 'Filip Jeff Planinsek': '691', 'Dayne Kelly': '1624', 'Saveliy Ivanov': '841', 'Sergey Fomin': '442', 'Herman Hoeyeraal': '1309', 'Alibek Kachmazov': '182', 'Roberto Carballes Baena': '74', 'Moerani Bouzige': '348', 'Ammar Alhogbani': '1712', 'Eduardo Ribeiro': '504', 'Christoph Negritu': '282', 'Rudy Quan': '789', 'Nicolas Tepmahc': '847', 'Leandro Riedi': '503', 'Reece Falck': '1284', 'Matteo De Vincentis': '1007', 'Leopold Zima': '1712', 'Roman Andres Burruchaga': '132', 'Ishaan Ravichander': '1770', 'Lloyd Harris': '320', 'Romain Faucon': '1340', 'Vincent Rettke': '1770', 'Koki Matsuda': '1009', 'Rodrigo Alujas': '795', 'Valentin Garay': '1403', 'San Hui Sin': '446', 'Jack Loge': '681', 'Enzo Wallart': '813', 'Filip Cristian Jianu': '274', 'Rohan Mehra': '1506', 'Francesco Forti': '824', 'Murphy Cassone': '190', 'Trevor Svajda': '673', 'Goncalo Marques': '2105', 'Yannik Kelm': '1155', 'Andrew Delgado': '1868', 'Daniel Dutra Da Silva': '362', 'Federico Guarducci': '1624', 'Luc Koenig': '1966', 'Leo Raquin': '1238', 'Louis Wessels': '580', 'Lingxi Zhao': '1399', 'Patricio Alvarado': '1542', 'Francois Musitelli': '1275', 'Adam Jones': '1513', 'Adam Jilly': '1254', 'Dario Huber': '1770', 'Richard Zusman': '1549', 'Connor Bruce': '1667', 'Mert Naci Turker': '835', 'Mihai Alexandru Coman': '1766', 'Daniele Minighini': '2105', 'Patricio Betancourt Gonzalez': '1966', 'Issei Okamura': '1133', 'Vullnet Tashi': '2080', 'Facundo Mena': '254', 'Mariano Dedura Palomero': '964', 'Jelani Sarr': '1244', 'Philip Henning': '431', 'Amaury Raynel': '730', 'Francisco Cerundolo': '19', 'Toby D Boyer': '1437', 'Jonas Kucera': '1317', 'Bernardo Munk Mesa': '1966', 'Luke Saville': '1505', 'Guy Den Ouden': '174', 'Joshua Peck': '1216', 'Taiyo Yamanaka': '788', 'Maximilian Figl': '1583', 'Noah Perfetti': '932', 'Omar Brigida': '1868', 'Fabrizio Andaloro': '379', 'Tristan Schoolkate': '104', 'Gabriele Bosio': '1196', 'Dominik Palan': '643', 'Michalis Sakellaridis': '2037', 'Federico Gaio': '1207', 'Mario Gonzalez Fernandez': '666', 'Viktor Frydrych': '2153', 'Lorenzo Sonego': '47', 'Joshua Sheehy': '760', 'Reese Stalder': '1453', 'Yunseong Chung': '978', 'Andrea Colombo': '1667', 'Zhao Zhao': '1868', 'Jakub Filip': '793', 'Elliot Benchetrit': '712', 'Patrick Brady': '860', 'Seungmin Park': '1346', 'Sasha Trkulja': '1667', 'Arthur Fils': '16', 'Freddy Blaydes': '1868', 'Loren Thomas Byers': '1590', 'Joao Domingues': '595', 'Lucio Carnevalle': '1408', 'Gabriele Pennaforti': '413', 'Ryan Augusto Dos Santos': '1384', 'Juan Carlos Prado Angelo': '268', 'Andrin Casanova': '1035', 'Florian Broska': '533', 'Calin Teodor Stirbu': '1211', 'Romeo Arcuschin': '1966', 'Conor Gannon': '1386', 'Mathieu Josserand': '1770', 'Alex Barrena': '260', 'Felix Gill': '615', 'Millen Hurrion': '706', 'Yan Sabanin': '1868', 'Daniil Ostapenkov': '1006', 'Jacopo Vasami': '674', 'Lorenzo Bocchi': '758', 'Federico Agustin Gomez': '161', 'Carl Emil Overbeck': '1075', 'Xiaoyin Yang': '1966', 'Ryan Colby': '1614', 'Kirill Kivattsev': '538', 'Franco Roncadelli': '364', 'Petr Iamachkine': '1758', 'Anthony Susanto': '1563', 'Mitchell Krueger': '164', 'Emiliano Aguilera Guerrero': '1966', 'Piet Luis Pinter': '1343', 'Sungbeen Sim': '1094', 'Mikal Oliver Statham': '2080', 'Mwendwa Mbithi': '814', 'Valentin Kopeikin': '1163', 'Marc Polmans': '389', 'Li Tu': '166', 'Evgeny Philippov': '865', 'Yannik Rahman': '1868', 'Nathan Cox': '1770', 'Marc Majdandzic': '1281', 'Matija Pecotic': '1770', 'Noah Gabriel': '1868', 'Alex Martinez': '436', 'Pablo Martinez Gomez': '1739', 'Maximus Jones': '394', 'Andrew Paulson': '574', 'Niels Peter Van Noord': '1292', 'Benjamin Pietri': '1549', 'Woobin Shin': '444', 'Ramkumar Ramanathan': '629', 'Yuki Mochizuki': '556', 'Amr Elsayed Abdou Ahmed Mohamed': '765', 'Sebastian Gima': '658', 'Maximilian Marterer': '275', 'Yu Zhang': '1966', 'Eric Hadigian': '960', 'Alexis Gurmendi': '1470', 'Fredrik Krogh Solheim': '1966', 'Gheorghe Claudiu Schinteie': '2105', 'Ilgiz Valiev': '1112', 'Stefano Napolitano': '699', 'Alexander Bravo': '2105', 'Louis Larue': '1739', 'Lucas Pouille': '136', 'Hiroki Moriya': '398', 'Pedro Araujo': '473', 'Stefan Latinovic': '940', 'Max Benaim': '2105', 'Lorenzo Musetti': '7', 'Justin Engel': '219', 'Julian Cundom': '1221', 'Jose Pereira': '603', 'Arvid Nordquist': '1513', 'Holger Rune': '8', 'Sasi Kumar Mukund': '415', 'Pawel Cias': '721', 'Alex Santino Nunez Vera': '1659', 'Filip Apltauer': '1770', 'Billy Suarez': '1346', 'Andres Andrade': '262', 'Sidane Pontjodikromo': '1001', 'Facundo Bagnis': '844', 'Sebastian Korda': '33', 'Mate Valkusz': '781', 'Pietro Marino': '853', 'Mili Poljicak': '257', 'Jordan Thompson': '44', 'Etienne Teboh': '1868', 'Sandro Kopp': '386', 'Emilien Voisin': '1470', 'Osgar Ohoisin': '1966', 'Leo Vithoontien': '736', 'Thomas Yaka Kofi Setodji': '1476', 'Jim Hendrikx': '1659', 'Aleksander Orlikowski': '1590', 'Nicolas Bruna': '1061', 'Ryan Peniston': '263', 'Rafael Tosetto': '1270', 'Seong Chan Hong': '377', 'Ugo Blanchet': '173', 'Brian Bozemoj': '927', 'Carl Roothman': '1868', 'Alessandro Pecci': '456', 'Cyrus Mahjoob': '1966', 'Ignacio Parisca': '772', 'Tiago Pereira': '365', 'Lewie Lane': '1431', 'Ioannis Xilas': '921', 'Karl Kazuma Lee': '1211', 'Gerardo Lopez Villasenor': '1770', 'Alejandro Davidovich Fokina': '27', 'Ivan Kremenchutskyi': '1667', 'Christopher Li': '1108', 'Parth Aggarwal': '1451', 'Casper Christensen': '1590', 'Oliver Tarvet': '733', 'Cesar Bouchelaghem': '1326', 'Matthias Ujvary': '1126', 'Adam Walton': '90', 'Ivan Nedelko': '887', 'Markus Malaszszak': '1420', 'Gianluca Cadenasso': '466', 'Toby Samuel': '888', 'Nick Kyrgios': '637', 'Gael Monfils': '48', 'Nikola Djosic': '1426', 'Rodrigo Reyna': '1770', 'Aljaz Jeran': '2140', 'Rishi Reddy': '1571', 'Fausto Tabacco': '761', 'Naoki Tajima': '1448', 'Stijn Paardekooper': '1339', 'Shunsuke Mitsui': '856', 'Henri Squire': '357', 'Miles Jones': '816', 'Federico Bondioli': '397', 'Oriol Roca Batalla': '318', 'Felipe Dreer': '1624', 'Antoine Vincent': '1178', 'Gonzalo Bueno': '286', 'Calvin Hemery': '178', 'Aleksandar Kovacevic': '76', 'Federico Garbero': '2105', 'Noah Schlagenhauf': '1487', 'Leonardo Primucci': '1624', 'Max Basing': '599', 'Ryuki Matsuda': '507', 'Bernard Tomic': '214', 'Julian Ocleppo': '1375', 'Daniel De Jonge': '915', 'Dusan Baranec': '2037', 'Maximo Zeitune': '1355', 'Alvaro Bueno Gil': '1739', 'Hugo Coquelin': '1113', 'Nicolas Jadoun': '869', 'Giovanni Mpetshi Perricard': '36', 'Viacheslav Bielinskyi': '510', 'Luke Casper': '1868', 'Bruno Pujol Navarro': '1966', 'Jarrod Joyce': '1697', 'Julio Cesar Porras': '600', 'Tiran Sanghera': '1770', 'Sydney Zick': '1549', 'Braden Shick': '1513', 'Dante Pagani': '1476', 'Marcos Giron': '45', 'Cyril Vandermeersch': '751', 'Finn Murgett': '1737', 'Tarun Karra': '1966', 'Tsung Hao Huang': '537', 'Tomas Machac': '23', 'Carlos Gimeno Valero': '1770', 'Marcello Serafini': '741', 'Federico Valle': '1712', 'Mikalai Haliak': '676', 'Zaid Mashni': '1590', 'Cade Birrell': '1476', 'Nitin Kumar Sinha': '1069', 'Alexander Chepik': '2037', 'Sami Ben Abdennibi': '1966', 'David Saye': '1966', 'Connor Henry Van Schalkwyk': '1770', 'Lucas Marionneau': '913', 'Bor Artnak': '472', 'Pranav Kumar': '1226', 'Rei Sakamoto': '291', 'Iker Sevilla': '1437', 'Dominik Koepfer': '449', 'Shu Matsuoka': '1309', 'Breno Rossetto Urvaneja': '2037', 'Pietro Romeo Scomparin': '1103', 'Stian Klaassen': '1103', 'Rodrigo Pacheco Mendez': '220', 'Dalibor Svrcina': '114', 'Sean Van Rensburg': '1868', 'J J Wolf': '403', 'Gabriele Piraino': '428', 'Yshai Oliel': '1222', 'Viktor Jovic': '1028', 'Daniel Verbeek': '1408', 'Jan Choinski': '200', 'Maurus Malgiaritta': '1770', 'Giovanni Calvano': '1578', 'Pierre Hugues Herbert': '127', 'Tatsuma Ito': '2037', 'Luis Carlos Alvarez': '782', 'Yibing Wu': '285', 'David Fix': '1196', 'Natan Rodrigues': '1317', 'Tadeo Meneo': '1278', 'Edoardo Cherie Ligniere': '1659', 'Peter Benjamin Privara': '1315', 'Mariano Tammaro': '822', 'Matei Cristian Onofrei': '1563', 'Seita Watanabe': '996', 'Afonso Portugal': '1868', 'Daniel Domingos': '1751', 'Jaime Faria': '116', 'Oscar Otte': '1868', 'Filippo Moroni': '602', 'Lorenzo Rottoli': '695', 'Richard Gasquet': '171', 'Gabriel Pascotto Tumasonis': '2080', 'Marc Van Der Merwe': '1667', 'Chun-Hsin Tseng': '96', 'Bruno Kuzuhara': '570', 'Hubert Hurkacz': '39', 'Matic Dimic': '1578', 'Alex Marti Pujolras': '339', 'Maximilian Neuchrist': '407', 'Ezequiel Simonit': '1435', 'Kaya Arinc': '1563', 'Atharva Sharma': '2080', 'Thai Son Kwiatkowski': '1048', 'Joao Graa': '1275', 'Hugo Dellien': '79', 'Pablo Carreno Busta': '94', 'Luca Van Assche': '180', 'Arthur Rinderknech': '72', 'Timeo Gaillard': '1966', 'Olle Wallin': '492', 'Noah Thurner': '1166', 'Charlie Camus': '991', 'Samuele Pieri': '817', 'Phoenix Weir': '1500', 'Nicolas Alvarez Varona': '307', 'Richard Mallory': '1770', 'Andrej Martin': '301', 'Fabian Marozsan': '58', 'Juan Cruz Martin Manzano': '889', 'Ryan Haviland': '1966', 'Nicola Rispoli': '2140', 'Max Sheldon': '1487', 'Gerard Campana Lee': '445', 'Matteo Covato': '923', 'Cengiz Aksu': '1081', 'Mathys Erhard': '270', 'Carson Baker': '1966', 'Sergi Perez Contri': '644', 'Raul Garcia': '1614', 'Axel Nefve': '946', 'Hayato Matsuoka': '670', 'Renlong Pang': '1470', 'Toby Martin': '930', 'Eero Vasa': '576', 'Takuya Kumasaka': '516', 'Mohammad Alkotop': '1966', 'Yuttana Charoenphon': '2157', 'Matic Kriznik': '1556', 'Casper Ruud': '15', 'Bartosz Wojnar': '1770', 'Stefan Popovic': '590', 'Carlos Divar': '1966', 'Botic Van De Zandschulp': '92', 'Joe Leather': '1557', 'Alastair Gray': '374', 'Alexander Petrov': '1204', 'Yosuke Watanuki': '177', 'Liam Krall': '1511', 'Dusan Lajovic': '118', 'Jumpei Yamasaki': '967', 'Raghav Jaisinghani': '1571', 'Botond Kisantal': '1647', 'Artem Dubrivnyy': '1172', 'Filippo Speziali': '939', 'Alexander Bernard': '857', 'Carlos Sanchez Jover': '273', 'Vilius Gaubas': '140', 'Carles Hernandez': '1002', 'Timo Legout': '756', 'Alvaro Guillen Meza': '233', 'Enrico Dalla Valle': '359', 'Seung Woo Cho': '1590', 'Max Wiskandt': '420', 'Matteo Lavizzari': '1586', 'Savva Polukhin': '767', 'Ofek Shimanov': '1386', 'Rafael Kis Balazs': '1331', 'Daniel Salazar Martinez': '1158', 'Aryan Lakshmanan': '2153', 'Karl Poling': '552', 'Leo Deflandre': '1055', 'Luke Simkiss': '1188', 'Orlando Luz': '660', 'Zhou Mingzhou': '1868', 'Toufik Sahtali': '1082', 'Gabriel Donev': '1295', 'Mateus Alves': '316', 'Piotr Siekanowicz': '2037', 'Lorenzo Angelini': '1361', 'Aslan Karatsev': '216', 'Kimmer Coppejans': '236', 'Paul Inchauspe': '1363', 'Sidharth Rawat': '805', 'Edoardo Zanada': '1325', 'Justin Schlageter': '1013', 'Daniel Lara Salmeron': '2037', 'Bruno Nhavene': '1770', 'Harry Pugh': '1624', 'Diego Fernandez Flores': '871', 'Kevin Edengren': '1667', 'Sekou Bangoura': '1333', 'Julian Desousa': '1966', 'Daniil Bogatov': '1647', 'Frederico Ferreira Silva': '264', 'Titouan Droguet': '194', 'Manuel Guinard': '418', 'Luciano Emanuel Ambrogi': '344', 'Rishab Agarwal': '1080', 'James Tracy': '1300', 'Ognjen Milic': '937', 'Karim Mohamed Maamoun': '1327', 'Jagger Leach': '1243', 'Rahul Dhokia': '2080', 'Vadym Ursu': '447', 'Luca Preda': '861', 'Yeonsu Jeong': '1966', 'Stan Wawrinka': '153', 'Nikolay Vylegzhanin': '517', 'Benjamin Lock': '411', 'John Sperle': '651', 'Emil Rast': '1770', 'Stefanos Tsitsipas': '26', 'Hillel Rousseau': '1868', 'Giuseppe La Vela': '891', 'Joao Vitor Goncalves Ceolin': '1121', 'Francesco Cordova': '1770', 'Zizou Bergs': '50', 'Milos Karol': '375', 'Elmer Moller': '117', 'Jack Secord': '1770', 'Jeremy Jin': '2037', 'Lucio Ratti': '1119', 'Karim Bennani': '1210', 'Patrick Zahraj': '280', 'Jozef Kovalik': '383', 'Mikael Arseneault': '1090', 'Daniel Altmaier': '57', 'Francisco Rocha': '701', 'Learner Tien': '62', 'Fryderyk Lechno Wasiutynski': '1739', 'Mak Mikovic': '1966', 'Vlad Andrei Dancu': '1215', 'Pijus Vaitiekunas': '1634', 'Manas Dhamne': '742', 'Yuquan Jin': '1236', 'Martin Benes': '1868', 'Kris Van Wyk': '430', 'Mats Rosenkranz': '366', 'Duck Hee Lee': '926', 'Gian Gruenig': '1256', 'Alex Michelsen': '32', 'Matias Ponce De Leon Gomila': '1453', 'Mika Lipp': '1091', 'Bekkhan Atlangeriev': '1160', 'Abdulhamid Mubarak': '1966', 'Fnu Nidunjianzan': '1470', 'Ignacio Monzon': '700', 'Jay Clarke': '196', 'Louis Tessa': '807', 'Reuben De Klerk': '2080', 'Gilbert Soares Klier Junior': '800', 'Carlos Lopez Montagud': '642', 'Luciano Tacchi': '1770', 'Duje Ajdukovic': '183', 'Nathan Trouve': '1396', 'Gabriel Diallo': '40', 'Petr Bar Biryukov': '324', 'Manuel Mazza': '527', 'Kasra Rahmani': '1267', 'Taro Daniel': '156', 'Yvo Panak': '1317', 'Teymuraz Gabashvili': '1291', 'Anton Matusevich': '451', 'Silvio Mencaglia': '2080', 'Nicolas Buitrago': '1349', 'Marat Sharipov': '258', 'Kaito Uesugi': '954', 'Billy Harris': '151', 'David Eichenseher': '1506', 'Viktor Markov': '1667', 'Maxim Mrva': '501', 'Hamad Medjedovic': '68', 'Pol Martin Tiffon': '204', 'Lorenzo Beraldo': '1317', 'Sebastian Prechtel': '796', 'Diego Augusto Barreto Sanchez': '708', 'Chris Rodesch': '163', 'Rodrigo Crespo Piedra': '1369', 'Peter Bertran': '505', 'Joao Portugal': '2037', 'Mats Bredschneijder': '1770', 'Dorian Tremblay': '1689', 'Siddharth Vishwakarma': '924', 'Perry Gregg': '1770', 'Oliver Ojakaar': '1420', 'Filip Krajinovic': '892', 'Thiago Monteiro': '142', 'Tobias Sonne': '1712', 'Vasek Pospisil': '1245', 'Javier Barranco Cosano': '315', 'Andres Urrea': '1634', 'Filip Misolic': '111', 'Leo Borg': '502', 'Siem Woldeab': '1476', 'Alex De Minaur': '11', 'Arthur Gea': '290', 'Zhengyu Sun': '1712', 'Bu Yunchaokete': '71', 'Ivan Gakhov': '269', 'Arthur Fery': '461', 'Lucas Horve': '1868', 'Rafael Segado Esteve': '2127', 'Grigoriy Lomakin': '842', 'Ignacio Novo': '1770', 'Juan Estevez': '583', 'Gijs Brouwer': '306', 'Gavin Young': '748', 'Jack Draper': '4', 'Federico Arnaboldi': '187', 'Mika Petkovic': '1097', 'Darius Florin Pop': '2080', 'Josip Simundza': '854', 'Buvaysar Gadamauri': '625', 'Luca Castelnuovo': '528', 'Alberto Odiseo Alvarado Berrospi': '1327', 'Vladyslav Orlov': '645', 'Saba George Nanobashvili': '2105', 'Tymur Bieldiugin': '1050', 'David Jorda Sanchis': '513', 'Alexander Zgirovsky': '1557', 'Bharath Nishok Kumaran': '1263', 'Siddhant Banthia': '1425', 'Henry Searle': '421', 'Adrien Burdet': '1966', 'Louroi Martinez': '1966', 'Egor Agafonov': '496', 'Jonas Pelle Hartenstein': '1549', 'Genaro Alberto Olivieri': '302', 'Matteo Berrettini': '35', 'Manuel Sanchez': '2037', 'Karol Drzewiecki': '1467', 'Adhithya Ganesan': '662', 'Zsombor Piros': '160', 'Toby Alex Kodat': '376', 'Oliver Okonkwo': '1420', 'Aleksei Mokrov': '1396', 'Ergi Kirkin': '463', 'Pengyu Lu': '1070', 'Ignacio Buse': '152', 'Yannick Alexandrescou': '1614', 'Charlelie Cosnet': '1634', 'Benjamin Zuniga Garcia': '2080', 'William Mroz': '1697', 'Menelaos Efstathiou': '928', 'Lautaro Agustin Falabella': '747', 'Cristian Garin': '110', 'Venedikt Tsirikidze': '1868', 'Abdulaziz Usmonjonov': '1868', 'Hernan Casanova': '487', 'Samyar Elyasi': '1966', 'Brandon Perez': '992', 'Alan Magadan': '897', 'Joao Fonseca': '54', 'Pieter De Lange': '1667', 'Dominique Rolland': '1647', 'Jordan Correia Passos Do Carmo': '1868', 'Joaquim Almeida': '2037', 'Yuta Kawahashi': '753', 'Yusaku Sugaya': '2037', 'Martin Borisiouk': '744', 'Rayane Oumaouche': '1426', 'Pablo Masjuan Ginel': '770', 'Valerio Aboian': '440', 'Dakotah Bobo': '1966', 'Noah Johnston': '1506', 'Simon Beaupain': '965', 'Yunseok Jang': '1437', 'Maxime Cressy': '450', 'Filip Pieczonka': '777', 'Gonzalo Villanueva': '380', 'Xirui Han': '1739', 'Michael Dylan Jimenez': '1770', 'Mika Berghaus': '1770', 'Blake Ellis': '308', 'Alejandro Garcia': '1308', 'Constant Lestienne': '197', 'Franco Agamenone': '412', 'Elijah Cham': '1966', 'Khumoyun Sultanov': '246', 'Bang Shuo Yin': '1758', 'Hugo Gaston': '86', 'Jack Kennedy': '1173', 'Kyle Edmund': '471', 'Karim Ibrahim': '1288', 'Sheng Tang': '990', 'Tung Lin Wu': '278', 'Xing Dao Chen': '1199', 'Keegan Rice': '1487', 'Massimo Giunta': '640', 'Geoffrey Blancaneaux': '277', 'Gian Matias Di Natale': '1542', 'Nemanja Malesevic': '1534', 'Emil Ruusuvuori': '317', 'Yazid Lahjomri': '1770', 'Chen Dong': '1116', 'Alejo Lorenzo Lingua Lavallen': '768', 'Novak Djokovic': '6', 'Felipe Vazquez': '1770', 'Ron Ellouck': '1868', 'Benjamin Hannestad': '1220', 'Alvin Nicholas Tudorica': '435', 'Julien De Cuyper': '1406', 'Dmitry Bessonov': '1506', 'Christian Wedel': '1770', 'Ryo Tabata': '1175', 'Stuart Parker': '434', 'Lorenzo Claverie': '1107', 'Max Hans Rehberg': '266', 'Gabriel Schenekenberg': '1868', 'Alberto Barroso Campos': '550', 'Gabor Hornung': '1341', 'Shu Muto': '1647', 'Alexander Shevchenko': '98', 'Stefan Kostic': '2157', 'Tanguy Genier': '1437', 'Hiromasa Koyama': '2127', 'Iker Gaztambide Arrastia': '1868', 'Preston Brown': '993', 'Maxence Bertimon': '837', 'Filip Krolo': '1349', 'Daniil Glinka': '408', 'Toshiki Karigyo': '1868', 'Lorenzo Esquici': '1295', 'Ye Cong Mo': '649', 'Nik Mikovic': '1739', 'Oscar Moraing': '1037', 'Yurii Dzhavakian': '479', 'Sid Donarski': '1770', 'Manvydas Balciunas': '1273', 'Joel Meda': '1770', 'Seydina Andre': '933', 'Rio Noguchi': '222', 'Hong Lin Fu': '2037', 'Alexandr Binda': '417', 'Grigor Dimitrov': '21', 'Luca Parenti': '1712', 'Peter Makk': '1770', 'Alessandro Coccioli': '1725', 'Jonas Gundacker': '2127', 'Filippo Romano': '568', 'Lukas Palovic': '1770', 'Weiyi Kong': '2037', 'Maximus Dussault': '1868', 'Rares Teodor Pieleanu': '1131', 'Alexander Ritschard': '188', 'Marcel Zielinski': '1031', 'Filip Gabriel Bara': '1868', 'Adrian Andreev': '326', 'Antoine Cornut Chauvinc': '540', 'Xavier Ferrer Mateo': '1770', 'Jenson Brooksby': '101', 'Andres Gabriel Ciurletti': '1292', 'Lorenzo Joaquin Rodriguez': '536', 'Jarno Jans': '1487', 'Duncan Chan': '1966', 'Timothy Carlsson Seger': '1770', 'Aidan Mayo': '299', 'Nikola Basic': '863', 'Andrey Rublev': '14', 'Nicolas Parizzia': '1301', 'Micah Braswell': '486', 'Juan Jose Bianchi': '1358', 'Moritz Kudernatsch': '1634', 'Kazuma Kawachi': '1280', 'Olaf Pieczkowski': '483', 'William Jucha': '2037', 'Vasco Leote Prata': '1453', 'Valerio Perruzza': '1697', 'Ryusuke Horiuchi': '2127', 'Luca Giacomini': '1257', 'Benjamin Gusic Wan': '2037', 'Hazem Naw': '586', 'Mitsuki Wei Kang Leong': '605', 'Fermin Tenti': '1208', 'Marc Saura Moragrega': '1697', 'Marlon Vankan': '811', 'Dali Blanch': '478', 'Uisung Park': '713', 'Dusan Obradovic': '588', 'Enmanuel Munoz': '2140', 'Oskari Eerola': '1868', 'Naoki Nakagawa': '336', 'Saba Purtseladze': '249', 'Giles Hussey': '448', 'Nico Hipfl': '1040', 'Juncheng Shang': '80', 'Shaoyun Liu': '2080', 'Boris Butulija': '1071', 'Pawit Sornlaksup': '635', 'Sven Corbinais': '2080', 'Maxwell Mckennon': '526', 'Charlie Pade': '2037', 'Ahmed Mouhan': '2037', 'Lorenzo Lorusso': '1039', 'Liam Branger': '1143', 'Francisco Comesana': '65', 'Petar Jovanovic': '1590', 'Jakub Wojcik': '2080', 'Svyatoslav Gulin': '358', 'David Pichler': '873', 'Roberto Ferrer Guimaraes': '1590', 'Mark Whitehouse': '1124', 'Jose Dominguez Alonso': '1647', 'Lawrence Bataljin': '1286', 'Christian Sigsgaard': '515', 'James Duckworth': '103', 'Taylor Fritz': '5', 'Eduardo Lima': '1868', 'Max Stenzer': '1868', 'Filip Peliwo': '584', 'Nicolas Garcia Longo': '2140', 'Loic Namigandet Tenguere': '1195', 'Stefan Menichella': '1868', 'Raphael Vaksmann': '1416', 'Gorazd Srbljak': '1343', 'Corentin Denolly': '313', 'Daiki Yoshimura': '1725', 'Lukas Neumayer': '169', 'Nicolai Budkov Kjaer': '303', 'Lasse Poertner': '914', 'Reda Bennani': '1052', 'Dillon Beckles': '1470', 'Mischa Lanz': '1868', 'Artur Aiukhanov': '1770', 'Matias Soto': '271', 'Aditya Vishal Balsekar': '2080', 'Justin Barki': '1047', 'Saki Tange': '1614', 'Kei Nishikori': '66', 'Felix Einig': '2105', 'Federico Iannaccone': '530', 'Shunsuke Nakagawa': '1054', 'Andrea Collarini': '225', 'Mateo Del Pino': '1580', 'Rakhimbek Ibrakhimov': '1966', 'Valentin Vacherot': '261', 'Niels Lootsma': '1089', 'Yan Bai': '253', 'Maan Kesharwani': '1763', 'Abraham Asaba': '2157', 'Markus Molder': '1271', 'Sebastian Fanselow': '769', 'Nicholas Godsick': '1966', 'Emile Hudd': '647', 'Naoya Honda': '801', 'Miomir Kecmanovic': '49', 'Nicaise Muamba': '1260', 'Gage Brymer': '1254', 'Nicolas Ifi': '1135', 'Nicolas Philibert': '1725', 'Tibo Colson': '441', 'Giovanni Fonio': '387', 'Federico Campana': '1563', 'Janos Fekete': '1868', 'Adrian Mannarino': '123', 'Gastao Elias': '342', 'Yusuke Kusuhara': '792', 'Matteo Fondriest': '1231', 'Antonio Voljavec': '1542', 'Alan Fernando Rubio Fierros': '802', 'Jacopo Berrettini': '309', 'David Naharro': '1647', 'Dominic West': '1770', 'Vuk Radjenovic': '845', 'Oskari Paldanius': '979', 'Yua Taka': '1266', 'Adria Soriano Barrera': '384', 'Tomas Barrios Vera': '108', 'Matteo Mesaglio': '2037', 'Giammarco Gandolfi': '1770', 'Christopher Eubanks': '130', 'Guillaume Dalmasso': '709', 'Jason Kubler': '201', 'Gabriel Debru': '265', 'Drazen Petrovic': '2037', 'Guillermo Tunas': '2037', 'Raphael Calzi': '1712', 'Nathan Anthony Barki': '1428', 'Elmar Ejupovic': '547', 'Mert Alkaya': '704', 'Sebastian Dominko': '980', 'Drew Van Orderlain': '1279', 'Gregor Ramskogler': '945', 'Matt Kuhar': '890', 'August Holmgren': '192', 'Dane Sweeny': '575', 'Sai Karteek Reddy Ganta': '1725', 'Oleksii Krutykh': '439', 'Jerome Kym': '162', 'Eliot Spizzirri': '128', 'Ray Ho': '1182', 'Aleksandr Lobanov': '752', 'Gian Marco Ortenzi': '1064', 'Admir Kalender': '1267', 'Geun Jun Kim': '1249', 'Quinn Vandecasteele': '735', 'Alejandro Turriziani Alvarez': '1125', 'Ioan Alexandru Chirita': '1002', 'Aleksandar Vukic': '93', 'Arjun Rathi': '1868', 'Jesse De Jager': '1519', 'Thomas Faurel': '862', 'Fred Simonsson': '1431', 'Brandon Nakashima': '34', 'Dean Thurner': '1868', 'Tristan Lamasine': '529', 'Pierre Yves Bailly': '743', 'Hamza Karmoussi': '1770', 'Patrik Munkhammar': '2080', 'Kosuke Shibano': '1659', 'Diogo Marques': '950', 'Sina Moghimi': '1689', 'Robin Catry': '646', 'Marko Topo': '276', 'Niccolo Baroni': '1140', 'Benjamin Thomas George': '867', 'Imanol Lopez Morillo': '604', 'Santiago Bramajo': '1770', 'Michael Bassem Sobhy': '882', 'Charles Bertimon': '1165', 'Dan Added': '343', 'Patrick Foley': '2080', 'Moez Echargui': '333', 'Sebastian Rodriguez': '1624', 'Nick Chappell': '745', 'Karol Filar': '1036', 'Maximilian Homberg': '875', 'Lucca Pinto': '1287', 'Vlad Cristian Breazu': '1331', 'Lucca Helguera Casado': '1712', 'Roger Pascual Ferra': '1056', 'Pierre Antoine Tailleu': '1563', 'Igor Kudriashov': '1177', 'Liam Broady': '557', 'Alessandro Giannessi': '1463', 'Fons Van Sambeek': '1712', 'Matej Dodig': '368', 'Dino Prizmic': '159', 'Tomas Martinez': '1151', 'Vardan Manukyan': '1634', 'Garrett Johns': '360', 'Ignasi Forcano': '1227', 'Alexander Orlov': '1770', 'Arthur Reymond': '509', 'Igor Gimenez': '720', 'Ignacio Antonio Becerra Otarola': '1193', 'Novak Novakovic': '1386', 'Andrei Kunitsyn': '1868', 'Lachlan Vickery': '1868', 'Marco Trungelliti': '149', 'Alan Sau Franco': '1333', 'Pasquale De Giorgio': '1868', 'Jeffrey Von Der Schulenburg': '1084', 'Samuel Brosset': '1252', 'Nikita Ianin': '1589', 'Andrea Motta': '1697', 'Giannicola Misasi': '1017', 'Anthony Wright': '1770', 'Carlo Alberto Caniato': '693', 'Alec Deckers': '1021', 'Petros Tsitsipas': '1000', 'Jackson Ross': '1085', 'Michael Zhu': '1019', 'Krittin Koaykul': '1697', 'Stefano Travaglia': '310', 'Eric Vanshelboim': '468', 'Maxime Chazal': '457', 'Grigory Shebekin': '1667', 'Aidan Mchugh': '495', 'Giulio Zeppieri': '351', 'Maks Kasnikowski': '474', 'Diego Dedura Palomero': '354', 'Aaron James Williams': '1868', 'Andres Martin': '353', 'Shinji Hazawa': '794', 'Rafael Ymer': '1659', 'Riccardo Bonadio': '1046', 'Sean Cuenin': '620', 'Hugo Car': '1770', 'Mackenzie Mcdonald': '88', 'Tim Ruehl': '1150', 'Tommaso Compagnucci': '464', 'Harry Wendelken': '494', 'Timofey Stepanov': '1614', 'Cosimo Banti': '1770', 'Iannis Miletich': '808', 'Benjamin Willwerth': '1176', 'Jesse Flores': '876', 'Daniel Evans': '154', 'Max Westphal': '1868', 'Antoine Escoffier': '256', 'Umberto Giovannini': '1966', 'Bautista Vilicich': '718', 'Rafael Izquierdo Luque': '1088', 'Max Schoenhaus': '1162', 'Damien Wenger': '614', 'Thijs Boogaard': '1171', 'Francesco Passaro': '131', 'Sean Hess': '1289', 'Nick Hardt': '667', 'Tudor Batin': '1770', 'Takeru Yuzuki': '1453', 'Aditya Govila': '1868', 'Tyler Stice': '834', 'Enzo Camargo Lima': '1418', 'Christian Lerby': '1386', 'Jiri Vesely': '543', 'Alex Kobelt': '1966', 'Tomas Luis': '846', 'Niels Visker': '652', 'Dominik Recek': '1519', 'Francesco Maestrelli': '237', 'Norbert Marosik': '1868', 'Koray Kirci': '1362', 'Justin Boulais': '685', 'Manel Lazaro Juncadella': '1202', 'Sam Wensley': '1770', 'Nino Ehrenschneider': '678', 'Sho Shimabukuro': '186', 'Tom Gentzsch': '402', 'Francesco Ferrari': '1127', 'Camilo Ugo Carabelli': '56', 'Bora Sengul': '1549', 'Younes Lalami Laaroussi': '1012', 'Ryan Fishback': '821', 'Dmitry Popko': '176', 'Colin Sinclair': '679', 'Martyn Pawelski': '1067', 'Thomas Nicholas Gadecki': '1868', 'Tomas Curras Abasolo': '836', 'Kase Schinnerer': '1386', 'Thando Longwe Smit': '1557', 'Georgii Kravchenko': '806', 'Akram El Sallaly': '2162', 'Illia Biloborodko': '1038', 'Gustavo Ribeiro De Almeida': '849', 'Sebastian Baez': '38', 'Ethan Quinn': '89', 'Daniel Batista': '1563', 'Martin Antonio Vergara Del Puerto': '1689', 'Arklon Huertas Del Pino': '1144', 'Mikhail Malakhovich': '1966', 'Kenta Miyoshi': '565', 'Jurriaan Bol': '1349', 'Zura Tkemaladze': '820', 'Nicolo Toffanin': '1586', 'Lorenzo Carboni': '535', 'Valentin Royer': '113', 'Andrew Fenty': '707', 'Gabriel Matuszewski': '1758', 'Yuya Hirose': '1770', 'Jan Klimas': '1386', 'Mohamed Safwat': '669', 'Artem Bogomolov': '1408', 'Alex Jones': '1868', 'Rocco Valente': '1269', 'Tiago Silva': '1519', 'Petr Brunclik': '481', 'Matthew Rankin': '1476', 'Jan Kobierski': '1408', 'Daniil Medvedev': '9', 'Lui Maxted': '1500', 'Veljko Krstic': '1868', 'Juan Pablo Varillas': '251', 'Strong Kirchheimer': '664', 'Thiago Seyboth Wild': '129', 'Timo Stodder': '1237', 'Marvin Moeller': '482', 'Benjamin Hassan': '193', 'Felipe Pinzon Moreno': '1770', 'Tom Hands': '1378', 'Thomas Deschamps': '963', 'Pierre Antoine Faut': '1381', 'Taisei Ichikawa': '663', 'Martin Krumich': '458', 'Andrea Pellegrino': '139', 'Evgeny Karlovskiy': '429', 'Timofei Derepasko': '958', 'Dylan Long': '2037', 'Siu Chi Nicholas Cheng': '1770', 'Roman Safiullin': '75', 'Antonio Caruso': '2105', 'Oskar Grzegorzewski': '1386', 'Jack Karlsson Wistrand': '2105', 'Andrea Guerrieri': '531', 'Louis Allen': '2127', 'Tianhui Zhang': '668', 'Daniel Antonio Nunez': '799', 'Fadi Bidan': '1230', 'Edison Ambarzumjan': '1333', 'Anton Chekhov': '1487', 'Matisse Bobichon': '1118', 'Petr Nesterov': '443', 'Marek Gengel': '255', 'Matthew Dellavedova': '406', 'Alejandro Hayen': '1868', 'Louis Van Herck': '1557', 'Aristarkh Safonov': '982', 'Yuta Shimizu': '218', 'Arjun Mehrotra': '2105', 'Gauthier Onclin': '206', 'Luc Fomba': '1129', 'Mikail Alimli': '1193', 'Elijah Strode': '943', 'Alexandre Muller': '41', 'Javier Molino': '1770', 'Harrison Adams': '975', 'Martins Rocens': '1534', 'Yuhei Kono': '1966', 'Pol Amoros Ramos': '1966', 'Abhinav Sanjeev Shanmugam': '1751', 'Hamza El Amine': '2080', 'Gianmarco Ferrari': '609', 'Daniel Rincon': '203', 'Nicolas Kobelt': '2080', 'Elias Ymer': '221', 'Nicolas Moreno De Alboran': '158', 'Ezekiel Clark': '809', 'Rudolf Molleker': '347', 'Raphael Collignon': '85', 'Samuel Puskar': '1487', 'Olukayode Alafia Damina Ayeni': '582', 'Nicola Vidal': '1770', 'Martin Sabas': '1317', 'Timothy Gray': '2037', 'Pavel Verbin': '1157', 'Jae Hwan Kim': '1868', 'Jaden Weekes': '962', 'Syl Gaxherri': '1868', 'Maxence Beauge': '636', 'Santiago De La Fuente': '812', 'Vitaliy Zatsepin': '2080', 'Blaz Rola': '886', 'Stefan Vujic': '1128', 'Daniil Piatrouski': '1770', 'Alexander Zverev': '3', 'Kuzey Cekirge': '1093', 'Mihai Razvan Marinescu': '840', 'Bryan Hernandez Cortes': '1534', 'Alejandro Jacome Jaramillo': '1770', 'Maxwell Exsted': '1966', 'Felix Balshaw': '848', 'Ronetto Van Tilburg': '1697', 'Timofey Skatov': '209', 'Jack Pinnington Jones': '281', 'Pedro Cachin': '485', 'Alejandro Moro Canas': '208', 'Jan Jermar': '1580', 'Mousa Alkotop': '1431', 'Peter Nad': '1624', 'Hernando Jose Escurra Isnardi': '1281', 'Murkel Alejandro Dellien Velasco': '223', 'Thanapet Chanta': '688', 'Blu Baker': '825', 'Luciano Carraro': '1261', 'Kody Pearson': '1223', 'Romain Gales': '1463', 'Arthur Weber': '567', 'Ezequiel Monferrer': '1044', 'Zekai Li': '1725', 'Ishaque Eqbal': '969', 'Florent Bax': '385', 'Tristan Stringer': '1136', 'Daniel Merida Aguilar': '235', 'Tom Paris': '391', 'Andrea Gola': '2080', 'Madhwin Kamath': '1316', 'Andrea Paolini': '1190', 'Gabriel Elicha Navas': '1304', 'Hamish Stewart': '545', 'Ricard Novell': '1770', 'Omni Kumar': '619', 'Kazuki Sugimoto': '1770', 'Amirkhamza Nasridinov': '1371', 'Dan Martin': '563', 'Juan Sebastian Osorio': '881', 'Keisuke Saitoh': '578', 'Jan Kupcic': '904', 'Edouard Villoslada': '2080', 'Hien Quang Hien Pham': '1868', 'Akira Santillan': '739', 'Paulo Andre Saraiva Dos Santos': '694', 'Jakub Nicod': '462', 'Alexander Krylov': '1966', 'Andrey Chepelev': '628', 'Daniel Bagnolini': '2037', 'Carlos Taberner': '102', 'Lautaro Midon': '283', 'Alex Kuperstein': '1366', 'Devin Badenhorst': '738', 'Enzo Kohlmann De Freitas': '1027', 'Ivan Ivanov': '798', 'Hoyoung Roh': '1428', 'Jaime Caldes': '1868', 'Alen Mujakic': '1059', 'Suk Hyun Choo': '1295', 'Mitchell Sheldon': '1868', 'Alex Finkelstein': '1542', 'Cesar Cruz': '1770', 'Damien Salvestre': '1246', 'Bastian Malla': '1169', 'Tommaso Schold': '2140', 'David Goffin': '63', 'Isaac Lhomond': '1770', 'Alexander Bublik': '31', 'Jeremy Zhang': '2037', 'Antoine Ghibaudo': '601', 'Miles Clark': '1770', 'Andrea Vavassori': '329', 'Juan Manuel La Serna': '459', 'Radu Albot': '298', 'Stefano Reitano': '1407', 'Miljan Zekic': '1336', 'Finn Bass': '1015', 'Nino Serdarusic': '966', 'Jules Marie': '621', 'Yusuke Takahashi': '419', 'Yuta Kikuchi': '797', 'Bjorn Swenson': '1966', 'Stefanos Sakellaridis': '423', 'Arda Azkara': '632', 'Yaroslav Demin': '719', 'Aidan Kim': '623', 'Alexander Vikhlyantsev': '1868', 'Andres Fernandez Canovas': '1178', 'Jea Moon Lee': '859', 'Carlos Alcaraz': '2', 'Tomas Rengel Sierra': '1770', 'Collin Altamirano': '1032', 'Lars Goran Verwerft': '2080', 'Rethin Pranav Senthil Kumar': '1384', 'Tiago Torres': '1248', 'Marco Alvarez': '2127', 'Luca Bluett': '1868', 'Juan Carlos Aguilar': '409', 'Guilherme Valdoleiros': '2140', 'Noah Lopez': '2127', 'Marco Furlanetto': '1737', 'Joaquin Guilleme': '1966', 'Michael Zheng': '498', 'Johannus Monday': '224', 'Mykyta Mashtakov': '819', 'Adrian Oetzbach': '653', 'Blake Mott': '569', 'Vladislav Melnic': '1966', 'Weitao Xu': '1739', 'Thiago Cigarran': '866', 'Jeremy Schifris': '1206', 'Mathieu Scaglia': '1224', 'Ryan Seggerman': '484', 'Essa Qabazard': '2127', 'Sho Katayama': '1614', 'Arthur Bonnaud': '1043', 'Jerko Brkic': '1659', 'Noah Karma': '1868', 'Tristan Boyer': '120', 'Jiri Barnat': '1519', 'Kristijan Juhas': '956', 'Alp Horoz': '1275', 'Aleksa Pisaric': '1033', 'Aleksa Ciric': '1076', 'Thomas Fancutt': '919', 'Andreas Messis': '1868', 'Dimitris Sakellaridis': '907', 'Blaise Bicknell': '922', 'Yuta Tomida': '1583', 'Theo Papamalamis': '639', 'Mikael Ymer': '638', 'Miha Vetrih': '2105', 'Alejo Sanchez Quilez': '520', 'Samir Banerjee': '630', 'Jean Christian Morandais': '1258', 'Yuto Oki': '1149', 'Noah Schachter': '731', 'Ugo Humbert': '18', 'Luca Wiedenmann': '1184', 'Mihail Ivanov': '1868', 'Theo Arribage': '1590', 'Loann Massard': '514', 'Karan Singh': '437', 'Pedro Rodrigues': '654', 'Andres Delgadillo': '1739', 'Johan Sebastien Tatlot': '1453', 'Mark Lajal': '168', 'Taym Al Azmeh': '1487', 'Vincent Marysko': '1262', 'Simon Reveniau': '1487', 'Corentin Moutet': '69', 'Harold Huens': '1647', 'Chan Yeong Oh': '942', 'Riku Takahata': '1519', 'Ilya Snitari': '692', 'Rinky Hijikata': '87', 'Oleg Prihodko': '338', 'Kevin King': '1590', 'Freddy Murray': '1868', 'Facundo Juarez': '555', 'Tyler Bowers': '1614', 'Carles Cordoba': '1583', 'Samuel Vincent Ruggeri': '579', 'Alexander Ushakov': '1868', 'Nikolai Barsukov': '2080', 'Joel Schwaerzler': '388', 'Yong Joon Park': '1470', 'Nicolas Oliveira': '1868', 'Hyeon Chung': '381', 'Aayush P Bhat': '1378', 'Cameron Norrie': '61', 'Daniil Sarksian': '1041', 'Alexander Frusina': '2105', 'Niccolo Ciavarella': '906', 'Nicolas Jarry': '143', 'Arthur Nagel': '902', 'Alejandro Lopez Escribano': '1667', 'Konstantin Zhzhenov': '1408', 'Adam Panaras': '1750', 'Lucas Andrade Da Silva': '1073', 'Gabriele Maria Noce': '952', 'Albert Ramos': '212', 'Chun Ming Yam': '1463', 'Duarte Vale': '776', 'Lautaro Correa Beguerie': '1485', 'Cleeve Harper': '1029', 'Noritaka Koizumi': '1868', 'Andrej Nedic': '399', 'Thomas Laurent': '1375', 'Samuel Heredia': '899', 'Adam Heinonen': '1159', 'Matthew William Donald': '737', 'Jan-Lennard Struff': '125', 'Pierre Delage': '784', 'Ashton Mcleod': '1770', 'Peetu Pohjola': '1519', 'Nicolas Arseneault': '714', 'Franco Ribero': '852', 'Lorenzo Giustino': '272', 'Kaua Lorenzo Santos Gava': '1868', 'Toru Horie': '1624', 'Sebastian Eriksson': '959', 'James Watt': '722', 'John Hallquist Lithen': '1448', 'Vit Kalina': '1218', 'Trey Hilderbrand': '711', 'James Mccabe': '181', 'David Poljak': '987', 'Aziz Ouakaa': '607', 'Pablo Llamas Ruiz': '573', 'Cem Ilkel': '511', 'Justin Roberts': '2157', 'Carlos Zerega': '1770', 'Mirko Martinez': '1500', 'Cezar Cretu': '346', 'Lambert Ruland': '1487', 'Kerem Yilmaz': '2105', 'Dax Donders': '1725', 'Matteo Martineau': '292', 'John Echeverria': '610', 'Andrea Picchione': '465', 'Adam Neff': '725', 'Evan Zhu': '577', 'Daniel Elahi Galan': '107', 'Thanaphat Boosarawongse': '1476', 'Gilberto Ravasio': '1453', 'Christopher Oconnell': '77', 'Etienne Donnet': '592', 'Dong Ju Kim': '1868', 'Michael Shaw': '2140', 'Ali Yazdani': '759', 'Orel Kimhi': '783', 'Felix Mischker': '1966', 'Ajay Malik': '1868', 'Gabriel Ghetu': '728', 'Yannick Hanfmann': '135', 'Pavle Marinkov': '687', 'Vadym Konovchuk': '1549', 'Jakub Paul': '356', 'Carlos Maria Zarate': '1189', 'Scott Jones': '1322', 'Amir Milushev': '1420', 'Chase Ferguson': '970', 'Pedro Vives Marcos': '957', 'Sergio Planella Hernandez': '1519', 'Robin Bertrand': '335', 'Noah Brownrigg': '1770', 'Mikolaj Lorens': '1770', 'Adrian Bodmer': '1049', 'Pedro Rodenas': '1383', 'Niklas Schell': '839', 'Dominik Kellovsky': '548', 'Johan Alexander Rodriguez Rodriguez': '677', 'Eliakim Coulibaly': '284', 'Tomas Farjat': '587', 'Jack Anthrop': '774', 'Thomas Braithwaite': '900', 'Alexis Galarneau': '207', 'Kasidit Samrej': '390', 'Aliaksandr Liaonenka': '898', 'Joaquin Aguilar Cardozo': '855', 'Anthony Genov': '1689', 'Andres Santamarta Roig': '698', 'Ivan Gretskiy': '1408', 'Miguel Angel Cabrera': '2037', 'Omar Jasika': '202', 'Coleman Wong': '172', 'Matej Vocel': '1453', 'Steven Diez': '566', 'Marcelo Zormann Da Silva': '1590', 'Matias Franco Descotte': '1382', 'Edward Winter': '648', 'Jan Hrazdil': '1435', 'Patrik Oplustil': '1346', 'Alessandro Battiston': '1442', 'Tristan Mccormick': '612', 'Atakan Karahan': '1966', 'Maxim Zhukov': '597', 'Amador Salazar': '1343', 'Daniele Rapagnetta': '1235', 'Cannon Kingsley': '512', 'William Manning': '1966', 'Yu Hsiou Hsu': '242', 'Jannik Opitz': '2037', 'Tadeas Paroulek': '522', 'Nicolas Ian Kotzen': '1239', 'Nuno Borges': '37', 'Agassi Rusher': '1770', 'Walid Ahouda': '1634', 'Linghao Zhang': '1549', 'Bogdan Bobrov': '598', 'Max Purcell': '319', 'Zachary Svajda': '229', 'Vesa Ahti': '1146', 'Stepan Baum': '1295', 'Kiranpal Pannu': '771', 'Lucas Gerch': '560', 'Iliyan Radulov': '432', 'Nicholas Heng': '1868', 'Gianluca Di Nicola': '1770', 'Michael Agwi': '613', 'Savriyan Danilov': '791', 'Peter Fajta': '488', 'Attila Boros': '986', 'Thijmen Loof': '1571', 'Stefan Dostanic': '404', 'Felipe De Dios': '1763', 'Hynek Barton': '331', 'Alexandre Reco': '864', 'Valentin Basel': '1044', 'Mees Rottgering': '657', 'Tomislav Edward Papac': '1739', 'Christian Djonov': '1294', 'Daniel Khazime': '1203', 'Rohan Murali': '1169', 'Jorge Plans': '1330', 'Nicolas Mejia': '243', 'Borna Coric': '81', 'Laurent Lokoli': '405', 'Aleksandar Ljubojevic': '1868', 'Victor Hugo Remondy Pagotto': '1519', 'Rigele Te': '532', 'Valentin Vanta': '1667', 'Maxim Shin': '1002', 'Credit Chaiyarin': '1285', 'Harold Mayot': '184', 'Phillip Jordan': '1057', 'Mohamed Nazim Makhlouf': '1168', 'Aaron Funk': '1087', 'Emon Van Loben Sels': '1634', 'Sasha Rozin': '1239', 'Aleksandre Bakshi': '551', 'Edoardo De Filippo': '1647', 'Constantin Bittoun Kouzmine': '870', 'Nerman Fatic': '239', 'Dheeraj Kodancha Srinivasan': '1647', 'Liam Draxl': '147', 'Mikhail Kukushkin': '189', 'Leonardo Rossi': '616', 'Guy Orly Iradukunda': '1110', 'Milledge Cossu': '1689', 'Sascha Gueymard Wayenburg': '259', 'Christian Langmo': '341', 'Zdenek Kolar': '416', 'William Hsieh': '1534', 'Alan Bojarski': '1186', 'James Trotter': '198', 'Beibit Zhukayev': '247', 'Francisco Cabral': '1363', 'Franco Emanuel Egea': '1022', 'Jiri Cizek': '1430', 'S Mert Ozdemir': '1723', 'Branko Djuric': '489', 'Moise Kouame': '828', 'Luka Miklavcic': '1647', 'Damir Dzumhur': '67', 'Rodrigo Fernandes': '1697', 'Nikola Slavic': '1185', 'Hayden Jones': '1063', 'Federico Aguilar Cardozo': '1441', 'Max Houkes': '245', 'Alexis Canter': '1353', 'Felix Corwin': '523', 'Nikos Lehmann': '1354', 'Christopher Bulus': '1111', 'Nikolay Nedelchev': '1511', 'Stefan Kozlov': '367', 'Alexander Weis': '572', 'S D Prajwal Dev': '755', 'Benjamin Denis Alarcon': '1770', 'Antoine Walch': '1303', 'Keegan Smith': '497', 'Karim Al Amin': '1770', 'Isaiah Strode': '726', 'Jannik Sinner': '1', 'Shion Itsusaki': '1659', 'Jack Satterfield': '1868', 'Axel Garcian': '715', 'Haoyuan Huang': '1966', 'Zsombor Velcz': '1485', 'Jay Dylan Hara Friend': '937', 'Petr Michnev': '1868', 'Vishnu Vardhan': '1030', 'Loan Lestir': '1770', 'Andrei Corneliu Gadoiu': '1868', 'Mattia Bellucci': '73', 'Izan Almazan Valiente': '1098', 'Denis Kudla': '734', 'Nikola Milojevic': '1020', 'Oscar Galimardanov': '2127', 'Bohua Dong': '1770', 'Hudson Rivera': '1770', 'Lukas Hellum Lilleengen': '1739', 'Igor Shrolik': '1868', 'Benoit Paire': '506', 'Gokberk Saritas': '1139', 'Makoto Ochi': '1161', 'Lucas Renard': '1103', 'Jiri Lehecka': '25', 'Minghui Zhang': '2105', 'Adrien Gobat': '879', 'Roland Stuurman': '1519', 'Radu David Turcanu': '895', 'Gilles Arnaud Bailly': '460', 'Henri Laaksonen': '1106', 'Paul Jubb': '422', 'Arturs Zagars': '1868', 'Daniel Milavsky': '585', 'Stefano Dagostino': '838', 'Cooper Woestendick': '1304', 'Niccolo Catini': '732', 'Aristotelis Thanos': '499', 'Tyler Zink': '311', 'Kuang Qing Xu': '972', 'Cooper Williams': '1023', 'Gregor Hausberger': '1966', 'Tai Sach': '833', 'William Mirarchi': '1634', 'Marco Cecchinato': '300', 'Andre Ilagan': '371', 'Connor Doig': '1868', 'Makar Krivoshchekov': '2140', 'Marcell Bartakovics': '2037', 'Peter Heller': '894', 'Siphosothando Montsi': '1590', 'Alberto Lim': '1213', 'Roberto Cid': '330', 'Bruno Kokot': '1667', 'Charles Broom': '476', 'Luis Britto': '1590', 'Yaojie Zeng': '944', 'Andreas Timini': '1231', 'Maxime Janvier': '433', 'Ronald Hohmann': '1086', 'Keaton Hance': '1467', 'Otto Virtanen': '97', 'Loris Pourroy': '1667', 'Evan Burnett': '1373', 'Patrick Kaukovalta': '1058', 'Derek Pham': '1051', 'Albert Pedrico Kravtsov': '832', 'Alexander Wagner': '2037', 'Quentin Halys': '46', 'Nicolas Hollender': '2140', 'Anas Bennour Dit Sahli': '1399', 'Maciej Rajski': '955', 'Luke Hooper': '1571', 'Niklas Guttau': '1453', 'Laelson Rodrigues': '2037', 'Elio Jose Ribeiro Lago': '1614', 'Juan Bautista Otegui': '1065', 'Matthew Summers': '804', 'Michael Alejandro Beltran Rubio': '1770', 'Taha Baadi': '764', 'Ferdinand Livet Novkirichka': '1770', 'Alfred Almasi': '1590', 'Jonathan Mridha': '1868', 'Renta Tokuda': '596', 'Rafael Jodar': '554', 'Will Mayew': '1966', 'Adil Kalyanpur': '912', 'Nathan Ponwith': '1016', 'Mirza Basic': '684', 'Luis Felipe Ferraz Sandoval Carvalho': '1868', 'Pedro Martinez': '52', 'Matas Vasiliauskas': '1563', 'Bryce Nakashima': '1301', 'Fernando Yamacita': '1386', 'William Jansen': '1307', 'Moritz Hoffmann': '1542', 'Chirag Duhan': '850', 'Andrea Bacaloni': '1766', 'Vito Dellelba': '1868', 'Marcos Lee Chan Baratau': '1758', 'Laslo Djere': '60', 'Alessio Vasquez Gehrke': '1314', 'Mariano Kestelboim': '414', 'Jules Leroux': '1966', 'Ondrej Horak': '1712', 'Cezar Gabriel Papoe': '1078', 'Ruslan Tiukaev': '968', 'Alejandro Bancalari': '2105', 'Guido Ivan Justo': '400', 'Jesper De Jong': '106', 'Sumit Nagal': '296', 'Gianluca Mager': '455', 'Alexander Vasilev': '1304', 'Lazar Vojinovic': '2105', 'Benjamin Winter Lopez': '878', 'Tomas Martin Etcheverry': '53', 'Leo Matthysen': '1419', 'Louis Dussin': '634', 'Manuel Plunger': '1060', 'Fabien Salle': '1234', 'Kokoro Isomura': '467', 'Maciej Matuszczyk': '1770', 'Taketo Takamisawa': '1697', \"Benjamin O'Connell\": '1697', 'Kuan Yi Lee': '729', 'Alan Kam': '1634', 'Volodymyr Iakubenko': '1868', 'Ryan Dickerson': '1192', 'Denis Petak': '1271', 'Frazier Rengifo': '1487', 'Alexander Klintcharov': '763', 'Alex Knaff': '617', 'Patrick Kypson': '240', 'Antoine Bellier': '885', 'Lukas Klein': '185', 'Peter Buldorini': '948', 'Sam Ryan Ziegann': '1100', 'Sora Fukuda': '874', 'Kaichi Uchida': '561', 'Daniel Uta': '1751', 'Nicolas Kicker': '395', 'Matyas Cerny': '989', 'Miguel Damas': '424', 'Anders Matta': '1590', 'Preston Stearns': '2037', 'Masamichi Imamura': '370', 'Alexander Stater': '910', 'Niklas Waldner': '1359', 'Przemyslaw Michocki': '1868', 'Giacomo Crisostomo': '1349', 'Gabriele Volpi': '1557', 'Raul Brancaccio': '337', 'Jonas Forejtek': '591', 'Alex Bolt': '179', 'Semen Pankin': '746', 'Andrea Meduri': '2105', 'Lilian Marmousez': '452', 'Theo Herrmann': '1966', 'Spencer Gray': '1667', 'Kalin Ivanovski': '896', 'Piotr Pawlak': '2037', 'Alessio Basile': '1398', 'Kacper Zuk': '1309', 'Ryan Nijboer': '454', 'Shivank Bhatnagar': '1770', 'Lucas Bouquet': '650', 'Bogdan Pavel': '971', 'Joshua Charlton': '947', 'Alejandro Tabilo': '84', 'Thiago Agustin Tirante': '121', 'Casey Hoole': '1467', 'Lucas Miedler': '1453', 'Isaac Nortey': '1751', 'Eyal Shumilov': '1659', 'Mae Malige': '546', 'Cedric Stanke': '1739', 'Liam Delicata': '2140', 'Ivan Marrero Curbelo': '716', 'Marton Fucsovics': '105', 'Clement Tabur': '215', 'Luca Potenza': '558', 'Daniel Cukierman': '790', 'Shintaro Mochizuki': '144', 'Jacob Bradshaw': '727', 'Luis Garcia Paez': '1582', 'Ernesto Escobedo': '633', 'Mateo Castaneda': '1229', 'Lucca Liu': '1487', 'Aadarsh Tripathi': '1868', 'Ulises Blanch': '1634', 'Georgi Georgiev': '893', 'Filippo Callerio': '1868', 'Ozan Baris': '775', 'Giorgio Tabacco': '1225', 'Andrea De Marchi': '1403', 'Demetris Azoides': '1121', 'Liam Gavrielides': '826', 'Evgeny Donskoy': '757', 'Fitriadi M Rifqi': '1034', 'Federico Cina': '279', 'Gabriel Evans': '1408', 'Mats Hermans': '1590', 'Alejandro Arcila': '1209', 'Arthur Laborde': '2127', 'Matei Florin Breazu': '1697', 'Abedallah Shelbayh': '340', 'Fabio Fognini': '138', 'Emilien Demanet': '697', 'Vladan Tadic': '1250', 'Jack Loutit': '1115', 'Ilyas Milad Fahim': '1506', 'Alexey Vatutin': '334', 'Ian Luca Cervantes Tomas': '1448', 'Keshav Chopra': '1137', 'Corey Craig': '1378', 'Gray Voelzke': '1770', 'Alex Rybakov': '352', 'Kenny De Schepper': '627', 'Joao Lucas Reis Da Silva': '250', 'Jayden Court': '1452', 'Mustafa Ege Sik': '1770', 'Boris Pokotilov': '2080', 'Gonzalo Zeitune': '1966', 'Brandon Holt': '99', 'Gabi Adrian Boitan': '372', 'Jakub Mensik': '17', 'Alberto Colas Sanchez': '1770', 'Leevi Saatela': '1770', 'Twan Van Zijl': '2037', 'Patrik Homola': '1966', 'Theodore Dean': '1590', 'Yash Chaurasia': '1966', 'Alexey Aleshchev': '1588', 'Yaraslav Shyla': '1590', 'Dan Alexandru Tomescu': '534', 'Mario Mansilla Diez': '1966', 'Spencer Johnson': '1252', 'Ethan Cook': '1264', 'Patorn Hanchaikul': '1770', 'Enzo Aguiard': '1108', 'Dragos Nicolae Cazacu': '766', 'Mateo Luis Alvarez Sarmiento': '2127', 'Ignacio Carou': '1313', 'Mika Brunold': '304', 'Stylianos Christodoulou': '1725', 'Benjamin Torrealba': '901', 'Moein Moazam': '1868', 'Daniel Little': '1667', 'Leonid Sheyngezikht': '1431', 'Yamato Yukawa': '1966', 'Alejandro Juan Mano': '1183', 'Ivan Denisov': '1200', 'Rodolfo Jauregui Sainz De Rozas': '1513', 'Darwin Blanch': '470', 'Jirat Navasirisomboon': '1145', 'Alfredo Perez': '382', 'Arthur Cazaux': '115', 'Govind Nanda': '378', 'Paul Valsecchi': '1725', 'Arthur Bouquier': '230', 'Ben Shelton': '10', 'Alexander Blockx': '141', 'Hayden Shoemake': '1770', 'Edas Butvilas': '252', 'Jurij Rodionov': '195', 'Kornel Halmos': '2037', 'Patrick Maloney': '325', 'Jonas Trinker': '1513', 'Henrik Bladelius': '1751', 'Adam Farag Cao': '1519', 'Valentin Lapalu': '1264', 'George Lazarov': '1542', 'Cesar Ramirez': '1868', 'Yasutaka Uchiyama': '205', 'Tomas Gerini': '1590', 'Vit Kopriva': '78', 'Carlos Giraldi': '1751', 'Felipe Meligeni Alves': '145', 'Kian Vakili': '2080', 'Marin Dumitru': '1966', 'Mihnea Maftei': '1770', 'Yuvan Nandal': '1099', 'Qian Sun': '1187', 'Sarp Agabigun': '1399', 'Ryotaro Taguchi': '655', 'Kosuke Ogura': '672', 'Filippo Alberti': '1519', 'Denis Shapovalov': '30', 'Elgin Khoeblal': '877', 'Dhakshineswar Suresh': '872', 'Ren Nakamura': '2037', 'Pedro Boscardin Dias': '363', 'Kamil Majchrzak': '109', 'Juan Manuel Cerundolo': '112', 'Wishaya Trongcharoenchaikul': '659', 'Amit Vales': '868', 'Luca Pow': '935', 'Matt Ponchet': '2140', 'Yi Zhou': '321', 'Yanis Ghazouani Durand': '929', 'Emilio Nava': '119', 'Pedro Sakamoto': '332', 'Matthew Harris': '1868', 'Pavlos Tsitsipas': '1102', 'Ricardas Berankis': '401', 'Salvatore Caruso': '1868', 'Ludovico Vaccari': '1689', 'Samir Hamza Reguig': '705', 'Dennis Novak': '427', 'Kylian Collignon': '1563', 'Jangjun Kim': '1770', 'Borna Gojo': '217', 'Artur Kukasian': '915', 'Ilya Ivashka': '858', 'Jonathan Eysseric': '1290', 'Nicholas David Ionel': '355', 'Henri Haupt': '2105', 'Michael Geerts': '295', 'Paul Ender': '1770', 'Anton Shepp': '1667', 'Pierluigi Basile': '564', 'Kyle Kang': '682', 'Nikolas Sanchez Izquierdo': '345', 'Pavlos Christoforakis': '1966', 'Fabrizio Karol Pio Osti': '2037', 'Pietro Fellin': '762', 'Jacopo Bilardo': '1066', 'Chad Kissell': '1868', 'Tomasz Berkieta': '723', 'Juan Ignacio Londero': '843', 'Mikhail Gorokhov': '983', 'Yeongseok Jeong': '1355', 'Dimitar Kuzmanov': '226', 'Patrick Schoen': '994', 'Emanuel Ivanisevic': '1966', 'Batyr Sapaev': '1770', 'Zachary Adam Gedge': '1966', 'Gustavo Heide': '227', 'Lautaro Agustin Corthey': '2037', 'Kyrian Jacquet': '148', 'Alexey Zakharov': '410', 'Ewen Lumsden': '593', 'Alejandro Manzanera Pertusa': '703', 'Kacper Szymkowiak': '1153', 'Matt Hulme': '830', 'Victor Braga': '1868', 'Aleksandr Braynin': '680', 'Daisuke Sumizawa': '903', 'Henry Bernet': '780', 'Eric David Verdes': '1770', 'William Grant': '696', 'Flavio Cobolli': '24', 'Junhyeon Lee': '1403', 'Pepijn Bastiaansen': '977', 'Alejandro Mateo Berge Nourescu': '1590', 'Ajeet Rai': '493', 'Luca Castagnola': '589', 'Alberto Morolli': '1634', 'Felipe Virgili Berini': '2140', 'Paul Barbier Gazeu': '1140', 'Cristian Campese': '1966', 'Markos Kalovelonis': '1366', 'Emiliano Jorquera': '1614', 'Shintaro Imai': '542', 'Ammar Elamin': '1762', 'Yan Cheng Chen': '1667', 'Reilly Opelka': '70', 'Faris Zakaryia': '611', 'Guy Den Heijer': '2127', 'Alexander Donski': '690', 'Flynn Thomas': '1868', 'Mehluli Don Ayanda Sibanda': '1667', 'Daniel Michalski': '297', 'Oliver Crawford': '248', 'Blake Bayldon': '1363', 'Zoran Ludoski': '1386', 'Martin Damm': '518', 'Manish Sureshkumar': '1117', 'Anas Mazdrashki': '1329', 'Niels Ratiu': '1614', 'Edoardo Santoni': '1770', 'Joris De Loore': '469', 'Leo Raquillet': '880', 'Adit Sinha': '1181', 'Nikola Djukic Valera': '1770', 'Jelle Sels': '322', 'Zack Vialla': '1374', 'Lorenzo Sciahbasi': '1014', 'Dev Javia': '618', 'Danil Panarin': '1420', 'Stefan Cooper': '1697', 'Salvador Price': '1233', 'Sergio Callejon Hernando': '883', 'Alex Degabriele': '1519', 'Fernando Romboli': '1590', 'Yoshihito Nishioka': '82', 'Erik Arutiunian': '490', 'Leyton Rivera': '1205', 'Mattias Southcombe': '2157', 'Juan Alejandro Hernandez Serrano': '491', 'Leonardo Taddia': '1868', 'Louis Herman': '1399', 'Alexander Maggs': '2080', 'Soon Woo Kwon': '539', 'Luca Staeheli': '1712', 'Marko Maksimovic': '988', 'Cing Yang Meng': '1247', 'Benedikt Henning': '1590', 'Oscar Jose Gutierrez': '1018', 'Juan Pablo Paz': '626', 'Lorenzo Gagliardo': '974', 'Victor Lilov': '831', 'Aldin Setkic': '1011', 'Adolfo Daniel Vallejo': '232', 'Muni Ananth Mani': '2037', 'Alec Beckley': '519', 'Oscar Lacides': '1770', 'Mariano Navone': '91', 'Hiroki Sakagawa': '2037', 'Radu Mihai Papoe': '631', 'Alexandre Aubriot': '1053', 'Kriish Tyagi': '998', 'Gabriele Vulpitta': '1337', 'Zhe Li': '1072', 'Alexander Glomb': '1868', 'Oscar Weightman': '1024', 'Sebastian Ofner': '165', 'Hugo Grenier': '175', 'Marc Andrea Huesler': '167', 'Joshua Lapadat': '1077', 'Martin Klizan': '525', 'Luka Mikrut': '350', 'Kaeri Hernandez Mariona': '1966', 'Tilen Kovac': '1476', 'Abel Forger': '754', 'Illya Marchenko': '1375', 'Filippo Francesco Garbero': '1966', 'Gleb Sakharov': '2105', 'Alan Abdullin': '1868', 'Ali Habib': '1134', 'Denis Yevseyev': '267', 'Vito Tonejc': '1154', 'Kiruthik Kalyaan As': '1624', 'Michal Krajci': '671', 'Iker Urribarrens Ramirez': '1151', 'Dylan Salton': '1250', 'Isaac Becroft': '1026', 'Fumin Jiang': '1534', 'Stijn Slump': '665', 'Alan Wazny': '1723', 'Fernando Cavallo': '1062', 'Yanaki Milev': '779', 'Alexei Popyrin': '22', 'Hugo Pierre': '1096', 'Amir Omarkhanov': '909', 'Cian Maguire': '2037', 'Luka Pavlovic': '241', 'Christos Antonopoulos': '1966', 'Alessandro Bellifemine': '911', 'Jakub Kroslak': '1725', 'Evan Furness': '1241', 'Wilson Leite': '724', 'Ji Sung Nam': '683', 'Jan Kumstat': '981', 'Oliver Anderson': '829', 'Bruno Fernandez': '1357', 'Marcel Kamrowski': '1147', 'Luciano Darderi': '59', 'Tuncay Duran': '675', 'Kilian Feldbausch': '438', 'Kane Bonsach Ganley': '818', 'Milos Mikovic': '1667', 'Duje Markovina': '1667', 'Leo Lagarrigue': '1763', 'Cedrik Marcel Stebe': '1242', 'Ye Hongyu': '1725', 'Facundo Diaz Acosta': '199', 'Jacob Fearnley': '51', 'Sasa Markovic': '1129', 'Giulio Perego': '1214', 'Joao Victor Couto Loureiro': '1337', 'Samuil Konov': '1751', 'Matteo Gigante': '133', 'Daniel Sancho Arbizu': '1770', 'Daniel Paty': '925', 'Thantub Suksumrarn': '1148', 'Juan Bautista Torres': '305', 'Johan Nikles': '702', 'Vitaliy Sachko': '210', 'Guillermo Olaso': '1590', 'Mateya Stanisavljevic': '1769', 'Pavel Lagutin': '1634', 'Joao Silva': '1500', 'Karen Khachanov': '20', 'Cruz Hewitt': '827', 'Evgeny Tyurnev': '521', 'Tomas Lanik': '1341', 'William Rejchtman Vinciguerra': '1476', 'Tobias Franco': '2153', 'Zhenxiong Dong': '1042', 'Sergi Fita Juan': '1359', 'Inaki Montes De La Torre': '392', 'Ioannis Kountourakis': '1190', 'Alex Molcan': '480', 'Jimmy Yang': '1725', 'Leonardo Angeloni': '1770', 'Yuichiro Inui': '1198', 'Jesse Delaney': '931', 'Lance Amaury Lage Castelan': '1966', 'Edoardo Lavagno': '1386', 'Dian Nedev': '1534', 'Federico Coria': '150', 'Daniel Marincas': '1966', 'Pavel Kotov': '213', 'Luca Nardi': '95', 'Sebastiano Cocola': '1624', 'Maxim Groysman': '1770', 'Stefan Horia Haita': '1519', 'Corey Gaal': '1667', 'Tommy Paul': '13', 'Jacob Bullard': '1770', 'Alexander Kotzen': '999', 'Jefferson Wendler Filho': '1697', 'Yubel Ubri': '1868', 'Oren Vasser': '1571', 'Gabriel Decamps': '1770', 'Jie Cui': '288', 'Philip Sekulic': '477', 'Ilia Simakin': '228', 'Simone Agostini': '1571', 'Santiago Fa Rodriguez Taverna': '191', 'Lucas Poullain': '373', 'Antoine Berger': '1155', 'Nicolas Villalon': '1101', 'Evan Bynoe': '1068', 'Mateo Barreiros Reyes': '785', 'Daniel Masur': '475', 'Filippo Mazzola': '1446', 'Jordi Garcia Mestre': '1766', 'Stijn Pel': '1218', 'Karue Sell': '289', 'Juan Pablo Ficovich': '155', 'Jakub Jedrzejczak': '2105', 'Nam Hoang Ly': '908', 'Yanki Erel': '581', 'Igor Ribeiro Marcondes': '884', 'Vlado Jankanj': '1519', 'Robert Strombachs': '323', 'Pranav Karthik': '1689', 'Mathias Bourgue': '656', 'Wally Thayne': '1966', 'Giovanni Oradini': '689', 'Dmytro Shirokyi': '1500', 'James Beaven': '1711', 'Miguel Tobon': '749', 'Aleksander Chayka': '1281', 'Viktor Durasovic': '231', 'Kaylan Bigun': '918', 'Leonardo Cattaneo': '1324', 'Sebastian Sorger': '686', 'Simeon Stankovic': '1005', 'Photos Photiades': '1548', 'Hugo Hashimoto': '1770', 'Dylan Dietrich': '997', 'Nicolas Rafael Goldberg Alviani': '1966', 'Antoine Hoang': '1079', 'Nishesh Basavareddy': '100', 'Jaume Munar': '55', 'Gergely Madarasz': '740', 'Marin Cilic': '83', 'Aleksi Lofman': '1366', 'Khololwam Montsi': '773', 'Matthew Thomson': '1323', 'Michael Mmoh': '327', 'Kabir Hans': '2127', 'Conner Huertas Del Pino': '541', 'Remy Bertola': '314', 'Maikel De Boes': '1309', 'George Loffhagen': '293', 'Fajing Sun': '244', 'Yash Yadav': '2037', 'Yu Tanaka': '1667', 'Tallon Griekspoor': '29', 'Aoran Wang': '1120', 'Kenzo Koistila Larsson': '1868', 'Pietro Pampanin': '1447', 'Roberto Bautista Agut': '42', 'Michael Vrbensky': '500', 'Gregoire Barrere': '369', 'Szymon Kielan': '1442', 'Dominic Stricker': '238', 'Mehdi Benchakroun': '1142', 'Oliver Bonding': '920', 'Ricardo Rodriguez': '1201', 'Nicolas Zanellato': '1114', 'Timeo Bretin': '1868', 'Damir Abdusamadov': '1966', 'Michiel De Krom': '544', 'Charles Chen': '1092', 'Aryan Shah': '453', 'Nico Hornitschek': '1487', 'Dmitry Kopilevich': '2162', 'Benito Sanchez Martinez': '972', 'Maxence Rivet': '917', 'Nikita Bilozertsev': '1519', 'Hikaru Shiraishi': '571', 'Norbert Gombos': '328', 'Kazuki Nishiwaki': '1571', 'Samuel Alejandro Linde Palacios': '1121', 'Martin Landaluce': '137', 'Jacob Brumm': '622', 'Noel Larwig': '1416', 'Martin Van Der Meerschen': '787', 'Iiro Vasa': '1476', 'Michele Ribecai': '810', 'Filip Duda': '1369', 'Leonardo Malgaroli': '1167', 'Nico Rating': '1966', 'Darian King': '1868', 'Ivan Kazakov': '2037', 'Rocco Piatti': '2140', 'Aaron Gil Garcia': '1557', 'Vladimir Bazilevskiy': '1513', 'Felix Auger Aliassime': '28', 'Deney Wassermann': '717', 'Max Alcala Gurri': '425', 'Zhizhen Zhang': '122', 'Samuele Seghetti': '1227', 'Andre Steinbach': '1868', 'Alberto Bronzetti': '941', 'Nikola Jovic': '1445', 'Nicola Kuhn': '976', 'Egor Gerasimov': '524', 'Henrique Rocha': '157', 'Oskar Jansson': '1770', 'Dmitry Dolzhenkov': '1647', 'Mert Aytekin': '1868', 'Tomohiro Masabayashi': '823', 'Oleksandr Ovcharenko': '349', 'Adan Freire Da Silva': '985', 'Ryotero Matsumura': '1025', 'Nikoloz Basilashvili': '126', 'Rafael De Alba': '1083', 'Jeremy Gschwendtner': '1010', 'Stefan Palosi': '549', 'Robert Guna': '1534', 'Terence Atmane': '124', 'Lukas Pokorny': '393', 'Evan King': '1453', 'Daniel Jade': '1966', 'Clement Chidekh': '234', 'Pablo Trochu': '1008', 'Denys Klok': '624', 'Enzo Couacaud': '426', 'Stefan Adrian Andreescu': '553', 'Frances Tiafoe': '12', 'Noah Zamora': '1487', 'Marko Mesarovic': '1647', 'Neil Oberleitner': '396', 'Aziz Dougaz': '211', 'Hanyi Liu': '1132', 'Luca Fantini': '1138', 'Diego Schwartzman': '559', 'Raphael Perot': '710', 'Charlie Robertson': '1174', 'Goncalo Oliveira': '294', 'Chun Chien Hou': '1868', 'Jasza Szajrych': '851', 'Matteo Arnaldi': '43', 'Seonyong Han': '2105', 'Kristjan Tamm': '905', 'Max Villar': '1770', 'Dinko Dinev': '786', 'Yusuf Khamis': '1534', 'Altug Celikbilek': '608', 'Inigo Cervantes Huegun': '1590', 'Yassine Dlimi': '995', 'Mario Martinez Serrano': '1074', 'Ben Jones': '641', 'Joris Moret': '1371', 'Guido Andreozzi': '953', 'Sebastian Grundtvig Jorgensen': '1408', 'Erik Grevelius': '1725', 'Corban Crowther': '1095', 'Michel Hopp': '984', 'Karol Malirz': '1868', 'Matheus Pucinelli De Almeida': '287', 'Bernabe Zapata Miralles': '361', 'Ryota Tanuma': '1259', 'Denis Constantin Spiridon': '1697', 'Tim Handel': '606', 'Joel Angel Lucero': '2037', 'Sergio Badini': '1966', 'Maik Steiner': '803', 'Karlis Ozolins': '960', 'Linang Xiao': '661', 'Kai Wehnelt': '778'}\n"
     ]
    }
   ],
   "source": [
    "import json\n",
    "\n",
    "# Load the JSON file\n",
    "with open('data/rankings/atp_rankings_wimbledon.json', 'r') as file:\n",
    "    player_rank_dict = json.load(file)\n",
    "\n",
    "print(player_rank_dict)\n"
   ]
  },
  {
   "cell_type": "code",
   "execution_count": 5,
   "id": "4b370ee4",
   "metadata": {},
   "outputs": [
    {
     "name": "stderr",
     "output_type": "stream",
     "text": [
      "  0%|          | 0/130 [00:00<?, ?it/s]"
     ]
    },
    {
     "name": "stderr",
     "output_type": "stream",
     "text": [
      "/var/folders/72/931mm5912h7_y6ts82j2wjhh0000gn/T/ipykernel_55551/756221596.py:24: PerformanceWarning: indexing past lexsort depth may impact performance.\n",
      "  wimbledon_players[str(player_name)][\"ID\"] = int(player_info.loc[(first_name, last_name)][\"player_id\"])\n",
      "/var/folders/72/931mm5912h7_y6ts82j2wjhh0000gn/T/ipykernel_55551/756221596.py:24: FutureWarning: Calling int on a single element Series is deprecated and will raise a TypeError in the future. Use int(ser.iloc[0]) instead\n",
      "  wimbledon_players[str(player_name)][\"ID\"] = int(player_info.loc[(first_name, last_name)][\"player_id\"])\n",
      "/var/folders/72/931mm5912h7_y6ts82j2wjhh0000gn/T/ipykernel_55551/756221596.py:26: PerformanceWarning: indexing past lexsort depth may impact performance.\n",
      "  str(int(player_info.loc[(first_name, last_name)][\"dob\"])),\n",
      "/var/folders/72/931mm5912h7_y6ts82j2wjhh0000gn/T/ipykernel_55551/756221596.py:26: FutureWarning: Calling int on a single element Series is deprecated and will raise a TypeError in the future. Use int(ser.iloc[0]) instead\n",
      "  str(int(player_info.loc[(first_name, last_name)][\"dob\"])),\n",
      "/var/folders/72/931mm5912h7_y6ts82j2wjhh0000gn/T/ipykernel_55551/756221596.py:30: PerformanceWarning: indexing past lexsort depth may impact performance.\n",
      "  wimbledon_players[str(player_name)][\"HEIGHT\"] = int(player_info.loc[(first_name, last_name)][\"height\"])\n",
      "/var/folders/72/931mm5912h7_y6ts82j2wjhh0000gn/T/ipykernel_55551/756221596.py:30: FutureWarning: Calling int on a single element Series is deprecated and will raise a TypeError in the future. Use int(ser.iloc[0]) instead\n",
      "  wimbledon_players[str(player_name)][\"HEIGHT\"] = int(player_info.loc[(first_name, last_name)][\"height\"])\n",
      "100%|██████████| 130/130 [00:00<00:00, 1995.53it/s]\n"
     ]
    }
   ],
   "source": [
    "wimbledon_players = {}\n",
    "with open(\"data/wimbledon_players.txt\", 'r') as f:\n",
    "    for line in tqdm(f.readlines()):\n",
    "        player_name = line.strip()\n",
    "\n",
    "        wimbledon_players[str(player_name)] = {}\n",
    "        wimbledon_players[str(player_name)][\"Name\"] = str(player_name)\n",
    "\n",
    "        if player_name == \"Tomas Martin Etcheverry\":\n",
    "            first_name = \"Tomas Martin\"\n",
    "            last_name = \"Etcheverry\"\n",
    "        elif player_name == \"Chun-Hsin Tseng\":\n",
    "            first_name = \"Chun Hsin\"\n",
    "            last_name = \"Tseng\"\n",
    "        elif player_name == \"Jan-Lennard Struff\":\n",
    "            first_name = \"Jan Lennard\"\n",
    "            last_name = \"Struff\"\n",
    "        else:\n",
    "            parts = player_name.split()\n",
    "            first_name = parts[0].title()\n",
    "            last_name = \" \".join(parts[1:]) if len(parts) > 1 else \"\"\n",
    "            last_name = last_name.title()\n",
    "\n",
    "        wimbledon_players[str(player_name)][\"ID\"] = int(player_info.loc[(first_name, last_name)][\"player_id\"])\n",
    "        player_age = calculate_age(\n",
    "            str(int(player_info.loc[(first_name, last_name)][\"dob\"])),\n",
    "            \"2025-06-30\"\n",
    "        )\n",
    "        wimbledon_players[str(player_name)][\"AGE\"] = player_age\n",
    "        wimbledon_players[str(player_name)][\"HEIGHT\"] = int(player_info.loc[(first_name, last_name)][\"height\"])\n",
    "        wimbledon_players[str(player_name)][\"ATP_RANK\"] = int(player_rank_dict[player_name.title()])"
   ]
  },
  {
   "cell_type": "markdown",
   "id": "9dc8bb8e",
   "metadata": {},
   "source": [
    "## Start predicting"
   ]
  },
  {
   "cell_type": "code",
   "execution_count": 6,
   "id": "577bca65",
   "metadata": {},
   "outputs": [],
   "source": [
    "update_stats_param = {\n",
    "    \"k_factor\": None,\n",
    "    \"base_k_factor\": 43,\n",
    "    \"max_k_factor\": 62,\n",
    "    \"div_number\": 800,\n",
    "    \"bonus_after_layoff\": True\n",
    "}"
   ]
  },
  {
   "cell_type": "code",
   "execution_count": 7,
   "id": "23a55408",
   "metadata": {},
   "outputs": [
    {
     "name": "stderr",
     "output_type": "stream",
     "text": [
      "/var/folders/72/931mm5912h7_y6ts82j2wjhh0000gn/T/ipykernel_55551/1572513150.py:1: DtypeWarning: Columns (6,9,17) have mixed types. Specify dtype option on import or set low_memory=False.\n",
      "  clean_data = pd.read_csv(\"./data/0cleanDatasetWithQualifiersWith2025.csv\")\n",
      "100%|██████████| 197263/197263 [01:04<00:00, 3050.37it/s]\n"
     ]
    }
   ],
   "source": [
    "clean_data = pd.read_csv(\"./data/0cleanDatasetWithQualifiersWith2025.csv\")\n",
    "prev_stats = createStats()\n",
    "\n",
    "# Iterate through each row in clean_data\n",
    "for index, row in tqdm(clean_data.iterrows(), total=len(clean_data)):\n",
    "    ########## UPDATE STATS ##########\n",
    "    # We only need to update the stats, since we don't need to create a dataset\n",
    "    prev_stats = updateStats(row, prev_stats, **update_stats_param)"
   ]
  },
  {
   "cell_type": "code",
   "execution_count": 8,
   "id": "0ba57d3f",
   "metadata": {},
   "outputs": [
    {
     "name": "stderr",
     "output_type": "stream",
     "text": [
      "100%|██████████| 233/233 [00:00<00:00, 1991.35it/s]\n"
     ]
    }
   ],
   "source": [
    "wimbledon_data = pd.read_csv(\"./data/allWimbledon2025.csv\")\n",
    "\n",
    "for index, row in tqdm(wimbledon_data[:-1].iterrows(), total=len(wimbledon_data[:-1])):\n",
    "    ########## UPDATE STATS ##########\n",
    "    prev_stats = updateStats(row, prev_stats, **update_stats_param)"
   ]
  },
  {
   "cell_type": "code",
   "execution_count": 9,
   "id": "aaafc174",
   "metadata": {},
   "outputs": [],
   "source": [
    "# Load the model from models\n",
    "xgb_model = XGBClassifier()\n",
    "# xgb_model.load_model(\"./models/xgb_modelWithQualifiersWith2025_3rdRound.json\")\n",
    "xgb_model.load_model(\"./models/best_final_xgb_model.json\")\n",
    "\n",
    "# I define this here to make the results more easy to interpret\n",
    "mapper = np.vectorize(lambda x: \"Player 2 Wins\" if x == 0 else \"Player 1 Wins\")"
   ]
  },
  {
   "cell_type": "code",
   "execution_count": 10,
   "id": "5ce96d0b",
   "metadata": {},
   "outputs": [],
   "source": [
    "def predict_twice(p1_name: str, p2_name: str):\n",
    "    p1_prob = []\n",
    "    p2_prob = []\n",
    "\n",
    "    match = {\n",
    "        \"BEST_OF\": 5,\n",
    "        \"DRAW_SIZE\": 128,\n",
    "        \"SURFACE\": \"Grass\",\n",
    "        \"ROUND\": \"R128\"\n",
    "    }\n",
    "\n",
    "    player1 = wimbledon_players[p1_name]\n",
    "    player2 = wimbledon_players[p2_name]\n",
    "\n",
    "    # Call getStatsPlayers function\n",
    "    output = getStats(player1, player2, match, prev_stats)\n",
    "    match_data = pd.DataFrame([dict(sorted(output.items()))])\n",
    "    probs = xgb_model.predict_proba(np.array(match_data, dtype=object))[:, ::-1]\n",
    "\n",
    "    p1_prob.append(probs[0][0])\n",
    "    p2_prob.append(probs[0][1])\n",
    "\n",
    "    output = getStats(player2, player1, match, prev_stats)\n",
    "    match_data = pd.DataFrame([dict(sorted(output.items()))])\n",
    "    probs = xgb_model.predict_proba(np.array(match_data, dtype=object))[:, ::-1]\n",
    "\n",
    "    p1_prob.append(probs[0][1])\n",
    "    p2_prob.append(probs[0][0])\n",
    "\n",
    "    return {\n",
    "        p1_name: f\"{round(float(np.mean(p1_prob)) * 100)}%\",\n",
    "        p2_name: f\"{round(float(np.mean(p2_prob)) * 100)}%\",\n",
    "    }"
   ]
  },
  {
   "cell_type": "code",
   "execution_count": 11,
   "id": "947a15c4",
   "metadata": {},
   "outputs": [
    {
     "data": {
      "text/plain": [
       "{'Carlos Alcaraz': '53%', 'Jannik Sinner': '47%'}"
      ]
     },
     "execution_count": 11,
     "metadata": {},
     "output_type": "execute_result"
    }
   ],
   "source": [
    "predict_twice(\"Carlos Alcaraz\", \"Jannik Sinner\")"
   ]
  },
  {
   "cell_type": "code",
   "execution_count": 13,
   "id": "3d9dce1d",
   "metadata": {},
   "outputs": [],
   "source": [
    "# My Model\n",
    "# Round 1 - Top Half\n",
    "# 32 matches\n",
    "# 21 correct\n",
    "# 12 incorrect\n",
    "\n",
    "# Round 1 - Bottom Half\n",
    "# 32 matches\n",
    "# 18 correct\n",
    "# 12 incorrect"
   ]
  },
  {
   "cell_type": "code",
   "execution_count": 14,
   "id": "00ed49eb",
   "metadata": {},
   "outputs": [],
   "source": [
    "# IBM's Model\n",
    "# Round 1 - Top Half\n",
    "# 32 matches\n",
    "# 19 correct\n",
    "# 13 incorrect\n",
    "\n",
    "# Round 1 - Bottom Half\n",
    "# 32 matches\n",
    "# 17 correct\n",
    "# 15 incorrect"
   ]
  },
  {
   "cell_type": "code",
   "execution_count": 15,
   "id": "b50d1bc1",
   "metadata": {},
   "outputs": [],
   "source": [
    "## No Qualifiers          # Qual        # IBM\n",
    "\n",
    "# Thompson - Yes          - Yes         Yes\n",
    "# Nuno Borges - Yes       - Yes         Yes\n",
    "# Karen - Yes             - Yes         Yes\n",
    "# Ethan Quinn - No        - No          No\n",
    "# Learner Tien - No       - No          No\n",
    "# Joao Fonseca - Yes      - Yes         Yes\n",
    "# Jiri Lehecka - No       - No          No\n",
    "# Frances Tiafoe - No     - No          No\n",
    "# Andrey Rublev - Yes     - Yes         Yes\n",
    "# Adrian Mannarino - No   - No          No\n",
    "# Alcaraz - Yes           - Yes         \n"
   ]
  }
 ],
 "metadata": {
  "kernelspec": {
   "display_name": "tennisAI",
   "language": "python",
   "name": "python3"
  },
  "language_info": {
   "codemirror_mode": {
    "name": "ipython",
    "version": 3
   },
   "file_extension": ".py",
   "mimetype": "text/x-python",
   "name": "python",
   "nbconvert_exporter": "python",
   "pygments_lexer": "ipython3",
   "version": "3.10.18"
  }
 },
 "nbformat": 4,
 "nbformat_minor": 5
}
