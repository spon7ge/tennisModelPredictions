{
 "cells": [
  {
   "cell_type": "markdown",
   "metadata": {},
   "source": [
    "# Predict"
   ]
  },
  {
   "cell_type": "markdown",
   "metadata": {},
   "source": [
    "**INPUT**: \"models/best_final_xgb_model.json\"\n",
    "\n",
    "**OUTPUT**: Predictions of matches"
   ]
  },
  {
   "cell_type": "code",
   "execution_count": 1,
   "metadata": {},
   "outputs": [],
   "source": [
    "%matplotlib inline\n",
    "import numpy as np\n",
    "import pandas as pd\n",
    "from tqdm import tqdm\n",
    "from sklearn.preprocessing import StandardScaler\n",
    "from sklearn.tree import DecisionTreeClassifier\n",
    "from sklearn.ensemble import RandomForestClassifier\n",
    "from sklearn.model_selection import train_test_split\n",
    "from sklearn.tree import plot_tree\n",
    "from sklearn import tree\n",
    "from xgboost import XGBClassifier\n",
    "from sklearn.model_selection import GridSearchCV\n",
    "from sklearn.metrics import accuracy_score\n",
    "from utils.updateStats import getStats, updateStats, createStats\n",
    "pd.set_option('display.max_columns', None)"
   ]
  },
  {
   "cell_type": "markdown",
   "metadata": {},
   "source": [
    "## Re-Calculate all the stats"
   ]
  },
  {
   "cell_type": "markdown",
   "metadata": {},
   "source": [
    "Firstly, we need to re-calculate all the stats. I could have export this in 1.CreateDataset, but I thought it would be better if I did it here again for simplicity (instead of export the statistics, which might weight a lot).\n",
    "\n",
    "This is fairly okay, since it only takes a minute on my machine. Obviosly, if it took longer, I would directly export all the stats in 1.CreateDataset instead of doing this."
   ]
  },
  {
   "cell_type": "code",
   "execution_count": 2,
   "metadata": {},
   "outputs": [],
   "source": [
    "update_stats_param = {\n",
    "    \"k_factor\": None,\n",
    "    \"base_k_factor\": 43,\n",
    "    \"max_k_factor\": 62,\n",
    "    \"div_number\": 800,\n",
    "    \"bonus_after_layoff\": True\n",
    "}"
   ]
  },
  {
   "cell_type": "code",
   "execution_count": 3,
   "metadata": {},
   "outputs": [
    {
     "name": "stderr",
     "output_type": "stream",
     "text": [
      "/var/folders/72/931mm5912h7_y6ts82j2wjhh0000gn/T/ipykernel_56318/1572513150.py:1: DtypeWarning: Columns (6,9,17) have mixed types. Specify dtype option on import or set low_memory=False.\n",
      "  clean_data = pd.read_csv(\"./data/0cleanDatasetWithQualifiersWith2025.csv\")\n",
      "100%|██████████| 197263/197263 [01:03<00:00, 3093.11it/s]\n"
     ]
    }
   ],
   "source": [
    "clean_data = pd.read_csv(\"./data/0cleanDatasetWithQualifiersWith2025.csv\")\n",
    "prev_stats = createStats()\n",
    "\n",
    "# Iterate through each row in clean_data\n",
    "for index, row in tqdm(clean_data.iterrows(), total=len(clean_data)):\n",
    "    ########## UPDATE STATS ##########\n",
    "    # We only need to update the stats, since we don't need to create a dataset\n",
    "    prev_stats = updateStats(row, prev_stats, **update_stats_param)"
   ]
  },
  {
   "cell_type": "code",
   "execution_count": 4,
   "metadata": {},
   "outputs": [
    {
     "data": {
      "text/plain": [
       "dict_keys(['elo_players', 'elo_surface_players', 'elo_grad_players', 'last_k_matches', 'last_k_matches_stats', 'matches_played', 'matches_surface_played', 'h2h', 'h2h_surface', 'last_tourney', 'last_tourney_surface'])"
      ]
     },
     "execution_count": 4,
     "metadata": {},
     "output_type": "execute_result"
    }
   ],
   "source": [
    "prev_stats.keys()"
   ]
  },
  {
   "cell_type": "markdown",
   "metadata": {},
   "source": [
    "## Predict Any Two Players"
   ]
  },
  {
   "cell_type": "code",
   "execution_count": 5,
   "metadata": {},
   "outputs": [],
   "source": [
    "# Load the model from models\n",
    "xgb_model = XGBClassifier()\n",
    "xgb_model.load_model(\"./models/best_final_xgb_model.json\")\n",
    "\n",
    "# I define this here to make the results more easy to interpret\n",
    "mapper = np.vectorize(lambda x: \"Player 2 Wins\" if x == 0 else \"Player 1 Wins\")"
   ]
  },
  {
   "cell_type": "markdown",
   "metadata": {},
   "source": [
    "Here, I'm going to predict a match between Sinner and Alcaraz. I'm going to simulate them playing in a grand slam, and in a Hard Court."
   ]
  },
  {
   "cell_type": "code",
   "execution_count": 6,
   "metadata": {},
   "outputs": [
    {
     "data": {
      "text/plain": [
       "array(['Player 2 Wins'], dtype='<U13')"
      ]
     },
     "execution_count": 6,
     "metadata": {},
     "output_type": "execute_result"
    }
   ],
   "source": [
    "# Example match between Carlos Alcaraz and Jannik Sinner\n",
    "player1 = {\n",
    "    \"Name\": \"Jannik Sinner\",                    # Name is not needed, but I wrote it for clarity\n",
    "    \"ID\": 206173,                               # You can search for the ID in \"./data/atp_players.csv\"\n",
    "    \"ATP_POINTS\": 11000,                        # You can find this in the ATP website\n",
    "    \"ATP_RANK\": 1,                              # You can find this in the ATP website\n",
    "    \"AGE\": 23.6,                                # You don't need to calculate the age to a point decimal (but the more info the better) \n",
    "    \"HEIGHT\": 191,                              # This can also be found in \"./data/atp_players.csv\"\n",
    "}\n",
    "\n",
    "player2 = {\n",
    "    \"Name\": \"Carlos Alcaraz\",\n",
    "    \"ID\": 207989,\n",
    "    \"ATP_POINTS\": 9000,\n",
    "    \"ATP_RANK\": 2,\n",
    "    \"AGE\": 21.6,\n",
    "    \"HEIGHT\": 183,\n",
    "}\n",
    "\n",
    "match = {\n",
    "    \"BEST_OF\": 5,                               # Set this to 5 if grand slam, otherwise 3 normally\n",
    "    \"DRAW_SIZE\": 128,                           # Depending on the tournament\n",
    "    \"SURFACE\": \"Clay\",                          # Surface of the match. Options are (\"Hard\", \"Clay\", \"Grass\", \"Carpet\")\n",
    "    \"ROUND\": \"QF\"\n",
    "}\n",
    "\n",
    "# Call getStatsPlayers function\n",
    "output = getStats(player1, player2, match, prev_stats)\n",
    "\n",
    "match_data = pd.DataFrame([dict(sorted(output.items()))])\n",
    "mapper(xgb_model.predict(np.array(match_data, dtype=object)))"
   ]
  },
  {
   "cell_type": "code",
   "execution_count": 7,
   "metadata": {},
   "outputs": [
    {
     "data": {
      "text/html": [
       "<div>\n",
       "<style scoped>\n",
       "    .dataframe tbody tr th:only-of-type {\n",
       "        vertical-align: middle;\n",
       "    }\n",
       "\n",
       "    .dataframe tbody tr th {\n",
       "        vertical-align: top;\n",
       "    }\n",
       "\n",
       "    .dataframe thead th {\n",
       "        text-align: right;\n",
       "    }\n",
       "</style>\n",
       "<table border=\"1\" class=\"dataframe\">\n",
       "  <thead>\n",
       "    <tr style=\"text-align: right;\">\n",
       "      <th></th>\n",
       "      <th>AGE_DIFF</th>\n",
       "      <th>ATP_RANK_DIFF</th>\n",
       "      <th>BEST_OF</th>\n",
       "      <th>DOMINANCE_RATIO_LAST_100_DIFF</th>\n",
       "      <th>DOMINANCE_RATIO_LAST_10_DIFF</th>\n",
       "      <th>DOMINANCE_RATIO_LAST_25_DIFF</th>\n",
       "      <th>DOMINANCE_RATIO_LAST_3_DIFF</th>\n",
       "      <th>DOMINANCE_RATIO_LAST_50_DIFF</th>\n",
       "      <th>DRAW_SIZE</th>\n",
       "      <th>ELO_DIFF</th>\n",
       "      <th>ELO_GRAD_LAST_100_DIFF</th>\n",
       "      <th>ELO_GRAD_LAST_10_DIFF</th>\n",
       "      <th>ELO_GRAD_LAST_25_DIFF</th>\n",
       "      <th>ELO_GRAD_LAST_3_DIFF</th>\n",
       "      <th>ELO_GRAD_LAST_50_DIFF</th>\n",
       "      <th>ELO_SURFACE_DIFF</th>\n",
       "      <th>H2H_DIFF</th>\n",
       "      <th>H2H_SURFACE_DIFF</th>\n",
       "      <th>HEIGHT_DIFF</th>\n",
       "      <th>N_GAMES_DIFF</th>\n",
       "      <th>P_1ST_IN_LAST_100_DIFF</th>\n",
       "      <th>P_1ST_IN_LAST_10_DIFF</th>\n",
       "      <th>P_1ST_IN_LAST_25_DIFF</th>\n",
       "      <th>P_1ST_IN_LAST_3_DIFF</th>\n",
       "      <th>P_1ST_IN_LAST_50_DIFF</th>\n",
       "      <th>P_1ST_WON_LAST_100_DIFF</th>\n",
       "      <th>P_1ST_WON_LAST_10_DIFF</th>\n",
       "      <th>P_1ST_WON_LAST_25_DIFF</th>\n",
       "      <th>P_1ST_WON_LAST_3_DIFF</th>\n",
       "      <th>P_1ST_WON_LAST_50_DIFF</th>\n",
       "      <th>P_2ND_WON_LAST_100_DIFF</th>\n",
       "      <th>P_2ND_WON_LAST_10_DIFF</th>\n",
       "      <th>P_2ND_WON_LAST_25_DIFF</th>\n",
       "      <th>P_2ND_WON_LAST_3_DIFF</th>\n",
       "      <th>P_2ND_WON_LAST_50_DIFF</th>\n",
       "      <th>P_ACE_LAST_100_DIFF</th>\n",
       "      <th>P_ACE_LAST_10_DIFF</th>\n",
       "      <th>P_ACE_LAST_25_DIFF</th>\n",
       "      <th>P_ACE_LAST_3_DIFF</th>\n",
       "      <th>P_ACE_LAST_50_DIFF</th>\n",
       "      <th>P_BP_CONV_LAST_100_DIFF</th>\n",
       "      <th>P_BP_CONV_LAST_10_DIFF</th>\n",
       "      <th>P_BP_CONV_LAST_25_DIFF</th>\n",
       "      <th>P_BP_CONV_LAST_3_DIFF</th>\n",
       "      <th>P_BP_CONV_LAST_50_DIFF</th>\n",
       "      <th>P_BP_SAVED_LAST_100_DIFF</th>\n",
       "      <th>P_BP_SAVED_LAST_10_DIFF</th>\n",
       "      <th>P_BP_SAVED_LAST_25_DIFF</th>\n",
       "      <th>P_BP_SAVED_LAST_3_DIFF</th>\n",
       "      <th>P_BP_SAVED_LAST_50_DIFF</th>\n",
       "      <th>P_DF_LAST_100_DIFF</th>\n",
       "      <th>P_DF_LAST_10_DIFF</th>\n",
       "      <th>P_DF_LAST_25_DIFF</th>\n",
       "      <th>P_DF_LAST_3_DIFF</th>\n",
       "      <th>P_DF_LAST_50_DIFF</th>\n",
       "      <th>P_RET_1ST_WON_LAST_100_DIFF</th>\n",
       "      <th>P_RET_1ST_WON_LAST_10_DIFF</th>\n",
       "      <th>P_RET_1ST_WON_LAST_25_DIFF</th>\n",
       "      <th>P_RET_1ST_WON_LAST_3_DIFF</th>\n",
       "      <th>P_RET_1ST_WON_LAST_50_DIFF</th>\n",
       "      <th>P_RET_2ND_WON_LAST_100_DIFF</th>\n",
       "      <th>P_RET_2ND_WON_LAST_10_DIFF</th>\n",
       "      <th>P_RET_2ND_WON_LAST_25_DIFF</th>\n",
       "      <th>P_RET_2ND_WON_LAST_3_DIFF</th>\n",
       "      <th>P_RET_2ND_WON_LAST_50_DIFF</th>\n",
       "      <th>P_RET_ACE_AGAINST_LAST_100_DIFF</th>\n",
       "      <th>P_RET_ACE_AGAINST_LAST_10_DIFF</th>\n",
       "      <th>P_RET_ACE_AGAINST_LAST_25_DIFF</th>\n",
       "      <th>P_RET_ACE_AGAINST_LAST_3_DIFF</th>\n",
       "      <th>P_RET_ACE_AGAINST_LAST_50_DIFF</th>\n",
       "      <th>P_RPW_LAST_100_DIFF</th>\n",
       "      <th>P_RPW_LAST_10_DIFF</th>\n",
       "      <th>P_RPW_LAST_25_DIFF</th>\n",
       "      <th>P_RPW_LAST_3_DIFF</th>\n",
       "      <th>P_RPW_LAST_50_DIFF</th>\n",
       "      <th>P_TOTAL_PTS_WON_LAST_100_DIFF</th>\n",
       "      <th>P_TOTAL_PTS_WON_LAST_10_DIFF</th>\n",
       "      <th>P_TOTAL_PTS_WON_LAST_25_DIFF</th>\n",
       "      <th>P_TOTAL_PTS_WON_LAST_3_DIFF</th>\n",
       "      <th>P_TOTAL_PTS_WON_LAST_50_DIFF</th>\n",
       "      <th>ROUND</th>\n",
       "      <th>WIN_LAST_100_DIFF</th>\n",
       "      <th>WIN_LAST_10_DIFF</th>\n",
       "      <th>WIN_LAST_25_DIFF</th>\n",
       "      <th>WIN_LAST_3_DIFF</th>\n",
       "      <th>WIN_LAST_50_DIFF</th>\n",
       "    </tr>\n",
       "  </thead>\n",
       "  <tbody>\n",
       "    <tr>\n",
       "      <th>0</th>\n",
       "      <td>2.0</td>\n",
       "      <td>-1</td>\n",
       "      <td>5</td>\n",
       "      <td>11.496222</td>\n",
       "      <td>14.681369</td>\n",
       "      <td>20.065882</td>\n",
       "      <td>-20.886741</td>\n",
       "      <td>8.588416</td>\n",
       "      <td>128</td>\n",
       "      <td>28.321917</td>\n",
       "      <td>0.004387</td>\n",
       "      <td>-11.387592</td>\n",
       "      <td>-6.921975</td>\n",
       "      <td>-14.334072</td>\n",
       "      <td>-1.351263</td>\n",
       "      <td>-146.714432</td>\n",
       "      <td>-4</td>\n",
       "      <td>-2</td>\n",
       "      <td>8</td>\n",
       "      <td>45</td>\n",
       "      <td>-3.313163</td>\n",
       "      <td>-1.448676</td>\n",
       "      <td>-4.849732</td>\n",
       "      <td>-9.37806</td>\n",
       "      <td>-3.904147</td>\n",
       "      <td>5.058073</td>\n",
       "      <td>0.338289</td>\n",
       "      <td>4.404942</td>\n",
       "      <td>-8.64694</td>\n",
       "      <td>4.515237</td>\n",
       "      <td>1.344185</td>\n",
       "      <td>-4.08011</td>\n",
       "      <td>2.269427</td>\n",
       "      <td>-5.651967</td>\n",
       "      <td>1.973775</td>\n",
       "      <td>2.731577</td>\n",
       "      <td>-4.855461</td>\n",
       "      <td>2.089642</td>\n",
       "      <td>-13.730384</td>\n",
       "      <td>2.917547</td>\n",
       "      <td>1.144584</td>\n",
       "      <td>-1.226021</td>\n",
       "      <td>-4.029249</td>\n",
       "      <td>-23.492063</td>\n",
       "      <td>-2.869361</td>\n",
       "      <td>9.323282</td>\n",
       "      <td>4.031746</td>\n",
       "      <td>1.638672</td>\n",
       "      <td>-16.666667</td>\n",
       "      <td>5.923871</td>\n",
       "      <td>-0.812055</td>\n",
       "      <td>-2.427963</td>\n",
       "      <td>-1.381407</td>\n",
       "      <td>-2.866947</td>\n",
       "      <td>-1.781518</td>\n",
       "      <td>-1.881548</td>\n",
       "      <td>4.887175</td>\n",
       "      <td>-0.433518</td>\n",
       "      <td>8.096451</td>\n",
       "      <td>-2.811379</td>\n",
       "      <td>1.138033</td>\n",
       "      <td>8.383605</td>\n",
       "      <td>3.636464</td>\n",
       "      <td>5.43278</td>\n",
       "      <td>2.235864</td>\n",
       "      <td>2.299064</td>\n",
       "      <td>-1.727734</td>\n",
       "      <td>1.227668</td>\n",
       "      <td>-5.958705</td>\n",
       "      <td>1.928348</td>\n",
       "      <td>-0.661514</td>\n",
       "      <td>6.023451</td>\n",
       "      <td>1.354062</td>\n",
       "      <td>5.932513</td>\n",
       "      <td>-0.381311</td>\n",
       "      <td>1.213541</td>\n",
       "      <td>2.770368</td>\n",
       "      <td>2.249623</td>\n",
       "      <td>-0.728881</td>\n",
       "      <td>1.484121</td>\n",
       "      <td>4</td>\n",
       "      <td>7</td>\n",
       "      <td>-2</td>\n",
       "      <td>-1</td>\n",
       "      <td>-1</td>\n",
       "      <td>3</td>\n",
       "    </tr>\n",
       "  </tbody>\n",
       "</table>\n",
       "</div>"
      ],
      "text/plain": [
       "   AGE_DIFF  ATP_RANK_DIFF  BEST_OF  DOMINANCE_RATIO_LAST_100_DIFF  \\\n",
       "0       2.0             -1        5                      11.496222   \n",
       "\n",
       "   DOMINANCE_RATIO_LAST_10_DIFF  DOMINANCE_RATIO_LAST_25_DIFF  \\\n",
       "0                     14.681369                     20.065882   \n",
       "\n",
       "   DOMINANCE_RATIO_LAST_3_DIFF  DOMINANCE_RATIO_LAST_50_DIFF  DRAW_SIZE  \\\n",
       "0                   -20.886741                      8.588416        128   \n",
       "\n",
       "    ELO_DIFF  ELO_GRAD_LAST_100_DIFF  ELO_GRAD_LAST_10_DIFF  \\\n",
       "0  28.321917                0.004387             -11.387592   \n",
       "\n",
       "   ELO_GRAD_LAST_25_DIFF  ELO_GRAD_LAST_3_DIFF  ELO_GRAD_LAST_50_DIFF  \\\n",
       "0              -6.921975            -14.334072              -1.351263   \n",
       "\n",
       "   ELO_SURFACE_DIFF  H2H_DIFF  H2H_SURFACE_DIFF  HEIGHT_DIFF  N_GAMES_DIFF  \\\n",
       "0       -146.714432        -4                -2            8            45   \n",
       "\n",
       "   P_1ST_IN_LAST_100_DIFF  P_1ST_IN_LAST_10_DIFF  P_1ST_IN_LAST_25_DIFF  \\\n",
       "0               -3.313163              -1.448676              -4.849732   \n",
       "\n",
       "   P_1ST_IN_LAST_3_DIFF  P_1ST_IN_LAST_50_DIFF  P_1ST_WON_LAST_100_DIFF  \\\n",
       "0              -9.37806              -3.904147                 5.058073   \n",
       "\n",
       "   P_1ST_WON_LAST_10_DIFF  P_1ST_WON_LAST_25_DIFF  P_1ST_WON_LAST_3_DIFF  \\\n",
       "0                0.338289                4.404942               -8.64694   \n",
       "\n",
       "   P_1ST_WON_LAST_50_DIFF  P_2ND_WON_LAST_100_DIFF  P_2ND_WON_LAST_10_DIFF  \\\n",
       "0                4.515237                 1.344185                -4.08011   \n",
       "\n",
       "   P_2ND_WON_LAST_25_DIFF  P_2ND_WON_LAST_3_DIFF  P_2ND_WON_LAST_50_DIFF  \\\n",
       "0                2.269427              -5.651967                1.973775   \n",
       "\n",
       "   P_ACE_LAST_100_DIFF  P_ACE_LAST_10_DIFF  P_ACE_LAST_25_DIFF  \\\n",
       "0             2.731577           -4.855461            2.089642   \n",
       "\n",
       "   P_ACE_LAST_3_DIFF  P_ACE_LAST_50_DIFF  P_BP_CONV_LAST_100_DIFF  \\\n",
       "0         -13.730384            2.917547                 1.144584   \n",
       "\n",
       "   P_BP_CONV_LAST_10_DIFF  P_BP_CONV_LAST_25_DIFF  P_BP_CONV_LAST_3_DIFF  \\\n",
       "0               -1.226021               -4.029249             -23.492063   \n",
       "\n",
       "   P_BP_CONV_LAST_50_DIFF  P_BP_SAVED_LAST_100_DIFF  P_BP_SAVED_LAST_10_DIFF  \\\n",
       "0               -2.869361                  9.323282                 4.031746   \n",
       "\n",
       "   P_BP_SAVED_LAST_25_DIFF  P_BP_SAVED_LAST_3_DIFF  P_BP_SAVED_LAST_50_DIFF  \\\n",
       "0                 1.638672              -16.666667                 5.923871   \n",
       "\n",
       "   P_DF_LAST_100_DIFF  P_DF_LAST_10_DIFF  P_DF_LAST_25_DIFF  P_DF_LAST_3_DIFF  \\\n",
       "0           -0.812055          -2.427963          -1.381407         -2.866947   \n",
       "\n",
       "   P_DF_LAST_50_DIFF  P_RET_1ST_WON_LAST_100_DIFF  P_RET_1ST_WON_LAST_10_DIFF  \\\n",
       "0          -1.781518                    -1.881548                    4.887175   \n",
       "\n",
       "   P_RET_1ST_WON_LAST_25_DIFF  P_RET_1ST_WON_LAST_3_DIFF  \\\n",
       "0                   -0.433518                   8.096451   \n",
       "\n",
       "   P_RET_1ST_WON_LAST_50_DIFF  P_RET_2ND_WON_LAST_100_DIFF  \\\n",
       "0                   -2.811379                     1.138033   \n",
       "\n",
       "   P_RET_2ND_WON_LAST_10_DIFF  P_RET_2ND_WON_LAST_25_DIFF  \\\n",
       "0                    8.383605                    3.636464   \n",
       "\n",
       "   P_RET_2ND_WON_LAST_3_DIFF  P_RET_2ND_WON_LAST_50_DIFF  \\\n",
       "0                    5.43278                    2.235864   \n",
       "\n",
       "   P_RET_ACE_AGAINST_LAST_100_DIFF  P_RET_ACE_AGAINST_LAST_10_DIFF  \\\n",
       "0                         2.299064                       -1.727734   \n",
       "\n",
       "   P_RET_ACE_AGAINST_LAST_25_DIFF  P_RET_ACE_AGAINST_LAST_3_DIFF  \\\n",
       "0                        1.227668                      -5.958705   \n",
       "\n",
       "   P_RET_ACE_AGAINST_LAST_50_DIFF  P_RPW_LAST_100_DIFF  P_RPW_LAST_10_DIFF  \\\n",
       "0                        1.928348            -0.661514            6.023451   \n",
       "\n",
       "   P_RPW_LAST_25_DIFF  P_RPW_LAST_3_DIFF  P_RPW_LAST_50_DIFF  \\\n",
       "0            1.354062           5.932513           -0.381311   \n",
       "\n",
       "   P_TOTAL_PTS_WON_LAST_100_DIFF  P_TOTAL_PTS_WON_LAST_10_DIFF  \\\n",
       "0                       1.213541                      2.770368   \n",
       "\n",
       "   P_TOTAL_PTS_WON_LAST_25_DIFF  P_TOTAL_PTS_WON_LAST_3_DIFF  \\\n",
       "0                      2.249623                    -0.728881   \n",
       "\n",
       "   P_TOTAL_PTS_WON_LAST_50_DIFF  ROUND  WIN_LAST_100_DIFF  WIN_LAST_10_DIFF  \\\n",
       "0                      1.484121      4                  7                -2   \n",
       "\n",
       "   WIN_LAST_25_DIFF  WIN_LAST_3_DIFF  WIN_LAST_50_DIFF  \n",
       "0                -1               -1                 3  "
      ]
     },
     "execution_count": 7,
     "metadata": {},
     "output_type": "execute_result"
    }
   ],
   "source": [
    "match_data"
   ]
  },
  {
   "cell_type": "markdown",
   "metadata": {},
   "source": [
    "Uhhhh! How cool! I simulated a match between Carlos Alcaraz and Jannik Sinner. As you can see, if the surface is Hard, it predicted Jannik Sinner would win. However, I tried chaning the surface to Grass or Clay, and Carlos Alcaraz was predicted as the favorite.\n",
    "\n",
    "This is super cool, because that's what I would have predicted myself. Carlos won Roland Garros, and Wimbledon and he's really good at both of those surfaces. Meanwhile, Sinner excels at Hard courts and has won the last two Australian Open tournaments and the last US Open."
   ]
  },
  {
   "cell_type": "code",
   "execution_count": 8,
   "metadata": {},
   "outputs": [
    {
     "name": "stdout",
     "output_type": "stream",
     "text": [
      "Probability of Jannik Sinner winning: 45.37%\n",
      "Probability of Carlos Alcaraz winning: 54.63%\n"
     ]
    }
   ],
   "source": [
    "# Try see how sure of the prediction the model is\n",
    "probs = xgb_model.predict_proba(np.array(match_data, dtype=object))\n",
    "\n",
    "# Extract probability of each class\n",
    "prob_player1_wins = probs[0][1]\n",
    "prob_player2_wins = probs[0][0]\n",
    "\n",
    "print(f\"Probability of {player1['Name']} winning: {prob_player1_wins:.2%}\")\n",
    "print(f\"Probability of {player2['Name']} winning: {prob_player2_wins:.2%}\")"
   ]
  },
  {
   "cell_type": "markdown",
   "metadata": {},
   "source": [
    "We can also check what is the estimated probablity based on the predictions of the trees (which is a bit more complicated than just a discrete vote, like in random forests)."
   ]
  },
  {
   "cell_type": "markdown",
   "metadata": {},
   "source": [
    "## Why you should not bet using my model?\n",
    "Firstly, I'm just a youtuber and a CS student. Also, this was a small project.\n",
    "Bookmakers are cracked, and they have the best models, which they keep a secret. I doubt that my model will ever be able to compete with them.\n",
    "That being said, I think this is a fun project about how you can use Machine Learning to do some pretty cool things. Also, this model could be improved in a lot of ways, which I will briefly explain below.\n",
    "\n",
    "I hope you enjoyed!"
   ]
  }
 ],
 "metadata": {
  "kernelspec": {
   "display_name": "DeepLearning",
   "language": "python",
   "name": "python3"
  },
  "language_info": {
   "codemirror_mode": {
    "name": "ipython",
    "version": 3
   },
   "file_extension": ".py",
   "mimetype": "text/x-python",
   "name": "python",
   "nbconvert_exporter": "python",
   "pygments_lexer": "ipython3",
   "version": "3.13.3"
  }
 },
 "nbformat": 4,
 "nbformat_minor": 2
}
